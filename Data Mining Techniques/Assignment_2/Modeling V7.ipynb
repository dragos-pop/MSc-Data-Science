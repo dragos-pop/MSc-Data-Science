{
 "cells": [
  {
   "cell_type": "code",
   "execution_count": 1,
   "metadata": {},
   "outputs": [],
   "source": [
    "import pandas as pd\n",
    "import numpy as np\n",
    "import time\n",
    "import datetime\n",
    "import lightgbm as lgb\n",
    "from sklearn.model_selection import train_test_split, GroupShuffleSplit, RandomizedSearchCV, GridSearchCV\n",
    "from sklearn.metrics import ndcg_score, make_scorer"
   ]
  },
  {
   "cell_type": "markdown",
   "metadata": {},
   "source": [
    "# Modeling"
   ]
  },
  {
   "cell_type": "code",
   "execution_count": 2,
   "metadata": {},
   "outputs": [],
   "source": [
    "pos = pd.read_csv('pos.csv')"
   ]
  },
  {
   "cell_type": "code",
   "execution_count": 3,
   "metadata": {},
   "outputs": [],
   "source": [
    "train = pd.read_csv(\"cleaned_train.csv\")\n",
    "test = pd.read_csv(\"cleaned_test.csv\")"
   ]
  },
  {
   "cell_type": "code",
   "execution_count": 4,
   "metadata": {},
   "outputs": [],
   "source": [
    "cat_features = [ \"comp1_rate\", \"comp1_inv\", \"comp2_rate\", \"comp2_inv\", \"comp3_rate\", \"comp3_inv\", \"comp4_rate\", \"comp4_inv\",\n",
    "                \"comp5_rate\", \"comp5_inv\", \"comp6_rate\", \"comp6_inv\", \"comp7_rate\", \"comp7_inv\", \"comp8_rate\", \"comp8_inv\",\n",
    "                \"weekday\", \"month\"]\n",
    "rest = [\"srch_id\", \"site_id\", \"visitor_location_country_id\", \"prop_country_id\", \"prop_id\", \"srch_destination_id\"]\n",
    "\n",
    "target = 'target_score' #click_bool in this case\n"
   ]
  },
  {
   "cell_type": "code",
   "execution_count": null,
   "metadata": {},
   "outputs": [],
   "source": []
  },
  {
   "cell_type": "code",
   "execution_count": 5,
   "metadata": {},
   "outputs": [],
   "source": [
    "# group split needed for both train-test split and CV\n",
    "splitter = GroupShuffleSplit(test_size=0.1, n_splits=1, random_state = 7)\n",
    "split = splitter.split(train, groups=train['srch_id'])\n",
    "train_inds, test_inds = next(split)\n",
    "\n",
    "train_df = train.iloc[train_inds]\n",
    "test_df = train.iloc[test_inds]\n",
    "\n",
    "X_train = train_df.drop([target], axis=1)\n",
    "X_test = test_df.drop([target], axis=1)\n",
    "y_train = train_df[target]\n",
    "y_test = test_df[target]"
   ]
  },
  {
   "cell_type": "code",
   "execution_count": 6,
   "metadata": {},
   "outputs": [],
   "source": [
    "gss = GroupShuffleSplit(n_splits=4, test_size=0.25)"
   ]
  },
  {
   "cell_type": "code",
   "execution_count": 7,
   "metadata": {},
   "outputs": [],
   "source": [
    "custom_scorer = make_scorer(ndcg_score, k=5, greater_is_better=True)"
   ]
  },
  {
   "cell_type": "code",
   "execution_count": 10,
   "metadata": {},
   "outputs": [],
   "source": [
    "y_train_ = -y_train\n",
    "y_test_ = -y_test"
   ]
  },
  {
   "cell_type": "markdown",
   "metadata": {},
   "source": [
    "## Manual try parameters"
   ]
  },
  {
   "cell_type": "code",
   "execution_count": 11,
   "metadata": {},
   "outputs": [],
   "source": [
    "model66 = lgb.LGBMRanker(objective=\"lambdarank\", metric=\"ndcg\", verbose=1, num_iterations=200)"
   ]
  },
  {
   "cell_type": "code",
   "execution_count": 12,
   "metadata": {
    "scrolled": true
   },
   "outputs": [
    {
     "name": "stderr",
     "output_type": "stream",
     "text": [
      "/opt/anaconda3/lib/python3.8/site-packages/lightgbm/engine.py:151: UserWarning: Found `num_iterations` in params. Will use it instead of argument\n",
      "  warnings.warn(\"Found `{}` in params. Will use it instead of argument\".format(alias))\n",
      "/opt/anaconda3/lib/python3.8/site-packages/lightgbm/basic.py:1551: UserWarning: Using categorical_feature in Dataset.\n",
      "  warnings.warn('Using categorical_feature in Dataset.')\n",
      "/opt/anaconda3/lib/python3.8/site-packages/lightgbm/basic.py:1554: UserWarning: categorical_feature in Dataset is overridden.\n",
      "New categorical_feature is ['prop_country_id', 'prop_id', 'site_id', 'srch_destination_id', 'srch_id', 'visitor_location_country_id']\n",
      "  warnings.warn('categorical_feature in Dataset is overridden.\\n'\n"
     ]
    },
    {
     "name": "stdout",
     "output_type": "stream",
     "text": [
      "[LightGBM] [Warning] Auto-choosing row-wise multi-threading, the overhead of testing was 1.254866 seconds.\n",
      "You can set `force_row_wise=true` to remove the overhead.\n",
      "And if memory is not enough, you can set `force_col_wise=true`.\n",
      "[LightGBM] [Info] Total Bins 54305\n",
      "[LightGBM] [Info] Number of data points in the train set: 4461236, number of used features: 100\n"
     ]
    },
    {
     "name": "stderr",
     "output_type": "stream",
     "text": [
      "/opt/anaconda3/lib/python3.8/site-packages/lightgbm/basic.py:1286: UserWarning: Overriding the parameters from Reference Dataset.\n",
      "  warnings.warn('Overriding the parameters from Reference Dataset.')\n",
      "/opt/anaconda3/lib/python3.8/site-packages/lightgbm/basic.py:1098: UserWarning: categorical_column in param dict is overridden.\n",
      "  warnings.warn('{} in param dict is overridden.'.format(cat_alias))\n"
     ]
    },
    {
     "name": "stdout",
     "output_type": "stream",
     "text": [
      "[1]\ttraining's ndcg@5: 0.299461\tvalid_1's ndcg@5: 0.292636\n",
      "[2]\ttraining's ndcg@5: 0.339943\tvalid_1's ndcg@5: 0.325278\n",
      "[3]\ttraining's ndcg@5: 0.352922\tvalid_1's ndcg@5: 0.333621\n",
      "[4]\ttraining's ndcg@5: 0.36205\tvalid_1's ndcg@5: 0.340558\n",
      "[5]\ttraining's ndcg@5: 0.367696\tvalid_1's ndcg@5: 0.346121\n",
      "[6]\ttraining's ndcg@5: 0.372135\tvalid_1's ndcg@5: 0.348248\n",
      "[7]\ttraining's ndcg@5: 0.37652\tvalid_1's ndcg@5: 0.351114\n",
      "[8]\ttraining's ndcg@5: 0.379403\tvalid_1's ndcg@5: 0.352944\n",
      "[9]\ttraining's ndcg@5: 0.382513\tvalid_1's ndcg@5: 0.354109\n",
      "[10]\ttraining's ndcg@5: 0.384195\tvalid_1's ndcg@5: 0.356146\n",
      "[11]\ttraining's ndcg@5: 0.387085\tvalid_1's ndcg@5: 0.357555\n",
      "[12]\ttraining's ndcg@5: 0.389873\tvalid_1's ndcg@5: 0.359794\n",
      "[13]\ttraining's ndcg@5: 0.392433\tvalid_1's ndcg@5: 0.360516\n",
      "[14]\ttraining's ndcg@5: 0.393826\tvalid_1's ndcg@5: 0.360487\n",
      "[15]\ttraining's ndcg@5: 0.397919\tvalid_1's ndcg@5: 0.363979\n",
      "[16]\ttraining's ndcg@5: 0.39977\tvalid_1's ndcg@5: 0.365685\n",
      "[17]\ttraining's ndcg@5: 0.400871\tvalid_1's ndcg@5: 0.366001\n",
      "[18]\ttraining's ndcg@5: 0.403141\tvalid_1's ndcg@5: 0.366552\n",
      "[19]\ttraining's ndcg@5: 0.404682\tvalid_1's ndcg@5: 0.366711\n",
      "[20]\ttraining's ndcg@5: 0.406064\tvalid_1's ndcg@5: 0.366995\n",
      "[21]\ttraining's ndcg@5: 0.407294\tvalid_1's ndcg@5: 0.367148\n",
      "[22]\ttraining's ndcg@5: 0.408342\tvalid_1's ndcg@5: 0.367164\n",
      "[23]\ttraining's ndcg@5: 0.41118\tvalid_1's ndcg@5: 0.369475\n",
      "[24]\ttraining's ndcg@5: 0.41214\tvalid_1's ndcg@5: 0.369639\n",
      "[25]\ttraining's ndcg@5: 0.413536\tvalid_1's ndcg@5: 0.37054\n",
      "[26]\ttraining's ndcg@5: 0.415496\tvalid_1's ndcg@5: 0.371322\n",
      "[27]\ttraining's ndcg@5: 0.416467\tvalid_1's ndcg@5: 0.371569\n",
      "[28]\ttraining's ndcg@5: 0.417954\tvalid_1's ndcg@5: 0.371365\n",
      "[29]\ttraining's ndcg@5: 0.419884\tvalid_1's ndcg@5: 0.372244\n",
      "[30]\ttraining's ndcg@5: 0.421168\tvalid_1's ndcg@5: 0.372486\n",
      "[31]\ttraining's ndcg@5: 0.42253\tvalid_1's ndcg@5: 0.373218\n",
      "[32]\ttraining's ndcg@5: 0.424188\tvalid_1's ndcg@5: 0.374424\n",
      "[33]\ttraining's ndcg@5: 0.42489\tvalid_1's ndcg@5: 0.374508\n",
      "[34]\ttraining's ndcg@5: 0.425894\tvalid_1's ndcg@5: 0.375227\n",
      "[35]\ttraining's ndcg@5: 0.426807\tvalid_1's ndcg@5: 0.375707\n",
      "[36]\ttraining's ndcg@5: 0.428073\tvalid_1's ndcg@5: 0.376192\n",
      "[37]\ttraining's ndcg@5: 0.429546\tvalid_1's ndcg@5: 0.375997\n",
      "[38]\ttraining's ndcg@5: 0.430552\tvalid_1's ndcg@5: 0.376615\n",
      "[39]\ttraining's ndcg@5: 0.431312\tvalid_1's ndcg@5: 0.376947\n",
      "[40]\ttraining's ndcg@5: 0.432126\tvalid_1's ndcg@5: 0.376667\n",
      "[41]\ttraining's ndcg@5: 0.432707\tvalid_1's ndcg@5: 0.377008\n",
      "[42]\ttraining's ndcg@5: 0.433896\tvalid_1's ndcg@5: 0.377125\n",
      "[43]\ttraining's ndcg@5: 0.435067\tvalid_1's ndcg@5: 0.377954\n",
      "[44]\ttraining's ndcg@5: 0.436064\tvalid_1's ndcg@5: 0.377682\n",
      "[45]\ttraining's ndcg@5: 0.43691\tvalid_1's ndcg@5: 0.377954\n",
      "[46]\ttraining's ndcg@5: 0.437732\tvalid_1's ndcg@5: 0.37844\n",
      "[47]\ttraining's ndcg@5: 0.43875\tvalid_1's ndcg@5: 0.378274\n",
      "[48]\ttraining's ndcg@5: 0.439632\tvalid_1's ndcg@5: 0.378636\n",
      "[49]\ttraining's ndcg@5: 0.440883\tvalid_1's ndcg@5: 0.379279\n",
      "[50]\ttraining's ndcg@5: 0.44179\tvalid_1's ndcg@5: 0.379186\n",
      "[51]\ttraining's ndcg@5: 0.442398\tvalid_1's ndcg@5: 0.37906\n",
      "[52]\ttraining's ndcg@5: 0.443705\tvalid_1's ndcg@5: 0.379241\n",
      "[53]\ttraining's ndcg@5: 0.444582\tvalid_1's ndcg@5: 0.379286\n",
      "[54]\ttraining's ndcg@5: 0.445039\tvalid_1's ndcg@5: 0.379455\n",
      "[55]\ttraining's ndcg@5: 0.445866\tvalid_1's ndcg@5: 0.380243\n",
      "[56]\ttraining's ndcg@5: 0.447151\tvalid_1's ndcg@5: 0.380137\n",
      "[57]\ttraining's ndcg@5: 0.447876\tvalid_1's ndcg@5: 0.380194\n",
      "[58]\ttraining's ndcg@5: 0.448689\tvalid_1's ndcg@5: 0.380495\n",
      "[59]\ttraining's ndcg@5: 0.449281\tvalid_1's ndcg@5: 0.380738\n",
      "[60]\ttraining's ndcg@5: 0.450461\tvalid_1's ndcg@5: 0.381084\n",
      "[61]\ttraining's ndcg@5: 0.450965\tvalid_1's ndcg@5: 0.380933\n",
      "[62]\ttraining's ndcg@5: 0.451767\tvalid_1's ndcg@5: 0.381039\n",
      "[63]\ttraining's ndcg@5: 0.452842\tvalid_1's ndcg@5: 0.38198\n",
      "[64]\ttraining's ndcg@5: 0.453302\tvalid_1's ndcg@5: 0.381626\n",
      "[65]\ttraining's ndcg@5: 0.453934\tvalid_1's ndcg@5: 0.382116\n",
      "[66]\ttraining's ndcg@5: 0.45461\tvalid_1's ndcg@5: 0.382232\n",
      "[67]\ttraining's ndcg@5: 0.455489\tvalid_1's ndcg@5: 0.382434\n",
      "[68]\ttraining's ndcg@5: 0.456243\tvalid_1's ndcg@5: 0.38243\n",
      "[69]\ttraining's ndcg@5: 0.456791\tvalid_1's ndcg@5: 0.382317\n",
      "[70]\ttraining's ndcg@5: 0.457566\tvalid_1's ndcg@5: 0.382534\n",
      "[71]\ttraining's ndcg@5: 0.458105\tvalid_1's ndcg@5: 0.382585\n",
      "[72]\ttraining's ndcg@5: 0.458509\tvalid_1's ndcg@5: 0.38311\n",
      "[73]\ttraining's ndcg@5: 0.459384\tvalid_1's ndcg@5: 0.382916\n",
      "[74]\ttraining's ndcg@5: 0.460413\tvalid_1's ndcg@5: 0.382991\n",
      "[75]\ttraining's ndcg@5: 0.461082\tvalid_1's ndcg@5: 0.383133\n",
      "[76]\ttraining's ndcg@5: 0.461534\tvalid_1's ndcg@5: 0.382778\n",
      "[77]\ttraining's ndcg@5: 0.462008\tvalid_1's ndcg@5: 0.383118\n",
      "[78]\ttraining's ndcg@5: 0.463065\tvalid_1's ndcg@5: 0.383748\n",
      "[79]\ttraining's ndcg@5: 0.463634\tvalid_1's ndcg@5: 0.384151\n",
      "[80]\ttraining's ndcg@5: 0.464354\tvalid_1's ndcg@5: 0.384122\n",
      "[81]\ttraining's ndcg@5: 0.464802\tvalid_1's ndcg@5: 0.384137\n",
      "[82]\ttraining's ndcg@5: 0.465441\tvalid_1's ndcg@5: 0.384113\n",
      "[83]\ttraining's ndcg@5: 0.466152\tvalid_1's ndcg@5: 0.384359\n",
      "[84]\ttraining's ndcg@5: 0.466867\tvalid_1's ndcg@5: 0.384906\n",
      "[85]\ttraining's ndcg@5: 0.467511\tvalid_1's ndcg@5: 0.385112\n",
      "[86]\ttraining's ndcg@5: 0.46786\tvalid_1's ndcg@5: 0.38507\n",
      "[87]\ttraining's ndcg@5: 0.468556\tvalid_1's ndcg@5: 0.385192\n",
      "[88]\ttraining's ndcg@5: 0.469232\tvalid_1's ndcg@5: 0.384946\n",
      "[89]\ttraining's ndcg@5: 0.469819\tvalid_1's ndcg@5: 0.385385\n",
      "[90]\ttraining's ndcg@5: 0.470432\tvalid_1's ndcg@5: 0.385679\n",
      "[91]\ttraining's ndcg@5: 0.470858\tvalid_1's ndcg@5: 0.385439\n",
      "[92]\ttraining's ndcg@5: 0.471585\tvalid_1's ndcg@5: 0.385524\n",
      "[93]\ttraining's ndcg@5: 0.472212\tvalid_1's ndcg@5: 0.385662\n",
      "[94]\ttraining's ndcg@5: 0.47291\tvalid_1's ndcg@5: 0.385421\n",
      "[95]\ttraining's ndcg@5: 0.473226\tvalid_1's ndcg@5: 0.385519\n",
      "[96]\ttraining's ndcg@5: 0.473866\tvalid_1's ndcg@5: 0.385753\n",
      "[97]\ttraining's ndcg@5: 0.474551\tvalid_1's ndcg@5: 0.385311\n",
      "[98]\ttraining's ndcg@5: 0.474959\tvalid_1's ndcg@5: 0.385523\n",
      "[99]\ttraining's ndcg@5: 0.475746\tvalid_1's ndcg@5: 0.385946\n",
      "[100]\ttraining's ndcg@5: 0.476284\tvalid_1's ndcg@5: 0.385938\n",
      "[101]\ttraining's ndcg@5: 0.476637\tvalid_1's ndcg@5: 0.38583\n",
      "[102]\ttraining's ndcg@5: 0.477381\tvalid_1's ndcg@5: 0.385699\n",
      "[103]\ttraining's ndcg@5: 0.477796\tvalid_1's ndcg@5: 0.38556\n",
      "[104]\ttraining's ndcg@5: 0.478558\tvalid_1's ndcg@5: 0.386196\n",
      "[105]\ttraining's ndcg@5: 0.47902\tvalid_1's ndcg@5: 0.386405\n",
      "[106]\ttraining's ndcg@5: 0.479403\tvalid_1's ndcg@5: 0.386461\n",
      "[107]\ttraining's ndcg@5: 0.480028\tvalid_1's ndcg@5: 0.386429\n",
      "[108]\ttraining's ndcg@5: 0.480628\tvalid_1's ndcg@5: 0.386707\n",
      "[109]\ttraining's ndcg@5: 0.481277\tvalid_1's ndcg@5: 0.386936\n",
      "[110]\ttraining's ndcg@5: 0.481618\tvalid_1's ndcg@5: 0.387093\n",
      "[111]\ttraining's ndcg@5: 0.482134\tvalid_1's ndcg@5: 0.387156\n",
      "[112]\ttraining's ndcg@5: 0.482425\tvalid_1's ndcg@5: 0.387072\n",
      "[113]\ttraining's ndcg@5: 0.483101\tvalid_1's ndcg@5: 0.387356\n",
      "[114]\ttraining's ndcg@5: 0.483591\tvalid_1's ndcg@5: 0.387485\n",
      "[115]\ttraining's ndcg@5: 0.484271\tvalid_1's ndcg@5: 0.3876\n",
      "[116]\ttraining's ndcg@5: 0.484701\tvalid_1's ndcg@5: 0.387532\n",
      "[117]\ttraining's ndcg@5: 0.485119\tvalid_1's ndcg@5: 0.387674\n",
      "[118]\ttraining's ndcg@5: 0.485649\tvalid_1's ndcg@5: 0.387727\n",
      "[119]\ttraining's ndcg@5: 0.486135\tvalid_1's ndcg@5: 0.387958\n",
      "[120]\ttraining's ndcg@5: 0.486681\tvalid_1's ndcg@5: 0.387835\n",
      "[121]\ttraining's ndcg@5: 0.487107\tvalid_1's ndcg@5: 0.387659\n",
      "[122]\ttraining's ndcg@5: 0.48778\tvalid_1's ndcg@5: 0.387649\n",
      "[123]\ttraining's ndcg@5: 0.488187\tvalid_1's ndcg@5: 0.387709\n",
      "[124]\ttraining's ndcg@5: 0.488698\tvalid_1's ndcg@5: 0.387674\n",
      "[125]\ttraining's ndcg@5: 0.489399\tvalid_1's ndcg@5: 0.387908\n",
      "[126]\ttraining's ndcg@5: 0.489911\tvalid_1's ndcg@5: 0.387687\n",
      "[127]\ttraining's ndcg@5: 0.490188\tvalid_1's ndcg@5: 0.387658\n",
      "[128]\ttraining's ndcg@5: 0.49085\tvalid_1's ndcg@5: 0.387898\n",
      "[129]\ttraining's ndcg@5: 0.491434\tvalid_1's ndcg@5: 0.388162\n",
      "[130]\ttraining's ndcg@5: 0.492043\tvalid_1's ndcg@5: 0.388075\n",
      "[131]\ttraining's ndcg@5: 0.492408\tvalid_1's ndcg@5: 0.388116\n",
      "[132]\ttraining's ndcg@5: 0.492711\tvalid_1's ndcg@5: 0.387926\n",
      "[133]\ttraining's ndcg@5: 0.493224\tvalid_1's ndcg@5: 0.387669\n",
      "[134]\ttraining's ndcg@5: 0.493705\tvalid_1's ndcg@5: 0.387161\n",
      "[135]\ttraining's ndcg@5: 0.494394\tvalid_1's ndcg@5: 0.387191\n",
      "[136]\ttraining's ndcg@5: 0.494758\tvalid_1's ndcg@5: 0.38744\n",
      "[137]\ttraining's ndcg@5: 0.495359\tvalid_1's ndcg@5: 0.387446\n"
     ]
    },
    {
     "name": "stdout",
     "output_type": "stream",
     "text": [
      "[138]\ttraining's ndcg@5: 0.495693\tvalid_1's ndcg@5: 0.386988\n",
      "[139]\ttraining's ndcg@5: 0.496066\tvalid_1's ndcg@5: 0.387077\n",
      "[140]\ttraining's ndcg@5: 0.496495\tvalid_1's ndcg@5: 0.387055\n",
      "[141]\ttraining's ndcg@5: 0.496934\tvalid_1's ndcg@5: 0.386898\n",
      "[142]\ttraining's ndcg@5: 0.497655\tvalid_1's ndcg@5: 0.387003\n",
      "[143]\ttraining's ndcg@5: 0.498067\tvalid_1's ndcg@5: 0.386671\n",
      "[144]\ttraining's ndcg@5: 0.498404\tvalid_1's ndcg@5: 0.386446\n",
      "[145]\ttraining's ndcg@5: 0.498834\tvalid_1's ndcg@5: 0.386529\n",
      "[146]\ttraining's ndcg@5: 0.499142\tvalid_1's ndcg@5: 0.386503\n",
      "[147]\ttraining's ndcg@5: 0.499526\tvalid_1's ndcg@5: 0.386362\n",
      "[148]\ttraining's ndcg@5: 0.499939\tvalid_1's ndcg@5: 0.386376\n",
      "[149]\ttraining's ndcg@5: 0.500508\tvalid_1's ndcg@5: 0.38647\n",
      "[150]\ttraining's ndcg@5: 0.50094\tvalid_1's ndcg@5: 0.386645\n",
      "[151]\ttraining's ndcg@5: 0.50128\tvalid_1's ndcg@5: 0.386563\n",
      "[152]\ttraining's ndcg@5: 0.501859\tvalid_1's ndcg@5: 0.386751\n",
      "[153]\ttraining's ndcg@5: 0.502314\tvalid_1's ndcg@5: 0.386871\n",
      "[154]\ttraining's ndcg@5: 0.502616\tvalid_1's ndcg@5: 0.387047\n",
      "[155]\ttraining's ndcg@5: 0.502952\tvalid_1's ndcg@5: 0.386764\n",
      "[156]\ttraining's ndcg@5: 0.503267\tvalid_1's ndcg@5: 0.386399\n",
      "[157]\ttraining's ndcg@5: 0.503547\tvalid_1's ndcg@5: 0.386321\n",
      "[158]\ttraining's ndcg@5: 0.504138\tvalid_1's ndcg@5: 0.386519\n",
      "[159]\ttraining's ndcg@5: 0.504615\tvalid_1's ndcg@5: 0.386551\n",
      "[160]\ttraining's ndcg@5: 0.504976\tvalid_1's ndcg@5: 0.386842\n",
      "[161]\ttraining's ndcg@5: 0.505316\tvalid_1's ndcg@5: 0.38682\n",
      "[162]\ttraining's ndcg@5: 0.505646\tvalid_1's ndcg@5: 0.386837\n",
      "[163]\ttraining's ndcg@5: 0.506142\tvalid_1's ndcg@5: 0.387096\n",
      "[164]\ttraining's ndcg@5: 0.506547\tvalid_1's ndcg@5: 0.387094\n",
      "[165]\ttraining's ndcg@5: 0.50684\tvalid_1's ndcg@5: 0.387037\n",
      "[166]\ttraining's ndcg@5: 0.507452\tvalid_1's ndcg@5: 0.387086\n",
      "[167]\ttraining's ndcg@5: 0.507895\tvalid_1's ndcg@5: 0.387109\n",
      "[168]\ttraining's ndcg@5: 0.508376\tvalid_1's ndcg@5: 0.386893\n",
      "[169]\ttraining's ndcg@5: 0.508717\tvalid_1's ndcg@5: 0.386629\n",
      "[170]\ttraining's ndcg@5: 0.509117\tvalid_1's ndcg@5: 0.386817\n",
      "[171]\ttraining's ndcg@5: 0.509598\tvalid_1's ndcg@5: 0.387064\n",
      "[172]\ttraining's ndcg@5: 0.510065\tvalid_1's ndcg@5: 0.386926\n",
      "[173]\ttraining's ndcg@5: 0.510379\tvalid_1's ndcg@5: 0.38748\n",
      "[174]\ttraining's ndcg@5: 0.510612\tvalid_1's ndcg@5: 0.387318\n",
      "[175]\ttraining's ndcg@5: 0.510949\tvalid_1's ndcg@5: 0.387738\n",
      "[176]\ttraining's ndcg@5: 0.511293\tvalid_1's ndcg@5: 0.387756\n",
      "[177]\ttraining's ndcg@5: 0.511664\tvalid_1's ndcg@5: 0.387534\n",
      "[178]\ttraining's ndcg@5: 0.512\tvalid_1's ndcg@5: 0.387291\n",
      "[179]\ttraining's ndcg@5: 0.512276\tvalid_1's ndcg@5: 0.387358\n",
      "[180]\ttraining's ndcg@5: 0.512673\tvalid_1's ndcg@5: 0.387315\n",
      "[181]\ttraining's ndcg@5: 0.512983\tvalid_1's ndcg@5: 0.387305\n",
      "[182]\ttraining's ndcg@5: 0.513419\tvalid_1's ndcg@5: 0.387149\n",
      "[183]\ttraining's ndcg@5: 0.513761\tvalid_1's ndcg@5: 0.387422\n",
      "[184]\ttraining's ndcg@5: 0.514233\tvalid_1's ndcg@5: 0.387236\n",
      "[185]\ttraining's ndcg@5: 0.514761\tvalid_1's ndcg@5: 0.387571\n",
      "[186]\ttraining's ndcg@5: 0.515148\tvalid_1's ndcg@5: 0.387641\n",
      "[187]\ttraining's ndcg@5: 0.515447\tvalid_1's ndcg@5: 0.387455\n",
      "[188]\ttraining's ndcg@5: 0.515779\tvalid_1's ndcg@5: 0.387675\n",
      "[189]\ttraining's ndcg@5: 0.516055\tvalid_1's ndcg@5: 0.387624\n",
      "[190]\ttraining's ndcg@5: 0.516355\tvalid_1's ndcg@5: 0.387776\n",
      "[191]\ttraining's ndcg@5: 0.516654\tvalid_1's ndcg@5: 0.387817\n",
      "[192]\ttraining's ndcg@5: 0.516993\tvalid_1's ndcg@5: 0.387721\n",
      "[193]\ttraining's ndcg@5: 0.517366\tvalid_1's ndcg@5: 0.387647\n",
      "[194]\ttraining's ndcg@5: 0.517747\tvalid_1's ndcg@5: 0.387936\n",
      "[195]\ttraining's ndcg@5: 0.518174\tvalid_1's ndcg@5: 0.387826\n",
      "[196]\ttraining's ndcg@5: 0.518554\tvalid_1's ndcg@5: 0.387782\n",
      "[197]\ttraining's ndcg@5: 0.518873\tvalid_1's ndcg@5: 0.387873\n",
      "[198]\ttraining's ndcg@5: 0.519329\tvalid_1's ndcg@5: 0.387599\n",
      "[199]\ttraining's ndcg@5: 0.519647\tvalid_1's ndcg@5: 0.387631\n",
      "[200]\ttraining's ndcg@5: 0.519905\tvalid_1's ndcg@5: 0.387411\n",
      "CPU times: user 9min, sys: 40 s, total: 9min 40s\n",
      "Wall time: 3min 37s\n"
     ]
    },
    {
     "data": {
      "text/plain": [
       "LGBMRanker(metric='ndcg', num_iterations=200, objective='lambdarank', verbose=1)"
      ]
     },
     "execution_count": 12,
     "metadata": {},
     "output_type": "execute_result"
    }
   ],
   "source": [
    "%%time\n",
    "model66.fit(X_train, y_train_, eval_set=[(X_train, y_train_), (X_test, y_test_)], eval_group=[X_train['srch_id'].value_counts(sort=False).sort_index(), X_test['srch_id'].value_counts(sort=False).sort_index()], group=X_train['srch_id'].value_counts(sort=False).sort_index(),\n",
    "            eval_at=5,categorical_feature=rest)\n"
   ]
  },
  {
   "cell_type": "code",
   "execution_count": 13,
   "metadata": {},
   "outputs": [
    {
     "data": {
      "text/plain": [
       "array([ 0.49892916, -0.77827307, -0.48718981, ..., -0.38726199,\n",
       "        0.22071585,  0.40486471])"
      ]
     },
     "execution_count": 13,
     "metadata": {},
     "output_type": "execute_result"
    }
   ],
   "source": [
    "y_pred_66 = model66.predict(X_test)\n",
    "y_pred_66"
   ]
  },
  {
   "cell_type": "code",
   "execution_count": 14,
   "metadata": {
    "scrolled": true
   },
   "outputs": [],
   "source": [
    "df = pd.concat([X_test[\"srch_id\"], pos.iloc[test_inds]], axis=1)\n",
    "df['predictions'] = y_pred_66\n",
    "# df.head(30)"
   ]
  },
  {
   "cell_type": "code",
   "execution_count": 15,
   "metadata": {},
   "outputs": [
    {
     "name": "stdout",
     "output_type": "stream",
     "text": [
      "0.3733667894875733\n"
     ]
    }
   ],
   "source": [
    "scores = []\n",
    "for i in df['srch_id'].unique():\n",
    "    a1 = [df[df[\"srch_id\"]==i][\"position\"].values]\n",
    "    a2 = [df[df[\"srch_id\"]==i][\"predictions\"].values]\n",
    "    scores.append(ndcg_score(a1, a2, k=5))\n",
    "print(sum(scores)/len(scores)) #0.3733667894875733 previously"
   ]
  },
  {
   "cell_type": "code",
   "execution_count": 16,
   "metadata": {},
   "outputs": [],
   "source": [
    "model66_ = lgb.LGBMRanker(objective=\"lambdarank\", metric=\"ndcg\", verbose=1, num_iterations=200)"
   ]
  },
  {
   "cell_type": "code",
   "execution_count": 18,
   "metadata": {},
   "outputs": [
    {
     "name": "stderr",
     "output_type": "stream",
     "text": [
      "/opt/anaconda3/lib/python3.8/site-packages/lightgbm/engine.py:151: UserWarning: Found `num_iterations` in params. Will use it instead of argument\n",
      "  warnings.warn(\"Found `{}` in params. Will use it instead of argument\".format(alias))\n",
      "/opt/anaconda3/lib/python3.8/site-packages/lightgbm/basic.py:1551: UserWarning: Using categorical_feature in Dataset.\n",
      "  warnings.warn('Using categorical_feature in Dataset.')\n"
     ]
    },
    {
     "name": "stdout",
     "output_type": "stream",
     "text": [
      "[LightGBM] [Warning] Auto-choosing row-wise multi-threading, the overhead of testing was 1.221449 seconds.\n",
      "You can set `force_row_wise=true` to remove the overhead.\n",
      "And if memory is not enough, you can set `force_col_wise=true`.\n",
      "[LightGBM] [Info] Total Bins 52080\n",
      "[LightGBM] [Info] Number of data points in the train set: 4958347, number of used features: 100\n",
      "CPU times: user 8min 15s, sys: 49.3 s, total: 9min 4s\n",
      "Wall time: 3min 54s\n"
     ]
    },
    {
     "data": {
      "text/plain": [
       "LGBMRanker(metric='ndcg', num_iterations=200, objective='lambdarank', verbose=1)"
      ]
     },
     "execution_count": 18,
     "metadata": {},
     "output_type": "execute_result"
    }
   ],
   "source": [
    "%%time\n",
    "model66_.fit(train.drop([target], axis=1), -train[target], verbose=1,\n",
    "             group=train['srch_id'].value_counts(sort=False).sort_index(),categorical_feature=rest)\n"
   ]
  },
  {
   "cell_type": "code",
   "execution_count": 19,
   "metadata": {},
   "outputs": [
    {
     "name": "stdout",
     "output_type": "stream",
     "text": [
      "CPU times: user 5min 55s, sys: 37.7 s, total: 6min 33s\n",
      "Wall time: 2min 40s\n"
     ]
    },
    {
     "data": {
      "text/plain": [
       "array([ 0.59142269,  1.12019842, -0.25803262, ...,  0.03295955,\n",
       "       -0.05237822,  0.23207979])"
      ]
     },
     "execution_count": 19,
     "metadata": {},
     "output_type": "execute_result"
    }
   ],
   "source": [
    "%%time\n",
    "y_pred66 = model66_.predict(test)\n",
    "y_pred66 "
   ]
  },
  {
   "cell_type": "markdown",
   "metadata": {},
   "source": [
    "# Model evaluation"
   ]
  },
  {
   "cell_type": "code",
   "execution_count": 31,
   "metadata": {},
   "outputs": [
    {
     "data": {
      "image/png": "[encoded data removed]",
      "text/plain": [
       "<Figure size 432x216 with 1 Axes>"
      ]
     },
     "metadata": {
      "needs_background": "light"
     },
     "output_type": "display_data"
    }
   ],
   "source": [
    "# feature importance\n",
    "lgb.plot_importance(model66_, max_num_features=5, figsize=(6,3));\n",
    "# plt.show()"
   ]
  },
  {
   "cell_type": "code",
   "execution_count": null,
   "metadata": {},
   "outputs": [],
   "source": []
  },
  {
   "cell_type": "code",
   "execution_count": null,
   "metadata": {},
   "outputs": [],
   "source": []
  },
  {
   "cell_type": "markdown",
   "metadata": {},
   "source": [
    " "
   ]
  },
  {
   "cell_type": "markdown",
   "metadata": {},
   "source": [
    "# Submission"
   ]
  },
  {
   "cell_type": "markdown",
   "metadata": {},
   "source": [
    "- by target_score (click_bool)"
   ]
  },
  {
   "cell_type": "code",
   "execution_count": 27,
   "metadata": {},
   "outputs": [],
   "source": [
    "r = pd.DataFrame(data = -y_pred66, columns=['target_score']) #replace with y_pred7\n",
    "r.head(20)"
   ]
  },
  {
   "cell_type": "code",
   "execution_count": 28,
   "metadata": {},
   "outputs": [],
   "source": [
    "r[\"srch_id\"] = test['srch_id']\n",
    "r[\"prop_id\"] = test['prop_id']"
   ]
  },
  {
   "cell_type": "code",
   "execution_count": 29,
   "metadata": {},
   "outputs": [],
   "source": [
    "result = r.sort_values(['srch_id','target_score'])[[\"srch_id\",\"prop_id\"]]"
   ]
  },
  {
   "cell_type": "code",
   "execution_count": 30,
   "metadata": {},
   "outputs": [],
   "source": [
    "# result.head(10)"
   ]
  },
  {
   "cell_type": "code",
   "execution_count": 31,
   "metadata": {},
   "outputs": [],
   "source": [
    "result.to_csv(\"sub14.csv\", index=False)"
   ]
  },
  {
   "cell_type": "code",
   "execution_count": null,
   "metadata": {},
   "outputs": [],
   "source": []
  },
  {
   "cell_type": "code",
   "execution_count": null,
   "metadata": {},
   "outputs": [],
   "source": []
  },
  {
   "cell_type": "markdown",
   "metadata": {},
   "source": [
    "-\tCatBoost https://colab.research.google.com/drive/1cuFTgBFRVFD8dVP74QkhNZ_9v7sDgx_z \n",
    "\n",
    "https://www.kaggle.com/code/danofer/catboost-ranking-ncdg-expedia-search-queries \n",
    "-\tTF listwise https://www.tensorflow.org/ranking "
   ]
  }
 ],
 "metadata": {
  "kernelspec": {
   "display_name": "Python 3",
   "language": "python",
   "name": "python3"
  },
  "language_info": {
   "codemirror_mode": {
    "name": "ipython",
    "version": 3
   },
   "file_extension": ".py",
   "mimetype": "text/x-python",
   "name": "python",
   "nbconvert_exporter": "python",
   "pygments_lexer": "ipython3",
   "version": "3.8.3"
  }
 },
 "nbformat": 4,
 "nbformat_minor": 4
}
