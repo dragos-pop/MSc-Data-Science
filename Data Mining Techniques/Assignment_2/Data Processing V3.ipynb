{
 "cells": [
  {
   "cell_type": "code",
   "execution_count": 41,
   "metadata": {},
   "outputs": [],
   "source": [
    "import pandas as pd\n",
    "import time\n",
    "import datetime\n",
    "import lightgbm as lgb"
   ]
  },
  {
   "cell_type": "code",
   "execution_count": 42,
   "metadata": {},
   "outputs": [],
   "source": [
    "train = pd.read_csv(\"training_set_VU_DM.csv\")"
   ]
  },
  {
   "cell_type": "code",
   "execution_count": 43,
   "metadata": {},
   "outputs": [],
   "source": [
    "test = pd.read_csv(\"test_set_VU_DM.csv\")"
   ]
  },
  {
   "cell_type": "markdown",
   "metadata": {},
   "source": [
    "# Data Processing"
   ]
  },
  {
   "cell_type": "markdown",
   "metadata": {},
   "source": [
    "## Feature engineering part 1:\n",
    "- date_time\n",
    "    - convert to unix\n",
    "    - converst to timestamp format\n",
    "    - day of week\n",
    "    - weekend\n",
    "    - month\n",
    "- visitor_hist_starrating\n",
    "    - no_visitor_starrating (when null)\n",
    "- visitor_hist_adr_usd\n",
    "    - no_visitor_price (when null)\n",
    "- prop_starrating\n",
    "    - not_available_star (when null)\n",
    "    - no_star (when 0)\n",
    "- prop_review_score\n",
    "    - not_available_review (when null)\n",
    "    - no_review (when 0)\n",
    "- prop_log_historical_price\n",
    "    - not_available_price (when 0)\n",
    "    \n",
    "...\n",
    "\n",
    "<ins>Ideas (not implemented)</ins>\n",
    "- available_competitors (bool)\n",
    "- available_competitors_count\n"
   ]
  },
  {
   "cell_type": "code",
   "execution_count": 44,
   "metadata": {},
   "outputs": [],
   "source": [
    "cols = train.columns"
   ]
  },
  {
   "cell_type": "code",
   "execution_count": 45,
   "metadata": {},
   "outputs": [
    {
     "data": {
      "text/plain": [
       "Index(['srch_id', 'date_time', 'site_id', 'visitor_location_country_id',\n",
       "       'visitor_hist_starrating', 'visitor_hist_adr_usd', 'prop_country_id',\n",
       "       'prop_id', 'prop_starrating', 'prop_review_score', 'prop_brand_bool',\n",
       "       'prop_location_score1', 'prop_location_score2',\n",
       "       'prop_log_historical_price', 'position', 'price_usd', 'promotion_flag',\n",
       "       'srch_destination_id', 'srch_length_of_stay', 'srch_booking_window',\n",
       "       'srch_adults_count', 'srch_children_count', 'srch_room_count',\n",
       "       'srch_saturday_night_bool', 'srch_query_affinity_score',\n",
       "       'orig_destination_distance', 'random_bool', 'comp1_rate', 'comp1_inv',\n",
       "       'comp1_rate_percent_diff', 'comp2_rate', 'comp2_inv',\n",
       "       'comp2_rate_percent_diff', 'comp3_rate', 'comp3_inv',\n",
       "       'comp3_rate_percent_diff', 'comp4_rate', 'comp4_inv',\n",
       "       'comp4_rate_percent_diff', 'comp5_rate', 'comp5_inv',\n",
       "       'comp5_rate_percent_diff', 'comp6_rate', 'comp6_inv',\n",
       "       'comp6_rate_percent_diff', 'comp7_rate', 'comp7_inv',\n",
       "       'comp7_rate_percent_diff', 'comp8_rate', 'comp8_inv',\n",
       "       'comp8_rate_percent_diff', 'click_bool', 'gross_bookings_usd',\n",
       "       'booking_bool'],\n",
       "      dtype='object')"
      ]
     },
     "execution_count": 45,
     "metadata": {},
     "output_type": "execute_result"
    }
   ],
   "source": [
    "cols"
   ]
  },
  {
   "cell_type": "code",
   "execution_count": 46,
   "metadata": {},
   "outputs": [],
   "source": [
    "# convert datetime to correct object\n",
    "train[\"datetime\"] = pd.to_datetime(train[\"date_time\"])\n",
    "train = train.drop([\"date_time\"], axis=1)"
   ]
  },
  {
   "cell_type": "code",
   "execution_count": 47,
   "metadata": {},
   "outputs": [],
   "source": [
    "test[\"datetime\"] = pd.to_datetime(test[\"date_time\"])\n",
    "test = test.drop([\"date_time\"], axis=1)"
   ]
  },
  {
   "cell_type": "code",
   "execution_count": 48,
   "metadata": {},
   "outputs": [],
   "source": [
    "train[\"datetime_unix\"] = train[\"datetime\"].astype(int) / 10**9"
   ]
  },
  {
   "cell_type": "code",
   "execution_count": 49,
   "metadata": {},
   "outputs": [],
   "source": [
    "test[\"datetime_unix\"] = test[\"datetime\"].astype(int) / 10**9"
   ]
  },
  {
   "cell_type": "code",
   "execution_count": 50,
   "metadata": {},
   "outputs": [],
   "source": [
    "train[\"weekday\"] = train[\"datetime\"].apply(lambda x: x.dayofweek)"
   ]
  },
  {
   "cell_type": "code",
   "execution_count": 51,
   "metadata": {},
   "outputs": [],
   "source": [
    "test[\"weekday\"] = test[\"datetime\"].apply(lambda x: x.dayofweek)"
   ]
  },
  {
   "cell_type": "code",
   "execution_count": 52,
   "metadata": {},
   "outputs": [],
   "source": [
    "train[\"weekend\"] = (train[\"weekday\"]>4).astype(int) "
   ]
  },
  {
   "cell_type": "code",
   "execution_count": 53,
   "metadata": {},
   "outputs": [],
   "source": [
    "test[\"weekend\"] = (test[\"weekday\"]>4).astype(int) "
   ]
  },
  {
   "cell_type": "code",
   "execution_count": 54,
   "metadata": {},
   "outputs": [],
   "source": [
    "train[\"month\"] = train[\"datetime\"].apply(lambda x: x.month)"
   ]
  },
  {
   "cell_type": "code",
   "execution_count": 55,
   "metadata": {},
   "outputs": [],
   "source": [
    "test[\"month\"] = test[\"datetime\"].apply(lambda x: x.month)"
   ]
  },
  {
   "cell_type": "code",
   "execution_count": 56,
   "metadata": {
    "scrolled": true
   },
   "outputs": [],
   "source": [
    "train = train.drop([\"datetime\"], axis=1)"
   ]
  },
  {
   "cell_type": "code",
   "execution_count": 57,
   "metadata": {},
   "outputs": [],
   "source": [
    "test = test.drop([\"datetime\"], axis=1)"
   ]
  },
  {
   "cell_type": "code",
   "execution_count": 58,
   "metadata": {},
   "outputs": [],
   "source": [
    "train[\"no_visitor_starrating\"] = train[\"visitor_hist_starrating\"].isna().astype(int)\n",
    "train[\"no_visitor_price\"] = train[\"visitor_hist_adr_usd\"].isna().astype(int)\n",
    "train[\"prop_not_available_star\"] = train[\"prop_starrating\"].isna().astype(int)\n",
    "train[\"prop_no_star\"] = (train[\"prop_starrating\"]==0).astype(int)\n",
    "train[\"prop_not_available_review\"] = train[\"prop_review_score\"].isna().astype(int)\n",
    "train[\"prop_no_review\"] = (train[\"prop_review_score\"]==0).astype(int)\n",
    "train[\"prop_not_available_price\"] = (train[\"prop_log_historical_price\"]==0).astype(int)"
   ]
  },
  {
   "cell_type": "code",
   "execution_count": 59,
   "metadata": {},
   "outputs": [],
   "source": [
    "test[\"no_visitor_starrating\"] = test[\"visitor_hist_starrating\"].isna().astype(int)\n",
    "test[\"no_visitor_price\"] = test[\"visitor_hist_adr_usd\"].isna().astype(int)\n",
    "test[\"prop_not_available_star\"] = test[\"prop_starrating\"].isna().astype(int)\n",
    "test[\"prop_no_star\"] = (test[\"prop_starrating\"]==0).astype(int)\n",
    "test[\"prop_not_available_review\"] = test[\"prop_review_score\"].isna().astype(int)\n",
    "test[\"prop_no_review\"] = (test[\"prop_review_score\"]==0).astype(int)\n",
    "test[\"prop_not_available_price\"] = (test[\"prop_log_historical_price\"]==0).astype(int)"
   ]
  },
  {
   "cell_type": "markdown",
   "metadata": {},
   "source": [
    "## Droping columns: \n",
    "srch_query_affinity_score, gross_bookings_usd, orig_destination_distance\n",
    "\n",
    "- at least temporary:\n",
    "comp1_rate_percent_diff, comp2_rate_percent_diff, comp3_rate_percent_diff, comp4_rate_percent_diff\n",
    "comp5_rate_percent_diff, comp6_rate_percent_diff, comp7_rate_percent_diff, comp8_rate_percent_diff\n"
   ]
  },
  {
   "cell_type": "code",
   "execution_count": 60,
   "metadata": {},
   "outputs": [],
   "source": [
    "train = train.drop([\"srch_query_affinity_score\", \"gross_bookings_usd\"], axis=1) \n",
    "test = test.drop([\"srch_query_affinity_score\"], axis=1) \n"
   ]
  },
  {
   "cell_type": "code",
   "execution_count": 61,
   "metadata": {},
   "outputs": [],
   "source": [
    "train = train.drop([\"comp1_rate_percent_diff\", \"comp2_rate_percent_diff\", \"comp3_rate_percent_diff\", \n",
    "                    \"comp4_rate_percent_diff\", \"comp5_rate_percent_diff\", \"comp6_rate_percent_diff\", \n",
    "                    \"comp7_rate_percent_diff\", \"comp8_rate_percent_diff\"], axis=1) \n",
    "test = test.drop([\"comp1_rate_percent_diff\", \"comp2_rate_percent_diff\", \"comp3_rate_percent_diff\", \n",
    "                    \"comp4_rate_percent_diff\", \"comp5_rate_percent_diff\", \"comp6_rate_percent_diff\", \n",
    "                    \"comp7_rate_percent_diff\", \"comp8_rate_percent_diff\"], axis=1) "
   ]
  },
  {
   "cell_type": "code",
   "execution_count": 62,
   "metadata": {},
   "outputs": [],
   "source": [
    "# create copies\n",
    "df_train = train\n",
    "df_test = test"
   ]
  },
  {
   "cell_type": "code",
   "execution_count": 63,
   "metadata": {
    "scrolled": true
   },
   "outputs": [
    {
     "data": {
      "text/plain": [
       "Index(['srch_id', 'date_time', 'site_id', 'visitor_location_country_id',\n",
       "       'visitor_hist_starrating', 'visitor_hist_adr_usd', 'prop_country_id',\n",
       "       'prop_id', 'prop_starrating', 'prop_review_score', 'prop_brand_bool',\n",
       "       'prop_location_score1', 'prop_location_score2',\n",
       "       'prop_log_historical_price', 'position', 'price_usd', 'promotion_flag',\n",
       "       'srch_destination_id', 'srch_length_of_stay', 'srch_booking_window',\n",
       "       'srch_adults_count', 'srch_children_count', 'srch_room_count',\n",
       "       'srch_saturday_night_bool', 'srch_query_affinity_score',\n",
       "       'orig_destination_distance', 'random_bool', 'comp1_rate', 'comp1_inv',\n",
       "       'comp1_rate_percent_diff', 'comp2_rate', 'comp2_inv',\n",
       "       'comp2_rate_percent_diff', 'comp3_rate', 'comp3_inv',\n",
       "       'comp3_rate_percent_diff', 'comp4_rate', 'comp4_inv',\n",
       "       'comp4_rate_percent_diff', 'comp5_rate', 'comp5_inv',\n",
       "       'comp5_rate_percent_diff', 'comp6_rate', 'comp6_inv',\n",
       "       'comp6_rate_percent_diff', 'comp7_rate', 'comp7_inv',\n",
       "       'comp7_rate_percent_diff', 'comp8_rate', 'comp8_inv',\n",
       "       'comp8_rate_percent_diff', 'click_bool', 'gross_bookings_usd',\n",
       "       'booking_bool'],\n",
       "      dtype='object')"
      ]
     },
     "execution_count": 63,
     "metadata": {},
     "output_type": "execute_result"
    }
   ],
   "source": [
    "cols"
   ]
  },
  {
   "cell_type": "code",
   "execution_count": 64,
   "metadata": {},
   "outputs": [],
   "source": [
    "df_train = df_train.drop([\"orig_destination_distance\"], axis=1) \n",
    "df_test = df_test.drop([\"orig_destination_distance\"], axis=1) "
   ]
  },
  {
   "cell_type": "markdown",
   "metadata": {},
   "source": [
    "## Filling in missing values\n",
    "- comp_rate -> +1 when null because then it is an advantage against the competitor\n",
    "- comp_inv -> +1 then null because then it is an advantage against the competitor\n",
    "- user starrating, visitor_hist_adr_usd -> mean\n",
    "- prop review, location score 2 -> mean\n",
    "\n",
    "<ins>Ideas (not implemented)</ins>\n",
    "- orig_destination_distance by looking at other users\n",
    "- prop review, star = knn/mean region, price\n",
    "- user rating, usd -> fill in random normal with mean column"
   ]
  },
  {
   "cell_type": "code",
   "execution_count": 65,
   "metadata": {},
   "outputs": [],
   "source": [
    "for i in range(1, 9):\n",
    "    rate = \"comp\"+str(i)+\"_rate\"\n",
    "    inv = \"comp\"+str(i)+\"_inv\"\n",
    "    df_train[rate] = df_train[rate].fillna(1)\n",
    "    df_train[inv] = df_train[inv].fillna(1)\n",
    "    df_test[rate] = df_test[rate].fillna(1)\n",
    "    df_test[inv] = df_test[inv].fillna(1)"
   ]
  },
  {
   "cell_type": "code",
   "execution_count": 66,
   "metadata": {},
   "outputs": [],
   "source": [
    "df_train[\"visitor_hist_starrating\"].fillna(df_train[\"visitor_hist_starrating\"].mean(), inplace=True)\n",
    "df_test[\"visitor_hist_starrating\"].fillna(df_test[\"visitor_hist_starrating\"].mean(), inplace=True)\n",
    "df_train[\"visitor_hist_adr_usd\"].fillna(df_train[\"visitor_hist_adr_usd\"].mean(), inplace=True)\n",
    "df_test[\"visitor_hist_adr_usd\"].fillna(df_test[\"visitor_hist_adr_usd\"].mean(), inplace=True)\n",
    "df_train[\"prop_review_score\"].fillna(df_train[\"prop_review_score\"].mean(), inplace=True)\n",
    "df_test[\"prop_review_score\"].fillna(df_test[\"prop_review_score\"].mean(), inplace=True)\n",
    "df_train[\"prop_location_score2\"].fillna(df_train[\"prop_location_score2\"].mean(), inplace=True)\n",
    "df_test[\"prop_location_score2\"].fillna(df_test[\"prop_location_score2\"].mean(), inplace=True)"
   ]
  },
  {
   "cell_type": "code",
   "execution_count": 67,
   "metadata": {},
   "outputs": [],
   "source": [
    "for i in df_train.columns:\n",
    "    if df_train[i].isna().sum()>0:\n",
    "        print(i)\n",
    "        print(df_train[i].isna().sum()/len(df_train)*100)"
   ]
  },
  {
   "cell_type": "markdown",
   "metadata": {},
   "source": [
    "## Feature engineering part 2\n",
    "\n",
    "- prop_location_score1 + prop_location_score2\n",
    "    - prop_location_score_total\n",
    "- price_usd - prop_log_historical_price\n",
    "    - prop_price_diff\n",
    "- srch_adults_count + srch_children_count\n",
    "    - srch_count\n",
    "- srch_count/srch_room_count\n",
    "    - persons_per_room\n",
    "- price_usd/srch_count\n",
    "    - price_per_person\n",
    "- srch_destination_id != visitor_location_country_id\n",
    "    - srch_abroad\n",
    "    \n",
    "\n",
    "- one-hot-encoding cat_features\n",
    "\n",
    "\n",
    "- avg numeric features per srch_id\n",
    "\n",
    "\n",
    "- click_bool, booking_bool\n",
    "    - target_score (5 booked, 1 clicked)    "
   ]
  },
  {
   "cell_type": "code",
   "execution_count": 68,
   "metadata": {},
   "outputs": [],
   "source": [
    "df_train[\"prop_location_score_total\"] = df_train[\"prop_location_score1\"] + df_train[\"prop_location_score2\"]\n",
    "df_test[\"prop_location_score_total\"] = df_test[\"prop_location_score1\"] + df_test[\"prop_location_score2\"]"
   ]
  },
  {
   "cell_type": "code",
   "execution_count": 69,
   "metadata": {},
   "outputs": [],
   "source": [
    "df_train[\"prop_price_diff\"] = df_train[\"price_usd\"] - df_train[\"prop_log_historical_price\"]\n",
    "df_test[\"prop_price_diff\"] = df_test[\"price_usd\"] - df_test[\"prop_log_historical_price\"]"
   ]
  },
  {
   "cell_type": "code",
   "execution_count": 70,
   "metadata": {},
   "outputs": [],
   "source": [
    "df_train[\"srch_count\"] = df_train[\"srch_adults_count\"] + df_train[\"srch_children_count\"]\n",
    "df_test[\"srch_count\"] = df_test[\"srch_adults_count\"] + df_test[\"srch_children_count\"]"
   ]
  },
  {
   "cell_type": "code",
   "execution_count": 71,
   "metadata": {},
   "outputs": [],
   "source": [
    "df_train[\"persons_per_room\"] = df_train[\"srch_count\"] / df_train[\"srch_room_count\"]\n",
    "df_test[\"persons_per_room\"] = df_test[\"srch_count\"] / df_test[\"srch_room_count\"]"
   ]
  },
  {
   "cell_type": "code",
   "execution_count": 72,
   "metadata": {},
   "outputs": [],
   "source": [
    "df_train[\"price_per_person\"] = df_train[\"price_usd\"] + df_train[\"srch_count\"]\n",
    "df_test[\"price_per_person\"] = df_test[\"price_usd\"] + df_test[\"srch_count\"]"
   ]
  },
  {
   "cell_type": "code",
   "execution_count": 73,
   "metadata": {},
   "outputs": [],
   "source": [
    "df_train[\"srch_abroad\"] = (df_train[\"srch_destination_id\"] == df_train[\"visitor_location_country_id\"]).astype(int)\n",
    "df_test[\"srch_abroad\"] = (df_test[\"srch_destination_id\"] == df_test[\"visitor_location_country_id\"]).astype(int)"
   ]
  },
  {
   "cell_type": "code",
   "execution_count": 74,
   "metadata": {},
   "outputs": [],
   "source": [
    "cat_features = [ \"comp1_rate\", \"comp1_inv\", \"comp2_rate\", \"comp2_inv\", \"comp3_rate\", \"comp3_inv\", \"comp4_rate\", \"comp4_inv\",\n",
    "                \"comp5_rate\", \"comp5_inv\", \"comp6_rate\", \"comp6_inv\", \"comp7_rate\", \"comp7_inv\", \"comp8_rate\", \"comp8_inv\",\n",
    "                \"weekday\", \"month\"]\n",
    "rest = [\"srch_id\", \"site_id\", \"visitor_location_country_id\", \"prop_country_id\", \"prop_id\", \"srch_destination_id\"]"
   ]
  },
  {
   "cell_type": "code",
   "execution_count": 75,
   "metadata": {},
   "outputs": [],
   "source": [
    "# one-hot encode cat_features\n",
    "for i in cat_features:\n",
    "    dummy = pd.get_dummies(df_test[i], prefix=i+'_')\n",
    "    df_test = df_test.join(dummy)  \n",
    "df_test = df_test.drop(cat_features, axis=1)\n",
    "\n",
    "for i in cat_features:\n",
    "    dummy = pd.get_dummies(df_train[i], prefix=i+'_')\n",
    "    df_train = df_train.join(dummy)  \n",
    "df_train = df_train.drop(cat_features, axis=1)"
   ]
  },
  {
   "cell_type": "code",
   "execution_count": 76,
   "metadata": {},
   "outputs": [
    {
     "name": "stdout",
     "output_type": "stream",
     "text": [
      "click_bool\n",
      "booking_bool\n",
      "position\n"
     ]
    }
   ],
   "source": [
    "list_1 = list(df_train.columns)\n",
    "list_2 = list(df_test.columns)\n",
    "for i in list(set(list_2) - set(list_1)):\n",
    "    print(i)\n",
    "for i in list(set(list_1) - set(list_2)):\n",
    "    print(i)"
   ]
  },
  {
   "cell_type": "code",
   "execution_count": null,
   "metadata": {},
   "outputs": [],
   "source": [
    "# avg numeric features per srch_id\n",
    "numeric_cols = ['prop_starrating','prop_review_score','prop_location_score1','prop_location_score2',\n",
    "                'prop_log_historical_price','price_usd',]\n",
    "\n",
    "for i in numeric_cols:\n",
    "    name = i + '_avg'\n",
    "    df_train[name] = df_train.groupby(['srch_id'])[i].transform('mean')    \n",
    "    \n",
    "for i in numeric_cols:\n",
    "    name = i + '_avg'\n",
    "    df_test[name] = df_test.groupby(['srch_id'])[i].transform('mean') "
   ]
  },
  {
   "cell_type": "code",
   "execution_count": 77,
   "metadata": {},
   "outputs": [],
   "source": [
    "# df_train[\"target_score\"] = df_train[\"click_bool\"] + 5* df_train[\"booking_bool\"]\n",
    "# df_train = df_train.drop([\"click_bool\", \"booking_bool\"], axis=1)"
   ]
  },
  {
   "cell_type": "code",
   "execution_count": 78,
   "metadata": {},
   "outputs": [],
   "source": [
    "target = \"click_bool\""
   ]
  },
  {
   "cell_type": "code",
   "execution_count": 79,
   "metadata": {},
   "outputs": [],
   "source": [
    "df_train[\"target_score\"] = df_train[target]\n",
    "df_train = df_train.drop([\"click_bool\", \"booking_bool\", \"position\"], axis=1)"
   ]
  },
  {
   "cell_type": "code",
   "execution_count": 81,
   "metadata": {},
   "outputs": [],
   "source": [
    "df_train[\"target_score\"] = -df_train[\"target_score\"] #inverts target to make it easier for submission sorting"
   ]
  },
  {
   "cell_type": "code",
   "execution_count": 82,
   "metadata": {},
   "outputs": [
    {
     "data": {
      "text/html": [
       "<div>\n",
       "<style scoped>\n",
       "    .dataframe tbody tr th:only-of-type {\n",
       "        vertical-align: middle;\n",
       "    }\n",
       "\n",
       "    .dataframe tbody tr th {\n",
       "        vertical-align: top;\n",
       "    }\n",
       "\n",
       "    .dataframe thead th {\n",
       "        text-align: right;\n",
       "    }\n",
       "</style>\n",
       "<table border=\"1\" class=\"dataframe\">\n",
       "  <thead>\n",
       "    <tr style=\"text-align: right;\">\n",
       "      <th></th>\n",
       "      <th>srch_id</th>\n",
       "      <th>site_id</th>\n",
       "      <th>visitor_location_country_id</th>\n",
       "      <th>visitor_hist_starrating</th>\n",
       "      <th>visitor_hist_adr_usd</th>\n",
       "      <th>prop_country_id</th>\n",
       "      <th>prop_id</th>\n",
       "      <th>prop_starrating</th>\n",
       "      <th>prop_review_score</th>\n",
       "      <th>prop_brand_bool</th>\n",
       "      <th>...</th>\n",
       "      <th>weekday__6</th>\n",
       "      <th>month__1</th>\n",
       "      <th>month__2</th>\n",
       "      <th>month__3</th>\n",
       "      <th>month__4</th>\n",
       "      <th>month__5</th>\n",
       "      <th>month__6</th>\n",
       "      <th>month__11</th>\n",
       "      <th>month__12</th>\n",
       "      <th>target_score</th>\n",
       "    </tr>\n",
       "  </thead>\n",
       "  <tbody>\n",
       "    <tr>\n",
       "      <th>0</th>\n",
       "      <td>1</td>\n",
       "      <td>12</td>\n",
       "      <td>187</td>\n",
       "      <td>3.374334</td>\n",
       "      <td>176.022659</td>\n",
       "      <td>219</td>\n",
       "      <td>893</td>\n",
       "      <td>3</td>\n",
       "      <td>3.5</td>\n",
       "      <td>1</td>\n",
       "      <td>...</td>\n",
       "      <td>0</td>\n",
       "      <td>0</td>\n",
       "      <td>0</td>\n",
       "      <td>0</td>\n",
       "      <td>1</td>\n",
       "      <td>0</td>\n",
       "      <td>0</td>\n",
       "      <td>0</td>\n",
       "      <td>0</td>\n",
       "      <td>0</td>\n",
       "    </tr>\n",
       "    <tr>\n",
       "      <th>1</th>\n",
       "      <td>1</td>\n",
       "      <td>12</td>\n",
       "      <td>187</td>\n",
       "      <td>3.374334</td>\n",
       "      <td>176.022659</td>\n",
       "      <td>219</td>\n",
       "      <td>10404</td>\n",
       "      <td>4</td>\n",
       "      <td>4.0</td>\n",
       "      <td>1</td>\n",
       "      <td>...</td>\n",
       "      <td>0</td>\n",
       "      <td>0</td>\n",
       "      <td>0</td>\n",
       "      <td>0</td>\n",
       "      <td>1</td>\n",
       "      <td>0</td>\n",
       "      <td>0</td>\n",
       "      <td>0</td>\n",
       "      <td>0</td>\n",
       "      <td>0</td>\n",
       "    </tr>\n",
       "    <tr>\n",
       "      <th>2</th>\n",
       "      <td>1</td>\n",
       "      <td>12</td>\n",
       "      <td>187</td>\n",
       "      <td>3.374334</td>\n",
       "      <td>176.022659</td>\n",
       "      <td>219</td>\n",
       "      <td>21315</td>\n",
       "      <td>3</td>\n",
       "      <td>4.5</td>\n",
       "      <td>1</td>\n",
       "      <td>...</td>\n",
       "      <td>0</td>\n",
       "      <td>0</td>\n",
       "      <td>0</td>\n",
       "      <td>0</td>\n",
       "      <td>1</td>\n",
       "      <td>0</td>\n",
       "      <td>0</td>\n",
       "      <td>0</td>\n",
       "      <td>0</td>\n",
       "      <td>0</td>\n",
       "    </tr>\n",
       "  </tbody>\n",
       "</table>\n",
       "<p>3 rows × 102 columns</p>\n",
       "</div>"
      ],
      "text/plain": [
       "   srch_id  site_id  visitor_location_country_id  visitor_hist_starrating  \\\n",
       "0        1       12                          187                 3.374334   \n",
       "1        1       12                          187                 3.374334   \n",
       "2        1       12                          187                 3.374334   \n",
       "\n",
       "   visitor_hist_adr_usd  prop_country_id  prop_id  prop_starrating  \\\n",
       "0            176.022659              219      893                3   \n",
       "1            176.022659              219    10404                4   \n",
       "2            176.022659              219    21315                3   \n",
       "\n",
       "   prop_review_score  prop_brand_bool  ...  weekday__6  month__1  month__2  \\\n",
       "0                3.5                1  ...           0         0         0   \n",
       "1                4.0                1  ...           0         0         0   \n",
       "2                4.5                1  ...           0         0         0   \n",
       "\n",
       "   month__3  month__4  month__5  month__6  month__11  month__12  target_score  \n",
       "0         0         1         0         0          0          0             0  \n",
       "1         0         1         0         0          0          0             0  \n",
       "2         0         1         0         0          0          0             0  \n",
       "\n",
       "[3 rows x 102 columns]"
      ]
     },
     "execution_count": 82,
     "metadata": {},
     "output_type": "execute_result"
    }
   ],
   "source": [
    "df_train.head(3)"
   ]
  },
  {
   "cell_type": "code",
   "execution_count": 83,
   "metadata": {},
   "outputs": [
    {
     "data": {
      "text/plain": [
       "102"
      ]
     },
     "execution_count": 83,
     "metadata": {},
     "output_type": "execute_result"
    }
   ],
   "source": [
    "len(df_train.columns)"
   ]
  },
  {
   "cell_type": "code",
   "execution_count": 84,
   "metadata": {},
   "outputs": [],
   "source": [
    "df_train.to_csv(\"cleaned_train.csv\", index=False)"
   ]
  },
  {
   "cell_type": "code",
   "execution_count": 85,
   "metadata": {},
   "outputs": [],
   "source": [
    "df_test.to_csv(\"cleaned_test.csv\", index=False)"
   ]
  },
  {
   "cell_type": "code",
   "execution_count": null,
   "metadata": {},
   "outputs": [],
   "source": []
  }
 ],
 "metadata": {
  "kernelspec": {
   "display_name": "Python 3",
   "language": "python",
   "name": "python3"
  },
  "language_info": {
   "codemirror_mode": {
    "name": "ipython",
    "version": 3
   },
   "file_extension": ".py",
   "mimetype": "text/x-python",
   "name": "python",
   "nbconvert_exporter": "python",
   "pygments_lexer": "ipython3",
   "version": "3.8.3"
  }
 },
 "nbformat": 4,
 "nbformat_minor": 4
}
