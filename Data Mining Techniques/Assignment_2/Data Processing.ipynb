{
 "cells": [
  {
   "cell_type": "code",
   "execution_count": 70,
   "metadata": {},
   "outputs": [],
   "source": [
    "import pandas as pd\n",
    "import time\n",
    "import datetime\n",
    "import lightgbm as lgb"
   ]
  },
  {
   "cell_type": "code",
   "execution_count": 160,
   "metadata": {},
   "outputs": [],
   "source": [
    "train = pd.read_csv(\"training_set_VU_DM.csv\")"
   ]
  },
  {
   "cell_type": "code",
   "execution_count": 161,
   "metadata": {},
   "outputs": [],
   "source": [
    "test = pd.read_csv(\"test_set_VU_DM.csv\")"
   ]
  },
  {
   "cell_type": "markdown",
   "metadata": {},
   "source": [
    "# Data Processing"
   ]
  },
  {
   "cell_type": "markdown",
   "metadata": {},
   "source": [
    "## Feature engineering part 1:\n",
    "- date_time\n",
    "    - convert to unix\n",
    "    - converst to timestamp format\n",
    "    - day of week\n",
    "    - weekend\n",
    "    - month\n",
    "- visitor_hist_starrating\n",
    "    - no_visitor_starrating (when null)\n",
    "- visitor_hist_adr_usd\n",
    "    - no_visitor_price (when null)\n",
    "- prop_starrating\n",
    "    - not_available_star (when null)\n",
    "    - no_star (when 0)\n",
    "- prop_review_score\n",
    "    - not_available_review (when null)\n",
    "    - no_review (when 0)\n",
    "- prop_log_historical_price\n",
    "    - not_available_price (when 0)\n",
    "    \n",
    "...\n",
    "\n",
    "<ins>Ideas (not implemented)</ins>\n",
    "- available_competitors (bool)\n",
    "- available_competitors_count\n"
   ]
  },
  {
   "cell_type": "code",
   "execution_count": 108,
   "metadata": {},
   "outputs": [],
   "source": [
    "cols = train.columns"
   ]
  },
  {
   "cell_type": "code",
   "execution_count": 109,
   "metadata": {},
   "outputs": [
    {
     "data": {
      "text/plain": [
       "Index(['srch_id', 'date_time', 'site_id', 'visitor_location_country_id',\n",
       "       'visitor_hist_starrating', 'visitor_hist_adr_usd', 'prop_country_id',\n",
       "       'prop_id', 'prop_starrating', 'prop_review_score', 'prop_brand_bool',\n",
       "       'prop_location_score1', 'prop_location_score2',\n",
       "       'prop_log_historical_price', 'position', 'price_usd', 'promotion_flag',\n",
       "       'srch_destination_id', 'srch_length_of_stay', 'srch_booking_window',\n",
       "       'srch_adults_count', 'srch_children_count', 'srch_room_count',\n",
       "       'srch_saturday_night_bool', 'srch_query_affinity_score',\n",
       "       'orig_destination_distance', 'random_bool', 'comp1_rate', 'comp1_inv',\n",
       "       'comp1_rate_percent_diff', 'comp2_rate', 'comp2_inv',\n",
       "       'comp2_rate_percent_diff', 'comp3_rate', 'comp3_inv',\n",
       "       'comp3_rate_percent_diff', 'comp4_rate', 'comp4_inv',\n",
       "       'comp4_rate_percent_diff', 'comp5_rate', 'comp5_inv',\n",
       "       'comp5_rate_percent_diff', 'comp6_rate', 'comp6_inv',\n",
       "       'comp6_rate_percent_diff', 'comp7_rate', 'comp7_inv',\n",
       "       'comp7_rate_percent_diff', 'comp8_rate', 'comp8_inv',\n",
       "       'comp8_rate_percent_diff', 'click_bool', 'gross_bookings_usd',\n",
       "       'booking_bool'],\n",
       "      dtype='object')"
      ]
     },
     "execution_count": 109,
     "metadata": {},
     "output_type": "execute_result"
    }
   ],
   "source": [
    "cols"
   ]
  },
  {
   "cell_type": "code",
   "execution_count": 162,
   "metadata": {},
   "outputs": [],
   "source": [
    "# convert datetime to correct object\n",
    "train[\"datetime\"] = pd.to_datetime(train[\"date_time\"])\n",
    "train = train.drop([\"date_time\"], axis=1)"
   ]
  },
  {
   "cell_type": "code",
   "execution_count": 163,
   "metadata": {},
   "outputs": [],
   "source": [
    "test[\"datetime\"] = pd.to_datetime(test[\"date_time\"])\n",
    "test = test.drop([\"date_time\"], axis=1)"
   ]
  },
  {
   "cell_type": "code",
   "execution_count": 164,
   "metadata": {},
   "outputs": [],
   "source": [
    "train[\"datetime_unix\"] = train[\"datetime\"].astype(int) / 10**9"
   ]
  },
  {
   "cell_type": "code",
   "execution_count": 165,
   "metadata": {},
   "outputs": [],
   "source": [
    "test[\"datetime_unix\"] = test[\"datetime\"].astype(int) / 10**9"
   ]
  },
  {
   "cell_type": "code",
   "execution_count": 166,
   "metadata": {},
   "outputs": [],
   "source": [
    "train[\"weekday\"] = train[\"datetime\"].apply(lambda x: x.dayofweek)"
   ]
  },
  {
   "cell_type": "code",
   "execution_count": 167,
   "metadata": {},
   "outputs": [],
   "source": [
    "test[\"weekday\"] = test[\"datetime\"].apply(lambda x: x.dayofweek)"
   ]
  },
  {
   "cell_type": "code",
   "execution_count": 168,
   "metadata": {},
   "outputs": [],
   "source": [
    "train[\"weekend\"] = (train[\"weekday\"]>4).astype(int) "
   ]
  },
  {
   "cell_type": "code",
   "execution_count": 169,
   "metadata": {},
   "outputs": [],
   "source": [
    "test[\"weekend\"] = (test[\"weekday\"]>4).astype(int) "
   ]
  },
  {
   "cell_type": "code",
   "execution_count": 170,
   "metadata": {},
   "outputs": [],
   "source": [
    "train[\"month\"] = train[\"datetime\"].apply(lambda x: x.month)"
   ]
  },
  {
   "cell_type": "code",
   "execution_count": 171,
   "metadata": {},
   "outputs": [],
   "source": [
    "test[\"month\"] = test[\"datetime\"].apply(lambda x: x.month)"
   ]
  },
  {
   "cell_type": "code",
   "execution_count": 172,
   "metadata": {
    "scrolled": true
   },
   "outputs": [],
   "source": [
    "train = train.drop([\"datetime\"], axis=1)"
   ]
  },
  {
   "cell_type": "code",
   "execution_count": 173,
   "metadata": {},
   "outputs": [],
   "source": [
    "test = test.drop([\"datetime\"], axis=1)"
   ]
  },
  {
   "cell_type": "code",
   "execution_count": 174,
   "metadata": {},
   "outputs": [],
   "source": [
    "multi_categorical_features = multi_categorical_features + [\"weekday\", \"month\"]"
   ]
  },
  {
   "cell_type": "code",
   "execution_count": 175,
   "metadata": {},
   "outputs": [],
   "source": [
    "train[\"no_visitor_starrating\"] = train[\"visitor_hist_starrating\"].isna().astype(int)\n",
    "train[\"no_visitor_price\"] = train[\"visitor_hist_adr_usd\"].isna().astype(int)\n",
    "train[\"prop_not_available_star\"] = train[\"prop_starrating\"].isna().astype(int)\n",
    "train[\"prop_no_star\"] = (train[\"prop_starrating\"]==0).astype(int)\n",
    "train[\"prop_not_available_review\"] = train[\"prop_review_score\"].isna().astype(int)\n",
    "train[\"prop_no_review\"] = (train[\"prop_review_score\"]==0).astype(int)\n",
    "train[\"prop_not_available_price\"] = (train[\"prop_log_historical_price\"]==0).astype(int)"
   ]
  },
  {
   "cell_type": "code",
   "execution_count": 176,
   "metadata": {},
   "outputs": [],
   "source": [
    "test[\"no_visitor_starrating\"] = test[\"visitor_hist_starrating\"].isna().astype(int)\n",
    "test[\"no_visitor_price\"] = test[\"visitor_hist_adr_usd\"].isna().astype(int)\n",
    "test[\"prop_not_available_star\"] = test[\"prop_starrating\"].isna().astype(int)\n",
    "test[\"prop_no_star\"] = (test[\"prop_starrating\"]==0).astype(int)\n",
    "test[\"prop_not_available_review\"] = test[\"prop_review_score\"].isna().astype(int)\n",
    "test[\"prop_no_review\"] = (test[\"prop_review_score\"]==0).astype(int)\n",
    "test[\"prop_not_available_price\"] = (test[\"prop_log_historical_price\"]==0).astype(int)"
   ]
  },
  {
   "cell_type": "markdown",
   "metadata": {},
   "source": [
    "## Droping columns: \n",
    "srch_query_affinity_score, gross_bookings_usd\n",
    "\n",
    "- at least temporary:\n",
    "comp1_rate_percent_diff, comp2_rate_percent_diff, comp3_rate_percent_diff, comp4_rate_percent_diff\n",
    "comp5_rate_percent_diff, comp6_rate_percent_diff, comp7_rate_percent_diff, comp8_rate_percent_diff\n"
   ]
  },
  {
   "cell_type": "code",
   "execution_count": 177,
   "metadata": {},
   "outputs": [],
   "source": [
    "train = train.drop([\"srch_query_affinity_score\", \"gross_bookings_usd\"], axis=1) \n",
    "test = test.drop([\"srch_query_affinity_score\"], axis=1) \n"
   ]
  },
  {
   "cell_type": "code",
   "execution_count": 178,
   "metadata": {},
   "outputs": [],
   "source": [
    "train = train.drop([\"comp1_rate_percent_diff\", \"comp2_rate_percent_diff\", \"comp3_rate_percent_diff\", \n",
    "                    \"comp4_rate_percent_diff\", \"comp5_rate_percent_diff\", \"comp6_rate_percent_diff\", \n",
    "                    \"comp7_rate_percent_diff\", \"comp8_rate_percent_diff\"], axis=1) \n",
    "test = test.drop([\"comp1_rate_percent_diff\", \"comp2_rate_percent_diff\", \"comp3_rate_percent_diff\", \n",
    "                    \"comp4_rate_percent_diff\", \"comp5_rate_percent_diff\", \"comp6_rate_percent_diff\", \n",
    "                    \"comp7_rate_percent_diff\", \"comp8_rate_percent_diff\"], axis=1) "
   ]
  },
  {
   "cell_type": "code",
   "execution_count": 183,
   "metadata": {},
   "outputs": [],
   "source": [
    "# create copies\n",
    "df_train = train\n",
    "df_test = test"
   ]
  },
  {
   "cell_type": "code",
   "execution_count": 181,
   "metadata": {
    "scrolled": true
   },
   "outputs": [
    {
     "data": {
      "text/plain": [
       "Index(['srch_id', 'date_time', 'site_id', 'visitor_location_country_id',\n",
       "       'visitor_hist_starrating', 'visitor_hist_adr_usd', 'prop_country_id',\n",
       "       'prop_id', 'prop_starrating', 'prop_review_score', 'prop_brand_bool',\n",
       "       'prop_location_score1', 'prop_location_score2',\n",
       "       'prop_log_historical_price', 'position', 'price_usd', 'promotion_flag',\n",
       "       'srch_destination_id', 'srch_length_of_stay', 'srch_booking_window',\n",
       "       'srch_adults_count', 'srch_children_count', 'srch_room_count',\n",
       "       'srch_saturday_night_bool', 'srch_query_affinity_score',\n",
       "       'orig_destination_distance', 'random_bool', 'comp1_rate', 'comp1_inv',\n",
       "       'comp1_rate_percent_diff', 'comp2_rate', 'comp2_inv',\n",
       "       'comp2_rate_percent_diff', 'comp3_rate', 'comp3_inv',\n",
       "       'comp3_rate_percent_diff', 'comp4_rate', 'comp4_inv',\n",
       "       'comp4_rate_percent_diff', 'comp5_rate', 'comp5_inv',\n",
       "       'comp5_rate_percent_diff', 'comp6_rate', 'comp6_inv',\n",
       "       'comp6_rate_percent_diff', 'comp7_rate', 'comp7_inv',\n",
       "       'comp7_rate_percent_diff', 'comp8_rate', 'comp8_inv',\n",
       "       'comp8_rate_percent_diff', 'click_bool', 'gross_bookings_usd',\n",
       "       'booking_bool'],\n",
       "      dtype='object')"
      ]
     },
     "execution_count": 181,
     "metadata": {},
     "output_type": "execute_result"
    }
   ],
   "source": [
    "cols"
   ]
  },
  {
   "cell_type": "code",
   "execution_count": 205,
   "metadata": {},
   "outputs": [],
   "source": [
    "df_train = df_train.drop([\"orig_destination_distance\"], axis=1) \n",
    "df_test = df_test.drop([\"orig_destination_distance\"], axis=1) "
   ]
  },
  {
   "cell_type": "markdown",
   "metadata": {},
   "source": [
    "## Filling in missing values\n",
    "- comp_rate -> +1 when null because then it is an advantage against the competitor\n",
    "- comp_inv -> +1 then null because then it is an advantage against the competitor\n",
    "- user starrating, visitor_hist_adr_usd -> mean\n",
    "- prop review, location score 2 -> mean\n",
    "\n",
    "<ins>Ideas (not implemented)</ins>\n",
    "- orig_destination_distance by looking at other users\n",
    "- prop review, star = knn/mean region, price\n",
    "- user rating, usd -> fill in random normal with mean column"
   ]
  },
  {
   "cell_type": "code",
   "execution_count": 212,
   "metadata": {},
   "outputs": [],
   "source": [
    "for i in range(1, 9):\n",
    "    rate = \"comp\"+str(i)+\"_rate\"\n",
    "    inv = \"comp\"+str(i)+\"_inv\"\n",
    "    df_train[rate] = df_train[rate].fillna(1)\n",
    "    df_train[inv] = df_train[inv].fillna(1)\n",
    "    df_test[rate] = df_test[rate].fillna(1)\n",
    "    df_test[inv] = df_test[inv].fillna(1)"
   ]
  },
  {
   "cell_type": "code",
   "execution_count": 227,
   "metadata": {},
   "outputs": [],
   "source": [
    "df_train[\"visitor_hist_starrating\"].fillna(df_train[\"visitor_hist_starrating\"].mean(), inplace=True)\n",
    "df_test[\"visitor_hist_starrating\"].fillna(df_test[\"visitor_hist_starrating\"].mean(), inplace=True)\n",
    "df_train[\"visitor_hist_adr_usd\"].fillna(df_train[\"visitor_hist_adr_usd\"].mean(), inplace=True)\n",
    "df_test[\"visitor_hist_adr_usd\"].fillna(df_test[\"visitor_hist_adr_usd\"].mean(), inplace=True)\n",
    "df_train[\"prop_review_score\"].fillna(df_train[\"prop_review_score\"].mean(), inplace=True)\n",
    "df_test[\"prop_review_score\"].fillna(df_test[\"prop_review_score\"].mean(), inplace=True)\n",
    "df_train[\"prop_location_score2\"].fillna(df_train[\"prop_location_score2\"].mean(), inplace=True)\n",
    "df_test[\"prop_location_score2\"].fillna(df_test[\"prop_location_score2\"].mean(), inplace=True)"
   ]
  },
  {
   "cell_type": "code",
   "execution_count": 228,
   "metadata": {},
   "outputs": [],
   "source": [
    "for i in df_train.columns:\n",
    "    if df_train[i].isna().sum()>0:\n",
    "        print(i)\n",
    "        print(df_train[i].isna().sum()/len(df_train)*100)"
   ]
  },
  {
   "cell_type": "markdown",
   "metadata": {},
   "source": [
    "## Feature engineering part 2\n",
    "\n",
    "- prop_location_score1 + prop_location_score2\n",
    "    - prop_location_score_total\n",
    "- price_usd - prop_log_historical_price\n",
    "    - prop_price_diff\n",
    "- srch_adults_count + srch_children_count\n",
    "    - srch_count\n",
    "- srch_count/srch_room_count\n",
    "    - persons_per_room\n",
    "- price_usd/srch_count\n",
    "    - price_per_person\n",
    "- srch_destination_id != visitor_location_country_id\n",
    "    - srch_abroad\n",
    "    \n",
    "\n",
    "- click_bool, booking_bool\n",
    "    - target_score (5 booked, 1 clicked)"
   ]
  },
  {
   "cell_type": "code",
   "execution_count": 231,
   "metadata": {},
   "outputs": [],
   "source": [
    "df_train[\"prop_location_score_total\"] = df_train[\"prop_location_score1\"] + df_train[\"prop_location_score2\"]\n",
    "df_test[\"prop_location_score_total\"] = df_test[\"prop_location_score1\"] + df_test[\"prop_location_score2\"]"
   ]
  },
  {
   "cell_type": "code",
   "execution_count": 233,
   "metadata": {},
   "outputs": [],
   "source": [
    "df_train[\"prop_price_diff\"] = df_train[\"price_usd\"] - df_train[\"prop_log_historical_price\"]\n",
    "df_test[\"prop_price_diff\"] = df_test[\"price_usd\"] - df_test[\"prop_log_historical_price\"]"
   ]
  },
  {
   "cell_type": "code",
   "execution_count": 235,
   "metadata": {},
   "outputs": [],
   "source": [
    "df_train[\"srch_count\"] = df_train[\"srch_adults_count\"] + df_train[\"srch_children_count\"]\n",
    "df_test[\"srch_count\"] = df_test[\"srch_adults_count\"] + df_test[\"srch_children_count\"]"
   ]
  },
  {
   "cell_type": "code",
   "execution_count": 238,
   "metadata": {},
   "outputs": [],
   "source": [
    "df_train[\"persons_per_room\"] = df_train[\"srch_count\"] / df_train[\"srch_room_count\"]\n",
    "df_test[\"persons_per_room\"] = df_test[\"srch_count\"] / df_test[\"srch_room_count\"]"
   ]
  },
  {
   "cell_type": "code",
   "execution_count": 240,
   "metadata": {},
   "outputs": [],
   "source": [
    "df_train[\"price_per_person\"] = df_train[\"price_usd\"] + df_train[\"srch_count\"]\n",
    "df_test[\"price_per_person\"] = df_test[\"price_usd\"] + df_test[\"srch_count\"]"
   ]
  },
  {
   "cell_type": "code",
   "execution_count": 246,
   "metadata": {},
   "outputs": [],
   "source": [
    "df_train[\"srch_abroad\"] = (df_train[\"srch_destination_id\"] == df_train[\"visitor_location_country_id\"]).astype(int)\n",
    "df_test[\"srch_abroad\"] = (df_test[\"srch_destination_id\"] == df_test[\"visitor_location_country_id\"]).astype(int)"
   ]
  },
  {
   "cell_type": "code",
   "execution_count": 265,
   "metadata": {},
   "outputs": [],
   "source": [
    "df_train[\"target_score\"] = df_train[\"click_bool\"] + 5* df_train[\"booking_bool\"]"
   ]
  },
  {
   "cell_type": "code",
   "execution_count": 269,
   "metadata": {},
   "outputs": [],
   "source": [
    "df_train = df_train.drop([\"click_bool\", \"booking_bool\"], axis=1)"
   ]
  },
  {
   "cell_type": "code",
   "execution_count": 270,
   "metadata": {},
   "outputs": [
    {
     "data": {
      "text/plain": [
       "58"
      ]
     },
     "execution_count": 270,
     "metadata": {},
     "output_type": "execute_result"
    }
   ],
   "source": [
    "len(df_train.columns)"
   ]
  },
  {
   "cell_type": "code",
   "execution_count": null,
   "metadata": {},
   "outputs": [],
   "source": [
    "df_train.to_csv(\"cleaned_train.csv\", index=False)"
   ]
  },
  {
   "cell_type": "code",
   "execution_count": null,
   "metadata": {},
   "outputs": [],
   "source": [
    "df_test.to_csv(\"cleaned_test.csv\", index=False)"
   ]
  }
 ],
 "metadata": {
  "kernelspec": {
   "display_name": "Python 3",
   "language": "python",
   "name": "python3"
  },
  "language_info": {
   "codemirror_mode": {
    "name": "ipython",
    "version": 3
   },
   "file_extension": ".py",
   "mimetype": "text/x-python",
   "name": "python",
   "nbconvert_exporter": "python",
   "pygments_lexer": "ipython3",
   "version": "3.8.3"
  }
 },
 "nbformat": 4,
 "nbformat_minor": 4
}
