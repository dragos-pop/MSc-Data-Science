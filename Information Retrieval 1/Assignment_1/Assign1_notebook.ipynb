{
 "cells": [
  {
   "cell_type": "markdown",
   "metadata": {
    "deletable": false,
    "editable": false,
    "nbgrader": {
     "cell_type": "markdown",
     "checksum": "1bba455de8bc2825ca70469169bbadaa",
     "grade": false,
     "grade_id": "cell-c9cd9e550239e812",
     "locked": true,
     "schema_version": 3,
     "solution": false,
     "task": false
    }
   },
   "source": [
    "# Homework 1 (Total Points: 250) <a class=\"anchor\" id=\"top\"></a>\n",
    "\n",
    "\n",
    "**Submission instructions**:\n",
    "- The cells with the `# YOUR CODE HERE` denote that these sections are graded and you need to add your implementation.\n",
    "- For Part 1: You can use the `nltk`, `NumPy`, and `matplotlib` libraries here. Other libraries, e.g., `gensim` or `scikit-learn`, may not be used. For Part 2: `gensim` is allowed in addition to the imported libraries in the next code cell\n",
    "- Please use Python 3.6.5 and `pip install -r requirements.txt` to avoid version issues.\n",
    "- The notebook you submit has to have the student ids, separated by underscores (E.g., `12341234_12341234_12341234_hw1.ipynb`).\n",
    "- This will be parsed by a regexp, **so please double check your filename**.\n",
    "- Only one member of each group has to submit the file (**please do not compress the .ipynb file when you will submit it**) to canvas.\n",
    "- **Make sure to check that your notebook runs before submission**. A quick way to do this is to restart the kernel and run all the cells.  \n",
    "- Do not change the number of arugments in the given functions.\n",
    "- **Please do not delete/add new cells**. Removing cells **will** lead to grade deduction. \n",
    "- Note, that you are not allowed to use Google Colab.\n",
    "\n",
    "\n",
    "**Learning Goals**:\n",
    "- [Part 1, Term-based matching](#part1) (165 points):\n",
    "    - Learn how to load a dataset and process it.\n",
    "    - Learn how to implement several standard IR methods (TF-IDF, BM25, QL) and understand their weaknesses & strengths.\n",
    "    - Learn how to evaluate IR methods.\n",
    "- [Part 2, Semantic-based matching](#part2) (85 points):\n",
    "    - Learn how to implement vector-space retrieval methods (LSI, LDA).\n",
    "    - Learn how to use LSI and LDA for re-ranking.\n",
    "\n",
    "    \n",
    "**Resources**: \n",
    "- **Part 1**: Sections 2.3, 4.1, 4.2, 4.3, 5.3, 5.6, 5.7, 6.2, 7, 8 of [Search Engines: Information Retrieval in Practice](https://ciir.cs.umass.edu/downloads/SEIRiP.pdf)\n",
    "- **Part 2**: [LSI - Chapter 18](https://nlp.stanford.edu/IR-book/pdf/18lsi.pdf) from [Introduction to Information Retrieval](https://nlp.stanford.edu/IR-book/) book and the [original LDA paper](https://jmlr.org/papers/volume3/blei03a/blei03a.pdf)"
   ]
  },
  {
   "cell_type": "code",
   "execution_count": 1,
   "metadata": {
    "deletable": false,
    "editable": false,
    "nbgrader": {
     "cell_type": "code",
     "checksum": "c55bfe94ff1f564dd595547e516c4c6e",
     "grade": false,
     "grade_id": "cell-f5357fabdb9660e3",
     "locked": true,
     "schema_version": 3,
     "solution": false,
     "task": false
    }
   },
   "outputs": [],
   "source": [
    "# imports \n",
    "# TODO: Ensure that no additional library is imported in the notebook. \n",
    "# TODO: Only the standard library and the following libraries are allowed:\n",
    "# TODO: You can also use unlisted classes from these libraries or standard libraries (such as defaultdict, Counter, ...).\n",
    "\n",
    "import os\n",
    "import zipfile\n",
    "from functools import partial\n",
    "\n",
    "import nltk\n",
    "import requests\n",
    "import numpy as np\n",
    "from tqdm import tqdm\n",
    "\n",
    "import matplotlib.pyplot as plt\n",
    "from matplotlib.pyplot import cm\n",
    "\n",
    "from ipywidgets import widgets\n",
    "from IPython.display import display, HTML\n",
    "#from IPython.html import widgets\n",
    "from collections import namedtuple\n",
    "\n",
    "%matplotlib inline"
   ]
  },
  {
   "cell_type": "markdown",
   "metadata": {
    "deletable": false,
    "editable": false,
    "nbgrader": {
     "cell_type": "markdown",
     "checksum": "c8328f758ca5b69f76eee03dbbdd4715",
     "grade": false,
     "grade_id": "cell-7428e12ed184408b",
     "locked": true,
     "schema_version": 3,
     "solution": false,
     "task": false
    }
   },
   "source": [
    "\n",
    "# Part 1: Term-based Matching (165 points) <a class=\"anchor\" id=\"part1\"></a>\n",
    "\n",
    "[Back to top](#top)\n",
    "\n",
    "In the first part, we will learn the basics of IR from loading and preprocessing the material, to implementing some well known search algorithms, to evaluating the ranking performance of the implemented algorithms. We will be using the CACM dataset throughout the assignment. The CACM dataset is a collection of titles and abstracts from the journal CACM (Communication of the ACM).\n",
    "\n",
    "Table of contents:\n",
    "- [Section 1: Text Processing](#text_processing) (5 points)\n",
    "- [Section 2: Indexing](#indexing) (10 points)\n",
    "- [Section 3: Ranking](#ranking) (80 points)\n",
    "- [Section 4: Evaluation](#evaluation) (40 points)\n",
    "- [Section 5: Analysis](#analysis) (30 points)\n"
   ]
  },
  {
   "cell_type": "markdown",
   "metadata": {
    "deletable": false,
    "editable": false,
    "nbgrader": {
     "cell_type": "markdown",
     "checksum": "4e3f938065183dc743aa8254b96b4f5e",
     "grade": false,
     "grade_id": "cell-4b24825cf4ae55ec",
     "locked": true,
     "schema_version": 3,
     "solution": false,
     "task": false
    }
   },
   "source": [
    "---\n",
    "## Section 1: Text Processing (5 points)<a class=\"anchor\" id=\"text_processing\"></a>\n",
    "\n",
    "[Back to Part 1](#part1)\n",
    "\n",
    "In this section, we will load the dataset and learn how to clean up the data to make it usable for an IR system. \n",
    "First, go through the implementation of the following functions:\n",
    "- `read_cacm_docs`: Reads in the CACM documents.\n",
    "- `read_queries`: Reads in the CACM queries.\n",
    "- `load_stopwords`: Loads the stopwords.\n",
    "\n",
    "The points of this section are earned for the following implementations:\n",
    "- `tokenize` (3 points): Tokenizes the input text.\n",
    "- `stem_token` (2 points): Stems the given token. \n",
    "\n",
    "We are using the [CACM dataset](http://ir.dcs.gla.ac.uk/resources/test_collections/cacm/), which is a small, classic IR dataset, composed of a collection of titles and abstracts from the journal CACM. It comes with relevance judgements for queries, so we can evaluate our IR system. \n"
   ]
  },
  {
   "cell_type": "markdown",
   "metadata": {
    "deletable": false,
    "editable": false,
    "nbgrader": {
     "cell_type": "markdown",
     "checksum": "0155d897c7016389d73d160921947a6f",
     "grade": false,
     "grade_id": "cell-45651364e7af6d5a",
     "locked": true,
     "schema_version": 3,
     "solution": false,
     "task": false
    }
   },
   "source": [
    "---\n",
    "### 1.1 Read the CACM documents\n",
    "\n",
    "\n",
    "The following cell downloads the dataset and unzips it to a local directory."
   ]
  },
  {
   "cell_type": "code",
   "execution_count": 2,
   "metadata": {
    "deletable": false,
    "editable": false,
    "nbgrader": {
     "cell_type": "code",
     "checksum": "4d43c9ad6e77cc01ce4cef0c34824930",
     "grade": false,
     "grade_id": "cell-bbc3030bb3fe7e02",
     "locked": true,
     "schema_version": 3,
     "solution": false,
     "task": false
    }
   },
   "outputs": [],
   "source": [
    "def download_dataset():\n",
    "    folder_path = os.environ.get(\"IR1_DATA_PATH\")\n",
    "    if not folder_path:\n",
    "        folder_path = \"./datasets/\"\n",
    "    os.makedirs(folder_path, exist_ok=True)\n",
    "    \n",
    "    file_location = os.path.join(folder_path, \"cacm.zip\")\n",
    "    \n",
    "    # download file if it doesn't exist\n",
    "    if not os.path.exists(file_location):\n",
    "        \n",
    "        url = \"https://surfdrive.surf.nl/files/index.php/s/M0FGJpX2p8wDwxR/download\"\n",
    "\n",
    "        with open(file_location, \"wb\") as handle:\n",
    "            print(f\"Downloading file from {url} to {file_location}\")\n",
    "            response = requests.get(url, stream=True)\n",
    "            for data in tqdm(response.iter_content()):\n",
    "                handle.write(data)\n",
    "            print(\"Finished downloading file\")\n",
    "    \n",
    "    if not os.path.exists(os.path.join(folder_path, \"train.txt\")):\n",
    "        \n",
    "        # unzip file\n",
    "        with zipfile.ZipFile(file_location, 'r') as zip_ref:\n",
    "            zip_ref.extractall(folder_path)\n",
    "        \n",
    "download_dataset()"
   ]
  },
  {
   "cell_type": "markdown",
   "metadata": {
    "deletable": false,
    "editable": false,
    "nbgrader": {
     "cell_type": "markdown",
     "checksum": "31609b0d61d0c74cbd69bc43e47c23be",
     "grade": false,
     "grade_id": "cell-a7dd9a9bf98ede05",
     "locked": true,
     "schema_version": 3,
     "solution": false,
     "task": false
    }
   },
   "source": [
    "---\n",
    "\n",
    "You can see a brief description of each file in the dataset by looking at the README file:"
   ]
  },
  {
   "cell_type": "code",
   "execution_count": 3,
   "metadata": {
    "deletable": false,
    "editable": false,
    "nbgrader": {
     "cell_type": "code",
     "checksum": "cb3c9a2b8b2bf4fd5b7446b0c4c00f43",
     "grade": false,
     "grade_id": "cell-9b6ff1a17124711f",
     "locked": true,
     "schema_version": 3,
     "solution": false,
     "task": false
    }
   },
   "outputs": [
    {
     "name": "stdout",
     "output_type": "stream",
     "text": [
      "Files in this directory with sizes:\n",
      "          0 Jun 19 21:01 README\n",
      "\n",
      "    2187734 Jun 19 20:55 cacm.all              text of documents\n",
      "        626 Jun 19 20:58 cite.info             key to citation info\n",
      "                                                (the X sections in cacm.all)\n",
      "       2668 Jun 19 20:55 common_words           stop words used by smart\n",
      "       2194 Jun 19 20:55 make_coll*             shell script to make collection\n",
      "       1557 Jun 19 20:55 make_coll_term*        ditto (both useless without\n",
      "                                                smart system)\n",
      "       9948 Jun 19 20:55 qrels.text             relation giving\n",
      "                                                    qid did 0 0\n",
      "                                                to indicate dument did is\n",
      "                                                relevant to query qid\n",
      "      13689 Jun 19 20:55 query.text             Original text of the query\n",
      "\n"
     ]
    }
   ],
   "source": [
    "##### Read the README file \n",
    "with open (\"./datasets/README\",\"r\") as file:\n",
    "    readme = file.read()\n",
    "    print(readme)\n",
    "#####"
   ]
  },
  {
   "cell_type": "markdown",
   "metadata": {
    "deletable": false,
    "editable": false,
    "nbgrader": {
     "cell_type": "markdown",
     "checksum": "6e2712c4c4632bf7486a532f7f18074d",
     "grade": false,
     "grade_id": "cell-73351431869fda76",
     "locked": true,
     "schema_version": 3,
     "solution": false,
     "task": false
    }
   },
   "source": [
    "---\n",
    "We are interested in 4 files:\n",
    "- `cacm.all` : Contains the text for all documents. Note that some documents do not have abstracts available\n",
    "- `query.text` : The text of all queries\n",
    "- `qrels.text` : The relevance judgements\n",
    "- `common_words` : A list of common words. This may be used as a collection of stopwords"
   ]
  },
  {
   "cell_type": "code",
   "execution_count": 4,
   "metadata": {
    "deletable": false,
    "editable": false,
    "nbgrader": {
     "cell_type": "code",
     "checksum": "f1162c15177eb4ffe466531d03cff4a2",
     "grade": false,
     "grade_id": "cell-b44dd14079f278ca",
     "locked": true,
     "schema_version": 3,
     "solution": false,
     "task": false
    }
   },
   "outputs": [
    {
     "name": "stdout",
     "output_type": "stream",
     "text": [
      ".I 1\n",
      ".T\n",
      "Preliminary Report-International Algebraic Language\n",
      ".B\n",
      "CACM December, 1958\n",
      ".A\n",
      "Perlis, A. J.\n",
      "Samelson,K.\n",
      ".N\n",
      "CA581203 JB March 22, 1978  8:28 PM\n",
      ".X\n",
      "100\t5\t1\n",
      "123\t5\t1\n",
      "164\t5\t1\n",
      "1\t5\t1\n",
      "1\t5\t1\n",
      "1\t5\t1\n",
      "205\t5\t1\n",
      "210\t5\t1\n",
      "214\t5\t1\n",
      "1982\t5\t1\n",
      "398\t5\t1\n",
      "642\t5\t1\n",
      "669\t5\t1\n",
      "1\t6\t1\n",
      "1\t6\t1\n",
      "1\t6\t1\n",
      "1\t6\t1\n",
      "1\t6\t1\n",
      "1\t6\t1\n",
      "1\t6\t1\n",
      "1\t6\t1\n",
      "1\t6\t1\n",
      "1\t6\t1\n",
      "165\t6\t1\n",
      "196\t6\t1\n",
      "196\t6\t1\n",
      "1273\t6\t1\n",
      "1883\t6\t1\n",
      "324\t6\t1\n",
      "43\t6\t1\n",
      "53\t6\t1\n",
      "91\t6\t1\n",
      "410\t6\t1\n",
      "3184\t6\t1\n",
      "\n"
     ]
    }
   ],
   "source": [
    "##### The first 45 lines of the CACM dataset forms the first record\n",
    "# We are interested only in 3 fields. \n",
    "# 1. the '.I' field, which is the document id\n",
    "# 2. the '.T' field (the title) and\n",
    "# 3. the '.W' field (the abstract, which may be absent)\n",
    "with open (\"./datasets/cacm.all\",\"r\") as file:\n",
    "    cacm_all = \"\".join(file.readlines()[:45])\n",
    "    print(cacm_all)\n",
    "#####"
   ]
  },
  {
   "cell_type": "markdown",
   "metadata": {
    "deletable": false,
    "editable": false,
    "nbgrader": {
     "cell_type": "markdown",
     "checksum": "250b413baccd8efb186bb46a34ae0060",
     "grade": false,
     "grade_id": "cell-c4bf2e263ec553d8",
     "locked": true,
     "schema_version": 3,
     "solution": false,
     "task": false
    }
   },
   "source": [
    "---\n",
    "\n",
    "The following function reads the `cacm.all` file. Note that each document has a variable number of lines. The `.I` field denotes a new document:"
   ]
  },
  {
   "cell_type": "code",
   "execution_count": 5,
   "metadata": {
    "deletable": false,
    "editable": false,
    "nbgrader": {
     "cell_type": "code",
     "checksum": "57d757e6a7a6938740dc899022b4f291",
     "grade": false,
     "grade_id": "cell-b736116eb419c624",
     "locked": true,
     "schema_version": 3,
     "solution": false,
     "task": false
    }
   },
   "outputs": [],
   "source": [
    "def read_cacm_docs(root_folder = \"./datasets/\"):\n",
    "    \"\"\"\n",
    "        Reads in the CACM documents. The dataset is assumed to be in the folder \"./datasets/\" by default\n",
    "        Returns: A list of 2-tuples: (doc_id, document), where 'document' is a single string created by \n",
    "            appending the title and abstract (separated by a \"\\n\"). \n",
    "            In case the record doesn't have an abstract, the document is composed only by the title\n",
    "    \"\"\"\n",
    "    with open(os.path.join(root_folder, \"cacm.all\")) as reader:\n",
    "        lines = reader.readlines()\n",
    "    \n",
    "    doc_id, title, abstract = None, None, None\n",
    "    \n",
    "    docs = []\n",
    "    line_idx = 0\n",
    "    while line_idx < len(lines):\n",
    "        line = lines[line_idx]\n",
    "        if line.startswith(\".I\"):\n",
    "            if doc_id is not None:\n",
    "                docs.append((doc_id, title, abstract))\n",
    "                doc_id, title, abstract = None, None, None\n",
    "            \n",
    "            doc_id = line.split()[-1]\n",
    "            line_idx += 1\n",
    "        elif line.startswith(\".T\"):\n",
    "            # start at next line\n",
    "            line_idx += 1\n",
    "            temp_lines = []\n",
    "            # read till next '.'\n",
    "            while not lines[line_idx].startswith(\".\"):\n",
    "                temp_lines.append(lines[line_idx].strip(\"\\n\"))\n",
    "                line_idx += 1\n",
    "            title = \"\\n\".join(temp_lines).strip(\"\\n\")\n",
    "        elif line.startswith(\".W\"):\n",
    "            # start at next line\n",
    "            line_idx += 1\n",
    "            temp_lines = []\n",
    "            # read till next '.'\n",
    "            while not lines[line_idx].startswith(\".\"):\n",
    "                temp_lines.append(lines[line_idx].strip(\"\\n\"))\n",
    "                line_idx += 1\n",
    "            abstract = \"\\n\".join(temp_lines).strip(\"\\n\")\n",
    "        else:\n",
    "            line_idx += 1\n",
    "    \n",
    "    docs.append((doc_id, title, abstract))\n",
    "    \n",
    "    p_docs = []\n",
    "    for (did, t, a) in docs:\n",
    "        if a is None:\n",
    "            a = \"\"\n",
    "        p_docs.append((did, t + \"\\n\" + a))\n",
    "    return p_docs\n"
   ]
  },
  {
   "cell_type": "code",
   "execution_count": 6,
   "metadata": {
    "deletable": false,
    "editable": false,
    "nbgrader": {
     "cell_type": "code",
     "checksum": "2f81930fcd89670b6e20e2255e1f2369",
     "grade": false,
     "grade_id": "cell-a1c43818e0d3fd79",
     "locked": true,
     "schema_version": 3,
     "solution": false,
     "task": false
    }
   },
   "outputs": [],
   "source": [
    "##### Function check\n",
    "docs = read_cacm_docs()\n",
    "\n",
    "assert isinstance(docs, list)\n",
    "assert len(docs) == 3204, \"There should be exactly 3204 documents\"\n",
    "\n",
    "unzipped_docs = list(zip(*docs))\n",
    "assert np.sum(np.array(list(map(int,unzipped_docs[0])))) == 5134410\n",
    "\n",
    "##### "
   ]
  },
  {
   "cell_type": "markdown",
   "metadata": {
    "deletable": false,
    "editable": false,
    "nbgrader": {
     "cell_type": "markdown",
     "checksum": "25fd3cfaf2137c56002b850699b3c9d3",
     "grade": false,
     "grade_id": "cell-5ed2ddc91f73c60e",
     "locked": true,
     "schema_version": 3,
     "solution": false,
     "task": false
    }
   },
   "source": [
    "---\n",
    "### 1.2 Read the CACM queries\n",
    "\n",
    "Next, let us read the queries. They are formatted similarly:"
   ]
  },
  {
   "cell_type": "code",
   "execution_count": 7,
   "metadata": {
    "deletable": false,
    "editable": false,
    "nbgrader": {
     "cell_type": "code",
     "checksum": "5d26c0908e758acb9968b84056b1060a",
     "grade": false,
     "grade_id": "cell-5c7e8e7c4fc2757f",
     "locked": true,
     "schema_version": 3,
     "solution": false,
     "task": false
    }
   },
   "outputs": [
    {
     "name": "stdout",
     "output_type": "stream",
     "text": [
      ".I 1\r\n",
      ".W\r\n",
      " What articles exist which deal with TSS (Time Sharing System), an\r\n",
      "operating system for IBM computers?\r\n",
      ".N\r\n",
      " 1. Richard Alexander, Comp Serv, Langmuir Lab (TSS)\r\n",
      " \r\n",
      ".I 2\r\n",
      ".W\r\n",
      " I am interested in articles written either by Prieve or Udo Pooch\r\n",
      ".A\r\n",
      "Prieve, B.\r\n",
      "Pooch, U.\r\n",
      ".N\r\n",
      " 2. Richard Alexander, Comp Serv, Langmuir Lab (author = Pooch or Prieve)\r\n"
     ]
    }
   ],
   "source": [
    "##### The first 15 lines of 'query.text' has 2 queries\n",
    "# We are interested only in 2 fields. \n",
    "# 1. the '.I' - the query id\n",
    "# 2. the '.W' - the query\n",
    "!head -15 ./datasets/query.text\n",
    "#####"
   ]
  },
  {
   "cell_type": "markdown",
   "metadata": {
    "deletable": false,
    "editable": false,
    "nbgrader": {
     "cell_type": "markdown",
     "checksum": "8f19f311a660f30e3f86cb0f7037d54a",
     "grade": false,
     "grade_id": "cell-88e293507d2dcef6",
     "locked": true,
     "schema_version": 3,
     "solution": false,
     "task": false
    }
   },
   "source": [
    "---\n",
    "\n",
    "The following function reads the `query.text` file:"
   ]
  },
  {
   "cell_type": "code",
   "execution_count": 8,
   "metadata": {
    "deletable": false,
    "editable": false,
    "nbgrader": {
     "cell_type": "code",
     "checksum": "e3fbb193211007672849487f5cff1664",
     "grade": false,
     "grade_id": "cell-433e3ad5d0e2572a",
     "locked": true,
     "schema_version": 3,
     "solution": false,
     "task": false
    }
   },
   "outputs": [],
   "source": [
    "def read_queries(root_folder = \"./datasets/\"):\n",
    "    \"\"\"\n",
    "        Reads in the CACM queries. The dataset is assumed to be in the folder \"./datasets/\" by default\n",
    "        Returns: A list of 2-tuples: (query_id, query)\n",
    "    \"\"\"\n",
    "    with open(os.path.join(root_folder, \"query.text\")) as reader:\n",
    "        lines = reader.readlines()\n",
    "    \n",
    "    query_id, query = None, None\n",
    "    \n",
    "    queries = []\n",
    "    line_idx = 0\n",
    "    while line_idx < len(lines):\n",
    "        line = lines[line_idx]\n",
    "        if line.startswith(\".I\"):\n",
    "            if query_id is not None:\n",
    "                queries.append((query_id, query))\n",
    "                query_id, query = None, None\n",
    "    \n",
    "            query_id = line.split()[-1]\n",
    "            line_idx += 1\n",
    "        elif line.startswith(\".W\"):\n",
    "            # start at next line\n",
    "            line_idx += 1\n",
    "            temp_lines = []\n",
    "            # read till next '.'\n",
    "            while not lines[line_idx].startswith(\".\"):\n",
    "                temp_lines.append(lines[line_idx].strip(\"\\n\"))\n",
    "                line_idx += 1\n",
    "            query = \"\\n\".join(temp_lines).strip(\"\\n\")\n",
    "        else:\n",
    "            line_idx += 1\n",
    "    \n",
    "    queries.append((query_id, query))\n",
    "    return queries\n"
   ]
  },
  {
   "cell_type": "code",
   "execution_count": 9,
   "metadata": {
    "deletable": false,
    "editable": false,
    "nbgrader": {
     "cell_type": "code",
     "checksum": "a897b9771b54f447be3418d7246fc4a0",
     "grade": false,
     "grade_id": "cell-6ec540abce66c598",
     "locked": true,
     "schema_version": 3,
     "solution": false,
     "task": false
    }
   },
   "outputs": [],
   "source": [
    "##### Function check\n",
    "queries = read_queries()\n",
    "\n",
    "assert isinstance(queries, list)\n",
    "assert len(queries) == 64 and all([q[1] is not None for q in queries]), \"There should be exactly 64 queries\"\n",
    "\n",
    "unzipped_queries = list(zip(*queries))\n",
    "assert np.sum(np.array(list(map(int,unzipped_queries[0])))) == 2080\n",
    "\n",
    "##### "
   ]
  },
  {
   "cell_type": "markdown",
   "metadata": {
    "deletable": false,
    "editable": false,
    "nbgrader": {
     "cell_type": "markdown",
     "checksum": "a300c41912ac63b239070b4c15c9f5c5",
     "grade": false,
     "grade_id": "cell-1c31569491d7b782",
     "locked": true,
     "schema_version": 3,
     "solution": false,
     "task": false
    }
   },
   "source": [
    "---\n",
    "### 1.3 Read the stop words\n",
    "\n",
    "We use the common words stored in `common_words`:"
   ]
  },
  {
   "cell_type": "code",
   "execution_count": 10,
   "metadata": {
    "deletable": false,
    "editable": false,
    "nbgrader": {
     "cell_type": "code",
     "checksum": "1ad6f5bae6a792504c1c8513ae5751ad",
     "grade": false,
     "grade_id": "cell-34bdb63461418a96",
     "locked": true,
     "schema_version": 3,
     "solution": false,
     "task": false
    }
   },
   "outputs": [
    {
     "name": "stdout",
     "output_type": "stream",
     "text": [
      "a\r\n",
      "about\r\n",
      "above\r\n",
      "accordingly\r\n",
      "across\r\n",
      "after\r\n",
      "afterwards\r\n",
      "again\r\n",
      "against\r\n",
      "all\r\n"
     ]
    }
   ],
   "source": [
    "##### Read the stop words file \n",
    "!head ./datasets/common_words\n",
    "##### Read the README file "
   ]
  },
  {
   "cell_type": "markdown",
   "metadata": {
    "deletable": false,
    "editable": false,
    "nbgrader": {
     "cell_type": "markdown",
     "checksum": "6d0fe612e770213b6397c2179b07a966",
     "grade": false,
     "grade_id": "cell-4744bde0338895d8",
     "locked": true,
     "schema_version": 3,
     "solution": false,
     "task": false
    }
   },
   "source": [
    "---\n",
    "\n",
    "The following function reads the `common_words` file (For better coverage, we try to keep them in lowercase):"
   ]
  },
  {
   "cell_type": "code",
   "execution_count": 11,
   "metadata": {
    "deletable": false,
    "editable": false,
    "nbgrader": {
     "cell_type": "code",
     "checksum": "9409713fd26eb0c33587e190638997c4",
     "grade": false,
     "grade_id": "cell-7357aa40f64e5bcb",
     "locked": true,
     "schema_version": 3,
     "solution": false,
     "task": false
    }
   },
   "outputs": [],
   "source": [
    "def load_stopwords(root_folder = \"./datasets/\"):\n",
    "    \"\"\"\n",
    "        Loads the stopwords. The dataset is assumed to be in the folder \"./datasets/\" by default\n",
    "        Output: A set of stopwords\n",
    "    \"\"\"\n",
    "    with open(os.path.join(root_folder, \"common_words\")) as reader:\n",
    "        lines = reader.readlines()\n",
    "    stopwords = set([l.strip().lower() for l in lines])\n",
    "    return stopwords\n"
   ]
  },
  {
   "cell_type": "code",
   "execution_count": 12,
   "metadata": {
    "deletable": false,
    "editable": false,
    "nbgrader": {
     "cell_type": "code",
     "checksum": "f1c8153c3c38133bc2db6e7b076ad470",
     "grade": false,
     "grade_id": "cell-2ca3ac162004de97",
     "locked": true,
     "schema_version": 3,
     "solution": false,
     "task": false
    }
   },
   "outputs": [],
   "source": [
    "##### Function check\n",
    "stopwords = load_stopwords()\n",
    "\n",
    "assert isinstance(stopwords, set)\n",
    "assert len(stopwords) == 428, \"There should be exactly 428 stop words\"\n",
    "\n",
    "assert np.sum(np.array(list(map(len,stopwords)))) == 2234\n",
    "\n",
    "##### \n"
   ]
  },
  {
   "cell_type": "markdown",
   "metadata": {
    "deletable": false,
    "editable": false,
    "nbgrader": {
     "cell_type": "markdown",
     "checksum": "92c1191e9e7291dcf0d70dc67b907a65",
     "grade": false,
     "grade_id": "cell-134b72872f4300cb",
     "locked": true,
     "schema_version": 3,
     "solution": false,
     "task": false
    }
   },
   "source": [
    "---\n",
    "### 1.4 Tokenization (3 points)\n",
    "\n",
    "We can now write some basic text processing functions. \n",
    "A first step is to tokenize the text. \n",
    "\n",
    "**Note**: Use the  `WordPunctTokenizer` available in the `nltk` library:"
   ]
  },
  {
   "cell_type": "code",
   "execution_count": 13,
   "metadata": {
    "deletable": false,
    "nbgrader": {
     "cell_type": "code",
     "checksum": "3f5564d3c75bf22fbf832b3a9b938f37",
     "grade": false,
     "grade_id": "cell-322be4c9499bdc4b",
     "locked": false,
     "schema_version": 3,
     "solution": true,
     "task": false
    }
   },
   "outputs": [],
   "source": [
    "# TODO: Implement this! (4 points)\n",
    "from nltk.tokenize import WordPunctTokenizer\n",
    "\n",
    "def tokenize(text):\n",
    "    \"\"\"\n",
    "        Tokenizes the input text. Use the WordPunctTokenizer\n",
    "        Input: text - a string\n",
    "        Output: a list of tokens\n",
    "    \"\"\"\n",
    "    # YOUR CODE HERE\n",
    "    tk = WordPunctTokenizer()\n",
    "    return tk.tokenize(text)"
   ]
  },
  {
   "cell_type": "code",
   "execution_count": 14,
   "metadata": {
    "deletable": false,
    "editable": false,
    "nbgrader": {
     "cell_type": "code",
     "checksum": "e15af22c4d8ae0a3f9dac43bef7097ec",
     "grade": true,
     "grade_id": "cell-7fbf48bf7541a622",
     "locked": true,
     "points": 3,
     "schema_version": 3,
     "solution": false,
     "task": false
    }
   },
   "outputs": [
    {
     "name": "stdout",
     "output_type": "stream",
     "text": [
      "['the', 'quick', 'brown', 'fox', 'jumps', 'over', 'the', 'lazy', 'dog']\n"
     ]
    }
   ],
   "source": [
    "##### Function check\n",
    "text = \"the quick brown fox jumps over the lazy dog\"\n",
    "tokens = tokenize(text)\n",
    "\n",
    "assert isinstance(tokens, list)\n",
    "assert len(tokens) == 9\n",
    "\n",
    "print(tokens)\n",
    "# output: ['the', 'quick', 'brown', 'fox', 'jumps', 'over', 'the', 'lazy', 'dog']\n",
    "#####"
   ]
  },
  {
   "cell_type": "markdown",
   "metadata": {
    "deletable": false,
    "editable": false,
    "nbgrader": {
     "cell_type": "markdown",
     "checksum": "34210618bff4cb47aad2f03cb4b9854c",
     "grade": false,
     "grade_id": "cell-fd1b98ae61b697ca",
     "locked": true,
     "schema_version": 3,
     "solution": false,
     "task": false
    }
   },
   "source": [
    "---\n",
    "### 1.5 Stemming (2 points)\n",
    "\n",
    "Write a function to stem tokens. \n",
    "Again, you can use the nltk library for this:"
   ]
  },
  {
   "cell_type": "code",
   "execution_count": 15,
   "metadata": {
    "deletable": false,
    "nbgrader": {
     "cell_type": "code",
     "checksum": "1c4a6aa979d66158c7b6b992af43293a",
     "grade": false,
     "grade_id": "cell-e3f6c8e3f874b28d",
     "locked": false,
     "schema_version": 3,
     "solution": true,
     "task": false
    }
   },
   "outputs": [],
   "source": [
    "# TODO: Implement this! (3 points)\n",
    "from nltk.stem.porter import PorterStemmer\n",
    "\n",
    "def stem_token(token):\n",
    "    \"\"\"\n",
    "        Stems the given token using the PorterStemmer from the nltk library\n",
    "        Input: a single token\n",
    "        Output: the stem of the token\n",
    "    \"\"\"\n",
    "    # YOUR CODE HERE\n",
    "    st = PorterStemmer()\n",
    "    return st.stem(token)"
   ]
  },
  {
   "cell_type": "code",
   "execution_count": 16,
   "metadata": {
    "deletable": false,
    "editable": false,
    "nbgrader": {
     "cell_type": "code",
     "checksum": "9363b4f09b556d424d9c895d4ab57b1c",
     "grade": true,
     "grade_id": "cell-cd6863e6ee6ed205",
     "locked": true,
     "points": 2,
     "schema_version": 3,
     "solution": false,
     "task": false
    }
   },
   "outputs": [],
   "source": [
    "##### Function check\n",
    "\n",
    "assert stem_token('owned') == 'own'\n",
    "assert stem_token('itemization') == 'item'\n",
    "#####"
   ]
  },
  {
   "cell_type": "markdown",
   "metadata": {
    "deletable": false,
    "editable": false,
    "nbgrader": {
     "cell_type": "markdown",
     "checksum": "0b311d014146da6afa1d39542fab9869",
     "grade": false,
     "grade_id": "cell-47c9f90498699110",
     "locked": true,
     "schema_version": 3,
     "solution": false,
     "task": false
    }
   },
   "source": [
    "---\n",
    "### 1.6 Summary\n",
    "\n",
    "The following function puts it all together. Given an input string, this functions tokenizes and processes it according to the flags that you set."
   ]
  },
  {
   "cell_type": "code",
   "execution_count": 17,
   "metadata": {
    "deletable": false,
    "editable": false,
    "nbgrader": {
     "cell_type": "code",
     "checksum": "2ff2d215ee8e0039c5a91fd3de12e6bd",
     "grade": false,
     "grade_id": "cell-dd0d3f46b30801da",
     "locked": true,
     "schema_version": 3,
     "solution": false,
     "task": false
    }
   },
   "outputs": [],
   "source": [
    "#### Putting it all together\n",
    "def process_text(text, stem=False, remove_stopwords=False, lowercase_text=False):\n",
    "    \n",
    "    tokens = []\n",
    "    for token in tokenize(text):\n",
    "        if remove_stopwords and token.lower() in stopwords:\n",
    "            continue\n",
    "        if stem:\n",
    "            token = stem_token(token)\n",
    "        if lowercase_text:\n",
    "            token = token.lower()\n",
    "        tokens.append(token)\n",
    "\n",
    "    return tokens\n",
    "#### "
   ]
  },
  {
   "cell_type": "markdown",
   "metadata": {
    "deletable": false,
    "editable": false,
    "nbgrader": {
     "cell_type": "markdown",
     "checksum": "02d433b18eb43654fa4306a7bf55b190",
     "grade": false,
     "grade_id": "cell-8d885bfd2edd43ae",
     "locked": true,
     "schema_version": 3,
     "solution": false,
     "task": false
    }
   },
   "source": [
    "---\n",
    "\n",
    "Let's create two sets of preprocessed documents.\n",
    "We can process the documents and queries according to these two configurations:"
   ]
  },
  {
   "cell_type": "code",
   "execution_count": 18,
   "metadata": {
    "deletable": false,
    "editable": false,
    "nbgrader": {
     "cell_type": "code",
     "checksum": "dbe4ca667be6842fdcf512fbcad50c7f",
     "grade": false,
     "grade_id": "cell-d427365ee0fb21d8",
     "locked": true,
     "schema_version": 3,
     "solution": false,
     "task": false
    }
   },
   "outputs": [],
   "source": [
    "# In this configuration:\n",
    "# Don't preprocess the text, except to tokenize \n",
    "config_1 = {\n",
    "  \"stem\": False,\n",
    "  \"remove_stopwords\" : False,\n",
    "  \"lowercase_text\": True\n",
    "} \n",
    "\n",
    "\n",
    "# In this configuration:\n",
    "# Preprocess the text, stem and remove stopwords\n",
    "config_2 = {\n",
    "  \"stem\": True,\n",
    "  \"remove_stopwords\" : True,\n",
    "  \"lowercase_text\": True, \n",
    "} \n",
    "\n",
    "####\n",
    "doc_repr_1 = []\n",
    "doc_repr_2 = []\n",
    "for (doc_id, document) in docs:\n",
    "    doc_repr_1.append((doc_id, process_text(document, **config_1)))\n",
    "    doc_repr_2.append((doc_id, process_text(document, **config_2)))\n",
    "\n",
    "####"
   ]
  },
  {
   "cell_type": "markdown",
   "metadata": {
    "deletable": false,
    "editable": false,
    "nbgrader": {
     "cell_type": "markdown",
     "checksum": "b60589aac19e80941d860d9b3f1e9a16",
     "grade": false,
     "grade_id": "cell-b1c102db61ae7495",
     "locked": true,
     "schema_version": 3,
     "solution": false,
     "task": false
    }
   },
   "source": [
    "--- \n",
    "\n",
    "## Section 2: Indexing (10 points)<a class=\"anchor\" id=\"indexing\"></a>\n",
    "\n",
    "[Back to Part 1](#part1)\n",
    "\n",
    "\n",
    "\n",
    "A retrieval function usually takes in a query document pair, and scores a query against a document.  Our document set is quite small - just a few thousand documents. However, consider a web-scale dataset with a few million documents. In such a scenario, it would become infeasible to score every query and document pair. In such a case, we can build an inverted index. From Wikipedia:\n",
    "\n",
    "> ... , an inverted index (also referred to as a postings file or inverted file) is a database index storing a mapping from content, such as words or numbers, to its locations in a table, .... The purpose of an inverted index is to allow fast full-text searches, at a cost of increased processing when a document is added to the database. ...\n",
    "\n",
    "\n",
    "Consider a simple inverted index, which maps from word to document. This can improve the performance of a retrieval system significantly. In this assignment, we consider a *simple* inverted index, which maps a word to a set of documents. In practice, however, more complex indices might be used.  \n"
   ]
  },
  {
   "cell_type": "markdown",
   "metadata": {
    "deletable": false,
    "editable": false,
    "nbgrader": {
     "cell_type": "markdown",
     "checksum": "710fd943f45523ac36fcb887cc0d4d39",
     "grade": false,
     "grade_id": "cell-fa373192c1b7bb95",
     "locked": true,
     "schema_version": 3,
     "solution": false,
     "task": false
    }
   },
   "source": [
    "### 2.1 Term Frequency-index (10 points)\n",
    "In this assignment, we will be using an index created in memory since our dataset is tiny. To get started, build a simple index that maps each `token` to a list of `(doc_id, count)` where `count` is the count of the `token` in `doc_id`.\n",
    "For consistency, build this index using a python dictionary.\n",
    "    \n",
    "Now, implement a function to build an index:"
   ]
  },
  {
   "cell_type": "code",
   "execution_count": 19,
   "metadata": {
    "deletable": false,
    "nbgrader": {
     "cell_type": "code",
     "checksum": "d4e8c6b658c469379d5fe511de05b536",
     "grade": false,
     "grade_id": "cell-077599b87e953209",
     "locked": false,
     "schema_version": 3,
     "solution": true,
     "task": false
    }
   },
   "outputs": [],
   "source": [
    "# TODO: Implement this! (10 points)\n",
    "from collections import Counter, defaultdict\n",
    "\n",
    "def build_tf_index(documents):\n",
    "    \"\"\"\n",
    "        Build an inverted index (with counts). The output is a dictionary which takes in a token\n",
    "        and returns a list of (doc_id, count) where 'count' is the count of the 'token' in 'doc_id'\n",
    "        Input: a list of documents - (doc_id, tokens) \n",
    "        Output: An inverted index implemented within a pyhton dictionary: [token] -> [(doc_id, token_count)]\n",
    "    \"\"\"\n",
    "    # YOUR CODE HERE\n",
    "    index = defaultdict(list)\n",
    "    for doc in documents:\n",
    "        count = Counter(doc[1])\n",
    "        for key, value in dict(count).items():\n",
    "            index[key].append((doc[0], value))\n",
    "    \n",
    "    return index   "
   ]
  },
  {
   "cell_type": "markdown",
   "metadata": {
    "deletable": false,
    "editable": false,
    "nbgrader": {
     "cell_type": "markdown",
     "checksum": "15e7041b4323d2a290322de538ff7670",
     "grade": false,
     "grade_id": "cell-093aebfa504f96f2",
     "locked": true,
     "schema_version": 3,
     "solution": false,
     "task": false
    }
   },
   "source": [
    "---\n",
    "Now we can build indexed documents and preprocess the queries based on the two configurations:"
   ]
  },
  {
   "cell_type": "code",
   "execution_count": 20,
   "metadata": {
    "deletable": false,
    "editable": false,
    "nbgrader": {
     "cell_type": "code",
     "checksum": "e27540c1d8d77a3779a05f557f3f40c6",
     "grade": false,
     "grade_id": "cell-b2ff1676348b90a8",
     "locked": true,
     "schema_version": 3,
     "solution": false,
     "task": false
    }
   },
   "outputs": [],
   "source": [
    "#### Indexed documents based on the two configs\n",
    "\n",
    "# Create the 2 indices\n",
    "tf_index_1 = build_tf_index(doc_repr_1)\n",
    "tf_index_2 = build_tf_index(doc_repr_2)\n",
    "\n",
    "# This function returns the tf_index of the corresponding config\n",
    "def get_index(index_set):\n",
    "    assert index_set in {1, 2}\n",
    "    return {\n",
    "        1: tf_index_1,\n",
    "        2: tf_index_2\n",
    "    }[index_set]\n",
    "\n",
    "####\n",
    "#### Preprocessed query based on the two configs\n",
    "\n",
    "# This function preprocesses the text given the index set, according to the specified config\n",
    "def preprocess_query(text, index_set):\n",
    "    assert index_set in {1, 2}\n",
    "    if index_set == 1:\n",
    "        return process_text(text, **config_1)\n",
    "    elif index_set == 2:\n",
    "        return process_text(text, **config_2)\n",
    "\n",
    "#### "
   ]
  },
  {
   "cell_type": "code",
   "execution_count": 21,
   "metadata": {
    "deletable": false,
    "editable": false,
    "nbgrader": {
     "cell_type": "code",
     "checksum": "f0cbc8703e1248cd6edf03f9019b69db",
     "grade": true,
     "grade_id": "cell-fc7c7232d5d2ee46",
     "locked": true,
     "points": 5,
     "schema_version": 3,
     "solution": false,
     "task": false
    }
   },
   "outputs": [
    {
     "name": "stdout",
     "output_type": "stream",
     "text": [
      "sample tf index for computer: [('4', 1), ('7', 1), ('10', 1), ('13', 1), ('19', 1), ('22', 1), ('23', 1), ('37', 1), ('40', 3), ('41', 1)]\n",
      "sample tf index for examples: [('111', 1), ('320', 1), ('644', 1), ('691', 1), ('727', 1), ('848', 1), ('892', 1), ('893', 1), ('1049', 1), ('1051', 1)]\n"
     ]
    }
   ],
   "source": [
    "##### Function check\n",
    "\n",
    "assert isinstance(tf_index_1, dict)\n",
    "\n",
    "assert isinstance(tf_index_1['computer'], list)\n",
    "print('sample tf index for computer:', tf_index_1['computer'][:10])\n",
    "\n",
    "assert isinstance(tf_index_1['examples'], list)\n",
    "print('sample tf index for examples:', tf_index_1['examples'][:10])\n",
    "#### "
   ]
  },
  {
   "cell_type": "code",
   "execution_count": 22,
   "metadata": {
    "deletable": false,
    "editable": false,
    "nbgrader": {
     "cell_type": "code",
     "checksum": "d49b8ac36815d9a5cb4bed838ab53a50",
     "grade": true,
     "grade_id": "cell-ff06bd11204db250",
     "locked": true,
     "points": 5,
     "schema_version": 3,
     "solution": false,
     "task": false
    }
   },
   "outputs": [
    {
     "name": "stdout",
     "output_type": "stream",
     "text": [
      "sample tf index for computer: [('4', 1), ('7', 1), ('10', 1), ('13', 1), ('19', 1), ('22', 1), ('23', 1), ('37', 1), ('40', 3), ('41', 1)]\n",
      "sample tf index for examples: []\n"
     ]
    }
   ],
   "source": [
    "##### Function check\n",
    "\n",
    "assert isinstance(tf_index_2, dict)\n",
    "\n",
    "assert isinstance(tf_index_2['computer'], list)\n",
    "print('sample tf index for computer:', tf_index_1['computer'][:10])\n",
    "\n",
    "assert isinstance(tf_index_2['examples'], list)\n",
    "print('sample tf index for examples:', tf_index_2['examples'][:10])\n",
    "#### "
   ]
  },
  {
   "cell_type": "markdown",
   "metadata": {
    "deletable": false,
    "editable": false,
    "nbgrader": {
     "cell_type": "markdown",
     "checksum": "880b2ef3ca405f2af6e0667d2dc7a600",
     "grade": false,
     "grade_id": "cell-89eba71f04310291",
     "locked": true,
     "schema_version": 3,
     "solution": false,
     "task": false
    }
   },
   "source": [
    "\n",
    "---\n",
    "## Section 3: Ranking  (80 points) <a class=\"anchor\" id=\"ranking\"></a>\n",
    "\n",
    "[Back to Part 1](#part1)\n",
    "\n",
    "Now that we have cleaned and processed our dataset, we can start building simple IR systems. \n",
    "\n",
    "For now, we consider *simple* IR systems, which involve computing scores from the tokens present in the document/query. More advanced methods are covered in later assignments.\n",
    "\n",
    "We will implement the following methods in this section:\n",
    "- [Section 3.1: Bag of Words](#bow) (10 points)\n",
    "- [Section 3.2: TF-IDF](#tfidf) (15 points)\n",
    "- [Section 3.3: Query Likelihood Model](#qlm) (35 points)\n",
    "- [Section 3.4: BM25](#bm25) (20 points)\n",
    "\n",
    "*All search functions should be able to handle multiple words queries.*\n",
    "\n",
    "**Scoring policy:**\n",
    "Your implementations in this section are scored based on the expected performance of your ranking functions.\n",
    "You will get a full mark if your implementation meets the expected performance (measured by some evaluation metric).\n",
    "Otherwise, you may get partial credit.\n",
    "For example, if your *Bag of words* ranking function has 60% of expected performance, you will get 6 out of 10."
   ]
  },
  {
   "cell_type": "markdown",
   "metadata": {
    "deletable": false,
    "editable": false,
    "nbgrader": {
     "cell_type": "markdown",
     "checksum": "6c74e5061917358300c6e8085ec07864",
     "grade": false,
     "grade_id": "cell-3daf70a60e393adf",
     "locked": true,
     "schema_version": 3,
     "solution": false,
     "task": false
    }
   },
   "source": [
    "--- \n",
    "\n",
    "### Section 3.1: Bag of Words (10 points)<a class=\"anchor\" id=\"bow\"></a>\n",
    "\n",
    "Probably the simplest IR model is the Bag of Words (BOW) model.\n",
    "Implement a function that scores and ranks all the documents against a query using this model.   \n",
    "\n",
    "- For consistency, you should use the count of the token and **not** the binary indicator.\n",
    "- Use `float` type for the scores (even though the scores are integers in this case).\n",
    "- No normalization of the scores is necessary, as the ordering is what we are interested in.\n",
    "- If two documents have the same score, they can have any ordering: you are not required to disambiguate.\n"
   ]
  },
  {
   "cell_type": "code",
   "execution_count": 23,
   "metadata": {
    "deletable": false,
    "nbgrader": {
     "cell_type": "code",
     "checksum": "fee4640e22bfc4f05eb958a675ef40e7",
     "grade": false,
     "grade_id": "cell-de9cf0459c4b9324",
     "locked": false,
     "schema_version": 3,
     "solution": true,
     "task": false
    }
   },
   "outputs": [],
   "source": [
    "# TODO: Implement this! (10 points)\n",
    "import operator\n",
    "\n",
    "def bow_search(query, index_set):\n",
    "    \"\"\"\n",
    "        Perform a search over all documents with the given query. \n",
    "        Note: You have to use the `get_index` function created in the previous cells\n",
    "        Input: \n",
    "            query - a (unprocessed) query\n",
    "            index_set - the index to use\n",
    "        Output: a list of (document_id, score), sorted in descending relevance to the given query. \n",
    "    \"\"\"\n",
    "    index = get_index(index_set)\n",
    "    processed_query = preprocess_query(query, index_set)\n",
    "    \n",
    "    # YOUR CODE HERE\n",
    "    score = defaultdict(int)\n",
    "    for word in processed_query:\n",
    "        for doc_id, token_count in index[word]:\n",
    "            score[doc_id] += float(token_count)\n",
    "    \n",
    "    sorted_score = dict(sorted(score.items(), key=operator.itemgetter(1),reverse=True))\n",
    "    return list(sorted_score.items())"
   ]
  },
  {
   "cell_type": "code",
   "execution_count": 24,
   "metadata": {
    "deletable": false,
    "editable": false,
    "nbgrader": {
     "cell_type": "code",
     "checksum": "613524fbbf02b1d122c6611a71fbf11b",
     "grade": true,
     "grade_id": "cell-9f6aceae6dd9125f",
     "locked": true,
     "points": 2,
     "schema_version": 3,
     "solution": false,
     "task": false
    }
   },
   "outputs": [],
   "source": [
    "#### Function check\n",
    "\n",
    "test_bow = bow_search(\"how to implement bag of words search\", index_set=1)[:5]\n",
    "assert isinstance(test_bow, list)\n",
    "assert len(test_bow[0]) == 2\n",
    "assert isinstance(test_bow[0][0], str)\n",
    "assert isinstance(test_bow[0][1], float)\n",
    "\n",
    "#### "
   ]
  },
  {
   "cell_type": "code",
   "execution_count": 25,
   "metadata": {
    "deletable": false,
    "editable": false,
    "nbgrader": {
     "cell_type": "code",
     "checksum": "9af20897659edb62fe77598483590500",
     "grade": true,
     "grade_id": "cell-4eed3abf233d9b58",
     "locked": true,
     "points": 2,
     "schema_version": 3,
     "solution": false,
     "task": false
    }
   },
   "outputs": [
    {
     "name": "stdout",
     "output_type": "stream",
     "text": [
      "BOW Results:\n",
      "Rank 0(1.3e+01): On Computing The Fast Fourier Transform\\nCooley an...\n",
      "Rank 1(1.2e+01): Variable Length Tree Structures Having Minimum Ave...\n",
      "Rank 2(1.1e+01): A Modular Computer Sharing System\\nAn alternative ...\n",
      "Rank 3(1e+01): PEEKABIT, Computer Offspring of Punched\\nCard PEEK...\n",
      "Rank 4(9.0): Computer Simulation-Discussion of the\\nTechnique a...\n"
     ]
    }
   ],
   "source": [
    "\n",
    "docs_by_id = dict(docs)\n",
    "def print_results(docs, len_limit=50):    \n",
    "    for i, (doc_id, score) in enumerate(docs):\n",
    "        doc_content = docs_by_id[doc_id].strip().replace(\"\\n\", \"\\\\n\")[:len_limit] + \"...\"\n",
    "        print(f\"Rank {i}({score:.2}): {doc_content}\")\n",
    "\n",
    "test_bow_2 = bow_search(\"computer search word\", index_set=2)[:5]\n",
    "print(f\"BOW Results:\")\n",
    "print_results(test_bow_2)\n"
   ]
  },
  {
   "cell_type": "code",
   "execution_count": 26,
   "metadata": {
    "deletable": false,
    "editable": false,
    "nbgrader": {
     "cell_type": "code",
     "checksum": "3c9c8b16c8e7d1032f101e9da8a6e845",
     "grade": true,
     "grade_id": "cell-4d65a2d7090c466c",
     "locked": true,
     "points": 3,
     "schema_version": 3,
     "solution": false,
     "task": false
    }
   },
   "outputs": [
    {
     "name": "stdout",
     "output_type": "stream",
     "text": [
      "BOW Results:\n",
      "Rank 0(9.0): CURRICULUM 68 -- Recommendations for Academic\\nPro...\n",
      "Rank 1(9.0): Variable Length Tree Structures Having Minimum Ave...\n",
      "Rank 2(7.0): Computer Formulation of the Equations of Motion Us...\n",
      "Rank 3(7.0): The Effects of Multiplexing on a Computer-Communic...\n",
      "Rank 4(6.0): Optimizing Bit-time Computer Simulation\\nA major c...\n"
     ]
    }
   ],
   "source": [
    "\n",
    "test_bow_1 = bow_search(\"computer search word\", index_set=1)[:5]\n",
    "print(f\"BOW Results:\")\n",
    "print_results(test_bow_1)\n"
   ]
  },
  {
   "cell_type": "code",
   "execution_count": 27,
   "metadata": {
    "deletable": false,
    "editable": false,
    "nbgrader": {
     "cell_type": "code",
     "checksum": "b7e593847aa4202ae45ec061fb18ad73",
     "grade": true,
     "grade_id": "cell-dedf36ab5853ce20",
     "locked": true,
     "points": 3,
     "schema_version": 3,
     "solution": false,
     "task": false
    }
   },
   "outputs": [
    {
     "name": "stdout",
     "output_type": "stream",
     "text": [
      "top-5 docs for index1: ('1771', '1936', '1543', '2535', '678')\n",
      "top-5 docs for index2: ('1525', '1936', '1844', '1700', '1366')\n"
     ]
    }
   ],
   "source": [
    "print('top-5 docs for index1:', list(zip(*test_bow_1[:5]))[0])\n",
    "print('top-5 docs for index2:', list(zip(*test_bow_2[:5]))[0])\n"
   ]
  },
  {
   "cell_type": "markdown",
   "metadata": {
    "deletable": false,
    "editable": false,
    "nbgrader": {
     "cell_type": "markdown",
     "checksum": "b04352ee0716dfdf094b8cdb6f32e984",
     "grade": false,
     "grade_id": "cell-a5c09c79ac1f2871",
     "locked": true,
     "schema_version": 3,
     "solution": false,
     "task": false
    }
   },
   "source": [
    "\n",
    "---\n",
    "\n",
    "### Section 3.2: TF-IDF (15 points) <a class=\"anchor\" id=\"tfidf\"></a>\n",
    "\n",
    "Before we implement the tf-idf scoring functions, let's first write a function to compute the document frequencies of all words.  \n",
    "\n",
    "#### 3.2.1 Document frequency (5 points)\n",
    "Compute the document frequencies of all tokens in the collection. \n",
    "Your code should return a dictionary with tokens as its keys and the number of documents containing the token as values.\n",
    "For consistency, the values should have `int` type."
   ]
  },
  {
   "cell_type": "code",
   "execution_count": 28,
   "metadata": {
    "deletable": false,
    "nbgrader": {
     "cell_type": "code",
     "checksum": "5c53263cf4c0b0ffcaae08b91fc364cc",
     "grade": false,
     "grade_id": "cell-9a2369f32e864b8a",
     "locked": false,
     "schema_version": 3,
     "solution": true,
     "task": false
    }
   },
   "outputs": [],
   "source": [
    "# TODO: Implement this! (5 points)\n",
    "def compute_df(documents):\n",
    "    \"\"\"\n",
    "        Compute the document frequency of all terms in the vocabulary\n",
    "        Input: A list of documents\n",
    "        Output: A dictionary with {token: document frequency (int)}\n",
    "    \"\"\"\n",
    "    # YOUR CODE HERE\n",
    "    freq = defaultdict(int)\n",
    "    for doc in documents:\n",
    "        for word in set(doc):\n",
    "            freq[word] += 1\n",
    "    return freq"
   ]
  },
  {
   "cell_type": "code",
   "execution_count": 29,
   "metadata": {
    "deletable": false,
    "editable": false,
    "nbgrader": {
     "cell_type": "code",
     "checksum": "154985511d7925c5793a1f97dea81880",
     "grade": false,
     "grade_id": "cell-4c3bddd0b73ac90e",
     "locked": true,
     "schema_version": 3,
     "solution": false,
     "task": false
    }
   },
   "outputs": [],
   "source": [
    "#### Compute df based on the two configs\n",
    "\n",
    "# get the document frequencies of each document\n",
    "df_1 = compute_df([d[1] for d in doc_repr_1])\n",
    "df_2 = compute_df([d[1] for d in doc_repr_2])\n",
    "\n",
    "def get_df(index_set):\n",
    "    assert index_set in {1, 2}\n",
    "    return {\n",
    "        1: df_1,\n",
    "        2: df_2\n",
    "    }[index_set]\n",
    "####"
   ]
  },
  {
   "cell_type": "code",
   "execution_count": 30,
   "metadata": {
    "deletable": false,
    "editable": false,
    "nbgrader": {
     "cell_type": "code",
     "checksum": "110cc180068cf3f77c682ee3de2a117c",
     "grade": true,
     "grade_id": "cell-79e8a6db1e5fc46f",
     "locked": true,
     "points": 5,
     "schema_version": 3,
     "solution": false,
     "task": false
    }
   },
   "outputs": [
    {
     "name": "stdout",
     "output_type": "stream",
     "text": [
      "597\n",
      "11\n"
     ]
    }
   ],
   "source": [
    "#### Function check\n",
    "\n",
    "print(df_1['computer'])\n",
    "print(df_2['computer'])\n",
    "####"
   ]
  },
  {
   "cell_type": "markdown",
   "metadata": {
    "deletable": false,
    "editable": false,
    "nbgrader": {
     "cell_type": "markdown",
     "checksum": "d0d577668fa51b80aeab6e67209ae73b",
     "grade": false,
     "grade_id": "cell-52f6acc487e1b96d",
     "locked": true,
     "schema_version": 3,
     "solution": false,
     "task": false
    }
   },
   "source": [
    "---\n",
    "#### 3.2.2 TF-IDF search (10 points)\n",
    "Next, implement a function that computes a tf-idf score, given a query.\n",
    "Use the following formulas for TF and IDF:\n",
    "\n",
    "$$ TF=\\log (1 + f_{d,t}) $$\n",
    "\n",
    "$$ IDF=\\log (\\frac{N}{n_t})$$\n",
    "\n",
    "where $f_{d,t}$ is the frequency of token $t$ in document $d$, $N$ is the number of total documents and $n_t$ is the number of documents containing token $t$.\n",
    "\n",
    "**Note:** your implementation will be auto-graded assuming you have used the above formulas.\n"
   ]
  },
  {
   "cell_type": "code",
   "execution_count": 31,
   "metadata": {
    "deletable": false,
    "nbgrader": {
     "cell_type": "code",
     "checksum": "3534c44b4a3419ca1db98eebe7115dc1",
     "grade": false,
     "grade_id": "cell-2fb5ba34b2994cd9",
     "locked": false,
     "schema_version": 3,
     "solution": true,
     "task": false
    }
   },
   "outputs": [],
   "source": [
    "# TODO: Implement this! (10 points)\n",
    "def tfidf_search(query, index_set):\n",
    "    \"\"\"\n",
    "        Perform a search over all documents with the given query using tf-idf. \n",
    "        Note #1: You have to use the `get_index` (and the `get_df`) function created in the previous cells\n",
    "        Input: \n",
    "            query - a (unprocessed) query\n",
    "            index_set - the index to use\n",
    "        Output: a list of (document_id, score), sorted in descending relevance to the given query \n",
    "    \"\"\"\n",
    "    index = get_index(index_set)\n",
    "    df = get_df(index_set)\n",
    "    processed_query = preprocess_query(query, index_set)\n",
    "    \n",
    "    N = len(docs)\n",
    "    # YOUR CODE HERE\n",
    "    tf_idf = defaultdict(int)\n",
    "    for word in processed_query:\n",
    "        idf = np.log(N / (df[word]+1e-42))\n",
    "        for doc_id, token_count in index[word]:\n",
    "            tf = np.log(1 + token_count)\n",
    "            tf_idf[doc_id] += tf * idf\n",
    "            \n",
    "    sorted_tf_idf = dict(sorted(tf_idf.items(), key=operator.itemgetter(1),reverse=True))\n",
    "    return list(sorted_tf_idf.items())"
   ]
  },
  {
   "cell_type": "code",
   "execution_count": 32,
   "metadata": {
    "deletable": false,
    "editable": false,
    "nbgrader": {
     "cell_type": "code",
     "checksum": "7b66a514663d898694b09a23a597312b",
     "grade": true,
     "grade_id": "cell-bc68aeeacf42beb3",
     "locked": true,
     "points": 2,
     "schema_version": 3,
     "solution": false,
     "task": false
    }
   },
   "outputs": [],
   "source": [
    "\n",
    "#### Function check\n",
    "test_tfidf = tfidf_search(\"how to implement tf idf search\", index_set=1)[:5]\n",
    "assert isinstance(test_tfidf, list)\n",
    "assert len(test_tfidf[0]) == 2\n",
    "assert isinstance(test_tfidf[0][0], str)\n",
    "assert isinstance(test_tfidf[0][1], float)\n",
    "\n",
    "####"
   ]
  },
  {
   "cell_type": "code",
   "execution_count": 33,
   "metadata": {
    "deletable": false,
    "editable": false,
    "nbgrader": {
     "cell_type": "code",
     "checksum": "98fb1326cf4bf7983ae237ca8a9105f9",
     "grade": true,
     "grade_id": "cell-c7702fa8179fadb9",
     "locked": true,
     "points": 2,
     "schema_version": 3,
     "solution": false,
     "task": false
    }
   },
   "outputs": [
    {
     "name": "stdout",
     "output_type": "stream",
     "text": [
      "TFIDF Results:\n",
      "Rank 0(1.3e+01): PEEKABIT, Computer Offspring of Punched\\nCard PEEK...\n",
      "Rank 1(9.8): Variable Length Tree Structures Having Minimum Ave...\n",
      "Rank 2(8.2): A Stochastic Approach to the Grammatical Coding of...\n",
      "Rank 3(8.1): Full Table Quadratic Searching for Scatter Storage...\n",
      "Rank 4(7.6): Use of Tree Structures for Processing Files\\nIn da...\n"
     ]
    }
   ],
   "source": [
    "\n",
    "test_tfidf_2 = tfidf_search(\"computer word search\", index_set=2)[:5]\n",
    "print(f\"TFIDF Results:\")\n",
    "print_results(test_tfidf_2)\n"
   ]
  },
  {
   "cell_type": "code",
   "execution_count": 34,
   "metadata": {
    "deletable": false,
    "editable": false,
    "nbgrader": {
     "cell_type": "code",
     "checksum": "733b5b67be5e53989f5b763ce5e52ee9",
     "grade": true,
     "grade_id": "cell-3284f50ac29abbaa",
     "locked": true,
     "points": 3,
     "schema_version": 3,
     "solution": false,
     "task": false
    }
   },
   "outputs": [
    {
     "name": "stdout",
     "output_type": "stream",
     "text": [
      "TFIDF Results:\n",
      "Rank 0(9.4): Variable Length Tree Structures Having Minimum Ave...\n",
      "Rank 1(7.4): On the Feasibility of Voice Input to\\nan On-line C...\n",
      "Rank 2(7.3): Median Split Trees: A Fast Lookup Technique for Fr...\n",
      "Rank 3(7.0): Execution Time Requirements for Encipherment Progr...\n",
      "Rank 4(7.0): Storage and Search Properties of a Tree-Organized ...\n"
     ]
    }
   ],
   "source": [
    "\n",
    "test_tfidf_1 = tfidf_search(\"computer word search\", index_set=1)[:5]\n",
    "print(f\"TFIDF Results:\")\n",
    "print_results(test_tfidf_1)\n"
   ]
  },
  {
   "cell_type": "code",
   "execution_count": 35,
   "metadata": {
    "deletable": false,
    "editable": false,
    "nbgrader": {
     "cell_type": "code",
     "checksum": "e0edb37a5ae807a2de85d578c87ccb78",
     "grade": true,
     "grade_id": "cell-d908c80a3155354b",
     "locked": true,
     "points": 3,
     "schema_version": 3,
     "solution": false,
     "task": false
    }
   },
   "outputs": [
    {
     "name": "stdout",
     "output_type": "stream",
     "text": [
      "top-5 docs for index1 with BOW search: ('1771', '1936', '1543', '2535', '678')\n",
      "top-5 docs for index2 with BOW search: ('1525', '1936', '1844', '1700', '1366')\n",
      "top-5 docs for index1 with TF-IDF search: ('1936', '2054', '3041', '2620', '944')\n",
      "top-5 docs for index2 with TF-IDF search: ('1700', '1936', '1235', '2018', '849')\n"
     ]
    }
   ],
   "source": [
    "\n",
    "print('top-5 docs for index1 with BOW search:', list(zip(*test_bow_1[:5]))[0])\n",
    "print('top-5 docs for index2 with BOW search:', list(zip(*test_bow_2[:5]))[0])\n",
    "print('top-5 docs for index1 with TF-IDF search:', list(zip(*test_tfidf_1[:5]))[0])\n",
    "print('top-5 docs for index2 with TF-IDF search:', list(zip(*test_tfidf_2[:5]))[0])\n",
    "\n"
   ]
  },
  {
   "cell_type": "markdown",
   "metadata": {
    "deletable": false,
    "editable": false,
    "nbgrader": {
     "cell_type": "markdown",
     "checksum": "cdffc83f0eaea937cf64a212e7e9af8d",
     "grade": false,
     "grade_id": "cell-f5d923459ba21733",
     "locked": true,
     "schema_version": 3,
     "solution": false,
     "task": false
    }
   },
   "source": [
    "--- \n",
    "\n",
    "### Section 3.3: Query Likelihood Model (35 points) <a class=\"anchor\" id=\"qlm\"></a>\n",
    "\n",
    "In this section, you will implement a simple query likelihood model. \n",
    "\n",
    "\n",
    "#### 3.3.1 Naive QL (15 points)\n",
    "\n",
    "First, let us implement a naive version of a QL model, assuming a multinomial unigram language model (with a uniform prior over the documents). \n",
    "\n"
   ]
  },
  {
   "cell_type": "code",
   "execution_count": 36,
   "metadata": {
    "deletable": false,
    "editable": false,
    "nbgrader": {
     "cell_type": "code",
     "checksum": "b7ae2b7d818b428b4638c1c9206d2aca",
     "grade": false,
     "grade_id": "cell-98505778f7b68e7f",
     "locked": true,
     "schema_version": 3,
     "solution": false,
     "task": false
    }
   },
   "outputs": [],
   "source": [
    "#### Document length for normalization\n",
    "\n",
    "def doc_lengths(documents):\n",
    "    doc_lengths = {doc_id:len(doc) for (doc_id, doc) in documents}\n",
    "    return doc_lengths\n",
    "\n",
    "doc_lengths_1 = doc_lengths(doc_repr_1)\n",
    "doc_lengths_2 = doc_lengths(doc_repr_2)\n",
    "\n",
    "def get_doc_lengths(index_set):\n",
    "    assert index_set in {1, 2}\n",
    "    return {\n",
    "        1: doc_lengths_1,\n",
    "        2: doc_lengths_2\n",
    "    }[index_set]\n",
    "####"
   ]
  },
  {
   "cell_type": "code",
   "execution_count": 37,
   "metadata": {
    "deletable": false,
    "nbgrader": {
     "cell_type": "code",
     "checksum": "cedd08303a914243fefdb6b876977ca1",
     "grade": false,
     "grade_id": "cell-8bcf2b804d636c2e",
     "locked": false,
     "schema_version": 3,
     "solution": true,
     "task": false
    }
   },
   "outputs": [],
   "source": [
    "# TODO: Implement this! (15 points)\n",
    "def naive_ql_search(query, index_set):\n",
    "    \"\"\"\n",
    "        Perform a search over all documents with the given query using a naive QL model. \n",
    "        Note #1: You have to use the `get_index` (and get_doc_lengths) function created in the previous cells\n",
    "        Input: \n",
    "            query - a (unprocessed) query\n",
    "            index_set - the index to use\n",
    "        Output: a list of (document_id, score), sorted in descending relevance to the given query \n",
    "    \"\"\"\n",
    "    index = get_index(index_set)\n",
    "    doc_lengths = get_doc_lengths(index_set)\n",
    "    processed_query = preprocess_query(query, index_set)\n",
    "    # YOUR CODE HERE\n",
    "    first_pass = set()\n",
    "    naive_ql = defaultdict(lambda: 1.)\n",
    "    for word in processed_query:\n",
    "        visited_docs = set()\n",
    "        for doc_id, token_count in index[word]:\n",
    "            visited_docs.add(doc_id)\n",
    "            naive_ql[doc_id] *= token_count/doc_lengths[doc_id]\n",
    "        if not len(first_pass):\n",
    "            first_pass = visited_docs\n",
    "        for doc_id in naive_ql.keys():\n",
    "            if doc_id not in visited_docs:\n",
    "                naive_ql[doc_id] = 0\n",
    "    \n",
    "    for doc_id in naive_ql.keys():\n",
    "        if doc_id not in first_pass:\n",
    "            naive_ql[doc_id] = 0\n",
    "        \n",
    "    sorted_naive_ql = dict(sorted(naive_ql.items(), key=operator.itemgetter(1),reverse=True))\n",
    "    return list(sorted_naive_ql.items())\n"
   ]
  },
  {
   "cell_type": "code",
   "execution_count": 38,
   "metadata": {
    "deletable": false,
    "editable": false,
    "nbgrader": {
     "cell_type": "code",
     "checksum": "b550d15bdad28354c336020a00c33d56",
     "grade": true,
     "grade_id": "cell-5a83ac12ecde8578",
     "locked": true,
     "points": 3,
     "schema_version": 3,
     "solution": false,
     "task": false
    }
   },
   "outputs": [
    {
     "name": "stdout",
     "output_type": "stream",
     "text": [
      "Naive QL Results:\n",
      "Rank 0(0.2): A Report Writer For COBOL...\n",
      "Rank 1(0.2): A CRT Report Generating System...\n",
      "Rank 2(0.17): Preliminary Report-International Algebraic Languag...\n",
      "Rank 3(0.17): Supplement to the ALGOL 60 Report...\n",
      "Rank 4(0.14): ALGOL Sub-Committee Report - Extensions...\n"
     ]
    }
   ],
   "source": [
    "#### Function check\n",
    "test_naiveql = naive_ql_search(\"report\", index_set=1)[:5]\n",
    "print(f\"Naive QL Results:\")\n",
    "print_results(test_naiveql)\n",
    "####"
   ]
  },
  {
   "cell_type": "code",
   "execution_count": 39,
   "metadata": {
    "deletable": false,
    "editable": false,
    "nbgrader": {
     "cell_type": "code",
     "checksum": "799df1d81c63fe90edbb6c218fc707fb",
     "grade": true,
     "grade_id": "cell-80f4bf2137f997bb",
     "locked": true,
     "points": 2,
     "schema_version": 3,
     "solution": false,
     "task": false
    }
   },
   "outputs": [],
   "source": [
    "#### Please do not change this. This cell is used for grading."
   ]
  },
  {
   "cell_type": "code",
   "execution_count": 40,
   "metadata": {
    "deletable": false,
    "editable": false,
    "nbgrader": {
     "cell_type": "code",
     "checksum": "875a4a517d27e20625d41783cebec118",
     "grade": true,
     "grade_id": "cell-5ce2993458a8ce51",
     "locked": true,
     "points": 3,
     "schema_version": 3,
     "solution": false,
     "task": false
    }
   },
   "outputs": [],
   "source": [
    "#### Please do not change this. This cell is used for grading."
   ]
  },
  {
   "cell_type": "code",
   "execution_count": 41,
   "metadata": {
    "deletable": false,
    "editable": false,
    "nbgrader": {
     "cell_type": "code",
     "checksum": "d5c4e1c3852e71a46f32825b122f1b71",
     "grade": true,
     "grade_id": "cell-7753bdb54e292f3d",
     "locked": true,
     "points": 3,
     "schema_version": 3,
     "solution": false,
     "task": false
    }
   },
   "outputs": [],
   "source": [
    "#### Please do not change this. This cell is used for grading."
   ]
  },
  {
   "cell_type": "code",
   "execution_count": 42,
   "metadata": {
    "deletable": false,
    "editable": false,
    "nbgrader": {
     "cell_type": "code",
     "checksum": "c4d4332d4356e89ce0240f6b80e1899a",
     "grade": true,
     "grade_id": "cell-54e476e2f96e64bb",
     "locked": true,
     "points": 4,
     "schema_version": 3,
     "solution": false,
     "task": false
    }
   },
   "outputs": [],
   "source": [
    "#### Please do not change this. This cell is used for grading."
   ]
  },
  {
   "cell_type": "markdown",
   "metadata": {
    "deletable": false,
    "editable": false,
    "nbgrader": {
     "cell_type": "markdown",
     "checksum": "8d739dc91a22bd48897f603885f95a74",
     "grade": false,
     "grade_id": "cell-5414dfd69dab8b94",
     "locked": true,
     "schema_version": 3,
     "solution": false,
     "task": false
    }
   },
   "source": [
    "---\n",
    "#### 3.3.2 QL (20 points)\n",
    "Now, let's implement a QL model that handles the issues with the naive version. In particular, you will implement a QL model with Jelinek-Mercer Smoothing. That means an interpolated score is computed per word - one term is the same as the previous naive version, and the second term comes from a unigram language model. In addition, you should accumulate the scores by summing the **log** (smoothed) probability which leads to better numerical stability."
   ]
  },
  {
   "cell_type": "code",
   "execution_count": 43,
   "metadata": {
    "deletable": false,
    "nbgrader": {
     "cell_type": "code",
     "checksum": "b8c6abf937ad333e628f1db891f2e29e",
     "grade": false,
     "grade_id": "cell-bb1f506409771257",
     "locked": false,
     "schema_version": 3,
     "solution": true,
     "task": false
    }
   },
   "outputs": [],
   "source": [
    "# TODO: Implement this! (20 points)\n",
    "# YOUR CODE HERE\n",
    "def ql_search(query, index_set):\n",
    "    \"\"\"\n",
    "        Perform a search over all documents with the given query using a QL model \n",
    "        with Jelinek-Mercer Smoothing (set smoothing=0.1). \n",
    "        \n",
    "        \n",
    "        Note #1: You have to use the `get_index` (and get_doc_lengths) function created in the previous cells\n",
    "        Note #2: You might have to create some variables beforehand and use them in this function\n",
    "        \n",
    "\n",
    "        Input: \n",
    "            query - a (unprocessed) query\n",
    "            index_set - the index to use\n",
    "        Output: a list of (document_id, score), sorted in descending relevance to the given query \n",
    "    \"\"\"\n",
    "    index = get_index(index_set)\n",
    "    doc_lengths = get_doc_lengths(index_set)\n",
    "    processed_query = preprocess_query(query, index_set)\n",
    "    \n",
    "    # YOUR CODE HERE\n",
    "    smoothing = 0.1\n",
    "    ql = defaultdict(float)\n",
    "    cl = sum(doc_lengths.values())\n",
    "\n",
    "    term_freq_in_corpus = defaultdict(float)\n",
    "    term_freq_in_corpus = {word:sum(token_count for doc_id, token_count in index[word]) for word in processed_query}\n",
    "\n",
    "    for word in processed_query:\n",
    "        if not index[word]:\n",
    "            continue\n",
    "\n",
    "        prob_term = defaultdict(float)\n",
    "        for doc_id, token_count in index[word]:\n",
    "            prob_term[doc_id] = (1-smoothing)*token_count/doc_lengths[doc_id]\n",
    "        \n",
    "        smoothing_term = smoothing*term_freq_in_corpus[word]/cl\n",
    "        for doc_id in doc_lengths.keys():\n",
    "            ql[doc_id] += np.log10(prob_term[doc_id]+smoothing_term)\n",
    "\n",
    "    sorted_ql = dict(sorted(ql.items(), key=operator.itemgetter(1),reverse=True))\n",
    "    return list(sorted_ql.items())\n",
    "    "
   ]
  },
  {
   "cell_type": "code",
   "execution_count": 44,
   "metadata": {
    "deletable": false,
    "editable": false,
    "nbgrader": {
     "cell_type": "code",
     "checksum": "0b12a7f3355193a257fd9f5f69a66562",
     "grade": true,
     "grade_id": "cell-850e9d6369bcec32",
     "locked": true,
     "points": 4,
     "schema_version": 3,
     "solution": false,
     "task": false
    }
   },
   "outputs": [
    {
     "name": "stdout",
     "output_type": "stream",
     "text": [
      "Rank 0(-0.74): A Report Writer For COBOL...\n",
      "Rank 1(-0.74): A CRT Report Generating System...\n",
      "Rank 2(-0.82): Preliminary Report-International Algebraic Languag...\n",
      "Rank 3(-0.82): Supplement to the ALGOL 60 Report...\n",
      "Rank 4(-0.89): ALGOL Sub-Committee Report - Extensions...\n",
      "\n",
      "Rank 0(-7.4): A Report Writer For COBOL...\n",
      "Rank 1(-7.4): A CRT Report Generating System...\n",
      "Rank 2(-8.2): Preliminary Report-International Algebraic Languag...\n",
      "Rank 3(-8.2): Supplement to the ALGOL 60 Report...\n",
      "Rank 4(-8.9): ALGOL Sub-Committee Report - Extensions...\n"
     ]
    }
   ],
   "source": [
    "#### Function check\n",
    "test_ql_results = ql_search(\"report\", index_set=1)[:5]\n",
    "print_results(test_ql_results)\n",
    "print()\n",
    "test_ql_results_long = ql_search(\"report \" * 10, index_set=1)[:5]\n",
    "print_results(test_ql_results_long)\n",
    "####"
   ]
  },
  {
   "cell_type": "code",
   "execution_count": 45,
   "metadata": {
    "deletable": false,
    "editable": false,
    "nbgrader": {
     "cell_type": "code",
     "checksum": "e40be645140389c115849856145f5b59",
     "grade": true,
     "grade_id": "cell-958cdcf6fd6899b7",
     "locked": true,
     "points": 3,
     "schema_version": 3,
     "solution": false,
     "task": false
    }
   },
   "outputs": [],
   "source": [
    "#### Please do not change this. This cell is used for grading."
   ]
  },
  {
   "cell_type": "code",
   "execution_count": 46,
   "metadata": {
    "deletable": false,
    "editable": false,
    "nbgrader": {
     "cell_type": "code",
     "checksum": "41d4aff001df17e7963ba79b45810b30",
     "grade": true,
     "grade_id": "cell-384dc23a0c251f6e",
     "locked": true,
     "points": 4,
     "schema_version": 3,
     "solution": false,
     "task": false
    }
   },
   "outputs": [],
   "source": [
    "#### Please do not change this. This cell is used for grading."
   ]
  },
  {
   "cell_type": "code",
   "execution_count": 47,
   "metadata": {
    "deletable": false,
    "editable": false,
    "nbgrader": {
     "cell_type": "code",
     "checksum": "893e8c5a073abc8ebb763d267b91bc02",
     "grade": true,
     "grade_id": "cell-7218966cba5097cc",
     "locked": true,
     "points": 4,
     "schema_version": 3,
     "solution": false,
     "task": false
    }
   },
   "outputs": [],
   "source": [
    "#### Please do not change this. This cell is used for grading."
   ]
  },
  {
   "cell_type": "code",
   "execution_count": 48,
   "metadata": {
    "deletable": false,
    "editable": false,
    "nbgrader": {
     "cell_type": "code",
     "checksum": "f99cb6f8b1f5830aaed8f06712ff846e",
     "grade": true,
     "grade_id": "cell-481ab073259ae53f",
     "locked": true,
     "points": 5,
     "schema_version": 3,
     "solution": false,
     "task": false
    }
   },
   "outputs": [],
   "source": [
    "#### Please do not change this. This cell is used for grading."
   ]
  },
  {
   "cell_type": "markdown",
   "metadata": {
    "deletable": false,
    "editable": false,
    "nbgrader": {
     "cell_type": "markdown",
     "checksum": "c02f14705d679579b1aa9f78f54779d5",
     "grade": false,
     "grade_id": "cell-f44088bfdac1dc90",
     "locked": true,
     "schema_version": 3,
     "solution": false,
     "task": false
    }
   },
   "source": [
    "--- \n",
    "\n",
    "### Section 3.4: BM25 (20 points) <a class=\"anchor\" id=\"bm25\"></a>\n",
    "\n",
    "In this section, we will implement the BM25 scoring function. \n"
   ]
  },
  {
   "cell_type": "code",
   "execution_count": 49,
   "metadata": {
    "deletable": false,
    "nbgrader": {
     "cell_type": "code",
     "checksum": "e57efe06ea92af1c83784a42eb3d86e0",
     "grade": false,
     "grade_id": "cell-15640fc9b5d00a3c",
     "locked": false,
     "schema_version": 3,
     "solution": true,
     "task": false
    }
   },
   "outputs": [],
   "source": [
    "# TODO: Implement this! (20 points)\n",
    "def bm25_search(query, index_set):\n",
    "    \"\"\"\n",
    "        Perform a search over all documents with the given query using BM25. Use k_1 = 1.5 and b = 0.75\n",
    "        Note #1: You have to use the `get_index` (and `get_doc_lengths`) function created in the previous cells\n",
    "        Note #2: You might have to create some variables beforehand and use them in this function\n",
    "        \n",
    "        Input: \n",
    "            query - a (unprocessed) query\n",
    "            index_set - the index to use\n",
    "        Output: a list of (document_id, score), sorted in descending relevance to the given query \n",
    "    \"\"\"\n",
    "    \n",
    "    index = get_index(index_set)\n",
    "    df = get_df(index_set)\n",
    "    doc_lengths = get_doc_lengths(index_set)\n",
    "    processed_query = preprocess_query(query, index_set)\n",
    "    \n",
    "    # YOUR CODE HERE\n",
    "    k_1 = 1.5\n",
    "    b = 0.75\n",
    "    N = len(docs)\n",
    "    dl_avg = sum(doc_lengths.values())/len(doc_lengths)\n",
    "    bm25 = defaultdict(int)\n",
    "    for word in processed_query:\n",
    "        term_1 = np.log(N/(df[word]+1e-42))\n",
    "        for doc_id, token_count in index[word]:\n",
    "            term_2 = (k_1+1)*token_count\n",
    "            term_3 = k_1*((1-b)+b*doc_lengths[doc_id]/dl_avg)+token_count\n",
    "            bm25[doc_id] += (term_1*term_2/term_3)\n",
    "        \n",
    "    \n",
    "    sorted_bm25 = dict(sorted(bm25.items(), key=operator.itemgetter(1),reverse=True))\n",
    "    return list(sorted_bm25.items())"
   ]
  },
  {
   "cell_type": "code",
   "execution_count": 50,
   "metadata": {
    "deletable": false,
    "editable": false,
    "nbgrader": {
     "cell_type": "code",
     "checksum": "4be9de5d4e94637960d83725422bea6c",
     "grade": true,
     "grade_id": "cell-d10536bca72c74b1",
     "locked": true,
     "points": 3,
     "schema_version": 3,
     "solution": false,
     "task": false
    }
   },
   "outputs": [
    {
     "name": "stdout",
     "output_type": "stream",
     "text": [
      "Rank 0(6.7): A Report Writer For COBOL...\n",
      "Rank 1(6.7): A CRT Report Generating System...\n",
      "Rank 2(6.6): Preliminary Report-International Algebraic Languag...\n",
      "Rank 3(6.6): Supplement to the ALGOL 60 Report...\n",
      "Rank 4(6.5): ALGOL Sub-Committee Report - Extensions...\n"
     ]
    }
   ],
   "source": [
    "#### Function check\n",
    "test_bm25_results = bm25_search(\"report\", index_set=1)[:5]\n",
    "print_results(test_bm25_results)\n",
    "####"
   ]
  },
  {
   "cell_type": "code",
   "execution_count": 51,
   "metadata": {
    "deletable": false,
    "editable": false,
    "nbgrader": {
     "cell_type": "code",
     "checksum": "31b550d6a46ae4f8ede88788799ac2b9",
     "grade": true,
     "grade_id": "cell-60f6ec5052712d79",
     "locked": true,
     "points": 5,
     "schema_version": 3,
     "solution": false,
     "task": false
    }
   },
   "outputs": [],
   "source": [
    "#### Please do not change this. This cell is used for grading."
   ]
  },
  {
   "cell_type": "code",
   "execution_count": 52,
   "metadata": {
    "deletable": false,
    "editable": false,
    "nbgrader": {
     "cell_type": "code",
     "checksum": "3da2ec16bfe781916e71755d65aa2983",
     "grade": true,
     "grade_id": "cell-5d17524043a5abcc",
     "locked": true,
     "points": 5,
     "schema_version": 3,
     "solution": false,
     "task": false
    }
   },
   "outputs": [],
   "source": [
    "#### Please do not change this. This cell is used for grading."
   ]
  },
  {
   "cell_type": "code",
   "execution_count": 53,
   "metadata": {
    "deletable": false,
    "editable": false,
    "nbgrader": {
     "cell_type": "code",
     "checksum": "e7b563d54fa84c20909c0ae107010541",
     "grade": true,
     "grade_id": "cell-ff8e704eda1184e3",
     "locked": true,
     "points": 3,
     "schema_version": 3,
     "solution": false,
     "task": false
    }
   },
   "outputs": [],
   "source": [
    "#### Please do not change this. This cell is used for grading."
   ]
  },
  {
   "cell_type": "code",
   "execution_count": 54,
   "metadata": {
    "deletable": false,
    "editable": false,
    "nbgrader": {
     "cell_type": "code",
     "checksum": "b013f90974b396630a8831d6f1d7e5f7",
     "grade": true,
     "grade_id": "cell-a52310500a2543cb",
     "locked": true,
     "points": 4,
     "schema_version": 3,
     "solution": false,
     "task": false
    }
   },
   "outputs": [],
   "source": [
    "#### Please do not change this. This cell is used for grading."
   ]
  },
  {
   "cell_type": "markdown",
   "metadata": {
    "deletable": false,
    "editable": false,
    "nbgrader": {
     "cell_type": "markdown",
     "checksum": "8fcf67cb7d5e8b26cb9bf1f0aa42c847",
     "grade": false,
     "grade_id": "cell-8b2b412c81d62f2d",
     "locked": true,
     "schema_version": 3,
     "solution": false,
     "task": false
    }
   },
   "source": [
    "\n",
    "---\n",
    "\n",
    "### 3.5. Test Your Functions\n",
    "\n",
    "The widget below allows you to play with the search functions you've written so far. Use this to test your search functions and ensure that they work as expected."
   ]
  },
  {
   "cell_type": "code",
   "execution_count": 55,
   "metadata": {
    "deletable": false,
    "editable": false,
    "nbgrader": {
     "cell_type": "code",
     "checksum": "dfeb204b390acc0794dbdcac92b0cf2c",
     "grade": false,
     "grade_id": "cell-c9c2bb76354e8d97",
     "locked": true,
     "schema_version": 3,
     "solution": false,
     "task": false
    }
   },
   "outputs": [],
   "source": [
    "#### Highlighter function\n",
    "# class for results\n",
    "ResultRow = namedtuple(\"ResultRow\", [\"doc_id\", \"snippet\", \"score\"])\n",
    "# doc_id -> doc\n",
    "docs_by_id = dict((d[0], d[1]) for d in docs)\n",
    "\n",
    "def highlight_text(document, query, tol=17):\n",
    "    import re\n",
    "    tokens = tokenize(query)\n",
    "    regex = \"|\".join(f\"(\\\\b{t}\\\\b)\" for t in tokens)\n",
    "    regex = re.compile(regex, flags=re.IGNORECASE)\n",
    "    output = \"\"\n",
    "    i = 0\n",
    "    for m in regex.finditer(document):\n",
    "        start_idx = max(0, m.start() - tol)\n",
    "        end_idx = min(len(document), m.end() + tol)\n",
    "        output += \"\".join([\"...\",\n",
    "                        document[start_idx:m.start()],\n",
    "                        \"<strong>\",\n",
    "                        document[m.start():m.end()],\n",
    "                        \"</strong>\",\n",
    "                        document[m.end():end_idx],\n",
    "                        \"...\"])\n",
    "    return output.replace(\"\\n\", \" \")\n",
    "\n",
    "\n",
    "def make_results(query, search_fn, index_set):\n",
    "    results = []\n",
    "    for doc_id, score in search_fn(query, index_set):\n",
    "        highlight = highlight_text(docs_by_id[doc_id], query)\n",
    "        if len(highlight.strip()) == 0:\n",
    "            highlight = docs_by_id[doc_id]\n",
    "        results.append(ResultRow(doc_id, highlight, score))\n",
    "    return results\n",
    "####"
   ]
  },
  {
   "cell_type": "code",
   "execution_count": 56,
   "metadata": {},
   "outputs": [
    {
     "data": {
      "application/vnd.jupyter.widget-view+json": {
       "model_id": "4c8088873dbd427eb9f4e0a38b4633f8",
       "version_major": 2,
       "version_minor": 0
      },
      "text/plain": [
       "Text(value='', description='Search Bar')"
      ]
     },
     "metadata": {},
     "output_type": "display_data"
    }
   ],
   "source": [
    "# TODO: Set this to the function you want to test!\n",
    "# this function should take in a query (string)\n",
    "# and return a sorted list of (doc_id, score) \n",
    "# with the most relevant document in the first position\n",
    "search_fn = bm25_search\n",
    "index_set = 1\n",
    "\n",
    "text = widgets.Text(description=\"Search Bar\", width=200)\n",
    "display(text)\n",
    "\n",
    "def handle_submit(sender):\n",
    "    print(f\"Searching for: '{sender.value}'\")\n",
    "    \n",
    "    results = make_results(sender.value, search_fn, index_set)\n",
    "    \n",
    "    # display only the top 5\n",
    "    results = results[:5]\n",
    "    \n",
    "    body = \"\"\n",
    "    for idx, r in enumerate(results):\n",
    "        body += f\"<li>Document #{r.doc_id}({r.score}): {r.snippet}</li>\"\n",
    "    display(HTML(f\"<ul>{body}</ul>\"))\n",
    "    \n",
    "\n",
    "text.on_submit(handle_submit)"
   ]
  },
  {
   "cell_type": "markdown",
   "metadata": {
    "deletable": false,
    "editable": false,
    "nbgrader": {
     "cell_type": "markdown",
     "checksum": "019b1ff878dc6339dd068e2d48d19904",
     "grade": false,
     "grade_id": "cell-8d46fe8e4f3d8cdb",
     "locked": true,
     "schema_version": 3,
     "solution": false,
     "task": false
    }
   },
   "source": [
    "---\n",
    "\n",
    "## Section 4: Evaluation (40 points) <a class=\"anchor\" id=\"evaluation\"></a>\n",
    "\n",
    "[Back to Part 1](#part1)\n",
    "\n",
    "In order to analyze the effectiveness of retrieval algorithms, we first have to learn how to evaluate such a system. In particular, we will work with offline evaluation metrics. These metrics are computed on a dataset with known relevance judgements.\n",
    "\n",
    "Implement the following evaluation metrics. \n",
    "\n",
    "1. Precision (7 points)\n",
    "2. Recall (7 points)\n",
    "3. Mean Average Precision (13 points)\n",
    "4. Expected Reciprocal Rank (13 points)"
   ]
  },
  {
   "cell_type": "markdown",
   "metadata": {
    "deletable": false,
    "editable": false,
    "nbgrader": {
     "cell_type": "markdown",
     "checksum": "e46f54c7f81d88bbc950b0fae14c4ca5",
     "grade": false,
     "grade_id": "cell-3419fd3bc663d7cc",
     "locked": true,
     "schema_version": 3,
     "solution": false,
     "task": false
    }
   },
   "source": [
    "---\n",
    "### 4.1 Read relevance labels\n",
    "\n",
    "Let's take a look at the `qrels.text` file, which contains the ground truth relevance scores. The relevance labels for CACM are binary - either 0 or 1. \n"
   ]
  },
  {
   "cell_type": "code",
   "execution_count": 57,
   "metadata": {
    "deletable": false,
    "editable": false,
    "nbgrader": {
     "cell_type": "code",
     "checksum": "6c11025f5a222796f2882c73c1634799",
     "grade": false,
     "grade_id": "cell-6b738366059dde9e",
     "locked": true,
     "schema_version": 3,
     "solution": false,
     "task": false
    }
   },
   "outputs": [
    {
     "name": "stdout",
     "output_type": "stream",
     "text": [
      "01 1410  0 0\r\n",
      "01 1572  0 0\r\n",
      "01 1605  0 0\r\n",
      "01 2020  0 0\r\n",
      "01 2358  0 0\r\n",
      "02 2434  0 0\r\n",
      "02 2863  0 0\r\n",
      "02 3078  0 0\r\n",
      "03 1134  0 0\r\n",
      "03 1613  0 0\r\n"
     ]
    }
   ],
   "source": [
    "!head ./datasets/qrels.text"
   ]
  },
  {
   "cell_type": "markdown",
   "metadata": {
    "deletable": false,
    "editable": false,
    "nbgrader": {
     "cell_type": "markdown",
     "checksum": "7ce95245c1597183320d7254afde5c8e",
     "grade": false,
     "grade_id": "cell-10e16bff2753ffbb",
     "locked": true,
     "schema_version": 3,
     "solution": false,
     "task": false
    }
   },
   "source": [
    "---\n",
    "\n",
    "The first column is the query_id and the second column is the document_id. We can safely ignore the 3rd and 4th columns."
   ]
  },
  {
   "cell_type": "code",
   "execution_count": 58,
   "metadata": {
    "deletable": false,
    "nbgrader": {
     "cell_type": "code",
     "checksum": "000c6d59dce08dba0ba1e8d691dbbc2e",
     "grade": false,
     "grade_id": "cell-ee5253a4ef602fce",
     "locked": false,
     "schema_version": 3,
     "solution": true,
     "task": false
    }
   },
   "outputs": [],
   "source": [
    "# YOUR CODE HERE\n",
    "def read_qrels(root_folder = \"./datasets/\"):\n",
    "    \"\"\"\n",
    "        Reads the qrels.text file. \n",
    "        Output: A dictionary: query_id -> [list of relevant documents]\n",
    "    \"\"\"\n",
    "    with open(os.path.join(root_folder, \"qrels.text\")) as reader:\n",
    "        lines = reader.readlines()\n",
    "    \n",
    "    from collections import defaultdict\n",
    "    relevant_docs = defaultdict(set)\n",
    "    for line in lines:\n",
    "        query_id, doc_id, _, _ = line.split()\n",
    "        relevant_docs[str(int(query_id))].add(doc_id)\n",
    "    return relevant_docs"
   ]
  },
  {
   "cell_type": "code",
   "execution_count": 59,
   "metadata": {
    "deletable": false,
    "editable": false,
    "nbgrader": {
     "cell_type": "code",
     "checksum": "d60caeba85c2a97d2211184a5ae91fd1",
     "grade": false,
     "grade_id": "cell-72215605fbe24f65",
     "locked": true,
     "schema_version": 3,
     "solution": false,
     "task": false
    }
   },
   "outputs": [],
   "source": [
    "#### Function check\n",
    "qrels = read_qrels()\n",
    "\n",
    "assert len(qrels) == 52, \"There should be 52 queries with relevance judgements\"\n",
    "assert sum(len(j) for j in qrels.values()) == 796, \"There should be a total of 796 Relevance Judgements\"\n",
    "\n",
    "assert np.min(np.array([len(j) for j in qrels.values()])) == 1\n",
    "assert np.max(np.array([len(j) for j in qrels.values()])) == 51\n",
    "\n",
    "####"
   ]
  },
  {
   "cell_type": "markdown",
   "metadata": {
    "deletable": false,
    "editable": false,
    "nbgrader": {
     "cell_type": "markdown",
     "checksum": "6c9e7428a52e291a2cdf92a379730d4c",
     "grade": false,
     "grade_id": "cell-176a6fb2939d0420",
     "locked": true,
     "schema_version": 3,
     "solution": false,
     "task": false
    }
   },
   "source": [
    "---\n",
    "**Note:** For a given query `query_id`, you can assume that documents *not* in `qrels[query_id]` are not relevant to `query_id`. \n"
   ]
  },
  {
   "cell_type": "markdown",
   "metadata": {
    "deletable": false,
    "editable": false,
    "nbgrader": {
     "cell_type": "markdown",
     "checksum": "b26a818c7b4f7ad490e00b35ea0edd69",
     "grade": false,
     "grade_id": "cell-bd8341b72cdd89bb",
     "locked": true,
     "schema_version": 3,
     "solution": false,
     "task": false
    }
   },
   "source": [
    "---\n",
    "### 4.2 Precision (7 points)\n",
    "Implement the `precision@k` metric:"
   ]
  },
  {
   "cell_type": "code",
   "execution_count": 60,
   "metadata": {
    "deletable": false,
    "nbgrader": {
     "cell_type": "code",
     "checksum": "43dea1979ebdec24ffcfeff71c670433",
     "grade": false,
     "grade_id": "cell-494bd0cce108ed67",
     "locked": false,
     "schema_version": 3,
     "solution": true,
     "task": false
    }
   },
   "outputs": [],
   "source": [
    "# TODO: Implement this! (7 points)\n",
    "def precision_k(results, relevant_docs, k):\n",
    "    \"\"\"\n",
    "        Compute Precision@K\n",
    "        Input: \n",
    "            results: A sorted list of 2-tuples (document_id, score), \n",
    "                    with the most relevant document in the first position\n",
    "            relevant_docs: A set of relevant documents. \n",
    "            k: the cut-off\n",
    "        Output: Precision@K\n",
    "    \"\"\"\n",
    "    if k > len(results):\n",
    "        k = len(results)\n",
    "    # YOUR CODE HERE\n",
    "    relevant = 0\n",
    "    for document_id, score in results[:k]:\n",
    "        if document_id in relevant_docs:\n",
    "            relevant += 1\n",
    "    return relevant/k"
   ]
  },
  {
   "cell_type": "code",
   "execution_count": 61,
   "metadata": {
    "deletable": false,
    "editable": false,
    "nbgrader": {
     "cell_type": "code",
     "checksum": "9222e35582b1840ffb60fd02fb0b60c3",
     "grade": true,
     "grade_id": "cell-e7ff0d91c319ca64",
     "locked": true,
     "points": 7,
     "schema_version": 3,
     "solution": false,
     "task": false
    }
   },
   "outputs": [
    {
     "name": "stdout",
     "output_type": "stream",
     "text": [
      "query: What articles exist which deal with TSS (Time Sharing System), an\n",
      "operating system for IBM computers?\n",
      "precision@10 = 0.2\n"
     ]
    }
   ],
   "source": [
    "\n",
    "#### Function check\n",
    "qid = queries[0][0]\n",
    "qtext = queries[0][1]\n",
    "print(f'query:{qtext}')\n",
    "results = bm25_search(qtext, 2)\n",
    "precision = precision_k(results, qrels[qid], 10)\n",
    "print(f'precision@10 = {precision}')\n",
    "####"
   ]
  },
  {
   "cell_type": "markdown",
   "metadata": {
    "deletable": false,
    "editable": false,
    "nbgrader": {
     "cell_type": "markdown",
     "checksum": "8fd3b3998197c7097a40348500affb68",
     "grade": false,
     "grade_id": "cell-afd95f865bc7191e",
     "locked": true,
     "schema_version": 3,
     "solution": false,
     "task": false
    }
   },
   "source": [
    "---\n",
    "### 4.3 Recall (7 points)\n",
    "Implement the `recall@k` metric:"
   ]
  },
  {
   "cell_type": "code",
   "execution_count": 62,
   "metadata": {
    "deletable": false,
    "nbgrader": {
     "cell_type": "code",
     "checksum": "b2020e5741ae03b3fe35817ed8f4ccaa",
     "grade": false,
     "grade_id": "cell-c323fc8c3f8a7cf8",
     "locked": false,
     "schema_version": 3,
     "solution": true,
     "task": false
    }
   },
   "outputs": [],
   "source": [
    "# TODO: Implement this! (7 points)\n",
    "def recall_k(results, relevant_docs, k):\n",
    "    \"\"\"\n",
    "        Compute Recall@K\n",
    "        Input: \n",
    "            results: A sorted list of 2-tuples (document_id, score), with the most relevant document in the first position\n",
    "            relevant_docs: A set of relevant documents. \n",
    "            k: the cut-off\n",
    "        Output: Recall@K\n",
    "    \"\"\"\n",
    "    # YOUR CODE HERE\n",
    "    if k > len(results):\n",
    "        k = len(results)\n",
    "    relevant = 0\n",
    "    for document_id, score in results[:k]:\n",
    "        if document_id in relevant_docs:\n",
    "            relevant += 1\n",
    "    return relevant/len(relevant_docs)"
   ]
  },
  {
   "cell_type": "code",
   "execution_count": 63,
   "metadata": {
    "deletable": false,
    "editable": false,
    "nbgrader": {
     "cell_type": "code",
     "checksum": "56b6e0b8522f8b2dffbfb3206b2efa84",
     "grade": true,
     "grade_id": "cell-b25172161aef165c",
     "locked": true,
     "points": 7,
     "schema_version": 3,
     "solution": false,
     "task": false
    }
   },
   "outputs": [
    {
     "name": "stdout",
     "output_type": "stream",
     "text": [
      "query: SETL, Very High Level Languages\n",
      "recall@10 = 0.3157894736842105\n"
     ]
    }
   ],
   "source": [
    "#### Function check\n",
    "qid = queries[10][0]\n",
    "qtext = queries[10][1]\n",
    "print(f'query:{qtext}')\n",
    "results = bm25_search(qtext, 2)\n",
    "recall = recall_k(results, qrels[qid], 10)\n",
    "print(f'recall@10 = {recall}')\n",
    "####"
   ]
  },
  {
   "cell_type": "markdown",
   "metadata": {
    "deletable": false,
    "editable": false,
    "nbgrader": {
     "cell_type": "markdown",
     "checksum": "b3d3c7bd1cd977cd07ef5df7d3fbf159",
     "grade": false,
     "grade_id": "cell-77fd2e7a39a74739",
     "locked": true,
     "schema_version": 3,
     "solution": false,
     "task": false
    }
   },
   "source": [
    "---\n",
    "### 4.4 Mean Average Precision (13 points)\n",
    "Implement the `map` metric:"
   ]
  },
  {
   "cell_type": "code",
   "execution_count": 64,
   "metadata": {
    "deletable": false,
    "nbgrader": {
     "cell_type": "code",
     "checksum": "aae2c62f2ffd76f5b6c004e9519b9f14",
     "grade": false,
     "grade_id": "cell-e50925fa9093a30d",
     "locked": false,
     "schema_version": 3,
     "solution": true,
     "task": false
    }
   },
   "outputs": [],
   "source": [
    "# TODO: Implement this! (12 points)\n",
    "def average_precision(results, relevant_docs):\n",
    "    \"\"\"\n",
    "        Compute Average Precision (for a single query - the results are \n",
    "        averaged across queries to get MAP in the next few cells)\n",
    "        Hint: You can use the recall_k and precision_k functions here!\n",
    "        Input: \n",
    "            results: A sorted list of 2-tuples (document_id, score), with the most \n",
    "                    relevant document in the first position\n",
    "            relevant_docs: A set of relevant documents. \n",
    "        Output: Average Precision\n",
    "    \"\"\"\n",
    "    # YOUR CODE HERE\n",
    "    pre_scores = []\n",
    "    relevant = 0\n",
    "    for i, (document_id, _) in enumerate(results):\n",
    "        if document_id in relevant_docs:\n",
    "            relevant += 1\n",
    "            pre_scores.append(relevant / (i+1))\n",
    "    if len(pre_scores) != 0:\n",
    "        return np.mean(pre_scores)\n",
    "    else:\n",
    "        return 0"
   ]
  },
  {
   "cell_type": "code",
   "execution_count": 65,
   "metadata": {
    "deletable": false,
    "editable": false,
    "nbgrader": {
     "cell_type": "code",
     "checksum": "3b00e147c2fa146fa59f179b7c9cab75",
     "grade": true,
     "grade_id": "cell-8a1f7ec98571e58b",
     "locked": true,
     "points": 13,
     "schema_version": 3,
     "solution": false,
     "task": false
    }
   },
   "outputs": [
    {
     "name": "stdout",
     "output_type": "stream",
     "text": [
      "query: computational complexity, intractability, class-complete reductions,\n",
      "algorithms and efficiency\n",
      "MAP = 0.1724040411055945\n"
     ]
    }
   ],
   "source": [
    "#### Function check\n",
    "qid = queries[20][0]\n",
    "qtext = queries[20][1]\n",
    "print(f'query:{qtext}')\n",
    "results = bm25_search(qtext, 2)\n",
    "mean_ap = average_precision(results, qrels[qid])\n",
    "print(f'MAP = {mean_ap}')\n",
    "####"
   ]
  },
  {
   "cell_type": "markdown",
   "metadata": {
    "deletable": false,
    "editable": false,
    "nbgrader": {
     "cell_type": "markdown",
     "checksum": "36f85f45ef52d9467ba9a717d6d99ff2",
     "grade": false,
     "grade_id": "cell-1da18f0fe6f6d7be",
     "locked": true,
     "schema_version": 3,
     "solution": false,
     "task": false
    }
   },
   "source": [
    "---\n",
    "### 4.5 Expected Reciprocal Rank (13 points)\n",
    "Implement the `err` metric:"
   ]
  },
  {
   "cell_type": "code",
   "execution_count": 66,
   "metadata": {
    "deletable": false,
    "nbgrader": {
     "cell_type": "code",
     "checksum": "9ac94db728e23ea1f5dc0d509473c6fb",
     "grade": false,
     "grade_id": "cell-64262889f9b267ea",
     "locked": false,
     "schema_version": 3,
     "solution": true,
     "task": false
    }
   },
   "outputs": [],
   "source": [
    "# TODO: Implement this! (12 points)\n",
    "def err(results, relevant_docs):\n",
    "    \"\"\"\n",
    "        Compute the expected reciprocal rank.\n",
    "        Hint: https://dl.acm.org/doi/pdf/10.1145/1645953.1646033?download=true\n",
    "        Input: \n",
    "            results: A sorted list of 2-tuples (document_id, score), with the most \n",
    "                    relevant document in the first position\n",
    "            relevant_docs: A set of relevant documents. \n",
    "        Output: ERR\n",
    "        \n",
    "    \"\"\"\n",
    "    # YOUR CODE HERE\n",
    "    err_score = 0\n",
    "    p_user_has_not_stoped = 1\n",
    "    for index, (doc_id, _) in enumerate(results):\n",
    "        p_result_relevant = 0.5 if doc_id in relevant_docs else 0\n",
    "        err_score += p_user_has_not_stoped * p_result_relevant / (index+1)\n",
    "        p_user_has_not_stoped = p_user_has_not_stoped * (1-p_result_relevant)\n",
    "    return err_score"
   ]
  },
  {
   "cell_type": "code",
   "execution_count": 67,
   "metadata": {
    "deletable": false,
    "editable": false,
    "nbgrader": {
     "cell_type": "code",
     "checksum": "b7d201de0990b69d5f38704668665d87",
     "grade": true,
     "grade_id": "cell-071e3970ff1afae4",
     "locked": true,
     "points": 13,
     "schema_version": 3,
     "solution": false,
     "task": false
    }
   },
   "outputs": [
    {
     "name": "stdout",
     "output_type": "stream",
     "text": [
      "query: I'd like to find articles describing the use of singular value decomposition\n",
      "in digital image processing.  Applications include finding approximations\n",
      "to the original image and restoring images that are subject to noise. An\n",
      "article on the subject is H.C. Andrews and C.L. Patterson \"Outer product\n",
      "expansions and their uses in digital image processing\", American Mathematical\n",
      "Monthly, vol. 82.\n",
      "ERR = 0.625\n"
     ]
    }
   ],
   "source": [
    "#### Function check\n",
    "qid = queries[30][0]\n",
    "qtext = queries[30][1]\n",
    "print(f'query:{qtext}')\n",
    "results = bm25_search(qtext, 2)\n",
    "ERR = err(results, qrels[qid])\n",
    "print(f'ERR = {ERR}')\n",
    "####"
   ]
  },
  {
   "cell_type": "markdown",
   "metadata": {
    "deletable": false,
    "editable": false,
    "nbgrader": {
     "cell_type": "markdown",
     "checksum": "5bd94caf77cfa5f34675df758d91002d",
     "grade": false,
     "grade_id": "cell-43709a765f353946",
     "locked": true,
     "schema_version": 3,
     "solution": false,
     "task": false
    }
   },
   "source": [
    "---\n",
    "### 4.6 Evaluate Search Functions\n",
    "\n",
    "Let's define some metrics@k using [partial functions](https://docs.python.org/3/library/functools.html#functools.partial)"
   ]
  },
  {
   "cell_type": "code",
   "execution_count": 68,
   "metadata": {
    "deletable": false,
    "editable": false,
    "nbgrader": {
     "cell_type": "code",
     "checksum": "49ccc158e5fb7340ace55e90eeb9d62a",
     "grade": false,
     "grade_id": "cell-dab560e18e340da8",
     "locked": true,
     "schema_version": 3,
     "solution": false,
     "task": false
    }
   },
   "outputs": [],
   "source": [
    "#### metrics@k functions\n",
    "\n",
    "recall_at_1 = partial(recall_k, k=1)\n",
    "recall_at_5 = partial(recall_k, k=5)\n",
    "recall_at_10 = partial(recall_k, k=10)\n",
    "precision_at_1 = partial(precision_k, k=1)\n",
    "precision_at_5 = partial(precision_k, k=5)\n",
    "precision_at_10 = partial(precision_k, k=10)\n",
    "\n",
    "\n",
    "list_of_metrics = [\n",
    "    (\"ERR\", err),\n",
    "    (\"MAP\", average_precision),\n",
    "    (\"Recall@1\",recall_at_1),\n",
    "    (\"Recall@5\", recall_at_5),\n",
    "    (\"Recall@10\", recall_at_10),\n",
    "    (\"Precision@1\", precision_at_1),\n",
    "    (\"Precision@5\", precision_at_5),\n",
    "    (\"Precision@10\", precision_at_10)]\n",
    "####"
   ]
  },
  {
   "cell_type": "markdown",
   "metadata": {
    "deletable": false,
    "editable": false,
    "nbgrader": {
     "cell_type": "markdown",
     "checksum": "fb541002c03221b453b8936290020ea5",
     "grade": false,
     "grade_id": "cell-580a2bdc66d03b47",
     "locked": true,
     "schema_version": 3,
     "solution": false,
     "task": false
    }
   },
   "source": [
    "---\n",
    "\n",
    "The following function evaluates a `search_fn` using the `metric_fn`. Note that the final number is averaged over all the queries"
   ]
  },
  {
   "cell_type": "code",
   "execution_count": 69,
   "metadata": {},
   "outputs": [],
   "source": [
    "#### Evaluate a search function\n",
    "\n",
    "list_of_search_fns = [\n",
    "    (\"BOW\", bow_search),\n",
    "    (\"TF-IDF\", tfidf_search),\n",
    "    (\"NaiveQL\", naive_ql_search),\n",
    "    (\"QL\", ql_search),\n",
    "    (\"BM25\", bm25_search)\n",
    "]\n",
    "\n",
    "def evaluate_search_fn(search_fn, metric_fns, index_set=None):\n",
    "    # build a dict query_id -> query \n",
    "    queries_by_id = dict((q[0], q[1]) for q in queries)\n",
    "    \n",
    "    metrics = {}\n",
    "    for metric, metric_fn in metric_fns:\n",
    "        metrics[metric] = np.zeros(len(qrels), dtype=np.float32)\n",
    "    \n",
    "    for i, (query_id, relevant_docs) in enumerate(qrels.items()):\n",
    "        query = queries_by_id[query_id]\n",
    "        if index_set:\n",
    "            results = search_fn(query, index_set)\n",
    "        else:\n",
    "            results = search_fn(query)\n",
    "        \n",
    "        for metric, metric_fn in metric_fns:\n",
    "            metrics[metric][i] = metric_fn(results, relevant_docs)\n",
    "\n",
    "    \n",
    "    \n",
    "    final_dict = {}\n",
    "    for metric, metric_vals in metrics.items():\n",
    "        final_dict[metric] = metric_vals.mean()\n",
    "    \n",
    "    return final_dict\n",
    "####"
   ]
  },
  {
   "cell_type": "markdown",
   "metadata": {
    "deletable": false,
    "editable": false,
    "nbgrader": {
     "cell_type": "markdown",
     "checksum": "6ea67534f74a8f81e1f504794f641709",
     "grade": false,
     "grade_id": "cell-b156d83a0649cbb4",
     "locked": true,
     "schema_version": 3,
     "solution": false,
     "task": false
    }
   },
   "source": [
    "## Section 5: Analysis (30 points) <a class=\"anchor\" id=\"analysis\"></a>\n",
    "\n",
    "[Back to Part 1](#part1)\n",
    "\n",
    "In the final section of Part1, we will compare the different term-based IR algorithms and different preprocessing configurations and analyze their advantages and disadvantages.\n",
    "\n",
    "### Section 5.1: Plot (20 points)\n",
    "\n",
    "First, gather the results. The results should consider the index set, the different search functions and different metrics. Plot the results in bar charts, per metric, with clear labels.\n",
    "\n",
    "**Rubric:**\n",
    "- Each Metric is plotted: 7 points\n",
    "- Each Method is plotted: 7 points\n",
    "- Clear titles, x label, y labels and legends (if applicable): 6 points"
   ]
  },
  {
   "cell_type": "code",
   "execution_count": 70,
   "metadata": {
    "deletable": false,
    "nbgrader": {
     "cell_type": "code",
     "checksum": "7e2588a925d13ddf588abe8311dc9cfc",
     "grade": true,
     "grade_id": "cell-46fda42a25863a04",
     "locked": false,
     "points": 20,
     "schema_version": 3,
     "solution": true,
     "task": false
    },
    "scrolled": false
   },
   "outputs": [
    {
     "data": {
      "image/png": "[encoded data removed]",
      "text/plain": [
       "<Figure size 720x360 with 1 Axes>"
      ]
     },
     "metadata": {
      "needs_background": "light"
     },
     "output_type": "display_data"
    },
    {
     "data": {
      "image/png": "[encoded data removed]",
      "text/plain": [
       "<Figure size 720x360 with 1 Axes>"
      ]
     },
     "metadata": {
      "needs_background": "light"
     },
     "output_type": "display_data"
    },
    {
     "data": {
      "image/png": "[encoded data removed]",
      "text/plain": [
       "<Figure size 720x360 with 1 Axes>"
      ]
     },
     "metadata": {
      "needs_background": "light"
     },
     "output_type": "display_data"
    },
    {
     "data": {
      "image/png": "[encoded data removed]",
      "text/plain": [
       "<Figure size 720x360 with 1 Axes>"
      ]
     },
     "metadata": {
      "needs_background": "light"
     },
     "output_type": "display_data"
    },
    {
     "data": {
      "image/png": "[encoded data removed]",
      "text/plain": [
       "<Figure size 720x360 with 1 Axes>"
      ]
     },
     "metadata": {
      "needs_background": "light"
     },
     "output_type": "display_data"
    },
    {
     "data": {
      "image/png": "[encoded data removed]",
      "text/plain": [
       "<Figure size 720x360 with 1 Axes>"
      ]
     },
     "metadata": {
      "needs_background": "light"
     },
     "output_type": "display_data"
    },
    {
     "data": {
      "image/png": "[encoded data removed]",
      "text/plain": [
       "<Figure size 720x360 with 1 Axes>"
      ]
     },
     "metadata": {
      "needs_background": "light"
     },
     "output_type": "display_data"
    },
    {
     "data": {
      "image/png": "[encoded data removed]",
      "text/plain": [
       "<Figure size 720x360 with 1 Axes>"
      ]
     },
     "metadata": {
      "needs_background": "light"
     },
     "output_type": "display_data"
    }
   ],
   "source": [
    "# YOUR CODE HERE\n",
    "indices = [1,2]\n",
    "data_index_1, data_index_2 = [], []\n",
    "for method, method_fn in list_of_search_fns:\n",
    "    for index in indices:\n",
    "        dictionary = evaluate_search_fn(method_fn, list_of_metrics, index)\n",
    "        #print(f'method : {method}' \" \" 'with' \" \" f'index : {index}', dictionary)\n",
    "        #print('================================================================')\n",
    "        values = list(dictionary.values())\n",
    "        if index == 1:\n",
    "            data_index_1.append(values)\n",
    "        else:\n",
    "            data_index_2.append(values)\n",
    "metrics = list(dictionary.keys())\n",
    "X = np.arange(len(list_of_search_fns))\n",
    "bar_width = 0.15\n",
    "\n",
    "#plot result for each metric\n",
    "for i, metric in enumerate(metrics):\n",
    "    fig = plt.figure(figsize=(10,5))\n",
    "    index_plots = defaultdict(list)\n",
    "    for search_function in list_of_search_fns:\n",
    "        index_plots[0].append(plt.bar(X + i * bar_width, [method[i] for method in data_index_1], bar_width, label=\"Index 1\", color='b'))\n",
    "        index_plots[1].append(plt.bar(X + i * bar_width + bar_width, [method[i] for method in data_index_2], bar_width, label= \"Index 2\", color='r'))\n",
    "    plt.xticks(X + i * bar_width + bar_width/2 , [method[0] for method in list_of_search_fns])\n",
    "    plt.legend([tuple(index_plots[0]), tuple(index_plots[1])], [\"Index 1\", \"Index 2\"])\n",
    "    plt.title(f'Metric: {metric}')\n",
    "    plt.ylabel(f'{metric}')\n",
    "    plt.xlabel('Search Function')\n",
    "    plt.grid(axis = 'y', linestyle = '--')\n",
    "    fig.tight_layout()\n",
    "    plt.show()"
   ]
  },
  {
   "cell_type": "markdown",
   "metadata": {
    "deletable": false,
    "editable": false,
    "nbgrader": {
     "cell_type": "markdown",
     "checksum": "e88c444a0acf4e398c65e289169b75f7",
     "grade": false,
     "grade_id": "cell-8aabe3bcf265deb0",
     "locked": true,
     "points": 10,
     "schema_version": 3,
     "solution": false,
     "task": true
    }
   },
   "source": [
    "---\n",
    "### Section 5.2: Summary (10 points)\n",
    "Write a summary of what you observe in the results.\n",
    "Your summary should compare results across the 2 indices and the methods being used. State what you expected to see in the results, followed by either supporting evidence *or* justify why the results did not support your expectations.      "
   ]
  },
  {
   "cell_type": "markdown",
   "metadata": {},
   "source": [
    "The first conclusion to be drawn is that the results for the second index are always better than the ones for the first index. This was expected since the configuration used for the second index includes stemming, stopwords removal, and lowercasing as opposed to the first configuration, which only contains lowercasing. Accordingly, since the processing pipeline is more advanced for the second index, it allows the tokens of the index to match better with the ones of the query. Hence, the results are also better. \n",
    "\n",
    "Secondly, one can observe each plot looks similar in terms of the ranking of the search functions and the relative difference between their scores. Generally, every graph displays BM25 achieving the best scores, followed closely by TF-IDF and QL. Then, BOW and NaiveQL have comparable results but significantly lower. \n",
    "\n",
    "Next, it comes as no surprise that QL performs better than Naive QL as the main purpose of the first method is to include smoothing to solve the naive method's problem, namely dealing with vocabulary terms that do not appear in a document. Moreover, one could expect BM25 to outperform the other algorithms because it is the most complex method, combining the strengths of TF-IDF and QL_search. When it comes to BOW, its weak scores are anticipated since it is relatively basic compared to the other ones. Finally, although Naive QL deals with long documents by dividing their length, it has a major drawback when vocabulary terms do not appear in documents. Hence, it was expected to perform poorly. \n",
    "\n",
    "Nevertheless, there are a couple of exceptions to the previously described pattern. For the recall at rank 1, TF-IDF achieves the best score for index 1. Additionally, assessing the Precision at rank 1, one can see TF-IDF scores slightly better than BM25 and QL for index 2. One possible explanation is that TF-IDF scores best by chance as the variability of the results gets larger when the rank of the metric goes lower. More precisely, precision at rank 1 has a larger confidence interval than precision at rank 5. As a confirmation, the methods converge to the ranking described in the first paragraph (i.e. BM25 > QL ~ TF-IDF >> Naive QL ~ BOW) as the rank of the metric increases."
   ]
  },
  {
   "cell_type": "markdown",
   "metadata": {
    "deletable": false,
    "editable": false,
    "nbgrader": {
     "cell_type": "markdown",
     "checksum": "b3eb77be74eecca205fc7b47316d1627",
     "grade": false,
     "grade_id": "cell-bb60dd5c092d0f2e",
     "locked": true,
     "schema_version": 3,
     "solution": false,
     "task": false
    }
   },
   "source": [
    "---\n",
    "---\n",
    "# Part 2: Semantic-based Matching (85 points) <a class=\"anchor\" id=\"part2\"></a>\n",
    "\n",
    "[Back to top](#top)\n",
    "\n",
    "We will now experiment with methods that go beyond lexical methods like TF-IDF, which operate at the word level and are high dimensional and sparse, and look at methods which constructs low dimensional dense representations of queries and documents. \n",
    "\n",
    "Since these low-dimensional methods have a higher time complexity, they are typically used in conjunction with methods like BM-25. That is, instead of searching through potentially million documents to find matches using low dimensional vectors, a list of K documents are retrieved using BM25, and then **re-ranked** using the other method. This is the method that is going to be applied in the following exercises. \n",
    "\n",
    "LSI/LDA takes documents that are similar on a semantic level - for instance, if they are describing the same topic - and projects them into nearby vectors, despite having low lexical overlap.\n",
    "\n",
    "In this assignment, you will use `gensim` to create LSI/LDA models and use them in re-ranking. \n",
    "\n",
    "**Note**: The following exercises only uses `doc_repr_2` and `config_2`\n",
    "\n",
    "Table of contents:\n",
    "- [Section 6: LSI](#lsi) (15 points)\n",
    "- [Section 7: LDA](#lda) (10 points)\n",
    "- [Section 8: Word2Vec/Doc2Vec](#2vec) (20 points)\n",
    "- [Section 8: Re-ranking](#reranking) (10 points)\n",
    "- [Section 9: Re-ranking Evaluation](#reranking_eval) (30 points)"
   ]
  },
  {
   "cell_type": "markdown",
   "metadata": {
    "deletable": false,
    "editable": false,
    "nbgrader": {
     "cell_type": "markdown",
     "checksum": "f7c7b2cab82f576ed0acf836ca57171c",
     "grade": false,
     "grade_id": "cell-6b2c81e7a8abd180",
     "locked": true,
     "schema_version": 3,
     "solution": false,
     "task": false
    }
   },
   "source": [
    "---\n",
    "## Section 6: Latent Semantic Indexing (LSI) (15 points) <a class=\"anchor\" id=\"lsi\"></a>\n",
    "\n",
    "[Back to Part 2](#part2)\n",
    "\n",
    "LSI is one of the methods to embed the queries and documents into vectors. It is based on a method similar to Principal Component Analysis (PCA) for obtaining a dense concept matrix out of the sparse term-document matrix.\n",
    "\n",
    "See [wikipedia](https://en.wikipedia.org/wiki/Latent_semantic_analysis), particularly [#Mathematics_of_LSI](https://en.wikipedia.org/wiki/Latent_semantic_analysis#Mathematics_of_LSI)."
   ]
  },
  {
   "cell_type": "code",
   "execution_count": 71,
   "metadata": {
    "deletable": false,
    "editable": false,
    "nbgrader": {
     "cell_type": "code",
     "checksum": "c17ee75319cb517e2bf48ec3d9efc329",
     "grade": false,
     "grade_id": "cell-59913daee47f680d",
     "locked": true,
     "schema_version": 3,
     "solution": false,
     "task": false
    }
   },
   "outputs": [],
   "source": [
    "from gensim.corpora import Dictionary\n",
    "from gensim.models import LdaModel, LsiModel, Word2Vec\n",
    "from gensim.models.doc2vec import Doc2Vec, TaggedDocument\n",
    "from gensim import downloader as g_downloader\n",
    "# gensim uses logging, so set it up \n",
    "import logging\n",
    "logging.basicConfig(format='%(asctime)s : %(levelname)s : %(message)s', level=logging.INFO)"
   ]
  },
  {
   "cell_type": "markdown",
   "metadata": {
    "deletable": false,
    "editable": false,
    "nbgrader": {
     "cell_type": "markdown",
     "checksum": "5fce140c546759b54a9fc060901ae77c",
     "grade": false,
     "grade_id": "cell-3644faff4976598a",
     "locked": true,
     "schema_version": 3,
     "solution": false,
     "task": false
    }
   },
   "source": [
    "---\n",
    "### Section 6.1: Cosine Similarity (5 points)<a class=\"anchor\" id=\"cosing_sim\"></a>\n",
    "Before we begin, let us first define our method of similarity for the LSI model, the cosine similarity:\n",
    "\n",
    "$$\\text{similarity} = \\cos(\\theta) = {\\mathbf{A} \\cdot \\mathbf{B} \\over \\|\\mathbf{A}\\| \\|\\mathbf{B}\\|} = \\frac{ \\sum\\limits_{i=1}^{n}{A_i  B_i} }{ \\sqrt{\\sum\\limits_{i=1}^{n}{A_i^2}}  \\sqrt{\\sum\\limits_{i=1}^{n}{B_i^2}} }$$\n",
    "\n",
    "Since we are using gensim, the types of vectors returned by their classes are of the form defined below (they are not just simple vectors):"
   ]
  },
  {
   "cell_type": "code",
   "execution_count": 72,
   "metadata": {
    "deletable": false,
    "editable": false,
    "nbgrader": {
     "cell_type": "code",
     "checksum": "4e340e1a1d546f430c018fd0760e707a",
     "grade": false,
     "grade_id": "cell-3995a50f951314d5",
     "locked": true,
     "schema_version": 3,
     "solution": false,
     "task": false
    }
   },
   "outputs": [],
   "source": [
    "# 1, 2, 3 are either latent dimensions (LSI), or topics (LDA)\n",
    "# The second value in each tuple is a number (LSI) or a probability (LDA)  \n",
    "example_vec_1 = [(1, 0.2), (2, 0.3), (3, 0.4)]\n",
    "example_vec_2 = [(1, 0.2), (2, 0.7), (3, 0.4)]"
   ]
  },
  {
   "cell_type": "markdown",
   "metadata": {
    "deletable": false,
    "editable": false,
    "nbgrader": {
     "cell_type": "markdown",
     "checksum": "20832fd4f579f49ae204b0efee02edd1",
     "grade": false,
     "grade_id": "cell-5e54d581858dc8f7",
     "locked": true,
     "schema_version": 3,
     "solution": false,
     "task": false
    }
   },
   "source": [
    "---\n",
    "**Implementation (2+3 points):**\n",
    "Now, implement the `dot product` operation on these types of vectors and using this operator, implement the `cosine similarity` (don't forget: two functions to implement!):"
   ]
  },
  {
   "cell_type": "code",
   "execution_count": 73,
   "metadata": {
    "deletable": false,
    "nbgrader": {
     "cell_type": "code",
     "checksum": "06a712ee75fc213a21c5f0067fd8fe28",
     "grade": false,
     "grade_id": "cell-0e8189f5f93de33f",
     "locked": false,
     "schema_version": 3,
     "solution": true,
     "task": false
    }
   },
   "outputs": [],
   "source": [
    "# TODO: Implement this! (2 points)\n",
    "def dot(vec_1,vec_2): \n",
    "    \"\"\"\n",
    "        vec_1 and vec_2 are of the form: [(int, float), (int, float), ...]\n",
    "        Return the dot product of two such vectors, computed only on the floats\n",
    "        You can assume that the lengths of the vectors are the same, and the dimensions are aligned \n",
    "            i.e you won't get: vec_1 = [(1, 0.2)] ; vec_2 = [(2, 0.3)] \n",
    "                                (dimensions are unaligned and lengths are different)\n",
    "    \"\"\"\n",
    "    # YOUR CODE HERE\n",
    "    vec_1 = np.array([b for (a,b) in vec_1])\n",
    "    vec_2 = np.array([b for (a,b) in vec_2])\n",
    "    if vec_1.shape != vec_2.shape:\n",
    "        return 0\n",
    "    return np.dot(vec_1, vec_2)\n",
    "\n",
    "\n",
    "\n",
    "# TODO: Implement this! (3 points)\n",
    "def cosine_sim(vec_1, vec_2):\n",
    "    # YOUR CODE HERE\n",
    "    return dot(vec_1, vec_2) / (np.linalg.norm(np.array([b for (a,b) in vec_1])) * np.linalg.norm(np.array([b for (a,b) in vec_2])))"
   ]
  },
  {
   "cell_type": "code",
   "execution_count": 74,
   "metadata": {
    "deletable": false,
    "editable": false,
    "nbgrader": {
     "cell_type": "code",
     "checksum": "d22a4a7325ba7815a808390388f534a1",
     "grade": true,
     "grade_id": "cell-b25d04ed6b79fd35",
     "locked": true,
     "points": 2,
     "schema_version": 3,
     "solution": false,
     "task": false
    }
   },
   "outputs": [
    {
     "name": "stdout",
     "output_type": "stream",
     "text": [
      "vectors: ([(1, 0.2), (2, 0.3), (3, 0.4)], [(1, 0.2), (2, 0.7), (3, 0.4)])\n",
      "dot product = 0.41000000000000003\n",
      "cosine similarity = 0.9165587597202866\n"
     ]
    }
   ],
   "source": [
    "##### Function check\n",
    "print(f'vectors: {(example_vec_1,example_vec_2)}')\n",
    "print(f'dot product = {dot(example_vec_1,example_vec_2)}')\n",
    "print(f'cosine similarity = {cosine_sim(example_vec_1,example_vec_2)}')\n",
    "##### "
   ]
  },
  {
   "cell_type": "code",
   "execution_count": 75,
   "metadata": {
    "deletable": false,
    "editable": false,
    "nbgrader": {
     "cell_type": "code",
     "checksum": "0744131724ce76b1b3f163b4bae5f700",
     "grade": true,
     "grade_id": "cell-ae3c4466866ace77",
     "locked": true,
     "points": 3,
     "schema_version": 3,
     "solution": false,
     "task": false
    }
   },
   "outputs": [],
   "source": [
    "#### Please do not change this. This cell is used for grading."
   ]
  },
  {
   "cell_type": "markdown",
   "metadata": {
    "deletable": false,
    "editable": false,
    "nbgrader": {
     "cell_type": "markdown",
     "checksum": "9b123f599f9ea372d14676e23f1c6a52",
     "grade": false,
     "grade_id": "cell-4b2534067c44fcdf",
     "locked": true,
     "schema_version": 3,
     "solution": false,
     "task": false
    }
   },
   "source": [
    "---\n",
    "### Section 6.2: LSI Retrieval (10 points)<a class=\"anchor\" id=\"lsi_retrieval\"></a>\n",
    "LSI retrieval is simply ranking the documents based on their cosine similarity to the query vector.\n",
    "First, let's write a parent class for vector-based retrieval models:"
   ]
  },
  {
   "cell_type": "code",
   "execution_count": 76,
   "metadata": {
    "deletable": false,
    "editable": false,
    "nbgrader": {
     "cell_type": "code",
     "checksum": "ecc111d58182570e2252b8ef5d6b02af",
     "grade": false,
     "grade_id": "cell-937936cea18711ee",
     "locked": true,
     "schema_version": 3,
     "solution": false,
     "task": false
    }
   },
   "outputs": [],
   "source": [
    "class VectorSpaceRetrievalModel:\n",
    "    \"\"\"\n",
    "        Parent class for Dense Vector Retrieval models\n",
    "    \"\"\"\n",
    "    def __init__(self, doc_repr):\n",
    "        \"\"\"\n",
    "            document_collection: \n",
    "                [\n",
    "                    (doc_id_1, [token 1, token 2, ...]), \n",
    "                    (doc_id_2, [token 1, token 2, ....]) \n",
    "                    ...\n",
    "                ]\n",
    "\n",
    "        \"\"\"\n",
    "        self.doc_repr = doc_repr\n",
    "        self.documents = [_[1] for _ in self.doc_repr]\n",
    "        \n",
    "        # construct a dictionary\n",
    "        self.dictionary = Dictionary(self.documents)\n",
    "        # Filter out words that occur less than 20 documents, or more than 50% of the documents.\n",
    "        self.dictionary.filter_extremes(no_below=10)\n",
    "        self.corpus = [self.dictionary.doc2bow(doc) for doc in self.documents]\n",
    "    \n",
    "        # Make a index to word dictionary.\n",
    "        temp = self.dictionary[0]  # This is only to \"load\" the dictionary.\n",
    "        self.id2word = self.dictionary.id2token\n",
    "        \n",
    "        # this is set by the train_model function\n",
    "        self.model = None\n",
    "        \n",
    "        \n",
    "    def vectorize_documents(self):\n",
    "        \"\"\"\n",
    "            Returns a doc_id -> vector dictionary\n",
    "        \"\"\"\n",
    "        vectors = {}\n",
    "        for (doc_id, _), cc in zip(self.doc_repr, self.corpus):\n",
    "            vectors[doc_id] = self.model[cc]\n",
    "        return vectors\n",
    "\n",
    "    def vectorize_query(self, query):\n",
    "        # Note the use of config_2 here!\n",
    "        query = process_text(query, **config_2)\n",
    "        query_vector = self.dictionary.doc2bow(query)\n",
    "        return self.model[query_vector]\n",
    "    \n",
    "    def train_model(self):\n",
    "        \"\"\"\n",
    "            Trains a model and sets the 'self.model' variable. \n",
    "            Make sure to use the variables created in the __init__ method.\n",
    "            e.g the variables which may be useful: {corpus, dictionary, id2word}\n",
    "        \"\"\"\n",
    "        raise NotImplementedError()"
   ]
  },
  {
   "cell_type": "markdown",
   "metadata": {
    "deletable": false,
    "editable": false,
    "nbgrader": {
     "cell_type": "markdown",
     "checksum": "ff161eefd9b81b768cd6361bc1a502b0",
     "grade": false,
     "grade_id": "cell-704a18c2f80cd60c",
     "locked": true,
     "schema_version": 3,
     "solution": false,
     "task": false
    }
   },
   "source": [
    "---\n",
    "**Implementation (5 points):**\n",
    "Implement the `train_model` method in the following class (note that this is only one line of code in `gensim`!). Ensure that the parameters defined in the `__init__` method are not changed, and are *used in the `train_method` function*. Normally, the hyperaparameter space will be searched using grid search / other methods - in this assignment we have provided the hyperparameters for you.\n",
    "\n",
    "The last two lines of code train an LSI model on the list of documents which have been stemmed, lower-cased and have stopwords removed. "
   ]
  },
  {
   "cell_type": "code",
   "execution_count": 77,
   "metadata": {
    "deletable": false,
    "nbgrader": {
     "cell_type": "code",
     "checksum": "0e90eedc27c248bc1ae050518a46a46c",
     "grade": false,
     "grade_id": "cell-307682c9089f15d6",
     "locked": false,
     "schema_version": 3,
     "solution": true,
     "task": false
    }
   },
   "outputs": [],
   "source": [
    "# TODO: Implement this! (5 points)\n",
    "class LsiRetrievalModel(VectorSpaceRetrievalModel):\n",
    "    def __init__(self, doc_repr):\n",
    "        super().__init__(doc_repr)\n",
    "        \n",
    "        self.num_topics = 100\n",
    "        self.chunksize = 2000\n",
    "    \n",
    "    def train_model(self):\n",
    "        # YOUR CODE HERE\n",
    "        self.model = LsiModel(corpus=self.corpus, num_topics=self.num_topics, id2word=self.id2word, chunksize=self.chunksize)"
   ]
  },
  {
   "cell_type": "code",
   "execution_count": 78,
   "metadata": {
    "deletable": false,
    "editable": false,
    "nbgrader": {
     "cell_type": "code",
     "checksum": "00399cfe13d60cb4beed1271e36004b0",
     "grade": true,
     "grade_id": "cell-5ce512650c1b2dfb",
     "locked": true,
     "points": 0,
     "schema_version": 3,
     "solution": false,
     "task": false
    }
   },
   "outputs": [
    {
     "name": "stderr",
     "output_type": "stream",
     "text": [
      "2022-02-28 23:03:12,429 : INFO : adding document #0 to Dictionary(0 unique tokens: [])\n",
      "2022-02-28 23:03:12,534 : INFO : built Dictionary(5937 unique tokens: ['-', 'algebra', 'intern', 'languag', 'preliminari']...) from 3204 documents (total 115969 corpus positions)\n",
      "2022-02-28 23:03:12,540 : INFO : discarding 4740 tokens: [('repeat', 8), ('glossari', 7), ('inspect', 8), ('uncol', 2), ('rung', 9), ('secant', 2), ('.', 1603), ('acceler', 6), ('diverg', 3), ('induc', 9)]...\n",
      "2022-02-28 23:03:12,541 : INFO : keeping 1197 tokens which were in no less than 10 and no more than 1602 (=50.0%) documents\n",
      "2022-02-28 23:03:12,543 : INFO : resulting dictionary: Dictionary(1197 unique tokens: ['-', 'algebra', 'intern', 'languag', 'preliminari']...)\n",
      "2022-02-28 23:03:12,602 : INFO : using serial LSI version on this node\n",
      "2022-02-28 23:03:12,602 : INFO : updating model with new documents\n",
      "2022-02-28 23:03:12,603 : INFO : preparing a new chunk of documents\n",
      "2022-02-28 23:03:12,613 : INFO : using 100 extra samples and 2 power iterations\n",
      "2022-02-28 23:03:12,614 : INFO : 1st phase: constructing (1197, 200) action matrix\n",
      "2022-02-28 23:03:12,631 : INFO : orthonormalizing (1197, 200) action matrix\n",
      "2022-02-28 23:03:12,732 : INFO : 2nd phase: running dense svd on (200, 2000) matrix\n",
      "2022-02-28 23:03:12,828 : INFO : computing the final decomposition\n",
      "2022-02-28 23:03:12,834 : INFO : keeping 100 factors (discarding 13.442% of energy spectrum)\n",
      "2022-02-28 23:03:12,865 : INFO : processed documents up to #2000\n",
      "2022-02-28 23:03:12,868 : INFO : topic #0(152.127): 0.741*\",\" + 0.342*\"-\" + 0.211*\"system\" + 0.204*\"program\" + 0.192*\"comput\" + 0.146*\"(\" + 0.127*\"languag\" + 0.108*\")\" + 0.084*\"gener\" + 0.083*\"data\"\n",
      "2022-02-28 23:03:12,876 : INFO : topic #1(60.600): -0.607*\"(\" + -0.434*\")\" + -0.366*\"algorithm\" + -0.300*\"-\" + 0.237*\",\" + 0.213*\"system\" + 0.132*\"comput\" + -0.096*\"[\" + 0.093*\"program\" + -0.084*\"])\"\n",
      "2022-02-28 23:03:12,881 : INFO : topic #2(57.438): 0.744*\"-\" + -0.452*\",\" + 0.263*\"system\" + -0.214*\"(\" + -0.166*\")\" + 0.107*\"time\" + 0.105*\"program\" + -0.094*\"algorithm\" + 0.068*\"comput\" + 0.067*\"share\"\n",
      "2022-02-28 23:03:12,891 : INFO : topic #3(48.370): -0.483*\"system\" + -0.375*\"program\" + -0.367*\"comput\" + 0.363*\"-\" + 0.308*\",\" + -0.212*\"(\" + -0.168*\")\" + -0.147*\"algorithm\" + 0.144*\"languag\" + -0.119*\"time\"\n",
      "2022-02-28 23:03:12,893 : INFO : topic #4(45.710): 0.489*\"comput\" + -0.475*\"languag\" + -0.428*\"program\" + 0.238*\"method\" + 0.141*\"problem\" + -0.121*\"system\" + -0.109*\")\" + 0.107*\"equat\" + 0.100*\"algorithm\" + -0.099*\"(\"\n",
      "2022-02-28 23:03:12,895 : INFO : preparing a new chunk of documents\n",
      "2022-02-28 23:03:12,939 : INFO : using 100 extra samples and 2 power iterations\n",
      "2022-02-28 23:03:12,944 : INFO : 1st phase: constructing (1197, 200) action matrix\n",
      "2022-02-28 23:03:12,985 : INFO : orthonormalizing (1197, 200) action matrix\n",
      "2022-02-28 23:03:13,291 : INFO : 2nd phase: running dense svd on (200, 1204) matrix\n",
      "2022-02-28 23:03:13,431 : INFO : computing the final decomposition\n",
      "2022-02-28 23:03:13,433 : INFO : keeping 100 factors (discarding 14.040% of energy spectrum)\n",
      "2022-02-28 23:03:13,452 : INFO : merging projections: (1197, 100) + (1197, 100)\n",
      "2022-02-28 23:03:13,526 : INFO : keeping 100 factors (discarding 8.168% of energy spectrum)\n",
      "2022-02-28 23:03:13,548 : INFO : processed documents up to #3204\n",
      "2022-02-28 23:03:13,552 : INFO : topic #0(225.136): 0.759*\",\" + 0.337*\"-\" + 0.196*\"system\" + 0.186*\"program\" + 0.166*\"comput\" + 0.139*\"(\" + 0.103*\")\" + 0.103*\"algorithm\" + 0.099*\"languag\" + 0.087*\"time\"\n",
      "2022-02-28 23:03:13,555 : INFO : topic #1(87.805): 0.613*\"-\" + -0.399*\",\" + 0.399*\"(\" + 0.326*\"algorithm\" + 0.293*\")\" + -0.129*\"system\" + -0.107*\"program\" + 0.085*\"method\" + 0.077*\"time\" + 0.062*\"1\"\n",
      "2022-02-28 23:03:13,567 : INFO : topic #2(81.909): 0.550*\"-\" + -0.434*\"(\" + 0.355*\"system\" + -0.321*\")\" + -0.291*\",\" + -0.266*\"algorithm\" + 0.146*\"program\" + 0.123*\"comput\" + 0.078*\"time\" + -0.064*\"[\"\n",
      "2022-02-28 23:03:13,571 : INFO : topic #3(72.433): -0.693*\"program\" + 0.339*\",\" + 0.279*\"-\" + -0.251*\"(\" + -0.221*\"system\" + -0.214*\"languag\" + -0.204*\")\" + -0.160*\"comput\" + -0.099*\"data\" + -0.056*\"execut\"\n",
      "2022-02-28 23:03:13,577 : INFO : topic #4(68.523): -0.673*\"system\" + 0.453*\"program\" + 0.254*\"languag\" + 0.212*\"-\" + -0.179*\"comput\" + -0.165*\"(\" + -0.121*\")\" + -0.115*\"model\" + 0.101*\",\" + -0.098*\"algorithm\"\n"
     ]
    },
    {
     "data": {
      "text/plain": [
       "[(0, 0.015212486859184606),\n",
       " (1, -0.016262238128742033),\n",
       " (2, -0.00023439864394768188),\n",
       " (3, -0.0018147772687144136),\n",
       " (4, -0.009435277422037836),\n",
       " (5, -0.004662695377306764),\n",
       " (6, 0.027020407501979544),\n",
       " (7, 0.01663983586081748),\n",
       " (8, -0.03180722880869896),\n",
       " (9, -0.0006258822552084528),\n",
       " (10, 0.00216008364768362),\n",
       " (11, -0.017234355296542936),\n",
       " (12, 0.0002545918645605865),\n",
       " (13, 0.001144884438797158),\n",
       " (14, 0.003914651274200232),\n",
       " (15, 0.005211693009748445),\n",
       " (16, 0.006216366210270374),\n",
       " (17, 0.002981955273892615),\n",
       " (18, -0.017789465326986824),\n",
       " (19, 0.020032436274524588),\n",
       " (20, -0.0096621398790371),\n",
       " (21, -0.014441573128452683),\n",
       " (22, 0.04725183851176938),\n",
       " (23, 0.02675583200434143),\n",
       " (24, -0.007618660304917299),\n",
       " (25, -0.013370034254597108),\n",
       " (26, 0.005447461843797435),\n",
       " (27, 0.07828990215403583),\n",
       " (28, -0.057340285672019986),\n",
       " (29, 0.031314510917822634),\n",
       " (30, 0.04007633528868333),\n",
       " (31, 0.04525726899827779),\n",
       " (32, -0.07187795883232617),\n",
       " (33, 0.049500246375482435),\n",
       " (34, -0.02350228323467245),\n",
       " (35, 0.06492383557411413),\n",
       " (36, 0.03879803897720907),\n",
       " (37, -0.01228524108312305),\n",
       " (38, -0.06060343428228521),\n",
       " (39, 0.023940014533190085),\n",
       " (40, -0.04467688103223261),\n",
       " (41, -0.0358677200995528),\n",
       " (42, 0.02227339839057684),\n",
       " (43, 0.007975182679992712),\n",
       " (44, 0.018965629959181492),\n",
       " (45, 0.057188869644973585),\n",
       " (46, -0.008507062494814296),\n",
       " (47, 0.00934873852002493),\n",
       " (48, 0.0189174943837246),\n",
       " (49, 0.028424191857164497),\n",
       " (50, 0.012181336039800011),\n",
       " (51, 0.05390291506600737),\n",
       " (52, -0.002128359106308323),\n",
       " (53, -0.0014943565250225),\n",
       " (54, 0.041584109715561854),\n",
       " (55, -0.007435265881878109),\n",
       " (56, 0.027816070420310854),\n",
       " (57, -0.01527002503660494),\n",
       " (58, -0.008816016685722126),\n",
       " (59, 0.05099499432314879),\n",
       " (60, -0.009703185682993791),\n",
       " (61, -0.04741370254043074),\n",
       " (62, -0.006519538582063549),\n",
       " (63, -0.037919351525933606),\n",
       " (64, 0.04418302988696373),\n",
       " (65, 0.04989142453434182),\n",
       " (66, -0.0009404235491374561),\n",
       " (67, 0.04539147001677904),\n",
       " (68, -0.060879266493750715),\n",
       " (69, -0.02324844169858271),\n",
       " (70, -0.06724301752215914),\n",
       " (71, -0.011583014867558923),\n",
       " (72, 0.0038907878652998298),\n",
       " (73, 0.07797770095530576),\n",
       " (74, 0.08753303327040227),\n",
       " (75, -0.028986564652767464),\n",
       " (76, 0.011709008296257102),\n",
       " (77, -0.002052129328827746),\n",
       " (78, 0.058299913982949855),\n",
       " (79, 0.02421706246798023),\n",
       " (80, 0.010753605875888965),\n",
       " (81, -0.0015981319032040975),\n",
       " (82, 0.05584233889070013),\n",
       " (83, 0.03191315754511251),\n",
       " (84, -0.018319804597106228),\n",
       " (85, 0.025447524283086394),\n",
       " (86, -0.039821423457360755),\n",
       " (87, -0.04208177248550575),\n",
       " (88, -0.05865808492072164),\n",
       " (89, 0.06793076726831668),\n",
       " (90, -0.04607770841070194),\n",
       " (91, 0.027572308738381738),\n",
       " (92, -0.005130716792555599),\n",
       " (93, -0.039205801836583606),\n",
       " (94, 0.07912292998808777),\n",
       " (95, -0.027295281682233958),\n",
       " (96, -0.0014842573231799647),\n",
       " (97, -0.0005269822342985984),\n",
       " (98, -0.025101270304845547),\n",
       " (99, 0.012466700090476825)]"
      ]
     },
     "execution_count": 78,
     "metadata": {},
     "output_type": "execute_result"
    }
   ],
   "source": [
    "##### Function check\n",
    "lsi = LsiRetrievalModel(doc_repr_2)\n",
    "lsi.train_model()\n",
    "\n",
    "# you can now get an LSI vector for a given query in the following way:\n",
    "lsi.vectorize_query(\"report\")\n",
    "##### "
   ]
  },
  {
   "cell_type": "markdown",
   "metadata": {
    "deletable": false,
    "editable": false,
    "nbgrader": {
     "cell_type": "markdown",
     "checksum": "7116bb9f576c5bb04934e1d59c51d729",
     "grade": false,
     "grade_id": "cell-4c5eeb557b4fca2f",
     "locked": true,
     "points": 5,
     "schema_version": 3,
     "solution": false,
     "task": true
    }
   },
   "source": [
    "\\#### Please do not change this. This cell is used for grading."
   ]
  },
  {
   "cell_type": "markdown",
   "metadata": {
    "deletable": false,
    "editable": false,
    "nbgrader": {
     "cell_type": "markdown",
     "checksum": "26e2ff3c413745e633d99f66c041d6b1",
     "grade": false,
     "grade_id": "cell-c4e50296cd17a555",
     "locked": true,
     "schema_version": 3,
     "solution": false,
     "task": false
    }
   },
   "source": [
    "---\n",
    "**Implementation (5 points):**\n",
    " Next, implement a basic ranking class for vector space retrieval (used for all semantic methods): "
   ]
  },
  {
   "cell_type": "code",
   "execution_count": 79,
   "metadata": {
    "deletable": false,
    "nbgrader": {
     "cell_type": "code",
     "checksum": "1a8389d2f0635c3405e2b0b27ed9f327",
     "grade": false,
     "grade_id": "cell-250515d288e80cdc",
     "locked": false,
     "schema_version": 3,
     "solution": true,
     "task": false
    }
   },
   "outputs": [],
   "source": [
    "# TODO: Implement this! (5 points)\n",
    "class DenseRetrievalRanker:\n",
    "    def __init__(self, vsrm, similarity_fn):\n",
    "        \"\"\"\n",
    "            vsrm: instance of `VectorSpaceRetrievalModel`\n",
    "            similarity_fn: function instance that takes in two vectors \n",
    "                            and returns a similarity score e.g cosine_sim defined earlier\n",
    "        \"\"\"\n",
    "        self.vsrm = vsrm \n",
    "        self.vectorized_documents = self.vsrm.vectorize_documents()\n",
    "        self.similarity_fn = similarity_fn\n",
    "    \n",
    "    def _compute_sim(self, query_vector):\n",
    "        \"\"\"\n",
    "            Compute the similarity of `query_vector` to documents in \n",
    "            `self.vectorized_documents` using `self.similarity_fn`\n",
    "            Returns a list of (doc_id, score) tuples\n",
    "        \"\"\"\n",
    "        # YOUR CODE HERE\n",
    "        return [(key ,self.similarity_fn(query_vector, value)) for key, value in self.vectorized_documents.items()]\n",
    "    \n",
    "    def search(self, query):\n",
    "        scores = self._compute_sim(self.vsrm.vectorize_query(query))\n",
    "        scores.sort(key=lambda _:-_[1])\n",
    "        return scores "
   ]
  },
  {
   "cell_type": "code",
   "execution_count": 80,
   "metadata": {
    "deletable": false,
    "editable": false,
    "nbgrader": {
     "cell_type": "code",
     "checksum": "f237dd1ef6c1783c06797f4b514421f5",
     "grade": true,
     "grade_id": "cell-b73068b3e77a8e31",
     "locked": true,
     "points": 0,
     "schema_version": 3,
     "solution": false,
     "task": false
    }
   },
   "outputs": [
    {
     "name": "stderr",
     "output_type": "stream",
     "text": [
      "/home/sila/anaconda3/envs/ir_env/lib/python3.6/site-packages/ipykernel_launcher.py:22: RuntimeWarning: invalid value encountered in double_scalars\n"
     ]
    },
    {
     "data": {
      "text/plain": [
       "[('599', 0.793250830259822),\n",
       " ('53', 0.5101123089856474),\n",
       " ('1339', 0.44416690063137393),\n",
       " ('3160', 0.43936206401879224),\n",
       " ('196', 0.4163167845014836)]"
      ]
     },
     "execution_count": 80,
     "metadata": {},
     "output_type": "execute_result"
    }
   ],
   "source": [
    "##### Function check\n",
    "drm_lsi = DenseRetrievalRanker(lsi, cosine_sim)\n",
    "drm_lsi.search(\"report\")[:5]\n",
    "##### "
   ]
  },
  {
   "cell_type": "markdown",
   "metadata": {
    "deletable": false,
    "editable": false,
    "nbgrader": {
     "cell_type": "markdown",
     "checksum": "5b3f19fdcaa585d263706d5a26038799",
     "grade": false,
     "grade_id": "cell-034c755a6502b868",
     "locked": true,
     "points": 5,
     "schema_version": 3,
     "solution": false,
     "task": true
    }
   },
   "source": [
    "\\#### Please do not change this. This cell is used for grading."
   ]
  },
  {
   "cell_type": "markdown",
   "metadata": {
    "deletable": false,
    "editable": false,
    "nbgrader": {
     "cell_type": "markdown",
     "checksum": "dcafef6e037033c46304b914f7c78bdf",
     "grade": false,
     "grade_id": "cell-d1df23f497d5ed6b",
     "locked": true,
     "schema_version": 3,
     "solution": false,
     "task": false
    }
   },
   "source": [
    "---\n",
    "Now, you can test your LSI model in the following cell: try finding queries which are lexically different to documents, but semantically similar - does LSI work well for these queries?!"
   ]
  },
  {
   "cell_type": "code",
   "execution_count": 81,
   "metadata": {
    "deletable": false,
    "editable": false,
    "nbgrader": {
     "cell_type": "code",
     "checksum": "11734bc7674377b340ad51297a8e8bb5",
     "grade": false,
     "grade_id": "cell-efd1d08dfc04ec3e",
     "locked": true,
     "schema_version": 3,
     "solution": false,
     "task": false
    }
   },
   "outputs": [
    {
     "data": {
      "application/vnd.jupyter.widget-view+json": {
       "model_id": "054cfee0eca942109798cb931dc0ef72",
       "version_major": 2,
       "version_minor": 0
      },
      "text/plain": [
       "Text(value='', description='Search Bar')"
      ]
     },
     "metadata": {},
     "output_type": "display_data"
    }
   ],
   "source": [
    "# test your LSI model\n",
    "search_fn = drm_lsi.search\n",
    "\n",
    "text = widgets.Text(description=\"Search Bar\", width=200)\n",
    "display(text)\n",
    "\n",
    "def make_results_2(query, search_fn):\n",
    "    results = []\n",
    "    for doc_id, score in search_fn(query):\n",
    "        highlight = highlight_text(docs_by_id[doc_id], query)\n",
    "        if len(highlight.strip()) == 0:\n",
    "            highlight = docs_by_id[doc_id]\n",
    "        results.append(ResultRow(doc_id, highlight, score))\n",
    "    return results\n",
    "\n",
    "def handle_submit_2(sender):\n",
    "    print(f\"Searching for: '{sender.value}' (SEARCH FN: {search_fn})\")\n",
    "    \n",
    "    results = make_results_2(sender.value, search_fn)\n",
    "    \n",
    "    # display only the top 5\n",
    "    results = results[:5]\n",
    "    \n",
    "    body = \"\"\n",
    "    for idx, r in enumerate(results):\n",
    "        body += f\"<li>Document #{r.doc_id}({r.score}): {r.snippet}</li>\"\n",
    "    display(HTML(f\"<ul>{body}</ul>\"))\n",
    "    \n",
    "\n",
    "text.on_submit(handle_submit_2)"
   ]
  },
  {
   "cell_type": "markdown",
   "metadata": {
    "deletable": false,
    "editable": false,
    "nbgrader": {
     "cell_type": "markdown",
     "checksum": "d074ce1ca48384cdda78742741c938be",
     "grade": false,
     "grade_id": "cell-3a86cef264d8f6cf",
     "locked": true,
     "schema_version": 3,
     "solution": false,
     "task": false
    }
   },
   "source": [
    "---\n",
    "## Section 7: Latent Dirichlet Allocation (LDA) (10 points) <a class=\"anchor\" id=\"lda\"></a>\n",
    "\n",
    "[Back to Part 2](#part2)\n",
    "\n",
    "The specifics of LDA is out of the scope of this assignment, but we will use the `gensim` implementation to perform search using LDA over our small document collection. The key thing to remember is that LDA, unlike LSI, outputs a topic **distribution**, not a vector. With that in mind, let's first define a similarity measure.\n"
   ]
  },
  {
   "cell_type": "markdown",
   "metadata": {
    "deletable": false,
    "editable": false,
    "nbgrader": {
     "cell_type": "markdown",
     "checksum": "db01092373b18f0c9dfed1bb17db4ad9",
     "grade": false,
     "grade_id": "cell-6b78ad22c2d60ba7",
     "locked": true,
     "schema_version": 3,
     "solution": false,
     "task": false
    }
   },
   "source": [
    "---\n",
    "### Section 7.1: Jenson-Shannon divergence (5 points) <a class=\"anchor\" id=\"js_sim\"></a>\n",
    "\n",
    "The Jenson-Shannon divergence is a symmetric and finite measure on two probability distributions (unlike the KL, which is neither). For identical distributions, the JSD is equal to 0, and since our code uses 0 as irrelevant and higher scores as relevant, we use `(1 - JSD)` as the score or 'similarity' in our setup\n",
    "\n",
    "**Note**: the JSD is bounded to \\[0,1\\] only if we use log base 2. So please ensure that you're using `np.log2` instead of `np.log`"
   ]
  },
  {
   "cell_type": "code",
   "execution_count": 82,
   "metadata": {
    "deletable": false,
    "nbgrader": {
     "cell_type": "code",
     "checksum": "a579e6cd7a24a3516bc9a84528b392d3",
     "grade": false,
     "grade_id": "cell-d2376a85a4841e98",
     "locked": false,
     "schema_version": 3,
     "solution": true,
     "task": false
    }
   },
   "outputs": [],
   "source": [
    "## TODO: Implement this! (5 points)\n",
    "\n",
    "def kl_divergence(p, q):\n",
    "    return np.sum(np.where(p != 0, p * np.log2(p / q), 0))\n",
    "\n",
    "def jenson_shannon_divergence(vec_1, vec_2, assert_prob=False):\n",
    "    \"\"\"\n",
    "        Computes the Jensen-Shannon divergence between two probability distributions. \n",
    "        NOTE: DO NOT RETURN 1 - JSD here, that is handled by the next function which is already implemented! \n",
    "        The inputs are *gensim* vectors - same as the vectors for the cosine_sim function\n",
    "        assert_prob is a flag that checks if the inputs are proper probability distributions \n",
    "            i.e they sum to 1 and are positive - use this to check your inputs if needed. \n",
    "                (This is optional to implement, but recommended - \n",
    "                you can the default to False to save a few ms off the runtime)\n",
    "    \"\"\"\n",
    "    # YOUR CODE HERE\n",
    "    P = np.array([b for (a,b) in vec_1])\n",
    "    Q = np.array([b for (a,b) in vec_2])\n",
    "    if assert_prob:\n",
    "        assert((P > 0).all() and (Q > 0).all())\n",
    "        assert(np.sum(P) == 1.0 and np.sum(Q) == 1.0)\n",
    "    M = 0.5 * (P + Q)\n",
    "    return 0.5 * (kl_divergence(P, M) + kl_divergence(Q, M))\n",
    "\n",
    "def jenson_shannon_sim(vec_1, vec_2, assert_prob=False):\n",
    "    return 1 - jenson_shannon_divergence(vec_1, vec_2)\n",
    "\n"
   ]
  },
  {
   "cell_type": "code",
   "execution_count": 83,
   "metadata": {
    "deletable": false,
    "editable": false,
    "nbgrader": {
     "cell_type": "code",
     "checksum": "ab340aa941c9fb5c89b3fd0a9139e246",
     "grade": true,
     "grade_id": "cell-487c6d2933f38053",
     "locked": true,
     "points": 5,
     "schema_version": 3,
     "solution": false,
     "task": false
    }
   },
   "outputs": [
    {
     "data": {
      "text/plain": [
       "0.9251064410358459"
      ]
     },
     "execution_count": 83,
     "metadata": {},
     "output_type": "execute_result"
    }
   ],
   "source": [
    "##### Function check\n",
    "vec_1 = [(1, 0.3), (2, 0.4), (3, 0.3)]\n",
    "vec_2 = [(1, 0.1), (2, 0.7), (3, 0.2)]\n",
    "jenson_shannon_sim(vec_1, vec_2, assert_prob=True)\n",
    "##### "
   ]
  },
  {
   "cell_type": "markdown",
   "metadata": {
    "deletable": false,
    "editable": false,
    "nbgrader": {
     "cell_type": "markdown",
     "checksum": "0a1583a5f23e3390038331cce67f5d8e",
     "grade": false,
     "grade_id": "cell-4535cc67a50b80fa",
     "locked": true,
     "schema_version": 3,
     "solution": false,
     "task": false
    }
   },
   "source": [
    "---\n",
    "### Section 7.2: LDA retrieval (5 points) <a class=\"anchor\" id=\"lda_ret\"></a>\n",
    "\n",
    "Implement the `train_model` method in the following class (note that this is only one line of code in `gensim`!). Ensure that the parameters defined in the `__init__` method are not changed, and are *used in the `train_method` function*. You do not need to set this. Normally, the hyperaparameter space will be searched using grid search / other methods. Note that training the LDA model might take some time\n",
    "\n",
    "The last two lines of code train an LDA model on the list of documents which have been stemmed, lower-cased and have stopwords removed. "
   ]
  },
  {
   "cell_type": "code",
   "execution_count": 84,
   "metadata": {
    "deletable": false,
    "nbgrader": {
     "cell_type": "code",
     "checksum": "27de8e4fa85536bb396b73bfc51b3f50",
     "grade": false,
     "grade_id": "cell-021a48dff4a8bb91",
     "locked": false,
     "schema_version": 3,
     "solution": true,
     "task": false
    }
   },
   "outputs": [],
   "source": [
    "# TODO: Implement this! (5 points)\n",
    "class LdaRetrievalModel(VectorSpaceRetrievalModel):\n",
    "    def __init__(self, doc_repr):\n",
    "        super().__init__(doc_repr)\n",
    "        \n",
    "        # use these parameters in the train_model method\n",
    "        self.num_topics = 100\n",
    "        self.chunksize = 2000\n",
    "        self.passes = 20\n",
    "        self.iterations = 400\n",
    "        self.eval_every = 10\n",
    "        # this is need to get full vectors\n",
    "        self.minimum_probability=0.0\n",
    "        self.alpha='auto'\n",
    "        self.eta='auto'\n",
    "    \n",
    "    \n",
    "    def train_model(self):\n",
    "        # YOUR CODE HERE\n",
    "        self.model = LdaModel(corpus = self.corpus, num_topics=self.num_topics, chunksize=self.chunksize, passes=self.passes, iterations=self.iterations, eval_every=self.eval_every,\\\n",
    "                                minimum_probability=self.minimum_probability, alpha=self.alpha, eta=self.eta)"
   ]
  },
  {
   "cell_type": "code",
   "execution_count": 85,
   "metadata": {
    "deletable": false,
    "editable": false,
    "nbgrader": {
     "cell_type": "code",
     "checksum": "be70fcb8098d0b6ce64cd2a10e6a05b7",
     "grade": true,
     "grade_id": "cell-86750b715f0345fd",
     "locked": true,
     "points": 0,
     "schema_version": 3,
     "solution": false,
     "task": false
    }
   },
   "outputs": [
    {
     "name": "stderr",
     "output_type": "stream",
     "text": [
      "2022-02-28 23:03:14,556 : INFO : adding document #0 to Dictionary(0 unique tokens: [])\n",
      "2022-02-28 23:03:14,665 : INFO : built Dictionary(5937 unique tokens: ['-', 'algebra', 'intern', 'languag', 'preliminari']...) from 3204 documents (total 115969 corpus positions)\n",
      "2022-02-28 23:03:14,671 : INFO : discarding 4740 tokens: [('repeat', 8), ('glossari', 7), ('inspect', 8), ('uncol', 2), ('rung', 9), ('secant', 2), ('.', 1603), ('acceler', 6), ('diverg', 3), ('induc', 9)]...\n",
      "2022-02-28 23:03:14,672 : INFO : keeping 1197 tokens which were in no less than 10 and no more than 1602 (=50.0%) documents\n",
      "2022-02-28 23:03:14,674 : INFO : resulting dictionary: Dictionary(1197 unique tokens: ['-', 'algebra', 'intern', 'languag', 'preliminari']...)\n",
      "2022-02-28 23:03:14,751 : WARNING : no word id mapping provided; initializing from corpus, assuming identity\n",
      "2022-02-28 23:03:14,758 : INFO : using autotuned alpha, starting with [0.01, 0.01, 0.01, 0.01, 0.01, 0.01, 0.01, 0.01, 0.01, 0.01, 0.01, 0.01, 0.01, 0.01, 0.01, 0.01, 0.01, 0.01, 0.01, 0.01, 0.01, 0.01, 0.01, 0.01, 0.01, 0.01, 0.01, 0.01, 0.01, 0.01, 0.01, 0.01, 0.01, 0.01, 0.01, 0.01, 0.01, 0.01, 0.01, 0.01, 0.01, 0.01, 0.01, 0.01, 0.01, 0.01, 0.01, 0.01, 0.01, 0.01, 0.01, 0.01, 0.01, 0.01, 0.01, 0.01, 0.01, 0.01, 0.01, 0.01, 0.01, 0.01, 0.01, 0.01, 0.01, 0.01, 0.01, 0.01, 0.01, 0.01, 0.01, 0.01, 0.01, 0.01, 0.01, 0.01, 0.01, 0.01, 0.01, 0.01, 0.01, 0.01, 0.01, 0.01, 0.01, 0.01, 0.01, 0.01, 0.01, 0.01, 0.01, 0.01, 0.01, 0.01, 0.01, 0.01, 0.01, 0.01, 0.01, 0.01]\n",
      "2022-02-28 23:03:14,759 : INFO : using serial LDA version on this node\n",
      "2022-02-28 23:03:14,771 : INFO : running online (multi-pass) LDA training, 100 topics, 20 passes over the supplied corpus of 3204 documents, updating model once every 2000 documents, evaluating perplexity every 3204 documents, iterating 400x with a convergence threshold of 0.001000\n",
      "2022-02-28 23:03:14,772 : INFO : PROGRESS: pass 0, at document #2000/3204\n",
      "2022-02-28 23:03:17,535 : INFO : optimized alpha [0.009772828, 0.009861059, 0.00988697, 0.009793434, 0.009819902, 0.009809239, 0.009799024, 0.009944768, 0.009871691, 0.009971267, 0.0098872045, 0.009783234, 0.009778174, 0.009788433, 0.009788481, 0.009835005, 0.009819336, 0.009850769, 0.009835424, 0.009814214, 0.009803777, 0.0099233035, 0.009834976, 0.009767801, 0.00984554, 0.00983531, 0.009804091, 0.009835479, 0.009804174, 0.009845517, 0.009788425, 0.009814254, 0.009798565, 0.009808292, 0.0098237805, 0.009798779, 0.009923075, 0.009846243, 0.009767801, 0.0098090805, 0.009798132, 0.009834409, 0.009819914, 0.0097781215, 0.009831909, 0.009855466, 0.009803845, 0.009824196, 0.009829947, 0.009865799, 0.009819599, 0.009778009, 0.0098265605, 0.009912875, 0.009860829, 0.009803896, 0.010043496, 0.009804031, 0.010006327, 0.00991355, 0.009767761, 0.009814263, 0.0098816715, 0.009799013, 0.0097728865, 0.009804317, 0.009829339, 0.009777997, 0.009798925, 0.009772959, 0.009782834, 0.0098704435, 0.009824372, 0.009840396, 0.009803565, 0.009793882, 0.00981445, 0.009861104, 0.009794081, 0.009788269, 0.009798984, 0.009818904, 0.009896955, 0.009840357, 0.009808936, 0.00979346, 0.009788466, 0.009803934, 0.009778044, 0.009861216, 0.009793315, 0.009824262, 0.0097986, 0.009938908, 0.009788557, 0.009886494, 0.00978309, 0.009824451, 0.009814322, 0.0098302765]\n",
      "2022-02-28 23:03:17,546 : INFO : merging changes from 2000 documents into a model of 3204 documents\n",
      "2022-02-28 23:03:17,561 : INFO : topic #0 (0.010): 0.062*\"755\" + 0.062*\"41\" + 0.062*\"314\" + 0.031*\"754\" + 0.031*\"291\" + 0.031*\"175\" + 0.031*\"678\" + 0.031*\"441\" + 0.031*\"767\" + 0.031*\"85\"\n",
      "2022-02-28 23:03:17,562 : INFO : topic #79 (0.010): 0.067*\"611\" + 0.067*\"34\" + 0.067*\"1015\" + 0.067*\"83\" + 0.054*\"350\" + 0.040*\"698\" + 0.040*\"0\" + 0.027*\"223\" + 0.027*\"905\" + 0.027*\"69\"\n",
      "2022-02-28 23:03:17,563 : INFO : topic #36 (0.010): 0.063*\"50\" + 0.038*\"0\" + 0.036*\"49\" + 0.021*\"13\" + 0.020*\"146\" + 0.017*\"34\" + 0.015*\"83\" + 0.012*\"352\" + 0.012*\"6\" + 0.010*\"57\"\n",
      "2022-02-28 23:03:17,564 : INFO : topic #58 (0.010): 0.066*\"50\" + 0.052*\"0\" + 0.027*\"34\" + 0.020*\"49\" + 0.019*\"83\" + 0.018*\"35\" + 0.018*\"6\" + 0.017*\"146\" + 0.013*\"13\" + 0.010*\"239\"\n",
      "2022-02-28 23:03:17,565 : INFO : topic #56 (0.010): 0.074*\"50\" + 0.031*\"0\" + 0.022*\"3\" + 0.018*\"34\" + 0.017*\"13\" + 0.016*\"6\" + 0.015*\"35\" + 0.014*\"73\" + 0.014*\"49\" + 0.014*\"83\"\n",
      "2022-02-28 23:03:17,566 : INFO : topic diff=83.046188, rho=1.000000\n",
      "2022-02-28 23:03:19,385 : INFO : -7.285 per-word bound, 155.9 perplexity estimate based on a held-out corpus of 1204 documents with 49783 words\n",
      "2022-02-28 23:03:19,386 : INFO : PROGRESS: pass 0, at document #3204/3204\n",
      "2022-02-28 23:03:20,773 : INFO : optimized alpha [0.009696092, 0.0102159735, 0.009951956, 0.00978694, 0.009903525, 0.009945831, 0.009776029, 0.010165129, 0.010266513, 0.010428534, 0.009970203, 0.009910211, 0.009796404, 0.009864273, 0.009841914, 0.009905433, 0.009971797, 0.010158899, 0.010007119, 0.010031434, 0.009680416, 0.010138208, 0.009776088, 0.009785061, 0.009957872, 0.010149337, 0.010056499, 0.009935815, 0.009921588, 0.010063199, 0.009963793, 0.009802503, 0.009838748, 0.010083239, 0.009946743, 0.0099567305, 0.01027632, 0.010086135, 0.010164043, 0.009685776, 0.009727667, 0.010202834, 0.010068807, 0.009842548, 0.009925203, 0.009902616, 0.009785848, 0.009706465, 0.010226628, 0.009882899, 0.0101152025, 0.009637849, 0.009972792, 0.010002458, 0.009901632, 0.009833129, 0.010440892, 0.009880853, 0.0104340855, 0.010218482, 0.009994223, 0.009873304, 0.009958421, 0.009935384, 0.009911044, 0.009840331, 0.009734345, 0.009898977, 0.010005092, 0.00991273, 0.009959143, 0.010443123, 0.009747529, 0.010070319, 0.009732336, 0.009906377, 0.009897545, 0.010400095, 0.0098753255, 0.009676768, 0.010052089, 0.009694476, 0.009842018, 0.010142643, 0.009784835, 0.009810671, 0.009876179, 0.010333621, 0.009870862, 0.010045843, 0.009751849, 0.009811445, 0.009926902, 0.009919455, 0.009941525, 0.010033982, 0.009672343, 0.009777426, 0.009966969, 0.01046415]\n",
      "2022-02-28 23:03:20,784 : INFO : merging changes from 1204 documents into a model of 3204 documents\n",
      "2022-02-28 23:03:20,797 : INFO : topic #51 (0.010): 0.161*\"397\" + 0.068*\"487\" + 0.043*\"659\" + 0.043*\"87\" + 0.040*\"805\" + 0.039*\"295\" + 0.038*\"565\" + 0.034*\"349\" + 0.031*\"584\" + 0.030*\"143\"\n",
      "2022-02-28 23:03:20,798 : INFO : topic #79 (0.010): 0.112*\"905\" + 0.106*\"350\" + 0.086*\"83\" + 0.062*\"223\" + 0.060*\"34\" + 0.058*\"611\" + 0.047*\"0\" + 0.044*\"698\" + 0.037*\"314\" + 0.030*\"535\"\n",
      "2022-02-28 23:03:20,800 : INFO : topic #99 (0.010): 0.056*\"50\" + 0.029*\"843\" + 0.025*\"146\" + 0.023*\"174\" + 0.018*\"20\" + 0.018*\"13\" + 0.018*\"242\" + 0.017*\"320\" + 0.017*\"390\" + 0.015*\"83\"\n",
      "2022-02-28 23:03:20,801 : INFO : topic #9 (0.010): 0.055*\"50\" + 0.054*\"0\" + 0.039*\"49\" + 0.026*\"6\" + 0.019*\"41\" + 0.016*\"13\" + 0.015*\"146\" + 0.015*\"518\" + 0.013*\"29\" + 0.013*\"186\"\n",
      "2022-02-28 23:03:20,802 : INFO : topic #71 (0.010): 0.151*\"34\" + 0.147*\"35\" + 0.119*\"83\" + 0.079*\"859\" + 0.034*\"611\" + 0.030*\"50\" + 0.022*\"454\" + 0.019*\"296\" + 0.017*\"54\" + 0.016*\"0\"\n",
      "2022-02-28 23:03:20,803 : INFO : topic diff=0.728193, rho=0.707107\n",
      "2022-02-28 23:03:20,815 : INFO : PROGRESS: pass 1, at document #2000/3204\n",
      "2022-02-28 23:03:22,746 : INFO : optimized alpha [0.009681002, 0.010160214, 0.009862454, 0.009736589, 0.00981231, 0.009940811, 0.009742437, 0.010070591, 0.010238518, 0.010400425, 0.009888325, 0.009975921, 0.0097621735, 0.009864838, 0.009775079, 0.009856568, 0.009928688, 0.01013211, 0.009905303, 0.010078168, 0.009740232, 0.01006025, 0.009692712, 0.010017911, 0.009878547, 0.010073671, 0.009974101, 0.009851366, 0.009908658, 0.009975731, 0.009894136, 0.0097029535, 0.009826595, 0.010051179, 0.009830201, 0.009967257, 0.010220643, 0.010050569, 0.010197248, 0.009635302, 0.009810764, 0.010513344, 0.010022098, 0.009852064, 0.0098594045, 0.009977633, 0.009743565, 0.009658344, 0.0101624075, 0.0097944345, 0.01011882, 0.009739041, 0.009924487, 0.00994174, 0.009870976, 0.009818648, 0.0103734, 0.009829583, 0.010344067, 0.010175184, 0.010006213, 0.009892763, 0.009913701, 0.009856371, 0.009939536, 0.009768826, 0.009701042, 0.009938404, 0.009950916, 0.009999552, 0.009943368, 0.010704994, 0.0097087445, 0.009990835, 0.009738224, 0.009860048, 0.0098168645, 0.010360209, 0.0098785, 0.009711713, 0.009953742, 0.009700725, 0.009823103, 0.010124212, 0.009833693, 0.009822803, 0.009955963, 0.010326754, 0.009887204, 0.010010817, 0.010123643, 0.009755649, 0.009889891, 0.009844452, 0.009911933, 0.009977227, 0.010286762, 0.00974099, 0.009942743, 0.010395111]\n"
     ]
    },
    {
     "name": "stderr",
     "output_type": "stream",
     "text": [
      "2022-02-28 23:03:22,757 : INFO : merging changes from 2000 documents into a model of 3204 documents\n",
      "2022-02-28 23:03:22,770 : INFO : topic #39 (0.010): 0.069*\"0\" + 0.043*\"115\" + 0.038*\"668\" + 0.035*\"128\" + 0.034*\"154\" + 0.029*\"315\" + 0.024*\"520\" + 0.024*\"50\" + 0.024*\"1098\" + 0.022*\"392\"\n",
      "2022-02-28 23:03:22,771 : INFO : topic #47 (0.010): 0.174*\"398\" + 0.065*\"458\" + 0.055*\"83\" + 0.046*\"50\" + 0.036*\"34\" + 0.036*\"667\" + 0.034*\"117\" + 0.029*\"0\" + 0.027*\"1017\" + 0.024*\"35\"\n",
      "2022-02-28 23:03:22,771 : INFO : topic #99 (0.010): 0.055*\"50\" + 0.030*\"843\" + 0.024*\"146\" + 0.022*\"174\" + 0.020*\"20\" + 0.020*\"13\" + 0.017*\"320\" + 0.016*\"390\" + 0.015*\"242\" + 0.014*\"15\"\n",
      "2022-02-28 23:03:22,772 : INFO : topic #41 (0.011): 0.178*\"34\" + 0.153*\"83\" + 0.140*\"35\" + 0.045*\"19\" + 0.036*\"254\" + 0.033*\"12\" + 0.033*\"611\" + 0.028*\"631\" + 0.026*\"222\" + 0.024*\"73\"\n",
      "2022-02-28 23:03:22,773 : INFO : topic #71 (0.011): 0.174*\"34\" + 0.159*\"35\" + 0.123*\"83\" + 0.045*\"859\" + 0.029*\"50\" + 0.025*\"273\" + 0.024*\"611\" + 0.022*\"54\" + 0.022*\"296\" + 0.020*\"36\"\n",
      "2022-02-28 23:03:22,774 : INFO : topic diff=0.293730, rho=0.526900\n",
      "2022-02-28 23:03:24,819 : INFO : -6.895 per-word bound, 119.0 perplexity estimate based on a held-out corpus of 1204 documents with 49783 words\n",
      "2022-02-28 23:03:24,820 : INFO : PROGRESS: pass 1, at document #3204/3204\n",
      "2022-02-28 23:03:26,644 : INFO : optimized alpha [0.009760638, 0.010386778, 0.009934327, 0.009764313, 0.009884235, 0.010100207, 0.009766607, 0.010185598, 0.010561243, 0.010654261, 0.009907023, 0.010206723, 0.009864008, 0.010004582, 0.009855107, 0.009975586, 0.010095554, 0.010427432, 0.009958895, 0.0102447765, 0.009771612, 0.010157735, 0.009700852, 0.010168992, 0.009980065, 0.010305234, 0.010163042, 0.009957827, 0.010044496, 0.010147617, 0.010121975, 0.009762153, 0.009931188, 0.010396411, 0.009892928, 0.01015599, 0.010478035, 0.010207423, 0.010620592, 0.009601129, 0.009911045, 0.010743198, 0.010248985, 0.010022473, 0.009982189, 0.010091934, 0.009818964, 0.009701163, 0.01043932, 0.009783517, 0.0103958165, 0.0097360145, 0.0100867655, 0.0099605005, 0.0099290395, 0.009920011, 0.010537915, 0.009909682, 0.010546219, 0.010422408, 0.010419041, 0.010033568, 0.010020299, 0.009962659, 0.010209007, 0.009784254, 0.009776657, 0.010093955, 0.010096226, 0.010253641, 0.010119433, 0.011262871, 0.0096944105, 0.010158576, 0.009735594, 0.010001698, 0.009893506, 0.010777724, 0.010008942, 0.009705199, 0.010117269, 0.009685539, 0.009780656, 0.010374133, 0.009929136, 0.009923807, 0.010109009, 0.010788543, 0.010008934, 0.010113229, 0.010158628, 0.009860878, 0.010021217, 0.009837692, 0.010091819, 0.010070044, 0.010644896, 0.009778684, 0.010109575, 0.0108479345]\n",
      "2022-02-28 23:03:26,655 : INFO : merging changes from 1204 documents into a model of 3204 documents\n",
      "2022-02-28 23:03:26,667 : INFO : topic #39 (0.010): 0.084*\"0\" + 0.075*\"668\" + 0.051*\"115\" + 0.041*\"128\" + 0.033*\"315\" + 0.030*\"1098\" + 0.028*\"50\" + 0.028*\"392\" + 0.027*\"154\" + 0.020*\"629\"\n",
      "2022-02-28 23:03:26,669 : INFO : topic #72 (0.010): 0.074*\"1008\" + 0.051*\"50\" + 0.049*\"1142\" + 0.044*\"491\" + 0.044*\"83\" + 0.032*\"356\" + 0.030*\"394\" + 0.029*\"192\" + 0.029*\"490\" + 0.025*\"768\"\n",
      "2022-02-28 23:03:26,669 : INFO : topic #99 (0.011): 0.057*\"50\" + 0.040*\"843\" + 0.027*\"146\" + 0.024*\"174\" + 0.023*\"242\" + 0.021*\"390\" + 0.017*\"13\" + 0.016*\"320\" + 0.015*\"1050\" + 0.015*\"20\"\n",
      "2022-02-28 23:03:26,670 : INFO : topic #87 (0.011): 0.065*\"83\" + 0.054*\"50\" + 0.052*\"1083\" + 0.043*\"79\" + 0.034*\"1183\" + 0.034*\"34\" + 0.033*\"24\" + 0.032*\"918\" + 0.030*\"36\" + 0.028*\"146\"\n",
      "2022-02-28 23:03:26,671 : INFO : topic #71 (0.011): 0.180*\"34\" + 0.170*\"35\" + 0.118*\"83\" + 0.078*\"859\" + 0.043*\"611\" + 0.026*\"36\" + 0.023*\"50\" + 0.022*\"454\" + 0.020*\"273\" + 0.019*\"24\"\n",
      "2022-02-28 23:03:26,672 : INFO : topic diff=0.387960, rho=0.526900\n",
      "2022-02-28 23:03:26,683 : INFO : PROGRESS: pass 2, at document #2000/3204\n",
      "2022-02-28 23:03:28,724 : INFO : optimized alpha [0.009821321, 0.0103477035, 0.009860673, 0.009735207, 0.009814704, 0.010106891, 0.009777518, 0.010100252, 0.010578023, 0.010624329, 0.009842013, 0.0103072375, 0.009871213, 0.010046989, 0.009811078, 0.009948932, 0.010059122, 0.010455126, 0.009871242, 0.010299913, 0.00987082, 0.010096688, 0.009636961, 0.010472193, 0.009924882, 0.010236524, 0.010091555, 0.009890965, 0.010051378, 0.010100689, 0.010077563, 0.0097062485, 0.00994367, 0.010398465, 0.009801793, 0.010223973, 0.010446385, 0.010192157, 0.010695876, 0.009620474, 0.010047631, 0.010938979, 0.010222859, 0.010077077, 0.009961959, 0.010217585, 0.00979387, 0.009717118, 0.010387113, 0.009733941, 0.010438513, 0.0098790275, 0.010067032, 0.009958667, 0.009928665, 0.009974649, 0.0104773585, 0.009893646, 0.010465424, 0.010404211, 0.010474306, 0.010092997, 0.010021464, 0.009912239, 0.010282381, 0.009728021, 0.009770401, 0.010168272, 0.0100575555, 0.010353772, 0.010173691, 0.011445518, 0.00968489, 0.010113992, 0.009870195, 0.01000529, 0.009832974, 0.010736648, 0.010025381, 0.009732216, 0.010030182, 0.009710346, 0.009796106, 0.010392296, 0.010030557, 0.010002372, 0.010231809, 0.010799756, 0.010051117, 0.010101289, 0.010651155, 0.009858275, 0.010018774, 0.009809254, 0.010095507, 0.010037335, 0.011533218, 0.009784863, 0.010122902, 0.010788172]\n",
      "2022-02-28 23:03:28,736 : INFO : merging changes from 2000 documents into a model of 3204 documents\n",
      "2022-02-28 23:03:28,749 : INFO : topic #39 (0.010): 0.083*\"0\" + 0.058*\"668\" + 0.051*\"115\" + 0.048*\"128\" + 0.040*\"315\" + 0.037*\"154\" + 0.032*\"392\" + 0.032*\"520\" + 0.025*\"50\" + 0.022*\"1098\"\n",
      "2022-02-28 23:03:28,750 : INFO : topic #22 (0.010): 0.054*\"722\" + 0.043*\"131\" + 0.042*\"50\" + 0.042*\"0\" + 0.041*\"83\" + 0.031*\"995\" + 0.030*\"791\" + 0.025*\"999\" + 0.023*\"73\" + 0.022*\"174\"\n",
      "2022-02-28 23:03:28,751 : INFO : topic #41 (0.011): 0.164*\"34\" + 0.144*\"83\" + 0.132*\"35\" + 0.062*\"19\" + 0.050*\"254\" + 0.033*\"222\" + 0.033*\"631\" + 0.031*\"404\" + 0.024*\"12\" + 0.024*\"38\"\n",
      "2022-02-28 23:03:28,753 : INFO : topic #71 (0.011): 0.188*\"34\" + 0.169*\"35\" + 0.115*\"83\" + 0.056*\"859\" + 0.033*\"611\" + 0.031*\"36\" + 0.025*\"24\" + 0.024*\"273\" + 0.024*\"54\" + 0.022*\"50\"\n",
      "2022-02-28 23:03:28,754 : INFO : topic #96 (0.012): 0.312*\"34\" + 0.301*\"35\" + 0.225*\"83\" + 0.046*\"69\" + 0.026*\"0\" + 0.014*\"536\" + 0.012*\"386\" + 0.009*\"1154\" + 0.009*\"78\" + 0.008*\"254\"\n",
      "2022-02-28 23:03:28,755 : INFO : topic diff=0.362297, rho=0.466151\n",
      "2022-02-28 23:03:31,278 : INFO : -6.781 per-word bound, 110.0 perplexity estimate based on a held-out corpus of 1204 documents with 49783 words\n",
      "2022-02-28 23:03:31,279 : INFO : PROGRESS: pass 2, at document #3204/3204\n",
      "2022-02-28 23:03:33,431 : INFO : optimized alpha [0.0099419225, 0.010533551, 0.009937154, 0.009810545, 0.009867947, 0.010292104, 0.009826388, 0.010219024, 0.010876995, 0.010846494, 0.009856621, 0.010533987, 0.009984837, 0.010194699, 0.009898199, 0.010098029, 0.010215579, 0.010749654, 0.009916691, 0.010459845, 0.009936426, 0.010187691, 0.009654181, 0.010621598, 0.010079526, 0.010430832, 0.010259881, 0.010021059, 0.010180048, 0.010301114, 0.010297106, 0.009832162, 0.010040697, 0.010779573, 0.009855168, 0.010416392, 0.010697382, 0.010364284, 0.011127223, 0.009656225, 0.010194438, 0.011126807, 0.010453631, 0.010256144, 0.010118408, 0.010354522, 0.009899926, 0.009816449, 0.010577371, 0.009719092, 0.010687461, 0.00992145, 0.010278803, 0.009996507, 0.010016064, 0.010127044, 0.010606994, 0.010000575, 0.010624546, 0.010616774, 0.01096436, 0.010261941, 0.010163804, 0.009991606, 0.010564069, 0.009758886, 0.009883814, 0.010342236, 0.010186713, 0.010625952, 0.010358612, 0.011961358, 0.009704431, 0.010279342, 0.009940146, 0.010186183, 0.009902058, 0.011105211, 0.010161057, 0.009746445, 0.010179792, 0.009739623, 0.009760613, 0.010636104, 0.010177275, 0.010126982, 0.010427884, 0.011241309, 0.010182704, 0.010200333, 0.010650405, 0.0099789305, 0.010155554, 0.009859758, 0.010255554, 0.010144413, 0.012129448, 0.009872876, 0.0102752745, 0.011194316]\n",
      "2022-02-28 23:03:33,443 : INFO : merging changes from 1204 documents into a model of 3204 documents\n",
      "2022-02-28 23:03:33,456 : INFO : topic #22 (0.010): 0.058*\"722\" + 0.047*\"995\" + 0.046*\"83\" + 0.045*\"50\" + 0.045*\"131\" + 0.038*\"0\" + 0.031*\"999\" + 0.028*\"791\" + 0.025*\"871\" + 0.025*\"1160\"\n",
      "2022-02-28 23:03:33,457 : INFO : topic #39 (0.010): 0.098*\"0\" + 0.077*\"668\" + 0.057*\"115\" + 0.056*\"128\" + 0.039*\"315\" + 0.036*\"154\" + 0.035*\"392\" + 0.029*\"50\" + 0.027*\"233\" + 0.026*\"1098\"\n"
     ]
    },
    {
     "name": "stderr",
     "output_type": "stream",
     "text": [
      "2022-02-28 23:03:33,458 : INFO : topic #87 (0.011): 0.068*\"83\" + 0.061*\"1083\" + 0.059*\"50\" + 0.046*\"79\" + 0.036*\"146\" + 0.034*\"1183\" + 0.033*\"24\" + 0.028*\"1162\" + 0.027*\"36\" + 0.027*\"34\"\n",
      "2022-02-28 23:03:33,459 : INFO : topic #71 (0.012): 0.189*\"34\" + 0.171*\"35\" + 0.115*\"83\" + 0.079*\"859\" + 0.054*\"611\" + 0.037*\"36\" + 0.025*\"24\" + 0.020*\"54\" + 0.020*\"454\" + 0.019*\"273\"\n",
      "2022-02-28 23:03:33,460 : INFO : topic #96 (0.012): 0.332*\"34\" + 0.309*\"35\" + 0.221*\"83\" + 0.043*\"69\" + 0.027*\"0\" + 0.011*\"536\" + 0.009*\"386\" + 0.008*\"1154\" + 0.006*\"254\" + 0.006*\"485\"\n",
      "2022-02-28 23:03:33,462 : INFO : topic diff=0.482941, rho=0.466151\n",
      "2022-02-28 23:03:33,475 : INFO : PROGRESS: pass 3, at document #2000/3204\n",
      "2022-02-28 23:03:35,628 : INFO : optimized alpha [0.010070867, 0.01050829, 0.009880945, 0.009805658, 0.009812961, 0.010297127, 0.00986403, 0.010151123, 0.010901843, 0.01082012, 0.009808332, 0.010676395, 0.010006198, 0.010256572, 0.009865235, 0.010092747, 0.010186406, 0.010807228, 0.009841551, 0.010520681, 0.010052255, 0.010142049, 0.009616913, 0.010920103, 0.0100333365, 0.010378773, 0.010203302, 0.009977774, 0.010188259, 0.010281524, 0.010277354, 0.009802678, 0.010064864, 0.010805446, 0.009776868, 0.01052659, 0.01067589, 0.010382982, 0.011195717, 0.009729971, 0.010364802, 0.011285014, 0.010437286, 0.010322657, 0.010129898, 0.010498357, 0.009877269, 0.009858224, 0.010531375, 0.009691032, 0.010731925, 0.010073694, 0.010268333, 0.010056025, 0.010016049, 0.010240874, 0.010559037, 0.010054848, 0.01056259, 0.010605806, 0.011043986, 0.010346346, 0.01020366, 0.009959449, 0.010652066, 0.009717959, 0.009884318, 0.010448805, 0.0101625, 0.010739131, 0.010423115, 0.012110203, 0.009713492, 0.010240506, 0.010101674, 0.0102168815, 0.009863182, 0.011046933, 0.010186492, 0.009771693, 0.010114179, 0.009775189, 0.009792724, 0.010673537, 0.010282865, 0.010211564, 0.010564618, 0.0112520205, 0.010238394, 0.010200394, 0.011127674, 0.009999767, 0.010157299, 0.0098945, 0.010273554, 0.01015214, 0.013214877, 0.009912481, 0.010288941, 0.011159235]\n",
      "2022-02-28 23:03:35,640 : INFO : merging changes from 2000 documents into a model of 3204 documents\n",
      "2022-02-28 23:03:35,653 : INFO : topic #22 (0.010): 0.061*\"722\" + 0.047*\"131\" + 0.042*\"83\" + 0.042*\"50\" + 0.039*\"995\" + 0.039*\"0\" + 0.036*\"999\" + 0.031*\"791\" + 0.027*\"73\" + 0.022*\"174\"\n",
      "2022-02-28 23:03:35,654 : INFO : topic #65 (0.010): 0.073*\"454\" + 0.064*\"50\" + 0.041*\"830\" + 0.036*\"13\" + 0.031*\"88\" + 0.030*\"605\" + 0.030*\"362\" + 0.024*\"153\" + 0.020*\"559\" + 0.020*\"146\"\n",
      "2022-02-28 23:03:35,655 : INFO : topic #41 (0.011): 0.157*\"34\" + 0.135*\"83\" + 0.128*\"35\" + 0.071*\"19\" + 0.058*\"254\" + 0.044*\"404\" + 0.038*\"222\" + 0.036*\"631\" + 0.029*\"879\" + 0.026*\"38\"\n",
      "2022-02-28 23:03:35,657 : INFO : topic #71 (0.012): 0.193*\"34\" + 0.169*\"35\" + 0.108*\"83\" + 0.062*\"859\" + 0.044*\"611\" + 0.043*\"36\" + 0.032*\"24\" + 0.022*\"273\" + 0.021*\"54\" + 0.021*\"526\"\n",
      "2022-02-28 23:03:35,658 : INFO : topic #96 (0.013): 0.335*\"34\" + 0.316*\"35\" + 0.223*\"83\" + 0.039*\"69\" + 0.022*\"0\" + 0.011*\"536\" + 0.008*\"386\" + 0.008*\"254\" + 0.007*\"1154\" + 0.007*\"78\"\n",
      "2022-02-28 23:03:35,659 : INFO : topic diff=0.495149, rho=0.422502\n",
      "2022-02-28 23:03:38,024 : INFO : -6.701 per-word bound, 104.0 perplexity estimate based on a held-out corpus of 1204 documents with 49783 words\n",
      "2022-02-28 23:03:38,025 : INFO : PROGRESS: pass 3, at document #3204/3204\n",
      "2022-02-28 23:03:40,071 : INFO : optimized alpha [0.010216226, 0.010693119, 0.009951374, 0.009892204, 0.009859004, 0.010477647, 0.009912277, 0.010285093, 0.011193093, 0.010976559, 0.009826849, 0.010907472, 0.010148742, 0.010402165, 0.009983363, 0.010254121, 0.010333012, 0.011105915, 0.009901961, 0.0106887575, 0.010146619, 0.010232723, 0.009661396, 0.011036329, 0.010189085, 0.010541644, 0.010367748, 0.010089634, 0.010302038, 0.010472233, 0.0105038965, 0.009949257, 0.010163967, 0.011190105, 0.009826868, 0.010721414, 0.010914025, 0.010540483, 0.011610015, 0.009821004, 0.010527477, 0.011484085, 0.010622842, 0.01051201, 0.010305476, 0.010648735, 0.010005747, 0.009972848, 0.01072001, 0.009710399, 0.010983441, 0.010122044, 0.010476899, 0.010137385, 0.0101067135, 0.010387106, 0.010673921, 0.010166584, 0.010711699, 0.010800411, 0.011570662, 0.010541165, 0.010373461, 0.010046224, 0.010941537, 0.009761289, 0.010012304, 0.010615193, 0.010298433, 0.01100523, 0.010618307, 0.012569396, 0.009759681, 0.010413464, 0.010189231, 0.010386044, 0.009930327, 0.01140247, 0.010339164, 0.00978529, 0.010265411, 0.009815921, 0.009768897, 0.010920264, 0.010434565, 0.01034336, 0.010766646, 0.011651121, 0.0103801945, 0.010316263, 0.011108469, 0.010134624, 0.010296429, 0.009987062, 0.010438014, 0.010275256, 0.013968334, 0.010024269, 0.010428002, 0.011551383]\n",
      "2022-02-28 23:03:40,083 : INFO : merging changes from 1204 documents into a model of 3204 documents\n",
      "2022-02-28 23:03:40,097 : INFO : topic #49 (0.010): 0.158*\"652\" + 0.103*\"1068\" + 0.069*\"469\" + 0.040*\"6\" + 0.033*\"50\" + 0.030*\"850\" + 0.023*\"73\" + 0.021*\"427\" + 0.020*\"15\" + 0.020*\"238\"\n",
      "2022-02-28 23:03:40,098 : INFO : topic #22 (0.010): 0.060*\"722\" + 0.054*\"83\" + 0.050*\"131\" + 0.050*\"995\" + 0.044*\"50\" + 0.038*\"999\" + 0.035*\"0\" + 0.028*\"791\" + 0.027*\"73\" + 0.026*\"1160\"\n",
      "2022-02-28 23:03:40,099 : INFO : topic #87 (0.012): 0.073*\"83\" + 0.067*\"1083\" + 0.062*\"50\" + 0.051*\"79\" + 0.041*\"146\" + 0.034*\"24\" + 0.034*\"1183\" + 0.029*\"1162\" + 0.026*\"174\" + 0.026*\"448\"\n",
      "2022-02-28 23:03:40,101 : INFO : topic #71 (0.013): 0.194*\"34\" + 0.173*\"35\" + 0.107*\"83\" + 0.081*\"859\" + 0.064*\"611\" + 0.048*\"36\" + 0.030*\"24\" + 0.021*\"526\" + 0.018*\"40\" + 0.018*\"296\"\n",
      "2022-02-28 23:03:40,102 : INFO : topic #96 (0.014): 0.350*\"34\" + 0.321*\"35\" + 0.214*\"83\" + 0.038*\"69\" + 0.023*\"0\" + 0.009*\"536\" + 0.007*\"386\" + 0.007*\"254\" + 0.007*\"1154\" + 0.005*\"485\"\n",
      "2022-02-28 23:03:40,109 : INFO : topic diff=0.607532, rho=0.422502\n",
      "2022-02-28 23:03:40,135 : INFO : PROGRESS: pass 4, at document #2000/3204\n",
      "2022-02-28 23:03:42,200 : INFO : optimized alpha [0.01038056, 0.010677436, 0.009894806, 0.009909231, 0.009815544, 0.010485706, 0.009959152, 0.010232839, 0.011238735, 0.01095178, 0.009784094, 0.0110637285, 0.010176141, 0.010479702, 0.009966666, 0.010268762, 0.010301783, 0.011177413, 0.009849874, 0.010748877, 0.0102641415, 0.010223362, 0.009641419, 0.011309816, 0.010140091, 0.010505747, 0.010321367, 0.010055961, 0.010319761, 0.0104697095, 0.010488401, 0.009939269, 0.010196242, 0.011222265, 0.009764233, 0.0108427275, 0.010914401, 0.010576057, 0.01167567, 0.009916512, 0.010701318, 0.011640162, 0.010613148, 0.010589647, 0.010349815, 0.010812045, 0.009996406, 0.0100212805, 0.010678963, 0.009697357, 0.011043005, 0.010279996, 0.010488675, 0.010242949, 0.010110878, 0.010529447, 0.010638516, 0.010252909, 0.010660874, 0.01080642, 0.011671249, 0.010646009, 0.010448496, 0.010025039, 0.011032892, 0.009734376, 0.01001842, 0.010716225, 0.010286113, 0.011124946, 0.010694214, 0.012692078, 0.009789712, 0.010379013, 0.010367956, 0.010438365, 0.009893479, 0.011356243, 0.010368365, 0.009820895, 0.010204805, 0.009860767, 0.00980738, 0.010985863, 0.010548939, 0.010419713, 0.010913183, 0.011659845, 0.010455976, 0.010316329, 0.011556665, 0.010173468, 0.010295704, 0.0100511, 0.010458276, 0.010296564, 0.015162167, 0.010068819, 0.010448487, 0.011514939]\n",
      "2022-02-28 23:03:42,211 : INFO : merging changes from 2000 documents into a model of 3204 documents\n",
      "2022-02-28 23:03:42,225 : INFO : topic #22 (0.010): 0.062*\"722\" + 0.052*\"131\" + 0.049*\"83\" + 0.045*\"999\" + 0.042*\"995\" + 0.041*\"50\" + 0.036*\"0\" + 0.030*\"791\" + 0.027*\"73\" + 0.023*\"401\"\n",
      "2022-02-28 23:03:42,226 : INFO : topic #49 (0.010): 0.155*\"652\" + 0.087*\"1068\" + 0.063*\"469\" + 0.044*\"6\" + 0.035*\"50\" + 0.024*\"850\" + 0.023*\"73\" + 0.022*\"238\" + 0.021*\"15\" + 0.019*\"225\"\n",
      "2022-02-28 23:03:42,227 : INFO : topic #60 (0.012): 0.507*\"176\" + 0.234*\"429\" + 0.040*\"57\" + 0.027*\"799\" + 0.025*\"128\" + 0.023*\"15\" + 0.016*\"185\" + 0.016*\"425\" + 0.015*\"72\" + 0.014*\"41\"\n",
      "2022-02-28 23:03:42,227 : INFO : topic #71 (0.013): 0.196*\"34\" + 0.171*\"35\" + 0.102*\"83\" + 0.065*\"859\" + 0.055*\"36\" + 0.053*\"611\" + 0.037*\"24\" + 0.023*\"526\" + 0.022*\"296\" + 0.020*\"273\"\n",
      "2022-02-28 23:03:42,228 : INFO : topic #96 (0.015): 0.348*\"34\" + 0.325*\"35\" + 0.217*\"83\" + 0.035*\"69\" + 0.020*\"0\" + 0.010*\"536\" + 0.008*\"254\" + 0.007*\"1154\" + 0.006*\"78\" + 0.006*\"386\"\n"
     ]
    },
    {
     "name": "stderr",
     "output_type": "stream",
     "text": [
      "2022-02-28 23:03:42,229 : INFO : topic diff=0.594102, rho=0.389191\n",
      "2022-02-28 23:03:44,525 : INFO : -6.646 per-word bound, 100.2 perplexity estimate based on a held-out corpus of 1204 documents with 49783 words\n",
      "2022-02-28 23:03:44,526 : INFO : PROGRESS: pass 4, at document #3204/3204\n",
      "2022-02-28 23:03:46,415 : INFO : optimized alpha [0.010586378, 0.010873814, 0.00997067, 0.010012355, 0.009862353, 0.010667356, 0.010016925, 0.010367542, 0.011537565, 0.01110052, 0.009815601, 0.011301338, 0.0103186, 0.010621695, 0.010079709, 0.01042559, 0.010441423, 0.011479973, 0.009909917, 0.010915633, 0.010351131, 0.010334524, 0.0096928, 0.011405058, 0.010288405, 0.010674454, 0.010484299, 0.010163348, 0.010432242, 0.010647171, 0.010737367, 0.01009523, 0.010291566, 0.011625494, 0.009824573, 0.01105625, 0.011151072, 0.0107190525, 0.012071367, 0.010026603, 0.01085234, 0.011840226, 0.010789441, 0.010790248, 0.010553856, 0.010979663, 0.010109284, 0.010147249, 0.010840323, 0.009726021, 0.011267426, 0.010337126, 0.0106935, 0.010354952, 0.010218359, 0.010699322, 0.010766357, 0.010373101, 0.010817048, 0.010998402, 0.012205923, 0.010858676, 0.0106201, 0.010118924, 0.011315244, 0.009791082, 0.010166493, 0.010884861, 0.010402333, 0.011381458, 0.0108936345, 0.01314863, 0.009839296, 0.010563698, 0.010485247, 0.010602891, 0.009946808, 0.011696735, 0.0105270725, 0.009840438, 0.0103521785, 0.009920995, 0.00978953, 0.011220307, 0.01070346, 0.010555554, 0.01116211, 0.0120361475, 0.0106081115, 0.010430754, 0.011525401, 0.010288817, 0.010438403, 0.0101602385, 0.01059761, 0.010404292, 0.016046403, 0.010172721, 0.010584429, 0.011899023]\n",
      "2022-02-28 23:03:46,426 : INFO : merging changes from 1204 documents into a model of 3204 documents\n",
      "2022-02-28 23:03:46,439 : INFO : topic #49 (0.010): 0.168*\"652\" + 0.102*\"1068\" + 0.071*\"469\" + 0.044*\"6\" + 0.033*\"50\" + 0.032*\"850\" + 0.026*\"427\" + 0.024*\"73\" + 0.023*\"844\" + 0.022*\"15\"\n",
      "2022-02-28 23:03:46,440 : INFO : topic #22 (0.010): 0.061*\"722\" + 0.059*\"83\" + 0.055*\"131\" + 0.051*\"995\" + 0.047*\"999\" + 0.043*\"50\" + 0.033*\"0\" + 0.028*\"791\" + 0.027*\"401\" + 0.027*\"871\"\n",
      "2022-02-28 23:03:46,441 : INFO : topic #60 (0.012): 0.514*\"176\" + 0.265*\"429\" + 0.033*\"57\" + 0.032*\"799\" + 0.022*\"15\" + 0.018*\"128\" + 0.015*\"185\" + 0.013*\"41\" + 0.013*\"425\" + 0.011*\"72\"\n",
      "2022-02-28 23:03:46,442 : INFO : topic #71 (0.013): 0.197*\"34\" + 0.175*\"35\" + 0.100*\"83\" + 0.081*\"859\" + 0.069*\"611\" + 0.058*\"36\" + 0.035*\"24\" + 0.023*\"526\" + 0.020*\"40\" + 0.018*\"296\"\n",
      "2022-02-28 23:03:46,443 : INFO : topic #96 (0.016): 0.360*\"34\" + 0.329*\"35\" + 0.209*\"83\" + 0.034*\"69\" + 0.021*\"0\" + 0.009*\"536\" + 0.007*\"254\" + 0.006*\"1154\" + 0.005*\"485\" + 0.005*\"386\"\n",
      "2022-02-28 23:03:46,444 : INFO : topic diff=0.661192, rho=0.389191\n",
      "2022-02-28 23:03:46,456 : INFO : PROGRESS: pass 5, at document #2000/3204\n",
      "2022-02-28 23:03:48,572 : INFO : optimized alpha [0.010773144, 0.010876163, 0.009920774, 0.0100357095, 0.009828418, 0.0106878, 0.010073972, 0.010330286, 0.011578912, 0.011083268, 0.009780605, 0.011473727, 0.010351524, 0.010704031, 0.010062323, 0.010440862, 0.010412079, 0.011558312, 0.009866146, 0.010973583, 0.010467536, 0.010348636, 0.009676773, 0.011661361, 0.010248156, 0.01064436, 0.010457741, 0.010134086, 0.010458389, 0.010648071, 0.010723302, 0.010114904, 0.010331199, 0.011665574, 0.009772757, 0.011178471, 0.011164602, 0.010758006, 0.012139605, 0.010140226, 0.011024964, 0.011987107, 0.010793686, 0.010876551, 0.010612238, 0.011142261, 0.010102541, 0.0101907365, 0.010807721, 0.009729084, 0.011318557, 0.010486445, 0.010715334, 0.010484952, 0.010233595, 0.010874754, 0.01072534, 0.010471446, 0.010779508, 0.01101945, 0.012309596, 0.01098103, 0.010707937, 0.010114259, 0.011400356, 0.00977755, 0.0101737045, 0.010987682, 0.010402344, 0.0114980275, 0.010980485, 0.013271896, 0.009882265, 0.010530747, 0.010669992, 0.010665147, 0.009920729, 0.011650363, 0.010555951, 0.0098780235, 0.010297438, 0.009974051, 0.009840677, 0.0112832375, 0.010818876, 0.010638759, 0.011304638, 0.012043489, 0.010694628, 0.0104309125, 0.011959748, 0.010334593, 0.010439357, 0.010240998, 0.010625943, 0.0104396045, 0.017337449, 0.010231287, 0.0106074205, 0.011865754]\n",
      "2022-02-28 23:03:48,584 : INFO : merging changes from 2000 documents into a model of 3204 documents\n",
      "2022-02-28 23:03:48,596 : INFO : topic #22 (0.010): 0.063*\"722\" + 0.056*\"131\" + 0.053*\"999\" + 0.053*\"83\" + 0.043*\"995\" + 0.041*\"50\" + 0.033*\"0\" + 0.031*\"791\" + 0.025*\"401\" + 0.023*\"871\"\n",
      "2022-02-28 23:03:48,597 : INFO : topic #34 (0.010): 0.120*\"41\" + 0.097*\"1185\" + 0.059*\"91\" + 0.055*\"50\" + 0.053*\"1147\" + 0.046*\"269\" + 0.035*\"1184\" + 0.033*\"6\" + 0.023*\"243\" + 0.021*\"172\"\n",
      "2022-02-28 23:03:48,598 : INFO : topic #60 (0.012): 0.550*\"176\" + 0.233*\"429\" + 0.036*\"57\" + 0.027*\"799\" + 0.022*\"15\" + 0.016*\"128\" + 0.015*\"185\" + 0.013*\"425\" + 0.012*\"41\" + 0.010*\"72\"\n",
      "2022-02-28 23:03:48,599 : INFO : topic #71 (0.013): 0.200*\"34\" + 0.173*\"35\" + 0.096*\"83\" + 0.066*\"859\" + 0.064*\"36\" + 0.059*\"611\" + 0.043*\"24\" + 0.026*\"526\" + 0.021*\"296\" + 0.020*\"40\"\n",
      "2022-02-28 23:03:48,600 : INFO : topic #96 (0.017): 0.357*\"34\" + 0.332*\"35\" + 0.212*\"83\" + 0.033*\"69\" + 0.018*\"0\" + 0.009*\"536\" + 0.008*\"254\" + 0.006*\"1154\" + 0.005*\"78\" + 0.005*\"485\"\n",
      "2022-02-28 23:03:48,601 : INFO : topic diff=0.608500, rho=0.362690\n",
      "2022-02-28 23:03:50,800 : INFO : -6.605 per-word bound, 97.3 perplexity estimate based on a held-out corpus of 1204 documents with 49783 words\n",
      "2022-02-28 23:03:50,801 : INFO : PROGRESS: pass 5, at document #3204/3204\n",
      "2022-02-28 23:03:52,757 : INFO : optimized alpha [0.01097812, 0.011087945, 0.010001595, 0.010141901, 0.009876142, 0.010862143, 0.010131294, 0.010466544, 0.011862496, 0.011219671, 0.009820175, 0.01171625, 0.010504312, 0.01084074, 0.010171733, 0.010598032, 0.010546593, 0.011870399, 0.0099321995, 0.011137199, 0.01055494, 0.010453037, 0.009722615, 0.011766713, 0.010394097, 0.010812924, 0.0106142415, 0.010241357, 0.010576858, 0.010821625, 0.010968535, 0.010267953, 0.010423687, 0.012079595, 0.009833085, 0.011404111, 0.011405239, 0.010892532, 0.012513846, 0.010261811, 0.011166667, 0.012207757, 0.010966279, 0.011082371, 0.010811634, 0.011310083, 0.010217823, 0.0103122685, 0.010962736, 0.009756778, 0.011526944, 0.010542492, 0.010908407, 0.010602805, 0.010340887, 0.011044593, 0.0108621875, 0.010603272, 0.010942861, 0.011203927, 0.0128381625, 0.0111989165, 0.010895735, 0.010227163, 0.011654408, 0.009840186, 0.010331555, 0.0111530805, 0.010524293, 0.011741002, 0.01117881, 0.013733854, 0.009946909, 0.0107013555, 0.010792554, 0.010816661, 0.009986454, 0.011969301, 0.010714918, 0.009902769, 0.010448604, 0.010036601, 0.009836816, 0.011518699, 0.010967342, 0.010779298, 0.011547736, 0.012409078, 0.010863773, 0.010548172, 0.011928689, 0.010458503, 0.01058306, 0.010380999, 0.010740784, 0.010560013, 0.018352866, 0.010344336, 0.010738478, 0.012253061]\n",
      "2022-02-28 23:03:52,767 : INFO : merging changes from 1204 documents into a model of 3204 documents\n",
      "2022-02-28 23:03:52,780 : INFO : topic #22 (0.010): 0.063*\"722\" + 0.060*\"83\" + 0.057*\"131\" + 0.055*\"999\" + 0.052*\"995\" + 0.042*\"50\" + 0.031*\"0\" + 0.028*\"791\" + 0.027*\"871\" + 0.026*\"401\"\n",
      "2022-02-28 23:03:52,781 : INFO : topic #49 (0.010): 0.173*\"652\" + 0.099*\"1068\" + 0.071*\"469\" + 0.047*\"6\" + 0.032*\"850\" + 0.032*\"50\" + 0.032*\"427\" + 0.030*\"844\" + 0.024*\"73\" + 0.023*\"15\"\n",
      "2022-02-28 23:03:52,782 : INFO : topic #60 (0.013): 0.550*\"176\" + 0.262*\"429\" + 0.031*\"799\" + 0.030*\"57\" + 0.020*\"15\" + 0.015*\"185\" + 0.011*\"128\" + 0.011*\"41\" + 0.010*\"425\" + 0.009*\"635\"\n",
      "2022-02-28 23:03:52,783 : INFO : topic #71 (0.014): 0.200*\"34\" + 0.176*\"35\" + 0.096*\"83\" + 0.080*\"859\" + 0.072*\"611\" + 0.065*\"36\" + 0.041*\"24\" + 0.027*\"526\" + 0.020*\"40\" + 0.018*\"296\"\n",
      "2022-02-28 23:03:52,784 : INFO : topic #96 (0.018): 0.369*\"34\" + 0.335*\"35\" + 0.201*\"83\" + 0.033*\"69\" + 0.019*\"0\" + 0.008*\"536\" + 0.007*\"254\" + 0.006*\"1154\" + 0.005*\"485\" + 0.004*\"78\"\n",
      "2022-02-28 23:03:52,785 : INFO : topic diff=0.635256, rho=0.362690\n",
      "2022-02-28 23:03:52,797 : INFO : PROGRESS: pass 6, at document #2000/3204\n",
      "2022-02-28 23:03:54,928 : INFO : optimized alpha [0.0111742895, 0.011098826, 0.009958751, 0.010169264, 0.0098553095, 0.010890191, 0.010187304, 0.010433251, 0.011918598, 0.011203326, 0.009790006, 0.011887035, 0.010542442, 0.010929835, 0.010160684, 0.010626633, 0.010527885, 0.011949922, 0.00989018, 0.011187951, 0.010671022, 0.010479068, 0.009708288, 0.01201657, 0.010364951, 0.010785938, 0.010581674, 0.010217539, 0.010599761, 0.010829349, 0.010968938, 0.010293397, 0.010466612, 0.0121357385, 0.00979042, 0.011526149, 0.011416824, 0.010935005, 0.012582971, 0.0103823785, 0.011329646, 0.012361764, 0.010964063, 0.011173354, 0.010894343, 0.011467347, 0.010216674, 0.010353385, 0.01092409, 0.00976554, 0.01157475, 0.01069018, 0.010930226, 0.0107468115, 0.01036599, 0.011223841, 0.010831116, 0.010704086, 0.010918598, 0.011244747, 0.012949939, 0.0113421865, 0.011001433, 0.0102263335, 0.011730472, 0.009833075, 0.010341551, 0.011256271, 0.010522513, 0.011869384, 0.011272409, 0.013865695, 0.010003124, 0.010673523, 0.01097492, 0.0108828945, 0.009966107, 0.011923015, 0.010747263, 0.009940524, 0.010402268, 0.010092169, 0.009895856, 0.011583471, 0.01107896, 0.010865508, 0.01169739, 0.012417638, 0.010975389, 0.010550199, 0.012348428, 0.010508938, 0.010592809, 0.010482611, 0.010773068, 0.01060435, 0.019751977, 0.01040159, 0.010765693, 0.0122267315]\n"
     ]
    },
    {
     "name": "stderr",
     "output_type": "stream",
     "text": [
      "2022-02-28 23:03:54,941 : INFO : merging changes from 2000 documents into a model of 3204 documents\n",
      "2022-02-28 23:03:54,955 : INFO : topic #22 (0.010): 0.065*\"722\" + 0.060*\"999\" + 0.058*\"131\" + 0.054*\"83\" + 0.045*\"995\" + 0.040*\"50\" + 0.031*\"791\" + 0.031*\"0\" + 0.025*\"401\" + 0.025*\"871\"\n",
      "2022-02-28 23:03:54,956 : INFO : topic #49 (0.010): 0.172*\"652\" + 0.086*\"1068\" + 0.065*\"469\" + 0.051*\"6\" + 0.034*\"50\" + 0.029*\"844\" + 0.028*\"427\" + 0.025*\"850\" + 0.025*\"73\" + 0.023*\"15\"\n",
      "2022-02-28 23:03:54,957 : INFO : topic #60 (0.013): 0.581*\"176\" + 0.232*\"429\" + 0.032*\"57\" + 0.026*\"799\" + 0.021*\"15\" + 0.015*\"185\" + 0.011*\"41\" + 0.011*\"425\" + 0.011*\"128\" + 0.010*\"635\"\n",
      "2022-02-28 23:03:54,959 : INFO : topic #71 (0.014): 0.203*\"34\" + 0.175*\"35\" + 0.092*\"83\" + 0.071*\"36\" + 0.067*\"859\" + 0.063*\"611\" + 0.049*\"24\" + 0.029*\"526\" + 0.021*\"296\" + 0.020*\"40\"\n",
      "2022-02-28 23:03:54,960 : INFO : topic #96 (0.020): 0.365*\"34\" + 0.336*\"35\" + 0.206*\"83\" + 0.031*\"69\" + 0.017*\"0\" + 0.009*\"536\" + 0.008*\"254\" + 0.006*\"1154\" + 0.005*\"485\" + 0.005*\"78\"\n",
      "2022-02-28 23:03:54,960 : INFO : topic diff=0.565667, rho=0.340958\n",
      "2022-02-28 23:03:57,240 : INFO : -6.573 per-word bound, 95.2 perplexity estimate based on a held-out corpus of 1204 documents with 49783 words\n",
      "2022-02-28 23:03:57,241 : INFO : PROGRESS: pass 6, at document #3204/3204\n",
      "2022-02-28 23:03:59,275 : INFO : optimized alpha [0.01138623, 0.011294197, 0.0100471405, 0.010273003, 0.009906761, 0.011052806, 0.010241515, 0.010565738, 0.012179338, 0.011332654, 0.009839397, 0.012132363, 0.010696568, 0.011081073, 0.010267355, 0.010772916, 0.010658482, 0.0122803645, 0.009956083, 0.01134967, 0.010765346, 0.010587041, 0.009760614, 0.012125174, 0.010524417, 0.010961404, 0.010733106, 0.010319364, 0.0107121235, 0.011006514, 0.0112030385, 0.010477045, 0.01056308, 0.01254974, 0.009856617, 0.011744906, 0.011643013, 0.011075046, 0.012960619, 0.010503608, 0.011457207, 0.012596087, 0.011124944, 0.011382281, 0.011093857, 0.011643168, 0.010331849, 0.010468718, 0.0110648945, 0.009797986, 0.011779881, 0.010745579, 0.011110778, 0.01086161, 0.01048861, 0.011410659, 0.01097351, 0.010859803, 0.011076804, 0.011433237, 0.013475725, 0.011559962, 0.011189912, 0.010336396, 0.011969537, 0.009898314, 0.010506159, 0.011419754, 0.010641201, 0.012097886, 0.011470777, 0.014331868, 0.010087166, 0.010847664, 0.011099993, 0.0110361315, 0.010042966, 0.012240694, 0.010916617, 0.00996999, 0.010545782, 0.010159912, 0.0098955985, 0.0118113225, 0.011229133, 0.011005012, 0.011926527, 0.012779077, 0.011145729, 0.010655375, 0.012314138, 0.010629339, 0.01074115, 0.010648923, 0.010894221, 0.01072159, 0.020835422, 0.010511654, 0.010911567, 0.01260172]\n",
      "2022-02-28 23:03:59,287 : INFO : merging changes from 1204 documents into a model of 3204 documents\n",
      "2022-02-28 23:03:59,301 : INFO : topic #22 (0.010): 0.064*\"722\" + 0.062*\"999\" + 0.060*\"131\" + 0.059*\"83\" + 0.053*\"995\" + 0.041*\"50\" + 0.029*\"0\" + 0.029*\"791\" + 0.028*\"871\" + 0.027*\"870\"\n",
      "2022-02-28 23:03:59,302 : INFO : topic #10 (0.010): 0.116*\"50\" + 0.044*\"267\" + 0.036*\"6\" + 0.027*\"820\" + 0.021*\"63\" + 0.020*\"366\" + 0.019*\"13\" + 0.018*\"1043\" + 0.015*\"931\" + 0.015*\"431\"\n",
      "2022-02-28 23:03:59,303 : INFO : topic #60 (0.013): 0.574*\"176\" + 0.259*\"429\" + 0.030*\"799\" + 0.028*\"57\" + 0.019*\"15\" + 0.015*\"185\" + 0.010*\"41\" + 0.010*\"635\" + 0.009*\"425\" + 0.008*\"48\"\n",
      "2022-02-28 23:03:59,304 : INFO : topic #71 (0.014): 0.203*\"34\" + 0.178*\"35\" + 0.093*\"83\" + 0.080*\"859\" + 0.074*\"611\" + 0.071*\"36\" + 0.046*\"24\" + 0.030*\"526\" + 0.021*\"40\" + 0.017*\"296\"\n",
      "2022-02-28 23:03:59,305 : INFO : topic #96 (0.021): 0.375*\"34\" + 0.340*\"35\" + 0.195*\"83\" + 0.032*\"69\" + 0.018*\"0\" + 0.008*\"536\" + 0.007*\"254\" + 0.006*\"1154\" + 0.004*\"485\" + 0.004*\"78\"\n",
      "2022-02-28 23:03:59,306 : INFO : topic diff=0.573949, rho=0.340958\n",
      "2022-02-28 23:03:59,318 : INFO : PROGRESS: pass 7, at document #2000/3204\n",
      "2022-02-28 23:04:01,428 : INFO : optimized alpha [0.011585215, 0.011313102, 0.01001361, 0.010304125, 0.009889416, 0.011084591, 0.010290136, 0.010541035, 0.01223602, 0.011319115, 0.009824398, 0.012288847, 0.010729175, 0.011169644, 0.010265315, 0.01080516, 0.010645805, 0.012369171, 0.009920306, 0.011406955, 0.010885114, 0.010623872, 0.009749185, 0.012364345, 0.010494599, 0.010938818, 0.010705423, 0.010303732, 0.010734035, 0.011025801, 0.011216926, 0.010514349, 0.0106005715, 0.012607265, 0.009818526, 0.01187893, 0.011658888, 0.011124458, 0.013031045, 0.010629363, 0.011611904, 0.012749703, 0.011131626, 0.011465248, 0.011185038, 0.011796247, 0.010342518, 0.010506191, 0.011029962, 0.009814922, 0.01183645, 0.010890725, 0.011136493, 0.011014217, 0.01051589, 0.011601906, 0.01094569, 0.0109635005, 0.011064396, 0.011473683, 0.013587362, 0.011710717, 0.011303698, 0.010342433, 0.012047234, 0.009898506, 0.01051861, 0.011516529, 0.010639542, 0.012232334, 0.011571164, 0.014449333, 0.010147497, 0.010825995, 0.011277457, 0.01110448, 0.010032269, 0.012200271, 0.010954129, 0.010008052, 0.01050515, 0.010213126, 0.009957225, 0.011880218, 0.011335878, 0.011087355, 0.012081784, 0.012782569, 0.011286806, 0.010664409, 0.01272374, 0.010680746, 0.0107466765, 0.010772283, 0.0109302085, 0.0107656075, 0.022359222, 0.010573111, 0.010951332, 0.012581933]\n",
      "2022-02-28 23:04:01,440 : INFO : merging changes from 2000 documents into a model of 3204 documents\n",
      "2022-02-28 23:04:01,452 : INFO : topic #22 (0.010): 0.066*\"722\" + 0.066*\"999\" + 0.060*\"131\" + 0.054*\"83\" + 0.046*\"995\" + 0.040*\"50\" + 0.031*\"791\" + 0.029*\"0\" + 0.025*\"871\" + 0.025*\"401\"\n",
      "2022-02-28 23:04:01,453 : INFO : topic #34 (0.010): 0.126*\"41\" + 0.103*\"1185\" + 0.060*\"50\" + 0.059*\"91\" + 0.054*\"1147\" + 0.049*\"269\" + 0.036*\"1184\" + 0.032*\"6\" + 0.025*\"243\" + 0.021*\"359\"\n",
      "2022-02-28 23:04:01,454 : INFO : topic #60 (0.014): 0.602*\"176\" + 0.231*\"429\" + 0.031*\"57\" + 0.026*\"799\" + 0.020*\"15\" + 0.015*\"185\" + 0.010*\"635\" + 0.010*\"41\" + 0.009*\"425\" + 0.008*\"48\"\n",
      "2022-02-28 23:04:01,455 : INFO : topic #71 (0.014): 0.204*\"34\" + 0.177*\"35\" + 0.089*\"83\" + 0.076*\"36\" + 0.068*\"859\" + 0.064*\"611\" + 0.053*\"24\" + 0.032*\"526\" + 0.021*\"40\" + 0.018*\"296\"\n",
      "2022-02-28 23:04:01,456 : INFO : topic #96 (0.022): 0.371*\"34\" + 0.340*\"35\" + 0.201*\"83\" + 0.030*\"69\" + 0.016*\"0\" + 0.009*\"536\" + 0.008*\"254\" + 0.006*\"1154\" + 0.005*\"485\" + 0.004*\"78\"\n",
      "2022-02-28 23:04:01,457 : INFO : topic diff=0.503478, rho=0.322715\n",
      "2022-02-28 23:04:03,578 : INFO : -6.546 per-word bound, 93.5 perplexity estimate based on a held-out corpus of 1204 documents with 49783 words\n",
      "2022-02-28 23:04:03,579 : INFO : PROGRESS: pass 7, at document #3204/3204\n",
      "2022-02-28 23:04:05,461 : INFO : optimized alpha [0.011814061, 0.011506412, 0.010098093, 0.010419906, 0.009938979, 0.011254946, 0.010341913, 0.010676296, 0.012483363, 0.01144871, 0.009879945, 0.012531352, 0.010873817, 0.011308165, 0.010383796, 0.010948016, 0.0107618775, 0.012715644, 0.00999169, 0.011567704, 0.01098928, 0.010747054, 0.00980206, 0.012476847, 0.010641361, 0.011103689, 0.010853081, 0.010409424, 0.010844241, 0.011201274, 0.0114598805, 0.01068491, 0.010689695, 0.013006168, 0.00988207, 0.0121019855, 0.0118822465, 0.0112642, 0.013406822, 0.010745104, 0.011730104, 0.012988024, 0.011288469, 0.011681274, 0.011376604, 0.011980417, 0.010463583, 0.010613517, 0.01116435, 0.009854314, 0.012039389, 0.010945838, 0.011327237, 0.011114416, 0.010638826, 0.011784125, 0.011093652, 0.011112464, 0.01120661, 0.011657574, 0.014105383, 0.011929605, 0.011493676, 0.010447595, 0.0122798635, 0.009955604, 0.01067614, 0.011675955, 0.010752872, 0.012458115, 0.011761593, 0.014894416, 0.01022486, 0.011001411, 0.011402562, 0.01126613, 0.0101194065, 0.012505541, 0.011119125, 0.010039065, 0.0106422035, 0.010277696, 0.009962696, 0.012102154, 0.01147935, 0.0112294415, 0.012311942, 0.0131349135, 0.01150174, 0.0107678, 0.01268988, 0.010792773, 0.010891378, 0.010949425, 0.011048811, 0.010892062, 0.023530189, 0.010695227, 0.011099679, 0.012964634]\n",
      "2022-02-28 23:04:05,472 : INFO : merging changes from 1204 documents into a model of 3204 documents\n",
      "2022-02-28 23:04:05,486 : INFO : topic #49 (0.010): 0.171*\"652\" + 0.092*\"1068\" + 0.068*\"469\" + 0.053*\"6\" + 0.051*\"844\" + 0.042*\"427\" + 0.032*\"50\" + 0.029*\"850\" + 0.025*\"15\" + 0.024*\"73\"\n",
      "2022-02-28 23:04:05,487 : INFO : topic #22 (0.010): 0.068*\"999\" + 0.065*\"722\" + 0.062*\"131\" + 0.057*\"83\" + 0.054*\"995\" + 0.041*\"50\" + 0.029*\"791\" + 0.028*\"871\" + 0.028*\"0\" + 0.028*\"870\"\n"
     ]
    },
    {
     "name": "stderr",
     "output_type": "stream",
     "text": [
      "2022-02-28 23:04:05,488 : INFO : topic #60 (0.014): 0.591*\"176\" + 0.255*\"429\" + 0.030*\"799\" + 0.027*\"57\" + 0.019*\"15\" + 0.015*\"185\" + 0.010*\"635\" + 0.009*\"41\" + 0.008*\"425\" + 0.008*\"48\"\n",
      "2022-02-28 23:04:05,489 : INFO : topic #71 (0.015): 0.204*\"34\" + 0.179*\"35\" + 0.092*\"83\" + 0.080*\"859\" + 0.075*\"36\" + 0.075*\"611\" + 0.050*\"24\" + 0.032*\"526\" + 0.021*\"40\" + 0.015*\"296\"\n",
      "2022-02-28 23:04:05,489 : INFO : topic #96 (0.024): 0.381*\"34\" + 0.344*\"35\" + 0.190*\"83\" + 0.030*\"69\" + 0.017*\"0\" + 0.008*\"536\" + 0.007*\"254\" + 0.005*\"1154\" + 0.004*\"485\" + 0.004*\"78\"\n",
      "2022-02-28 23:04:05,490 : INFO : topic diff=0.505056, rho=0.322715\n",
      "2022-02-28 23:04:05,503 : INFO : PROGRESS: pass 8, at document #2000/3204\n",
      "2022-02-28 23:04:07,455 : INFO : optimized alpha [0.012029356, 0.011532924, 0.010066616, 0.0104497485, 0.009924645, 0.011286765, 0.010393599, 0.010667511, 0.012558165, 0.011437451, 0.009867786, 0.012688092, 0.010913251, 0.011401876, 0.010388199, 0.01098042, 0.010761391, 0.012815787, 0.009964382, 0.011625988, 0.011104674, 0.010785696, 0.009790253, 0.012704936, 0.010612829, 0.01108173, 0.010826496, 0.01039794, 0.0108686285, 0.011222732, 0.011484486, 0.010731876, 0.010732302, 0.013063278, 0.009848065, 0.012236838, 0.011900255, 0.01132188, 0.013472595, 0.010868226, 0.011879317, 0.013153788, 0.011294638, 0.011764172, 0.011471327, 0.01213749, 0.010475386, 0.010647827, 0.011136228, 0.00987556, 0.012096853, 0.011085823, 0.011353055, 0.011279162, 0.010669786, 0.011978641, 0.011078884, 0.011215797, 0.011194606, 0.011699605, 0.014210893, 0.012071542, 0.011613998, 0.010453442, 0.012353838, 0.009962432, 0.010692576, 0.011772412, 0.010746323, 0.012591261, 0.011861676, 0.015023919, 0.010292314, 0.010983679, 0.011572591, 0.011331566, 0.010109466, 0.012470665, 0.011159924, 0.010077438, 0.010600107, 0.010335197, 0.010022152, 0.012175207, 0.01158019, 0.011313638, 0.012454384, 0.013137998, 0.011670072, 0.010781524, 0.013091235, 0.010850354, 0.010899647, 0.011080497, 0.011083253, 0.0109425895, 0.025131956, 0.010754164, 0.011161586, 0.012946947]\n",
      "2022-02-28 23:04:07,466 : INFO : merging changes from 2000 documents into a model of 3204 documents\n",
      "2022-02-28 23:04:07,478 : INFO : topic #22 (0.010): 0.071*\"999\" + 0.068*\"722\" + 0.062*\"131\" + 0.052*\"83\" + 0.048*\"995\" + 0.039*\"50\" + 0.032*\"791\" + 0.028*\"0\" + 0.026*\"401\" + 0.026*\"871\"\n",
      "2022-02-28 23:04:07,479 : INFO : topic #10 (0.010): 0.118*\"50\" + 0.049*\"267\" + 0.040*\"6\" + 0.024*\"366\" + 0.024*\"820\" + 0.023*\"63\" + 0.020*\"931\" + 0.019*\"13\" + 0.016*\"431\" + 0.015*\"858\"\n",
      "2022-02-28 23:04:07,480 : INFO : topic #60 (0.014): 0.617*\"176\" + 0.229*\"429\" + 0.030*\"57\" + 0.026*\"799\" + 0.019*\"15\" + 0.015*\"185\" + 0.011*\"635\" + 0.009*\"41\" + 0.008*\"425\" + 0.008*\"48\"\n",
      "2022-02-28 23:04:07,482 : INFO : topic #71 (0.015): 0.205*\"34\" + 0.178*\"35\" + 0.088*\"83\" + 0.081*\"36\" + 0.069*\"859\" + 0.066*\"611\" + 0.057*\"24\" + 0.034*\"526\" + 0.021*\"40\" + 0.016*\"379\"\n",
      "2022-02-28 23:04:07,483 : INFO : topic #96 (0.025): 0.376*\"34\" + 0.343*\"35\" + 0.196*\"83\" + 0.030*\"69\" + 0.016*\"0\" + 0.009*\"536\" + 0.007*\"254\" + 0.006*\"1154\" + 0.005*\"485\" + 0.004*\"78\"\n",
      "2022-02-28 23:04:07,485 : INFO : topic diff=0.440038, rho=0.307119\n",
      "2022-02-28 23:04:09,545 : INFO : -6.524 per-word bound, 92.0 perplexity estimate based on a held-out corpus of 1204 documents with 49783 words\n",
      "2022-02-28 23:04:09,546 : INFO : PROGRESS: pass 8, at document #3204/3204\n",
      "2022-02-28 23:04:11,322 : INFO : optimized alpha [0.01227582, 0.011725129, 0.010142648, 0.01057447, 0.009985366, 0.0114535205, 0.010443252, 0.0108058145, 0.012793813, 0.011564697, 0.00992399, 0.012925749, 0.011063364, 0.011531859, 0.01050469, 0.011123395, 0.010867217, 0.013146655, 0.010043459, 0.011783504, 0.0112071615, 0.010906722, 0.009838799, 0.01282489, 0.010745636, 0.011248722, 0.01097666, 0.010528955, 0.010985572, 0.011385753, 0.011736942, 0.010899011, 0.01082326, 0.013462276, 0.009909432, 0.01245235, 0.0121186655, 0.011450351, 0.013841321, 0.010981981, 0.011986273, 0.013383615, 0.011454057, 0.011990906, 0.011667908, 0.012311699, 0.010591693, 0.010750808, 0.011273809, 0.009916199, 0.012289238, 0.011138088, 0.0115396995, 0.011392526, 0.010798873, 0.012157216, 0.011232571, 0.011367787, 0.011325309, 0.011891955, 0.014715597, 0.012292388, 0.011803187, 0.010570515, 0.012574969, 0.01001993, 0.010844085, 0.011922643, 0.0108550675, 0.012809043, 0.012039059, 0.0154733, 0.010366425, 0.0111608235, 0.011701132, 0.011490001, 0.010193156, 0.012765487, 0.011329986, 0.010112511, 0.010748103, 0.010402414, 0.010032864, 0.012382966, 0.011720837, 0.011438433, 0.012657346, 0.013472638, 0.011902066, 0.010883453, 0.013047769, 0.01096046, 0.011047046, 0.011257455, 0.011197022, 0.011047046, 0.026340453, 0.010879647, 0.011315599, 0.013321754]\n",
      "2022-02-28 23:04:11,332 : INFO : merging changes from 1204 documents into a model of 3204 documents\n",
      "2022-02-28 23:04:11,345 : INFO : topic #22 (0.010): 0.072*\"999\" + 0.067*\"722\" + 0.064*\"131\" + 0.055*\"83\" + 0.055*\"995\" + 0.040*\"50\" + 0.030*\"791\" + 0.029*\"871\" + 0.029*\"870\" + 0.027*\"401\"\n",
      "2022-02-28 23:04:11,346 : INFO : topic #34 (0.010): 0.133*\"41\" + 0.113*\"1185\" + 0.063*\"50\" + 0.059*\"91\" + 0.056*\"1147\" + 0.053*\"269\" + 0.040*\"1184\" + 0.029*\"6\" + 0.029*\"243\" + 0.021*\"660\"\n",
      "2022-02-28 23:04:11,347 : INFO : topic #60 (0.015): 0.603*\"176\" + 0.252*\"429\" + 0.029*\"799\" + 0.027*\"57\" + 0.018*\"15\" + 0.015*\"185\" + 0.010*\"635\" + 0.008*\"41\" + 0.008*\"48\" + 0.007*\"425\"\n",
      "2022-02-28 23:04:11,348 : INFO : topic #71 (0.015): 0.205*\"34\" + 0.180*\"35\" + 0.091*\"83\" + 0.079*\"859\" + 0.079*\"36\" + 0.075*\"611\" + 0.053*\"24\" + 0.034*\"526\" + 0.021*\"40\" + 0.014*\"379\"\n",
      "2022-02-28 23:04:11,349 : INFO : topic #96 (0.026): 0.387*\"34\" + 0.346*\"35\" + 0.186*\"83\" + 0.030*\"69\" + 0.016*\"0\" + 0.008*\"536\" + 0.006*\"254\" + 0.005*\"1154\" + 0.004*\"485\" + 0.004*\"78\"\n",
      "2022-02-28 23:04:11,351 : INFO : topic diff=0.441299, rho=0.307119\n",
      "2022-02-28 23:04:11,362 : INFO : PROGRESS: pass 9, at document #2000/3204\n",
      "2022-02-28 23:04:13,156 : INFO : optimized alpha [0.012502624, 0.011753674, 0.010117529, 0.0106093, 0.0099750925, 0.011487183, 0.01049007, 0.010808429, 0.0128541, 0.011559116, 0.009920176, 0.013079482, 0.01110446, 0.011618875, 0.010507355, 0.011149502, 0.010873287, 0.013246572, 0.0100206705, 0.011842841, 0.011318749, 0.010947093, 0.009832415, 0.013052443, 0.010718194, 0.011235652, 0.010955779, 0.010528741, 0.011020393, 0.01140607, 0.011766691, 0.010950438, 0.010869105, 0.01352737, 0.009880397, 0.012590182, 0.012136927, 0.01150248, 0.013911084, 0.011102828, 0.012129018, 0.013551924, 0.01145972, 0.012072276, 0.011771356, 0.01246961, 0.010609249, 0.010787041, 0.011251796, 0.009941523, 0.012347856, 0.011273635, 0.011569121, 0.011574548, 0.010833301, 0.0123483995, 0.0112198675, 0.011474415, 0.011323931, 0.011944364, 0.014817624, 0.012435451, 0.011924855, 0.010580823, 0.012643865, 0.010035643, 0.010861229, 0.012015689, 0.010852043, 0.012928186, 0.012139146, 0.015606038, 0.010437676, 0.011144919, 0.011868052, 0.011557998, 0.010183868, 0.012730126, 0.011372232, 0.010155681, 0.010709132, 0.010465615, 0.0100948755, 0.012458425, 0.011821575, 0.011519574, 0.012804586, 0.01347358, 0.012102713, 0.01089842, 0.013440191, 0.011017659, 0.011051459, 0.011404668, 0.0112301055, 0.011100651, 0.028038261, 0.010937944, 0.011383572, 0.013310095]\n",
      "2022-02-28 23:04:13,168 : INFO : merging changes from 2000 documents into a model of 3204 documents\n",
      "2022-02-28 23:04:13,182 : INFO : topic #34 (0.010): 0.137*\"41\" + 0.105*\"1185\" + 0.063*\"50\" + 0.056*\"91\" + 0.054*\"1147\" + 0.050*\"269\" + 0.036*\"1184\" + 0.029*\"6\" + 0.029*\"243\" + 0.022*\"660\"\n",
      "2022-02-28 23:04:13,183 : INFO : topic #22 (0.010): 0.074*\"999\" + 0.069*\"722\" + 0.064*\"131\" + 0.051*\"83\" + 0.049*\"995\" + 0.039*\"50\" + 0.033*\"791\" + 0.027*\"117\" + 0.027*\"871\" + 0.026*\"0\"\n",
      "2022-02-28 23:04:13,184 : INFO : topic #60 (0.015): 0.627*\"176\" + 0.227*\"429\" + 0.029*\"57\" + 0.026*\"799\" + 0.018*\"15\" + 0.015*\"185\" + 0.011*\"635\" + 0.008*\"41\" + 0.007*\"425\" + 0.007*\"48\"\n",
      "2022-02-28 23:04:13,185 : INFO : topic #71 (0.016): 0.206*\"34\" + 0.179*\"35\" + 0.087*\"83\" + 0.085*\"36\" + 0.069*\"859\" + 0.066*\"611\" + 0.060*\"24\" + 0.035*\"526\" + 0.022*\"40\" + 0.017*\"379\"\n",
      "2022-02-28 23:04:13,186 : INFO : topic #96 (0.028): 0.381*\"34\" + 0.345*\"35\" + 0.192*\"83\" + 0.029*\"69\" + 0.015*\"0\" + 0.008*\"536\" + 0.006*\"254\" + 0.006*\"1154\" + 0.004*\"485\" + 0.004*\"78\"\n"
     ]
    },
    {
     "name": "stderr",
     "output_type": "stream",
     "text": [
      "2022-02-28 23:04:13,187 : INFO : topic diff=0.383256, rho=0.293585\n",
      "2022-02-28 23:04:15,252 : INFO : -6.506 per-word bound, 90.9 perplexity estimate based on a held-out corpus of 1204 documents with 49783 words\n",
      "2022-02-28 23:04:15,253 : INFO : PROGRESS: pass 9, at document #3204/3204\n",
      "2022-02-28 23:04:17,174 : INFO : optimized alpha [0.012749207, 0.011942619, 0.010191008, 0.010742803, 0.010038786, 0.011642671, 0.010540566, 0.010947336, 0.013091914, 0.011681787, 0.00998918, 0.013306815, 0.01125761, 0.011752667, 0.010629935, 0.011290277, 0.010972639, 0.013582239, 0.010104544, 0.01200062, 0.011419969, 0.011063755, 0.0098794745, 0.0131735355, 0.010841023, 0.011402497, 0.01110885, 0.010671017, 0.011130506, 0.0115662385, 0.011997524, 0.011122885, 0.010967278, 0.01391776, 0.009944749, 0.01279919, 0.012336148, 0.011632064, 0.014277386, 0.011215093, 0.012231628, 0.013780906, 0.01161646, 0.012292346, 0.01196482, 0.01265021, 0.01072914, 0.010886313, 0.011387195, 0.009985822, 0.012549174, 0.011323436, 0.011746841, 0.0116950935, 0.010971264, 0.012532932, 0.011379391, 0.01162131, 0.011452901, 0.012139544, 0.015317335, 0.012652722, 0.012116836, 0.010704183, 0.012854673, 0.010098569, 0.011007523, 0.012163577, 0.0109515125, 0.013145195, 0.012313581, 0.016041696, 0.0105166165, 0.011305227, 0.012006235, 0.0117137665, 0.010264617, 0.013022138, 0.01154495, 0.01018712, 0.010851921, 0.010537934, 0.010105312, 0.012671893, 0.01196579, 0.011639731, 0.012991599, 0.013805549, 0.012349622, 0.011004712, 0.013404157, 0.011123784, 0.011193724, 0.011581906, 0.011337048, 0.011206773, 0.0293055, 0.011061672, 0.011538042, 0.013691496]\n",
      "2022-02-28 23:04:17,185 : INFO : merging changes from 1204 documents into a model of 3204 documents\n",
      "2022-02-28 23:04:17,197 : INFO : topic #22 (0.010): 0.075*\"999\" + 0.068*\"722\" + 0.066*\"131\" + 0.055*\"995\" + 0.052*\"83\" + 0.039*\"50\" + 0.031*\"791\" + 0.030*\"871\" + 0.029*\"870\" + 0.028*\"117\"\n",
      "2022-02-28 23:04:17,198 : INFO : topic #34 (0.010): 0.139*\"41\" + 0.112*\"1185\" + 0.064*\"50\" + 0.057*\"91\" + 0.056*\"1147\" + 0.053*\"269\" + 0.039*\"1184\" + 0.031*\"243\" + 0.028*\"6\" + 0.022*\"174\"\n",
      "2022-02-28 23:04:17,198 : INFO : topic #60 (0.015): 0.612*\"176\" + 0.249*\"429\" + 0.029*\"799\" + 0.026*\"57\" + 0.017*\"15\" + 0.015*\"185\" + 0.010*\"635\" + 0.007*\"48\" + 0.007*\"41\" + 0.006*\"425\"\n",
      "2022-02-28 23:04:17,199 : INFO : topic #71 (0.016): 0.205*\"34\" + 0.181*\"35\" + 0.090*\"83\" + 0.082*\"36\" + 0.079*\"859\" + 0.076*\"611\" + 0.056*\"24\" + 0.035*\"526\" + 0.020*\"40\" + 0.014*\"379\"\n",
      "2022-02-28 23:04:17,200 : INFO : topic #96 (0.029): 0.391*\"34\" + 0.348*\"35\" + 0.183*\"83\" + 0.030*\"69\" + 0.016*\"0\" + 0.008*\"536\" + 0.005*\"1154\" + 0.005*\"254\" + 0.004*\"485\" + 0.003*\"78\"\n",
      "2022-02-28 23:04:17,202 : INFO : topic diff=0.385952, rho=0.293585\n",
      "2022-02-28 23:04:17,213 : INFO : PROGRESS: pass 10, at document #2000/3204\n",
      "2022-02-28 23:04:19,035 : INFO : optimized alpha [0.012984573, 0.011971447, 0.0101687, 0.010780906, 0.010035007, 0.011673277, 0.01058455, 0.010957537, 0.013153438, 0.011678158, 0.00999007, 0.013452447, 0.011300296, 0.01184352, 0.010638406, 0.011320121, 0.010977097, 0.013685936, 0.010085826, 0.012059529, 0.011528232, 0.011110527, 0.009873858, 0.013393891, 0.010813132, 0.011389526, 0.011091623, 0.010676692, 0.01116575, 0.011583846, 0.012033965, 0.011175472, 0.011013149, 0.0139809735, 0.0099201705, 0.012936846, 0.012358505, 0.01168404, 0.014357378, 0.011334152, 0.012370315, 0.013948377, 0.0116248885, 0.012374223, 0.012075306, 0.01280577, 0.010746033, 0.010921365, 0.011370797, 0.010013436, 0.012610848, 0.01145988, 0.0117814625, 0.011872864, 0.011006002, 0.012726633, 0.0113716675, 0.011728182, 0.011449964, 0.0121935, 0.015416209, 0.012800816, 0.012238445, 0.0107156, 0.012924372, 0.010118323, 0.011025372, 0.012255355, 0.010945613, 0.013264156, 0.01241569, 0.016168974, 0.010588679, 0.011292792, 0.012172318, 0.011787675, 0.010263262, 0.012991825, 0.011585434, 0.010229158, 0.010820382, 0.010605131, 0.010165516, 0.012749955, 0.012068473, 0.011723101, 0.013127268, 0.013802473, 0.012569265, 0.011019241, 0.013788992, 0.011180655, 0.011197742, 0.011730535, 0.011370653, 0.011258583, 0.03110296, 0.011114857, 0.01160205, 0.013679562]\n",
      "2022-02-28 23:04:19,046 : INFO : merging changes from 2000 documents into a model of 3204 documents\n",
      "2022-02-28 23:04:19,059 : INFO : topic #22 (0.010): 0.076*\"999\" + 0.070*\"722\" + 0.067*\"131\" + 0.049*\"995\" + 0.048*\"83\" + 0.038*\"50\" + 0.034*\"791\" + 0.029*\"117\" + 0.027*\"871\" + 0.026*\"401\"\n",
      "2022-02-28 23:04:19,060 : INFO : topic #34 (0.010): 0.142*\"41\" + 0.105*\"1185\" + 0.064*\"50\" + 0.055*\"91\" + 0.053*\"1147\" + 0.050*\"269\" + 0.036*\"1184\" + 0.030*\"243\" + 0.028*\"6\" + 0.024*\"660\"\n",
      "2022-02-28 23:04:19,060 : INFO : topic #60 (0.015): 0.633*\"176\" + 0.226*\"429\" + 0.029*\"57\" + 0.026*\"799\" + 0.018*\"15\" + 0.014*\"185\" + 0.011*\"635\" + 0.007*\"41\" + 0.007*\"48\" + 0.007*\"425\"\n",
      "2022-02-28 23:04:19,061 : INFO : topic #71 (0.016): 0.206*\"34\" + 0.179*\"35\" + 0.088*\"36\" + 0.087*\"83\" + 0.069*\"859\" + 0.067*\"611\" + 0.062*\"24\" + 0.037*\"526\" + 0.020*\"40\" + 0.017*\"379\"\n",
      "2022-02-28 23:04:19,062 : INFO : topic #96 (0.031): 0.385*\"34\" + 0.347*\"35\" + 0.189*\"83\" + 0.029*\"69\" + 0.015*\"0\" + 0.008*\"536\" + 0.006*\"1154\" + 0.004*\"254\" + 0.004*\"485\" + 0.004*\"78\"\n",
      "2022-02-28 23:04:19,062 : INFO : topic diff=0.334827, rho=0.281696\n",
      "2022-02-28 23:04:21,047 : INFO : -6.490 per-word bound, 89.9 perplexity estimate based on a held-out corpus of 1204 documents with 49783 words\n",
      "2022-02-28 23:04:21,048 : INFO : PROGRESS: pass 10, at document #3204/3204\n",
      "2022-02-28 23:04:22,723 : INFO : optimized alpha [0.013231776, 0.01216624, 0.010247194, 0.010923096, 0.010099171, 0.011826739, 0.010635929, 0.011110316, 0.013381604, 0.011799471, 0.010059306, 0.013682748, 0.0114461705, 0.0119785145, 0.010762055, 0.011461874, 0.01107061, 0.014017825, 0.010179035, 0.012215212, 0.011623236, 0.011223417, 0.009921948, 0.013519618, 0.01093971, 0.011545807, 0.011242486, 0.010827296, 0.011269669, 0.011739057, 0.012247318, 0.011350903, 0.011110651, 0.014367122, 0.009987303, 0.013149059, 0.012551805, 0.011806624, 0.01471913, 0.011458648, 0.0124661205, 0.014170678, 0.011793377, 0.012591282, 0.012266322, 0.012980927, 0.01086211, 0.011019938, 0.01149912, 0.010063553, 0.012800323, 0.0115074515, 0.011959303, 0.011992258, 0.011144949, 0.012917723, 0.011528941, 0.011867773, 0.01157767, 0.01238324, 0.015911924, 0.013021263, 0.012416406, 0.010835124, 0.01312598, 0.01017921, 0.0111696785, 0.012401388, 0.011044431, 0.013484208, 0.012570279, 0.01660359, 0.0106723495, 0.011448073, 0.012314413, 0.011935951, 0.010348711, 0.0132790115, 0.011761155, 0.01025728, 0.010968812, 0.01068738, 0.010178217, 0.012945289, 0.01220807, 0.011839266, 0.013308559, 0.01411619, 0.012831854, 0.011122162, 0.013743934, 0.01129373, 0.011343455, 0.011905721, 0.011471404, 0.011374612, 0.032419045, 0.011247755, 0.011784595, 0.0140395835]\n",
      "2022-02-28 23:04:22,735 : INFO : merging changes from 1204 documents into a model of 3204 documents\n",
      "2022-02-28 23:04:22,748 : INFO : topic #22 (0.010): 0.077*\"999\" + 0.069*\"722\" + 0.069*\"131\" + 0.056*\"995\" + 0.048*\"83\" + 0.038*\"50\" + 0.032*\"791\" + 0.030*\"871\" + 0.030*\"870\" + 0.029*\"117\"\n",
      "2022-02-28 23:04:22,749 : INFO : topic #34 (0.010): 0.143*\"41\" + 0.112*\"1185\" + 0.066*\"50\" + 0.056*\"91\" + 0.055*\"1147\" + 0.052*\"269\" + 0.039*\"1184\" + 0.031*\"243\" + 0.028*\"6\" + 0.023*\"660\"\n",
      "2022-02-28 23:04:22,750 : INFO : topic #60 (0.016): 0.617*\"176\" + 0.248*\"429\" + 0.029*\"799\" + 0.026*\"57\" + 0.017*\"15\" + 0.015*\"185\" + 0.010*\"635\" + 0.007*\"48\" + 0.007*\"41\" + 0.006*\"425\"\n",
      "2022-02-28 23:04:22,751 : INFO : topic #71 (0.017): 0.205*\"34\" + 0.181*\"35\" + 0.089*\"83\" + 0.085*\"36\" + 0.079*\"859\" + 0.076*\"611\" + 0.058*\"24\" + 0.037*\"526\" + 0.019*\"40\" + 0.014*\"379\"\n",
      "2022-02-28 23:04:22,752 : INFO : topic #96 (0.032): 0.395*\"34\" + 0.349*\"35\" + 0.180*\"83\" + 0.030*\"69\" + 0.016*\"0\" + 0.008*\"536\" + 0.005*\"1154\" + 0.004*\"485\" + 0.003*\"254\" + 0.003*\"78\"\n",
      "2022-02-28 23:04:22,753 : INFO : topic diff=0.339624, rho=0.281696\n",
      "2022-02-28 23:04:22,766 : INFO : PROGRESS: pass 11, at document #2000/3204\n",
      "2022-02-28 23:04:24,472 : INFO : optimized alpha [0.013469018, 0.012195316, 0.010224602, 0.010968864, 0.010095875, 0.011857756, 0.010678748, 0.011122983, 0.013444358, 0.011796034, 0.010064577, 0.013822621, 0.011484252, 0.012070004, 0.010773087, 0.011490602, 0.01107661, 0.014123712, 0.0101653, 0.012273732, 0.011723858, 0.011271855, 0.0099183405, 0.0137407435, 0.010917248, 0.011534539, 0.011227101, 0.010837017, 0.011306862, 0.01175741, 0.012280515, 0.011404763, 0.011155135, 0.014426737, 0.009969475, 0.013286693, 0.01257294, 0.011858629, 0.014793368, 0.0115839755, 0.012602855, 0.014326115, 0.011804379, 0.012679047, 0.012378793, 0.013132696, 0.010888685, 0.011052458, 0.011488004, 0.010091991, 0.01286867, 0.011635726, 0.011992453, 0.012182759, 0.011175428, 0.013116326, 0.011527507, 0.01197018, 0.011582773, 0.012438644, 0.016005803, 0.013169346, 0.012536557, 0.0108491, 0.01319312, 0.010201357, 0.011189751, 0.012492184, 0.0110344235, 0.013601463, 0.012674628, 0.016741505, 0.010745296, 0.011437286, 0.012483374, 0.012007609, 0.010343373, 0.013249969, 0.011803222, 0.0102983415, 0.010938159, 0.010768647, 0.010238256, 0.013017272, 0.012302876, 0.011925036, 0.013442383, 0.014113325, 0.013064074, 0.011145343, 0.0141238235, 0.011350441, 0.0113502545, 0.0120607875, 0.011500974, 0.011429428, 0.034283575, 0.011299175, 0.011846484, 0.014027678]\n"
     ]
    },
    {
     "name": "stderr",
     "output_type": "stream",
     "text": [
      "2022-02-28 23:04:24,483 : INFO : merging changes from 2000 documents into a model of 3204 documents\n",
      "2022-02-28 23:04:24,497 : INFO : topic #22 (0.010): 0.078*\"999\" + 0.071*\"722\" + 0.071*\"131\" + 0.050*\"995\" + 0.044*\"83\" + 0.037*\"50\" + 0.035*\"791\" + 0.030*\"117\" + 0.027*\"871\" + 0.026*\"401\"\n",
      "2022-02-28 23:04:24,498 : INFO : topic #34 (0.010): 0.146*\"41\" + 0.104*\"1185\" + 0.065*\"50\" + 0.055*\"91\" + 0.052*\"1147\" + 0.049*\"269\" + 0.035*\"1184\" + 0.031*\"243\" + 0.027*\"6\" + 0.026*\"660\"\n",
      "2022-02-28 23:04:24,499 : INFO : topic #60 (0.016): 0.638*\"176\" + 0.226*\"429\" + 0.029*\"57\" + 0.026*\"799\" + 0.017*\"15\" + 0.015*\"185\" + 0.011*\"635\" + 0.007*\"41\" + 0.007*\"48\" + 0.006*\"425\"\n",
      "2022-02-28 23:04:24,500 : INFO : topic #71 (0.017): 0.206*\"34\" + 0.179*\"35\" + 0.091*\"36\" + 0.086*\"83\" + 0.069*\"859\" + 0.068*\"611\" + 0.064*\"24\" + 0.038*\"526\" + 0.020*\"40\" + 0.016*\"379\"\n",
      "2022-02-28 23:04:24,501 : INFO : topic #96 (0.034): 0.389*\"34\" + 0.349*\"35\" + 0.186*\"83\" + 0.029*\"69\" + 0.015*\"0\" + 0.008*\"536\" + 0.005*\"1154\" + 0.004*\"485\" + 0.004*\"78\" + 0.003*\"254\"\n",
      "2022-02-28 23:04:24,502 : INFO : topic diff=0.294851, rho=0.271143\n",
      "2022-02-28 23:04:26,424 : INFO : -6.478 per-word bound, 89.1 perplexity estimate based on a held-out corpus of 1204 documents with 49783 words\n",
      "2022-02-28 23:04:26,425 : INFO : PROGRESS: pass 11, at document #3204/3204\n",
      "2022-02-28 23:04:28,040 : INFO : optimized alpha [0.013723473, 0.012379512, 0.0102986125, 0.011124594, 0.010167437, 0.012006895, 0.010726178, 0.011279291, 0.013666808, 0.011916409, 0.010131831, 0.014043958, 0.011628619, 0.0122037595, 0.010900481, 0.011630974, 0.011174932, 0.01447171, 0.01026738, 0.012422192, 0.011813124, 0.011381411, 0.009965184, 0.013865115, 0.011032639, 0.011689051, 0.011376229, 0.010995976, 0.0114128245, 0.011916259, 0.012485761, 0.0115731675, 0.011254689, 0.014802836, 0.0100415945, 0.01349057, 0.012758286, 0.011985701, 0.015151301, 0.011704868, 0.012695298, 0.0145294545, 0.011960162, 0.012902194, 0.01257352, 0.013303078, 0.0110112205, 0.011148132, 0.011617763, 0.0101453075, 0.01305883, 0.011681415, 0.012170909, 0.012317919, 0.011307935, 0.013311364, 0.011680318, 0.012105844, 0.011720012, 0.0126292445, 0.016491035, 0.013387701, 0.012709845, 0.010972493, 0.013389268, 0.010260425, 0.011334986, 0.012636777, 0.011130407, 0.013821869, 0.01282475, 0.01716472, 0.010833772, 0.011590777, 0.012629718, 0.012159913, 0.010431064, 0.013533138, 0.011979506, 0.010328124, 0.011082335, 0.010860442, 0.010253026, 0.013216359, 0.012443826, 0.012040326, 0.0136183975, 0.014410169, 0.013357678, 0.011247709, 0.014076532, 0.01146531, 0.011491893, 0.012248279, 0.011598734, 0.011536853, 0.035626728, 0.011428343, 0.012021747, 0.014386623]\n",
      "2022-02-28 23:04:28,051 : INFO : merging changes from 1204 documents into a model of 3204 documents\n",
      "2022-02-28 23:04:28,064 : INFO : topic #22 (0.010): 0.079*\"999\" + 0.072*\"131\" + 0.070*\"722\" + 0.057*\"995\" + 0.044*\"83\" + 0.037*\"50\" + 0.033*\"791\" + 0.030*\"117\" + 0.030*\"871\" + 0.030*\"870\"\n",
      "2022-02-28 23:04:28,065 : INFO : topic #34 (0.010): 0.147*\"41\" + 0.110*\"1185\" + 0.067*\"50\" + 0.055*\"91\" + 0.054*\"1147\" + 0.051*\"269\" + 0.038*\"1184\" + 0.032*\"243\" + 0.027*\"6\" + 0.025*\"660\"\n",
      "2022-02-28 23:04:28,066 : INFO : topic #60 (0.016): 0.622*\"176\" + 0.246*\"429\" + 0.029*\"799\" + 0.027*\"57\" + 0.017*\"15\" + 0.015*\"185\" + 0.010*\"635\" + 0.007*\"48\" + 0.007*\"41\" + 0.005*\"425\"\n",
      "2022-02-28 23:04:28,068 : INFO : topic #71 (0.017): 0.205*\"34\" + 0.181*\"35\" + 0.089*\"83\" + 0.087*\"36\" + 0.079*\"859\" + 0.076*\"611\" + 0.059*\"24\" + 0.038*\"526\" + 0.019*\"40\" + 0.014*\"379\"\n",
      "2022-02-28 23:04:28,069 : INFO : topic #96 (0.036): 0.398*\"34\" + 0.350*\"35\" + 0.178*\"83\" + 0.029*\"69\" + 0.015*\"0\" + 0.008*\"536\" + 0.005*\"1154\" + 0.004*\"485\" + 0.003*\"78\" + 0.003*\"821\"\n",
      "2022-02-28 23:04:28,070 : INFO : topic diff=0.300930, rho=0.271143\n",
      "2022-02-28 23:04:28,084 : INFO : PROGRESS: pass 12, at document #2000/3204\n",
      "2022-02-28 23:04:29,712 : INFO : optimized alpha [0.013963004, 0.012407401, 0.010277131, 0.011171848, 0.010169922, 0.012038377, 0.010769404, 0.011297292, 0.013730956, 0.011916278, 0.010142566, 0.014182083, 0.011671622, 0.0122944815, 0.010916733, 0.011657224, 0.011182271, 0.014578082, 0.010262308, 0.0124822315, 0.011911232, 0.011432927, 0.009960805, 0.014083807, 0.011015263, 0.011680884, 0.011362598, 0.011016752, 0.011449032, 0.011938454, 0.012525734, 0.011625352, 0.011296451, 0.01486682, 0.0100220265, 0.01362847, 0.0127767455, 0.012037789, 0.015222147, 0.011830486, 0.012825479, 0.01468293, 0.011970568, 0.012990811, 0.012684955, 0.013460267, 0.011036981, 0.011179778, 0.011605456, 0.010174477, 0.013133807, 0.011812742, 0.012205919, 0.012518335, 0.011340431, 0.013506517, 0.011680191, 0.012204081, 0.011721659, 0.012687864, 0.016580157, 0.013534245, 0.012835483, 0.010991765, 0.013447177, 0.010280819, 0.011352738, 0.012725138, 0.011120871, 0.01394668, 0.012926395, 0.01730446, 0.010906248, 0.011581599, 0.012796992, 0.012227959, 0.01042745, 0.013505227, 0.012021621, 0.010369645, 0.011055339, 0.010952486, 0.010310276, 0.013291214, 0.012541013, 0.012125443, 0.0137525415, 0.01440967, 0.013606679, 0.011271765, 0.014448614, 0.011523426, 0.011496706, 0.012398961, 0.011633579, 0.011596221, 0.037547532, 0.011482702, 0.012095965, 0.01436895]\n",
      "2022-02-28 23:04:29,724 : INFO : merging changes from 2000 documents into a model of 3204 documents\n",
      "2022-02-28 23:04:29,739 : INFO : topic #22 (0.010): 0.080*\"999\" + 0.073*\"131\" + 0.072*\"722\" + 0.051*\"995\" + 0.041*\"83\" + 0.037*\"50\" + 0.036*\"791\" + 0.031*\"117\" + 0.028*\"871\" + 0.026*\"401\"\n",
      "2022-02-28 23:04:29,741 : INFO : topic #34 (0.010): 0.149*\"41\" + 0.103*\"1185\" + 0.066*\"50\" + 0.054*\"91\" + 0.052*\"1147\" + 0.048*\"269\" + 0.035*\"1184\" + 0.031*\"243\" + 0.027*\"6\" + 0.027*\"660\"\n",
      "2022-02-28 23:04:29,742 : INFO : topic #60 (0.017): 0.641*\"176\" + 0.225*\"429\" + 0.029*\"57\" + 0.026*\"799\" + 0.017*\"15\" + 0.015*\"185\" + 0.011*\"635\" + 0.007*\"48\" + 0.007*\"41\" + 0.006*\"425\"\n",
      "2022-02-28 23:04:29,743 : INFO : topic #71 (0.017): 0.206*\"34\" + 0.179*\"35\" + 0.093*\"36\" + 0.085*\"83\" + 0.070*\"859\" + 0.068*\"611\" + 0.065*\"24\" + 0.040*\"526\" + 0.019*\"40\" + 0.016*\"379\"\n",
      "2022-02-28 23:04:29,743 : INFO : topic #96 (0.038): 0.392*\"34\" + 0.350*\"35\" + 0.185*\"83\" + 0.029*\"69\" + 0.015*\"0\" + 0.008*\"536\" + 0.005*\"1154\" + 0.004*\"485\" + 0.003*\"78\" + 0.003*\"821\"\n",
      "2022-02-28 23:04:29,745 : INFO : topic diff=0.262430, rho=0.261694\n",
      "2022-02-28 23:04:31,587 : INFO : -6.468 per-word bound, 88.5 perplexity estimate based on a held-out corpus of 1204 documents with 49783 words\n",
      "2022-02-28 23:04:31,588 : INFO : PROGRESS: pass 12, at document #3204/3204\n",
      "2022-02-28 23:04:33,285 : INFO : optimized alpha [0.014219085, 0.012584394, 0.010358305, 0.011338739, 0.01024185, 0.012186316, 0.01082023, 0.011457295, 0.0139543265, 0.012033435, 0.0102237025, 0.014404265, 0.0118096545, 0.01241658, 0.0110407155, 0.011799044, 0.011275492, 0.01492703, 0.010363973, 0.012632249, 0.012000386, 0.011539491, 0.010008752, 0.01420095, 0.011117839, 0.011823846, 0.011512763, 0.011186476, 0.0115571525, 0.012093245, 0.012734458, 0.011799905, 0.011400634, 0.0152433785, 0.010096714, 0.013833604, 0.012946199, 0.012164195, 0.015577001, 0.011945523, 0.01291767, 0.014868144, 0.012132891, 0.013217653, 0.012894895, 0.013635134, 0.011161085, 0.011272861, 0.011726703, 0.010230864, 0.013328206, 0.011856686, 0.012380156, 0.0126471855, 0.011474572, 0.013699953, 0.01182397, 0.012341516, 0.011847522, 0.012888093, 0.017062668, 0.013750794, 0.013007366, 0.011124069, 0.013641258, 0.010338344, 0.011496734, 0.012868708, 0.011211838, 0.014164892, 0.013069625, 0.017728087, 0.010994641, 0.011738742, 0.012947805, 0.012376395, 0.01051736, 0.013782108, 0.012198847, 0.0103987185, 0.011198157, 0.011048806, 0.010320282, 0.013488453, 0.012680898, 0.012232205, 0.013927078, 0.01470652, 0.013908683, 0.011366406, 0.014396103, 0.011635189, 0.011637087, 0.0125854, 0.011738702, 0.01170579, 0.038902152, 0.011613579, 0.012288336, 0.014727568]\n",
      "2022-02-28 23:04:33,296 : INFO : merging changes from 1204 documents into a model of 3204 documents\n",
      "2022-02-28 23:04:33,308 : INFO : topic #22 (0.010): 0.080*\"999\" + 0.074*\"131\" + 0.071*\"722\" + 0.058*\"995\" + 0.041*\"83\" + 0.036*\"50\" + 0.035*\"791\" + 0.032*\"117\" + 0.031*\"871\" + 0.031*\"870\"\n",
      "2022-02-28 23:04:33,309 : INFO : topic #34 (0.010): 0.152*\"41\" + 0.108*\"1185\" + 0.068*\"50\" + 0.055*\"91\" + 0.053*\"1147\" + 0.050*\"269\" + 0.038*\"1184\" + 0.032*\"243\" + 0.027*\"6\" + 0.025*\"660\"\n"
     ]
    },
    {
     "name": "stderr",
     "output_type": "stream",
     "text": [
      "2022-02-28 23:04:33,309 : INFO : topic #60 (0.017): 0.625*\"176\" + 0.245*\"429\" + 0.029*\"799\" + 0.027*\"57\" + 0.016*\"15\" + 0.015*\"185\" + 0.010*\"635\" + 0.007*\"48\" + 0.006*\"41\" + 0.005*\"425\"\n",
      "2022-02-28 23:04:33,310 : INFO : topic #71 (0.018): 0.205*\"34\" + 0.181*\"35\" + 0.090*\"36\" + 0.088*\"83\" + 0.079*\"859\" + 0.076*\"611\" + 0.061*\"24\" + 0.040*\"526\" + 0.018*\"40\" + 0.015*\"486\"\n",
      "2022-02-28 23:04:33,312 : INFO : topic #96 (0.039): 0.400*\"34\" + 0.351*\"35\" + 0.177*\"83\" + 0.029*\"69\" + 0.015*\"0\" + 0.008*\"536\" + 0.005*\"1154\" + 0.004*\"485\" + 0.003*\"78\" + 0.003*\"821\"\n",
      "2022-02-28 23:04:33,313 : INFO : topic diff=0.268945, rho=0.261694\n",
      "2022-02-28 23:04:33,324 : INFO : PROGRESS: pass 13, at document #2000/3204\n",
      "2022-02-28 23:04:35,002 : INFO : optimized alpha [0.014466733, 0.012617475, 0.010339068, 0.0113903815, 0.010245772, 0.012216773, 0.010861162, 0.011477421, 0.014012728, 0.012036375, 0.01023434, 0.01454279, 0.011851436, 0.012506734, 0.011056462, 0.011828903, 0.011284183, 0.015022443, 0.010363095, 0.012690626, 0.012096239, 0.011591188, 0.010008692, 0.014419444, 0.011102596, 0.011818787, 0.011503617, 0.011224972, 0.011593906, 0.012114601, 0.012771319, 0.011849056, 0.011439855, 0.015313922, 0.010080562, 0.013977382, 0.012963693, 0.012213294, 0.01564461, 0.012065611, 0.01304499, 0.01502578, 0.012150467, 0.013308897, 0.013008739, 0.01379805, 0.011188839, 0.0113037415, 0.011716249, 0.010256877, 0.013407984, 0.0119896615, 0.012420184, 0.012844704, 0.011506088, 0.013895389, 0.011823686, 0.012440645, 0.011852062, 0.012945063, 0.017147275, 0.013899577, 0.013128684, 0.011146965, 0.013697211, 0.01036234, 0.011513791, 0.012954894, 0.011201341, 0.014284952, 0.013177174, 0.017858537, 0.011066817, 0.011730982, 0.013115334, 0.012442594, 0.010518049, 0.013751836, 0.012239553, 0.01043938, 0.011168922, 0.011138853, 0.010377607, 0.0135594485, 0.012775737, 0.012310613, 0.0140600195, 0.014706482, 0.014169884, 0.011387036, 0.014760913, 0.011699205, 0.011640096, 0.01273827, 0.011775601, 0.0117667215, 0.04091049, 0.011669433, 0.012360607, 0.01471747]\n",
      "2022-02-28 23:04:35,013 : INFO : merging changes from 2000 documents into a model of 3204 documents\n",
      "2022-02-28 23:04:35,025 : INFO : topic #22 (0.010): 0.081*\"999\" + 0.075*\"131\" + 0.073*\"722\" + 0.052*\"995\" + 0.039*\"83\" + 0.037*\"791\" + 0.036*\"50\" + 0.032*\"117\" + 0.028*\"871\" + 0.028*\"401\"\n",
      "2022-02-28 23:04:35,026 : INFO : topic #34 (0.010): 0.154*\"41\" + 0.101*\"1185\" + 0.068*\"50\" + 0.054*\"91\" + 0.051*\"1147\" + 0.048*\"269\" + 0.034*\"1184\" + 0.031*\"243\" + 0.027*\"660\" + 0.027*\"6\"\n",
      "2022-02-28 23:04:35,027 : INFO : topic #60 (0.017): 0.644*\"176\" + 0.226*\"429\" + 0.029*\"57\" + 0.026*\"799\" + 0.017*\"15\" + 0.015*\"185\" + 0.011*\"635\" + 0.007*\"48\" + 0.007*\"41\" + 0.005*\"425\"\n",
      "2022-02-28 23:04:35,028 : INFO : topic #71 (0.018): 0.206*\"34\" + 0.180*\"35\" + 0.095*\"36\" + 0.084*\"83\" + 0.071*\"859\" + 0.069*\"611\" + 0.066*\"24\" + 0.041*\"526\" + 0.018*\"40\" + 0.016*\"379\"\n",
      "2022-02-28 23:04:35,029 : INFO : topic #96 (0.041): 0.394*\"34\" + 0.350*\"35\" + 0.183*\"83\" + 0.029*\"69\" + 0.014*\"0\" + 0.008*\"536\" + 0.005*\"1154\" + 0.004*\"485\" + 0.003*\"78\" + 0.003*\"821\"\n",
      "2022-02-28 23:04:35,030 : INFO : topic diff=0.235751, rho=0.253169\n",
      "2022-02-28 23:04:36,950 : INFO : -6.458 per-word bound, 87.9 perplexity estimate based on a held-out corpus of 1204 documents with 49783 words\n",
      "2022-02-28 23:04:36,951 : INFO : PROGRESS: pass 13, at document #3204/3204\n",
      "2022-02-28 23:04:38,677 : INFO : optimized alpha [0.014727906, 0.012793193, 0.0104161315, 0.011563577, 0.01031377, 0.01236123, 0.010913059, 0.01163882, 0.014240417, 0.012150585, 0.010315631, 0.014760141, 0.011988722, 0.012628341, 0.011184387, 0.011969822, 0.0113774175, 0.015379276, 0.01047111, 0.012842357, 0.012185439, 0.01169253, 0.010057722, 0.014541966, 0.011212124, 0.011960804, 0.011647791, 0.011412814, 0.011699376, 0.012265753, 0.012973128, 0.0120274145, 0.011548625, 0.015685167, 0.010155597, 0.01418112, 0.013134748, 0.012334025, 0.015986938, 0.012180281, 0.0131344125, 0.015215746, 0.012301348, 0.01353423, 0.01322016, 0.013965986, 0.011317053, 0.011396863, 0.011837004, 0.010309752, 0.013598185, 0.012034533, 0.012595794, 0.01296208, 0.011656538, 0.014093335, 0.011974212, 0.012574809, 0.011982438, 0.013141257, 0.017620346, 0.014111801, 0.013291106, 0.011280957, 0.0138896145, 0.010420608, 0.011651971, 0.0130867865, 0.011290058, 0.014492466, 0.013313982, 0.018275842, 0.0111529445, 0.01188197, 0.013265209, 0.0125927925, 0.010601368, 0.014028877, 0.012418088, 0.0104678385, 0.01130597, 0.011232696, 0.0103874905, 0.013755235, 0.01291221, 0.012409368, 0.014230396, 0.014997512, 0.014498865, 0.011484158, 0.014709715, 0.011810584, 0.011774696, 0.012945348, 0.01187312, 0.011868665, 0.04225905, 0.0118070515, 0.01255175, 0.01506689]\n",
      "2022-02-28 23:04:38,690 : INFO : merging changes from 1204 documents into a model of 3204 documents\n",
      "2022-02-28 23:04:38,703 : INFO : topic #22 (0.010): 0.081*\"999\" + 0.075*\"131\" + 0.072*\"722\" + 0.058*\"995\" + 0.038*\"83\" + 0.036*\"791\" + 0.035*\"50\" + 0.032*\"117\" + 0.031*\"871\" + 0.031*\"870\"\n",
      "2022-02-28 23:04:38,704 : INFO : topic #34 (0.010): 0.152*\"41\" + 0.107*\"1185\" + 0.069*\"50\" + 0.054*\"91\" + 0.053*\"1147\" + 0.050*\"269\" + 0.037*\"1184\" + 0.032*\"243\" + 0.027*\"6\" + 0.025*\"660\"\n",
      "2022-02-28 23:04:38,705 : INFO : topic #60 (0.018): 0.628*\"176\" + 0.244*\"429\" + 0.029*\"799\" + 0.027*\"57\" + 0.016*\"15\" + 0.015*\"185\" + 0.010*\"635\" + 0.007*\"48\" + 0.006*\"41\" + 0.004*\"425\"\n",
      "2022-02-28 23:04:38,706 : INFO : topic #71 (0.018): 0.206*\"34\" + 0.181*\"35\" + 0.092*\"36\" + 0.087*\"83\" + 0.080*\"859\" + 0.076*\"611\" + 0.062*\"24\" + 0.041*\"526\" + 0.017*\"40\" + 0.015*\"486\"\n",
      "2022-02-28 23:04:38,707 : INFO : topic #96 (0.042): 0.403*\"34\" + 0.351*\"35\" + 0.176*\"83\" + 0.029*\"69\" + 0.014*\"0\" + 0.008*\"536\" + 0.005*\"1154\" + 0.004*\"485\" + 0.003*\"78\" + 0.003*\"821\"\n",
      "2022-02-28 23:04:38,708 : INFO : topic diff=0.242468, rho=0.253169\n",
      "2022-02-28 23:04:38,721 : INFO : PROGRESS: pass 14, at document #2000/3204\n",
      "2022-02-28 23:04:40,395 : INFO : optimized alpha [0.014973152, 0.012823611, 0.010400264, 0.011610991, 0.01031528, 0.012390706, 0.010957201, 0.011659583, 0.014307479, 0.012153463, 0.01032608, 0.014897541, 0.012032356, 0.0127196405, 0.011205085, 0.0119987875, 0.011388823, 0.015486877, 0.01047672, 0.012900726, 0.012280718, 0.011745874, 0.010059264, 0.014755239, 0.011195919, 0.011943804, 0.01163727, 0.011455564, 0.011735278, 0.012287845, 0.013013466, 0.012082515, 0.0115882885, 0.015760351, 0.010146406, 0.01432571, 0.0131564345, 0.012397202, 0.016051525, 0.01230114, 0.013262404, 0.0153775755, 0.0123167, 0.013623243, 0.013333307, 0.014122512, 0.011346784, 0.011427051, 0.011828266, 0.010339144, 0.013669165, 0.012159051, 0.012634533, 0.013164744, 0.011692857, 0.014287683, 0.011975167, 0.012668749, 0.0119882915, 0.013199881, 0.01770278, 0.014256093, 0.013413234, 0.01130457, 0.013942113, 0.01044419, 0.011668401, 0.013169409, 0.011275803, 0.014611573, 0.013419247, 0.018392762, 0.011227699, 0.011874174, 0.013433244, 0.012662054, 0.010606146, 0.013997958, 0.012460503, 0.010510329, 0.011282963, 0.01132504, 0.010442399, 0.013825991, 0.013003373, 0.012489121, 0.014365863, 0.01499606, 0.0147800315, 0.0115057565, 0.015071499, 0.011877429, 0.011777511, 0.013111892, 0.011909211, 0.01193408, 0.044320766, 0.011860072, 0.01263145, 0.015055128]\n",
      "2022-02-28 23:04:40,408 : INFO : merging changes from 2000 documents into a model of 3204 documents\n",
      "2022-02-28 23:04:40,422 : INFO : topic #22 (0.010): 0.082*\"999\" + 0.076*\"131\" + 0.074*\"722\" + 0.053*\"995\" + 0.038*\"791\" + 0.036*\"83\" + 0.035*\"50\" + 0.033*\"117\" + 0.029*\"871\" + 0.028*\"401\"\n",
      "2022-02-28 23:04:40,423 : INFO : topic #34 (0.010): 0.155*\"41\" + 0.100*\"1185\" + 0.069*\"50\" + 0.053*\"91\" + 0.050*\"1147\" + 0.047*\"269\" + 0.034*\"1184\" + 0.031*\"243\" + 0.029*\"660\" + 0.026*\"6\"\n",
      "2022-02-28 23:04:40,425 : INFO : topic #60 (0.018): 0.646*\"176\" + 0.226*\"429\" + 0.029*\"57\" + 0.026*\"799\" + 0.016*\"15\" + 0.015*\"185\" + 0.011*\"635\" + 0.007*\"48\" + 0.006*\"41\" + 0.004*\"425\"\n",
      "2022-02-28 23:04:40,426 : INFO : topic #71 (0.018): 0.207*\"34\" + 0.180*\"35\" + 0.097*\"36\" + 0.083*\"83\" + 0.071*\"859\" + 0.069*\"611\" + 0.068*\"24\" + 0.042*\"526\" + 0.017*\"486\" + 0.016*\"40\"\n",
      "2022-02-28 23:04:40,427 : INFO : topic #96 (0.044): 0.396*\"34\" + 0.351*\"35\" + 0.182*\"83\" + 0.028*\"69\" + 0.014*\"0\" + 0.008*\"536\" + 0.005*\"1154\" + 0.004*\"485\" + 0.003*\"78\" + 0.003*\"821\"\n"
     ]
    },
    {
     "name": "stderr",
     "output_type": "stream",
     "text": [
      "2022-02-28 23:04:40,429 : INFO : topic diff=0.214160, rho=0.245426\n",
      "2022-02-28 23:04:42,272 : INFO : -6.450 per-word bound, 87.4 perplexity estimate based on a held-out corpus of 1204 documents with 49783 words\n",
      "2022-02-28 23:04:42,273 : INFO : PROGRESS: pass 14, at document #3204/3204\n",
      "2022-02-28 23:04:43,836 : INFO : optimized alpha [0.015233468, 0.0129983835, 0.010482029, 0.011785828, 0.010386031, 0.012531985, 0.0110101495, 0.011824965, 0.014527785, 0.012265114, 0.010407705, 0.015107326, 0.012169096, 0.012840837, 0.011343878, 0.012134262, 0.011477585, 0.015852235, 0.010588808, 0.013049131, 0.012367612, 0.011842442, 0.010109339, 0.014871124, 0.011307639, 0.012082681, 0.011773519, 0.011651973, 0.011840704, 0.012433162, 0.013211419, 0.012260044, 0.01169698, 0.01614002, 0.010217674, 0.014528347, 0.013321166, 0.012522841, 0.016388396, 0.012415581, 0.013346612, 0.01557555, 0.012471985, 0.013855711, 0.013549344, 0.014303967, 0.0114745125, 0.011518026, 0.011943885, 0.01039293, 0.013852726, 0.012202447, 0.012811705, 0.0132927755, 0.011845061, 0.014478892, 0.01212486, 0.012799829, 0.012115789, 0.013395146, 0.018170413, 0.014464407, 0.013563911, 0.011447258, 0.014127624, 0.010501163, 0.011801169, 0.013303611, 0.011357855, 0.0148207415, 0.013558399, 0.018807791, 0.011318611, 0.0120218815, 0.01358249, 0.012809062, 0.010689698, 0.014272757, 0.012637995, 0.010540343, 0.011412277, 0.011416605, 0.010452211, 0.01402067, 0.013141914, 0.012587969, 0.014538243, 0.015281879, 0.01512803, 0.011598268, 0.015018441, 0.0119838305, 0.011913986, 0.013305131, 0.012014211, 0.012031188, 0.045636117, 0.011997205, 0.012834655, 0.015399008]\n",
      "2022-02-28 23:04:43,848 : INFO : merging changes from 1204 documents into a model of 3204 documents\n",
      "2022-02-28 23:04:43,860 : INFO : topic #22 (0.010): 0.082*\"999\" + 0.076*\"131\" + 0.073*\"722\" + 0.059*\"995\" + 0.037*\"791\" + 0.035*\"83\" + 0.035*\"50\" + 0.033*\"117\" + 0.031*\"871\" + 0.031*\"870\"\n",
      "2022-02-28 23:04:43,861 : INFO : topic #34 (0.010): 0.153*\"41\" + 0.106*\"1185\" + 0.070*\"50\" + 0.054*\"91\" + 0.052*\"1147\" + 0.049*\"269\" + 0.037*\"1184\" + 0.031*\"243\" + 0.027*\"6\" + 0.026*\"660\"\n",
      "2022-02-28 23:04:43,863 : INFO : topic #60 (0.018): 0.630*\"176\" + 0.244*\"429\" + 0.029*\"799\" + 0.028*\"57\" + 0.016*\"15\" + 0.015*\"185\" + 0.010*\"635\" + 0.007*\"48\" + 0.006*\"41\" + 0.003*\"425\"\n",
      "2022-02-28 23:04:43,863 : INFO : topic #71 (0.019): 0.207*\"34\" + 0.182*\"35\" + 0.093*\"36\" + 0.086*\"83\" + 0.080*\"859\" + 0.077*\"611\" + 0.063*\"24\" + 0.042*\"526\" + 0.016*\"40\" + 0.016*\"486\"\n",
      "2022-02-28 23:04:43,864 : INFO : topic #96 (0.046): 0.404*\"34\" + 0.351*\"35\" + 0.175*\"83\" + 0.029*\"69\" + 0.014*\"0\" + 0.008*\"536\" + 0.005*\"1154\" + 0.003*\"485\" + 0.003*\"78\" + 0.003*\"821\"\n",
      "2022-02-28 23:04:43,865 : INFO : topic diff=0.220741, rho=0.245426\n",
      "2022-02-28 23:04:43,876 : INFO : PROGRESS: pass 15, at document #2000/3204\n",
      "2022-02-28 23:04:45,440 : INFO : optimized alpha [0.015481961, 0.013033999, 0.010469277, 0.011836225, 0.010392712, 0.012563572, 0.01105347, 0.011847787, 0.014584238, 0.012267969, 0.010421758, 0.0152437575, 0.012214602, 0.012930272, 0.011365244, 0.012158041, 0.011488814, 0.015962528, 0.0105967885, 0.013107607, 0.012461045, 0.011897505, 0.010113535, 0.015083, 0.011297337, 0.012068853, 0.011763097, 0.0117062265, 0.011877242, 0.01245305, 0.013256784, 0.012316664, 0.011738481, 0.016210176, 0.010208956, 0.014670416, 0.013342055, 0.01258464, 0.01645015, 0.012528359, 0.01347221, 0.01574006, 0.012485212, 0.013945928, 0.013661928, 0.014461452, 0.011500702, 0.011547594, 0.011933957, 0.010421833, 0.013927034, 0.012329039, 0.012850763, 0.013496373, 0.011876114, 0.014672261, 0.012128479, 0.012893464, 0.01211994, 0.013460315, 0.01824874, 0.014604441, 0.013685469, 0.011472865, 0.014173459, 0.010525629, 0.011818444, 0.013387591, 0.011345534, 0.014939004, 0.0136680845, 0.018916046, 0.0113918865, 0.0120169185, 0.013749632, 0.01287367, 0.010695752, 0.014242938, 0.012680651, 0.010582093, 0.011399356, 0.011507222, 0.010506091, 0.014092892, 0.013232671, 0.012664591, 0.014672867, 0.015271706, 0.015422939, 0.011619457, 0.015375822, 0.012050706, 0.011915099, 0.013464886, 0.012053814, 0.012095264, 0.04774892, 0.012048923, 0.012912564, 0.015385574]\n",
      "2022-02-28 23:04:45,452 : INFO : merging changes from 2000 documents into a model of 3204 documents\n",
      "2022-02-28 23:04:45,466 : INFO : topic #22 (0.010): 0.083*\"999\" + 0.077*\"131\" + 0.074*\"722\" + 0.053*\"995\" + 0.039*\"791\" + 0.034*\"50\" + 0.034*\"83\" + 0.033*\"117\" + 0.029*\"871\" + 0.028*\"401\"\n",
      "2022-02-28 23:04:45,467 : INFO : topic #34 (0.010): 0.156*\"41\" + 0.100*\"1185\" + 0.070*\"50\" + 0.053*\"91\" + 0.050*\"1147\" + 0.047*\"269\" + 0.034*\"1184\" + 0.030*\"243\" + 0.029*\"660\" + 0.026*\"6\"\n",
      "2022-02-28 23:04:45,468 : INFO : topic #60 (0.018): 0.648*\"176\" + 0.226*\"429\" + 0.029*\"57\" + 0.026*\"799\" + 0.016*\"15\" + 0.015*\"185\" + 0.011*\"635\" + 0.007*\"48\" + 0.006*\"41\" + 0.003*\"425\"\n",
      "2022-02-28 23:04:45,468 : INFO : topic #71 (0.019): 0.208*\"34\" + 0.180*\"35\" + 0.099*\"36\" + 0.082*\"83\" + 0.072*\"859\" + 0.070*\"611\" + 0.069*\"24\" + 0.043*\"526\" + 0.017*\"486\" + 0.016*\"379\"\n",
      "2022-02-28 23:04:45,470 : INFO : topic #96 (0.048): 0.398*\"34\" + 0.351*\"35\" + 0.181*\"83\" + 0.028*\"69\" + 0.013*\"0\" + 0.009*\"536\" + 0.005*\"1154\" + 0.003*\"485\" + 0.003*\"78\" + 0.003*\"821\"\n",
      "2022-02-28 23:04:45,471 : INFO : topic diff=0.196364, rho=0.238352\n",
      "2022-02-28 23:04:47,320 : INFO : -6.442 per-word bound, 86.9 perplexity estimate based on a held-out corpus of 1204 documents with 49783 words\n",
      "2022-02-28 23:04:47,321 : INFO : PROGRESS: pass 15, at document #3204/3204\n",
      "2022-02-28 23:04:48,740 : INFO : optimized alpha [0.01575395, 0.013205458, 0.010547247, 0.012022348, 0.010470297, 0.012701991, 0.011105245, 0.012014912, 0.014797743, 0.012382146, 0.010499607, 0.015449422, 0.012346282, 0.013048747, 0.011501343, 0.012290695, 0.011580265, 0.01633387, 0.010708736, 0.013252982, 0.012545843, 0.011999017, 0.010162666, 0.015201539, 0.011411203, 0.0121928, 0.01189884, 0.01191148, 0.0119805215, 0.012602816, 0.01346175, 0.012493443, 0.01184719, 0.016588777, 0.010280799, 0.014866453, 0.013498078, 0.0127101755, 0.016781975, 0.012642695, 0.013554164, 0.015937014, 0.012644901, 0.014177535, 0.013877282, 0.014639423, 0.011630355, 0.011636618, 0.012051913, 0.010474489, 0.014107219, 0.012368625, 0.0130247045, 0.013618856, 0.012030155, 0.014871492, 0.012272773, 0.013021771, 0.0122423805, 0.013665781, 0.018718489, 0.014809023, 0.013835837, 0.01161286, 0.014358022, 0.010581419, 0.011941453, 0.013518879, 0.0114258565, 0.015141119, 0.013798745, 0.019328881, 0.011478535, 0.012180747, 0.013901123, 0.013022748, 0.010781819, 0.014515789, 0.012857366, 0.010611557, 0.011532877, 0.01159898, 0.010515819, 0.014292299, 0.013373499, 0.012763693, 0.0148417, 0.01555578, 0.01577564, 0.011712339, 0.015321001, 0.012157174, 0.01204637, 0.01367937, 0.012154199, 0.012199964, 0.0490676, 0.012185759, 0.013122789, 0.015727533]\n",
      "2022-02-28 23:04:48,751 : INFO : merging changes from 1204 documents into a model of 3204 documents\n",
      "2022-02-28 23:04:48,763 : INFO : topic #22 (0.010): 0.083*\"999\" + 0.078*\"131\" + 0.073*\"722\" + 0.059*\"995\" + 0.038*\"791\" + 0.034*\"83\" + 0.034*\"50\" + 0.033*\"117\" + 0.031*\"871\" + 0.031*\"870\"\n",
      "2022-02-28 23:04:48,764 : INFO : topic #34 (0.010): 0.153*\"41\" + 0.105*\"1185\" + 0.071*\"50\" + 0.054*\"91\" + 0.052*\"1147\" + 0.049*\"269\" + 0.037*\"1184\" + 0.031*\"243\" + 0.027*\"660\" + 0.026*\"6\"\n",
      "2022-02-28 23:04:48,765 : INFO : topic #60 (0.019): 0.631*\"176\" + 0.243*\"429\" + 0.029*\"799\" + 0.028*\"57\" + 0.016*\"15\" + 0.015*\"185\" + 0.010*\"635\" + 0.007*\"48\" + 0.006*\"41\" + 0.002*\"425\"\n",
      "2022-02-28 23:04:48,766 : INFO : topic #71 (0.019): 0.207*\"34\" + 0.182*\"35\" + 0.095*\"36\" + 0.085*\"83\" + 0.081*\"859\" + 0.077*\"611\" + 0.065*\"24\" + 0.043*\"526\" + 0.016*\"486\" + 0.014*\"40\"\n",
      "2022-02-28 23:04:48,767 : INFO : topic #96 (0.049): 0.406*\"34\" + 0.351*\"35\" + 0.175*\"83\" + 0.029*\"69\" + 0.013*\"0\" + 0.008*\"536\" + 0.005*\"1154\" + 0.003*\"485\" + 0.003*\"78\" + 0.003*\"821\"\n",
      "2022-02-28 23:04:48,768 : INFO : topic diff=0.202647, rho=0.238352\n",
      "2022-02-28 23:04:48,779 : INFO : PROGRESS: pass 16, at document #2000/3204\n",
      "2022-02-28 23:04:50,170 : INFO : optimized alpha [0.016013257, 0.013238496, 0.010537469, 0.012071471, 0.01047818, 0.012732781, 0.011143922, 0.0120397275, 0.014856125, 0.01239078, 0.010512228, 0.015586811, 0.01239362, 0.013140997, 0.011524749, 0.012318107, 0.011592663, 0.01643769, 0.0107164495, 0.013310141, 0.012637592, 0.012050161, 0.01016823, 0.015407014, 0.011399811, 0.012177878, 0.0118885, 0.011975571, 0.012020494, 0.012624943, 0.013505683, 0.012551636, 0.011889143, 0.016661806, 0.010270099, 0.015004366, 0.01350553, 0.012770619, 0.016841117, 0.012756564, 0.0136791505, 0.016104277, 0.012656137, 0.014269038, 0.013994351, 0.014796174, 0.011659849, 0.01166562, 0.012043651, 0.010502971, 0.01418986, 0.01249164, 0.013059621, 0.013818541, 0.012058925, 0.015064073, 0.012274696, 0.013115185, 0.012247855, 0.013737524, 0.018794969, 0.014951884, 0.01395696, 0.011644539, 0.014399195, 0.010606779, 0.011958247, 0.0136011895, 0.011414082, 0.015257044, 0.013907956, 0.019437812, 0.011551817, 0.012179786, 0.014065936, 0.013085961, 0.010786583, 0.01448704, 0.01289579, 0.010651395, 0.011521445, 0.011689364, 0.010570004, 0.014361234, 0.013462491, 0.01284029, 0.014973965, 0.015549938, 0.016079284, 0.011730406, 0.015672592, 0.012227018, 0.012048715, 0.013861187, 0.012194374, 0.012268584, 0.05122471, 0.012236322, 0.01320972, 0.015716156]\n"
     ]
    },
    {
     "name": "stderr",
     "output_type": "stream",
     "text": [
      "2022-02-28 23:04:50,182 : INFO : merging changes from 2000 documents into a model of 3204 documents\n",
      "2022-02-28 23:04:50,194 : INFO : topic #22 (0.010): 0.083*\"999\" + 0.079*\"131\" + 0.075*\"722\" + 0.054*\"995\" + 0.040*\"791\" + 0.034*\"117\" + 0.033*\"50\" + 0.032*\"83\" + 0.029*\"871\" + 0.028*\"401\"\n",
      "2022-02-28 23:04:50,195 : INFO : topic #34 (0.010): 0.156*\"41\" + 0.099*\"1185\" + 0.071*\"50\" + 0.053*\"91\" + 0.050*\"1147\" + 0.047*\"269\" + 0.034*\"1184\" + 0.031*\"243\" + 0.030*\"660\" + 0.025*\"6\"\n",
      "2022-02-28 23:04:50,196 : INFO : topic #60 (0.019): 0.648*\"176\" + 0.226*\"429\" + 0.029*\"57\" + 0.027*\"799\" + 0.016*\"15\" + 0.015*\"185\" + 0.011*\"635\" + 0.007*\"48\" + 0.006*\"41\" + 0.002*\"425\"\n",
      "2022-02-28 23:04:50,197 : INFO : topic #71 (0.019): 0.208*\"34\" + 0.181*\"35\" + 0.100*\"36\" + 0.082*\"83\" + 0.072*\"859\" + 0.071*\"611\" + 0.070*\"24\" + 0.044*\"526\" + 0.018*\"486\" + 0.016*\"379\"\n",
      "2022-02-28 23:04:50,198 : INFO : topic #96 (0.051): 0.399*\"34\" + 0.351*\"35\" + 0.181*\"83\" + 0.028*\"69\" + 0.013*\"0\" + 0.009*\"536\" + 0.005*\"1154\" + 0.003*\"485\" + 0.003*\"78\" + 0.003*\"821\"\n",
      "2022-02-28 23:04:50,199 : INFO : topic diff=0.181717, rho=0.231857\n",
      "2022-02-28 23:04:51,751 : INFO : -6.435 per-word bound, 86.5 perplexity estimate based on a held-out corpus of 1204 documents with 49783 words\n",
      "2022-02-28 23:04:51,752 : INFO : PROGRESS: pass 16, at document #3204/3204\n",
      "2022-02-28 23:04:53,030 : INFO : optimized alpha [0.016281987, 0.013409509, 0.010611877, 0.0122666005, 0.010554242, 0.012868542, 0.011194653, 0.012208767, 0.015063023, 0.012502686, 0.010588536, 0.01579473, 0.012525174, 0.01325694, 0.011662843, 0.012448234, 0.011680021, 0.016818397, 0.010828402, 0.013452701, 0.01272044, 0.012144894, 0.010216434, 0.015522341, 0.011515978, 0.012308865, 0.012021673, 0.012180673, 0.012128652, 0.01276941, 0.013707389, 0.01272318, 0.011995708, 0.017052539, 0.010342548, 0.015202748, 0.013661164, 0.012893746, 0.017168228, 0.01286608, 0.01375902, 0.016294057, 0.0128155155, 0.014500029, 0.014203922, 0.014979478, 0.011784874, 0.011752841, 0.012159305, 0.01055256, 0.014372369, 0.012530004, 0.013230467, 0.013940982, 0.012215074, 0.015262796, 0.012418759, 0.013240884, 0.0123727145, 0.013939889, 0.019252745, 0.015155935, 0.014107164, 0.011784297, 0.014580273, 0.010661467, 0.01208342, 0.01372986, 0.011488325, 0.015458377, 0.014041248, 0.019845419, 0.011636652, 0.012340743, 0.01421713, 0.013229722, 0.010879337, 0.014752791, 0.013074404, 0.010680321, 0.011654661, 0.011781435, 0.010579657, 0.014557195, 0.013603141, 0.012937188, 0.015139483, 0.015829543, 0.016446242, 0.011819144, 0.015609995, 0.012331316, 0.012175141, 0.014078413, 0.012295072, 0.012373556, 0.05248179, 0.012372991, 0.013439902, 0.016044231]\n",
      "2022-02-28 23:04:53,042 : INFO : merging changes from 1204 documents into a model of 3204 documents\n",
      "2022-02-28 23:04:53,054 : INFO : topic #22 (0.010): 0.083*\"999\" + 0.078*\"131\" + 0.074*\"722\" + 0.059*\"995\" + 0.039*\"791\" + 0.034*\"117\" + 0.033*\"50\" + 0.032*\"83\" + 0.032*\"871\" + 0.031*\"870\"\n",
      "2022-02-28 23:04:53,054 : INFO : topic #34 (0.010): 0.153*\"41\" + 0.105*\"1185\" + 0.072*\"50\" + 0.054*\"91\" + 0.052*\"1147\" + 0.049*\"269\" + 0.036*\"1184\" + 0.031*\"243\" + 0.027*\"660\" + 0.026*\"6\"\n",
      "2022-02-28 23:04:53,055 : INFO : topic #60 (0.019): 0.632*\"176\" + 0.242*\"429\" + 0.030*\"799\" + 0.028*\"57\" + 0.016*\"15\" + 0.015*\"185\" + 0.010*\"635\" + 0.007*\"48\" + 0.006*\"41\" + 0.002*\"425\"\n",
      "2022-02-28 23:04:53,056 : INFO : topic #71 (0.020): 0.208*\"34\" + 0.182*\"35\" + 0.096*\"36\" + 0.085*\"83\" + 0.081*\"859\" + 0.078*\"611\" + 0.066*\"24\" + 0.043*\"526\" + 0.017*\"486\" + 0.015*\"401\"\n",
      "2022-02-28 23:04:53,057 : INFO : topic #96 (0.052): 0.407*\"34\" + 0.352*\"35\" + 0.174*\"83\" + 0.028*\"69\" + 0.013*\"0\" + 0.008*\"536\" + 0.005*\"1154\" + 0.003*\"485\" + 0.003*\"78\" + 0.003*\"821\"\n",
      "2022-02-28 23:04:53,058 : INFO : topic diff=0.187688, rho=0.231857\n",
      "2022-02-28 23:04:53,069 : INFO : PROGRESS: pass 17, at document #2000/3204\n",
      "2022-02-28 23:04:54,399 : INFO : optimized alpha [0.01653388, 0.013444626, 0.010602534, 0.012319994, 0.010562071, 0.012897099, 0.011236516, 0.012234174, 0.015128487, 0.012509718, 0.010603434, 0.015929736, 0.012571522, 0.013350552, 0.011685617, 0.012474995, 0.011694906, 0.016925296, 0.010834706, 0.013510176, 0.012812061, 0.012192351, 0.010224458, 0.015723374, 0.011508734, 0.012296968, 0.012010072, 0.012250408, 0.01216648, 0.012787993, 0.013751621, 0.012780104, 0.01203952, 0.017126529, 0.010335797, 0.015345331, 0.013676182, 0.012961838, 0.017226772, 0.012979654, 0.013882029, 0.016462432, 0.012830613, 0.014591254, 0.014323798, 0.01514402, 0.011813676, 0.011781333, 0.012151242, 0.010581832, 0.014450072, 0.012648268, 0.013268778, 0.014146673, 0.012247195, 0.0154549265, 0.0124204755, 0.013335692, 0.012378013, 0.014008454, 0.019327555, 0.015293119, 0.014229531, 0.011817902, 0.014620182, 0.010686504, 0.012101106, 0.013812206, 0.011474451, 0.015575541, 0.014142239, 0.019948112, 0.011711322, 0.012338096, 0.014379805, 0.013294651, 0.010886505, 0.0147235, 0.013114712, 0.010720791, 0.011649922, 0.011871683, 0.010632946, 0.014621164, 0.013688963, 0.013013871, 0.0152713135, 0.01582257, 0.01676468, 0.0118382685, 0.01595609, 0.012399937, 0.012178715, 0.014268094, 0.012337247, 0.01244655, 0.054708187, 0.012419654, 0.013523664, 0.016034901]\n",
      "2022-02-28 23:04:54,410 : INFO : merging changes from 2000 documents into a model of 3204 documents\n",
      "2022-02-28 23:04:54,422 : INFO : topic #22 (0.010): 0.084*\"999\" + 0.081*\"131\" + 0.075*\"722\" + 0.054*\"995\" + 0.040*\"791\" + 0.034*\"117\" + 0.032*\"50\" + 0.030*\"83\" + 0.029*\"871\" + 0.028*\"972\"\n",
      "2022-02-28 23:04:54,423 : INFO : topic #34 (0.010): 0.157*\"41\" + 0.099*\"1185\" + 0.072*\"50\" + 0.053*\"91\" + 0.050*\"1147\" + 0.046*\"269\" + 0.033*\"1184\" + 0.031*\"243\" + 0.030*\"660\" + 0.026*\"747\"\n",
      "2022-02-28 23:04:54,424 : INFO : topic #60 (0.019): 0.649*\"176\" + 0.226*\"429\" + 0.029*\"57\" + 0.027*\"799\" + 0.016*\"15\" + 0.015*\"185\" + 0.011*\"635\" + 0.007*\"48\" + 0.006*\"41\" + 0.002*\"425\"\n",
      "2022-02-28 23:04:54,424 : INFO : topic #71 (0.020): 0.209*\"34\" + 0.181*\"35\" + 0.102*\"36\" + 0.081*\"83\" + 0.073*\"859\" + 0.071*\"611\" + 0.071*\"24\" + 0.045*\"526\" + 0.018*\"486\" + 0.016*\"379\"\n",
      "2022-02-28 23:04:54,425 : INFO : topic #96 (0.055): 0.401*\"34\" + 0.351*\"35\" + 0.180*\"83\" + 0.028*\"69\" + 0.013*\"0\" + 0.009*\"536\" + 0.005*\"1154\" + 0.003*\"485\" + 0.003*\"78\" + 0.003*\"821\"\n",
      "2022-02-28 23:04:54,426 : INFO : topic diff=0.169463, rho=0.225865\n",
      "2022-02-28 23:04:55,975 : INFO : -6.428 per-word bound, 86.1 perplexity estimate based on a held-out corpus of 1204 documents with 49783 words\n",
      "2022-02-28 23:04:55,976 : INFO : PROGRESS: pass 17, at document #3204/3204\n",
      "2022-02-28 23:04:57,226 : INFO : optimized alpha [0.016805664, 0.013617897, 0.010683611, 0.012526729, 0.010636696, 0.013030432, 0.011286268, 0.012405296, 0.015332186, 0.012619553, 0.01068033, 0.016133998, 0.012700792, 0.013454201, 0.011821409, 0.012605188, 0.011778382, 0.017325386, 0.010948836, 0.013652691, 0.012893118, 0.012294544, 0.0102737155, 0.015832787, 0.011618421, 0.0124302935, 0.012140868, 0.012462533, 0.012277321, 0.01293234, 0.013952919, 0.012951399, 0.012141808, 0.017513817, 0.010414735, 0.015534638, 0.013829094, 0.013087669, 0.01754624, 0.013089381, 0.013959932, 0.016660847, 0.012984901, 0.014827333, 0.014535899, 0.015324152, 0.01194095, 0.011866904, 0.012267077, 0.01063448, 0.0146296015, 0.012687896, 0.013436805, 0.014266539, 0.0123962285, 0.01565328, 0.012559667, 0.013454007, 0.01250534, 0.014213284, 0.019780766, 0.015496761, 0.014377029, 0.01196208, 0.014797984, 0.010742191, 0.012226296, 0.013938398, 0.011545174, 0.01576748, 0.014280889, 0.020350544, 0.011796654, 0.012503388, 0.014536155, 0.013435967, 0.010969369, 0.014985216, 0.01329547, 0.010749244, 0.011780736, 0.011959738, 0.010646527, 0.014816673, 0.013827011, 0.013108798, 0.015433702, 0.016095145, 0.017152645, 0.011932004, 0.015895065, 0.012504535, 0.012305105, 0.014482927, 0.012431456, 0.012544853, 0.055904068, 0.012553962, 0.013761557, 0.01636491]\n",
      "2022-02-28 23:04:57,237 : INFO : merging changes from 1204 documents into a model of 3204 documents\n",
      "2022-02-28 23:04:57,249 : INFO : topic #22 (0.010): 0.084*\"999\" + 0.080*\"131\" + 0.074*\"722\" + 0.059*\"995\" + 0.039*\"791\" + 0.034*\"117\" + 0.032*\"50\" + 0.032*\"871\" + 0.031*\"870\" + 0.031*\"972\"\n",
      "2022-02-28 23:04:57,250 : INFO : topic #34 (0.010): 0.155*\"41\" + 0.104*\"1185\" + 0.073*\"50\" + 0.054*\"91\" + 0.051*\"1147\" + 0.048*\"269\" + 0.036*\"1184\" + 0.031*\"243\" + 0.027*\"660\" + 0.026*\"747\"\n"
     ]
    },
    {
     "name": "stderr",
     "output_type": "stream",
     "text": [
      "2022-02-28 23:04:57,251 : INFO : topic #60 (0.020): 0.634*\"176\" + 0.242*\"429\" + 0.030*\"799\" + 0.028*\"57\" + 0.015*\"15\" + 0.015*\"185\" + 0.010*\"635\" + 0.007*\"48\" + 0.006*\"41\" + 0.002*\"425\"\n",
      "2022-02-28 23:04:57,251 : INFO : topic #71 (0.020): 0.209*\"34\" + 0.182*\"35\" + 0.098*\"36\" + 0.085*\"83\" + 0.081*\"859\" + 0.078*\"611\" + 0.066*\"24\" + 0.044*\"526\" + 0.018*\"486\" + 0.015*\"401\"\n",
      "2022-02-28 23:04:57,252 : INFO : topic #96 (0.056): 0.408*\"34\" + 0.352*\"35\" + 0.173*\"83\" + 0.028*\"69\" + 0.013*\"0\" + 0.008*\"536\" + 0.005*\"1154\" + 0.003*\"485\" + 0.003*\"78\" + 0.003*\"821\"\n",
      "2022-02-28 23:04:57,253 : INFO : topic diff=0.174765, rho=0.225865\n",
      "2022-02-28 23:04:57,264 : INFO : PROGRESS: pass 18, at document #2000/3204\n",
      "2022-02-28 23:04:58,565 : INFO : optimized alpha [0.017054018, 0.013653588, 0.010669839, 0.012580368, 0.010648013, 0.013059813, 0.011328746, 0.012432615, 0.015389206, 0.0126264775, 0.01069858, 0.016266719, 0.012750486, 0.013547787, 0.011846176, 0.012635471, 0.011794354, 0.017427508, 0.010954948, 0.013711977, 0.012984697, 0.012345219, 0.010285158, 0.016031368, 0.011612627, 0.012415688, 0.0121307215, 0.012535082, 0.012314401, 0.012954623, 0.014000493, 0.013012825, 0.012186151, 0.01758887, 0.010408244, 0.015670102, 0.013842028, 0.013156045, 0.017604275, 0.013196969, 0.014081086, 0.016832357, 0.012998024, 0.014921608, 0.014654014, 0.015486722, 0.011966425, 0.011894915, 0.012260494, 0.010664505, 0.014712256, 0.0128058065, 0.013471231, 0.014470438, 0.012433149, 0.015841529, 0.012565348, 0.0135488035, 0.012516015, 0.0142883165, 0.019851902, 0.015635278, 0.014489671, 0.011994864, 0.014835153, 0.010766904, 0.012242174, 0.014017763, 0.011531891, 0.015880803, 0.014383309, 0.020451987, 0.011868842, 0.012501799, 0.014698461, 0.013499632, 0.0109764915, 0.014955364, 0.013333202, 0.010790318, 0.0117746405, 0.012049934, 0.010699013, 0.014879157, 0.013911314, 0.013181297, 0.015560039, 0.016088966, 0.017488351, 0.011953456, 0.016241277, 0.012576139, 0.012309854, 0.014680717, 0.012471512, 0.012625103, 0.058162775, 0.01260246, 0.013845247, 0.016348667]\n",
      "2022-02-28 23:04:58,576 : INFO : merging changes from 2000 documents into a model of 3204 documents\n",
      "2022-02-28 23:04:58,588 : INFO : topic #22 (0.010): 0.084*\"999\" + 0.081*\"131\" + 0.075*\"722\" + 0.054*\"995\" + 0.041*\"791\" + 0.034*\"117\" + 0.031*\"50\" + 0.029*\"871\" + 0.029*\"972\" + 0.028*\"83\"\n",
      "2022-02-28 23:04:58,589 : INFO : topic #34 (0.010): 0.159*\"41\" + 0.098*\"1185\" + 0.073*\"50\" + 0.052*\"91\" + 0.049*\"1147\" + 0.046*\"269\" + 0.033*\"1184\" + 0.030*\"243\" + 0.030*\"660\" + 0.026*\"747\"\n",
      "2022-02-28 23:04:58,590 : INFO : topic #60 (0.020): 0.649*\"176\" + 0.225*\"429\" + 0.029*\"57\" + 0.027*\"799\" + 0.016*\"15\" + 0.015*\"185\" + 0.011*\"635\" + 0.007*\"48\" + 0.006*\"41\" + 0.002*\"425\"\n",
      "2022-02-28 23:04:58,591 : INFO : topic #71 (0.020): 0.210*\"34\" + 0.181*\"35\" + 0.103*\"36\" + 0.081*\"83\" + 0.074*\"859\" + 0.072*\"611\" + 0.072*\"24\" + 0.045*\"526\" + 0.019*\"486\" + 0.016*\"379\"\n",
      "2022-02-28 23:04:58,592 : INFO : topic #96 (0.058): 0.402*\"34\" + 0.351*\"35\" + 0.179*\"83\" + 0.028*\"69\" + 0.013*\"0\" + 0.009*\"536\" + 0.005*\"1154\" + 0.003*\"485\" + 0.003*\"78\" + 0.003*\"821\"\n",
      "2022-02-28 23:04:58,593 : INFO : topic diff=0.158867, rho=0.220316\n",
      "2022-02-28 23:05:00,114 : INFO : -6.424 per-word bound, 85.8 perplexity estimate based on a held-out corpus of 1204 documents with 49783 words\n",
      "2022-02-28 23:05:00,115 : INFO : PROGRESS: pass 18, at document #3204/3204\n",
      "2022-02-28 23:05:01,336 : INFO : optimized alpha [0.017319772, 0.013829269, 0.01074554, 0.012794058, 0.010723305, 0.013190897, 0.0113754505, 0.012601401, 0.015589712, 0.012738986, 0.010776073, 0.016467635, 0.012879979, 0.013656873, 0.011986288, 0.012765807, 0.011880679, 0.017834652, 0.011069238, 0.0138520645, 0.013064072, 0.012445587, 0.010337405, 0.01613794, 0.011726939, 0.012558124, 0.012263776, 0.012754244, 0.01242336, 0.013096552, 0.0142118065, 0.013181717, 0.012284365, 0.017982634, 0.010481982, 0.01585629, 0.0139924595, 0.013279722, 0.017926158, 0.013299785, 0.014157179, 0.017027268, 0.013142623, 0.015160322, 0.014860688, 0.01566389, 0.012091594, 0.01197896, 0.012369795, 0.010716227, 0.014891743, 0.012844326, 0.013634193, 0.014585158, 0.012586815, 0.016042616, 0.012704524, 0.013667448, 0.012638984, 0.014490508, 0.020304343, 0.015827117, 0.01463463, 0.012143476, 0.0150127, 0.010821606, 0.012369706, 0.01413909, 0.011599326, 0.016066551, 0.014516913, 0.020845981, 0.0119525725, 0.0126623055, 0.01486008, 0.013643498, 0.01106604, 0.015210617, 0.0135209635, 0.010818305, 0.011905496, 0.012136301, 0.01071837, 0.015060841, 0.014046893, 0.01327194, 0.015725149, 0.01635772, 0.017885549, 0.012045579, 0.016181724, 0.012681195, 0.012436377, 0.014904134, 0.012561738, 0.012733318, 0.05927756, 0.0127345305, 0.014085748, 0.016674768]\n",
      "2022-02-28 23:05:01,350 : INFO : merging changes from 1204 documents into a model of 3204 documents\n",
      "2022-02-28 23:05:01,368 : INFO : topic #22 (0.010): 0.085*\"999\" + 0.080*\"131\" + 0.074*\"722\" + 0.059*\"995\" + 0.040*\"791\" + 0.034*\"117\" + 0.032*\"871\" + 0.031*\"870\" + 0.031*\"972\" + 0.031*\"50\"\n",
      "2022-02-28 23:05:01,370 : INFO : topic #34 (0.010): 0.155*\"41\" + 0.103*\"1185\" + 0.074*\"50\" + 0.053*\"91\" + 0.051*\"1147\" + 0.048*\"269\" + 0.036*\"1184\" + 0.031*\"243\" + 0.027*\"660\" + 0.027*\"747\"\n",
      "2022-02-28 23:05:01,370 : INFO : topic #60 (0.020): 0.634*\"176\" + 0.241*\"429\" + 0.030*\"799\" + 0.028*\"57\" + 0.015*\"15\" + 0.015*\"185\" + 0.011*\"635\" + 0.007*\"48\" + 0.006*\"41\" + 0.001*\"425\"\n",
      "2022-02-28 23:05:01,371 : INFO : topic #71 (0.021): 0.210*\"34\" + 0.183*\"35\" + 0.099*\"36\" + 0.084*\"83\" + 0.081*\"859\" + 0.078*\"611\" + 0.067*\"24\" + 0.044*\"526\" + 0.018*\"486\" + 0.015*\"401\"\n",
      "2022-02-28 23:05:01,372 : INFO : topic #96 (0.059): 0.409*\"34\" + 0.352*\"35\" + 0.173*\"83\" + 0.028*\"69\" + 0.013*\"0\" + 0.008*\"536\" + 0.005*\"1154\" + 0.003*\"485\" + 0.003*\"78\" + 0.003*\"821\"\n",
      "2022-02-28 23:05:01,373 : INFO : topic diff=0.163632, rho=0.220316\n",
      "2022-02-28 23:05:01,387 : INFO : PROGRESS: pass 19, at document #2000/3204\n",
      "2022-02-28 23:05:02,628 : INFO : optimized alpha [0.017573886, 0.013864018, 0.010738027, 0.012853414, 0.010734477, 0.013219558, 0.011418549, 0.01263069, 0.01565219, 0.012744348, 0.0107963625, 0.016600018, 0.012928707, 0.013752049, 0.012012979, 0.012794076, 0.011895172, 0.017947685, 0.011081163, 0.013910281, 0.013155689, 0.012496746, 0.010346608, 0.016334178, 0.011722496, 0.012546348, 0.0122576365, 0.0128408065, 0.012459812, 0.01311965, 0.014264291, 0.013243399, 0.012327935, 0.018064471, 0.010478029, 0.01599143, 0.014003445, 0.013351305, 0.01798195, 0.013405927, 0.014275083, 0.01720194, 0.013155326, 0.015259374, 0.014975565, 0.015826225, 0.012120385, 0.012006546, 0.012363418, 0.010744692, 0.01497784, 0.012963408, 0.01366773, 0.0147855785, 0.0126187345, 0.016232323, 0.012709961, 0.013759355, 0.012649368, 0.014567361, 0.020371884, 0.015961986, 0.01474564, 0.012178102, 0.015048844, 0.010847161, 0.01238647, 0.0142186275, 0.011585349, 0.016176203, 0.01461938, 0.02093944, 0.012023692, 0.012660416, 0.015022111, 0.013708993, 0.011074297, 0.015180234, 0.013560577, 0.010860001, 0.011896832, 0.012230405, 0.010774711, 0.015123631, 0.014131311, 0.013348975, 0.015847884, 0.016346961, 0.018231481, 0.012068016, 0.01652484, 0.012754417, 0.012440891, 0.015104048, 0.012603823, 0.012812435, 0.061572224, 0.012783455, 0.0141679, 0.016662566]\n",
      "2022-02-28 23:05:02,640 : INFO : merging changes from 2000 documents into a model of 3204 documents\n",
      "2022-02-28 23:05:02,652 : INFO : topic #22 (0.010): 0.085*\"999\" + 0.081*\"131\" + 0.075*\"722\" + 0.054*\"995\" + 0.042*\"791\" + 0.035*\"117\" + 0.030*\"50\" + 0.030*\"871\" + 0.029*\"972\" + 0.028*\"401\"\n",
      "2022-02-28 23:05:02,653 : INFO : topic #34 (0.010): 0.159*\"41\" + 0.097*\"1185\" + 0.074*\"50\" + 0.052*\"91\" + 0.049*\"1147\" + 0.046*\"269\" + 0.033*\"1184\" + 0.031*\"243\" + 0.030*\"660\" + 0.027*\"747\"\n",
      "2022-02-28 23:05:02,653 : INFO : topic #60 (0.020): 0.650*\"176\" + 0.225*\"429\" + 0.029*\"57\" + 0.027*\"799\" + 0.015*\"15\" + 0.015*\"185\" + 0.011*\"635\" + 0.007*\"48\" + 0.006*\"41\" + 0.001*\"425\"\n",
      "2022-02-28 23:05:02,654 : INFO : topic #71 (0.021): 0.211*\"34\" + 0.182*\"35\" + 0.104*\"36\" + 0.081*\"83\" + 0.074*\"859\" + 0.073*\"24\" + 0.072*\"611\" + 0.046*\"526\" + 0.019*\"486\" + 0.016*\"379\"\n",
      "2022-02-28 23:05:02,656 : INFO : topic #96 (0.062): 0.403*\"34\" + 0.351*\"35\" + 0.179*\"83\" + 0.028*\"69\" + 0.012*\"0\" + 0.008*\"536\" + 0.005*\"1154\" + 0.003*\"485\" + 0.003*\"78\" + 0.003*\"821\"\n"
     ]
    },
    {
     "name": "stderr",
     "output_type": "stream",
     "text": [
      "2022-02-28 23:05:02,656 : INFO : topic diff=0.149462, rho=0.215156\n",
      "2022-02-28 23:05:04,076 : INFO : -6.418 per-word bound, 85.5 perplexity estimate based on a held-out corpus of 1204 documents with 49783 words\n",
      "2022-02-28 23:05:04,077 : INFO : PROGRESS: pass 19, at document #3204/3204\n",
      "2022-02-28 23:05:05,200 : INFO : optimized alpha [0.017845884, 0.014039641, 0.010820283, 0.013079123, 0.010814316, 0.013348537, 0.011466492, 0.012799556, 0.015852632, 0.01285281, 0.010870652, 0.016797764, 0.0130538335, 0.01386402, 0.012153249, 0.0129224155, 0.011980046, 0.01836582, 0.011193725, 0.014040595, 0.01323349, 0.012597736, 0.010396163, 0.016435154, 0.011830791, 0.012686616, 0.0123907635, 0.013076974, 0.01256705, 0.013264, 0.014480872, 0.013410047, 0.012424485, 0.01844892, 0.010552478, 0.016180508, 0.014151519, 0.013468235, 0.018299961, 0.013502069, 0.01435198, 0.0173996, 0.013307349, 0.015498177, 0.015182436, 0.016006177, 0.01225013, 0.012089188, 0.0124709485, 0.010791708, 0.015168388, 0.013000911, 0.013835567, 0.014900673, 0.012770264, 0.01643337, 0.012837676, 0.013878295, 0.012774985, 0.014767119, 0.020816576, 0.016145365, 0.014890999, 0.012329088, 0.015220937, 0.010902894, 0.012514188, 0.014337819, 0.011645362, 0.016364586, 0.0147480555, 0.021332538, 0.012105905, 0.012816297, 0.01518383, 0.013848146, 0.011168405, 0.015432052, 0.013748304, 0.010891425, 0.012025648, 0.012315208, 0.010789875, 0.015316334, 0.014264617, 0.013435487, 0.016010255, 0.016603183, 0.018638188, 0.0121542765, 0.016460752, 0.012855388, 0.012560919, 0.015333607, 0.0126992185, 0.012921099, 0.06265443, 0.0129158255, 0.01440624, 0.016988186]\n",
      "2022-02-28 23:05:05,211 : INFO : merging changes from 1204 documents into a model of 3204 documents\n",
      "2022-02-28 23:05:05,223 : INFO : topic #22 (0.010): 0.085*\"999\" + 0.080*\"131\" + 0.074*\"722\" + 0.059*\"995\" + 0.040*\"791\" + 0.034*\"117\" + 0.032*\"871\" + 0.031*\"972\" + 0.031*\"870\" + 0.030*\"50\"\n",
      "2022-02-28 23:05:05,223 : INFO : topic #34 (0.011): 0.156*\"41\" + 0.102*\"1185\" + 0.075*\"50\" + 0.053*\"91\" + 0.051*\"1147\" + 0.048*\"269\" + 0.035*\"1184\" + 0.031*\"243\" + 0.028*\"747\" + 0.027*\"660\"\n",
      "2022-02-28 23:05:05,224 : INFO : topic #60 (0.021): 0.635*\"176\" + 0.241*\"429\" + 0.030*\"799\" + 0.028*\"57\" + 0.015*\"15\" + 0.015*\"185\" + 0.011*\"635\" + 0.007*\"48\" + 0.006*\"41\" + 0.001*\"425\"\n",
      "2022-02-28 23:05:05,226 : INFO : topic #71 (0.021): 0.210*\"34\" + 0.183*\"35\" + 0.100*\"36\" + 0.084*\"83\" + 0.082*\"859\" + 0.079*\"611\" + 0.068*\"24\" + 0.045*\"526\" + 0.018*\"486\" + 0.015*\"401\"\n",
      "2022-02-28 23:05:05,227 : INFO : topic #96 (0.063): 0.410*\"34\" + 0.352*\"35\" + 0.172*\"83\" + 0.028*\"69\" + 0.012*\"0\" + 0.008*\"536\" + 0.005*\"1154\" + 0.003*\"485\" + 0.003*\"78\" + 0.003*\"821\"\n",
      "2022-02-28 23:05:05,228 : INFO : topic diff=0.153671, rho=0.215156\n"
     ]
    },
    {
     "data": {
      "text/plain": [
       "[(0, 0.0073167365),\n",
       " (1, 0.0057561933),\n",
       " (2, 0.00443627),\n",
       " (3, 0.0053623845),\n",
       " (4, 0.0044338233),\n",
       " (5, 0.005472843),\n",
       " (6, 0.004701213),\n",
       " (7, 0.005247764),\n",
       " (8, 0.0064995117),\n",
       " (9, 0.0052695973),\n",
       " (10, 0.004456921),\n",
       " (11, 0.0068870117),\n",
       " (12, 0.005352016),\n",
       " (13, 0.005684189),\n",
       " (14, 0.0049827807),\n",
       " (15, 0.0052981353),\n",
       " (16, 0.004911768),\n",
       " (17, 0.0075299083),\n",
       " (18, 0.0045893798),\n",
       " (19, 0.005756584),\n",
       " (20, 0.005425675),\n",
       " (21, 0.005165018),\n",
       " (22, 0.0042623826),\n",
       " (23, 0.0067383433),\n",
       " (24, 0.004850574),\n",
       " (25, 0.0052014585),\n",
       " (26, 0.00508016),\n",
       " (27, 0.005361504),\n",
       " (28, 0.005152437),\n",
       " (29, 0.005438184),\n",
       " (30, 0.0059370957),\n",
       " (31, 0.005498062),\n",
       " (32, 0.0050939857),\n",
       " (33, 0.007563979),\n",
       " (34, 0.004326471),\n",
       " (35, 0.006633939),\n",
       " (36, 0.005802063),\n",
       " (37, 0.005521919),\n",
       " (38, 0.0075029065),\n",
       " (39, 0.0055357907),\n",
       " (40, 0.0058842506),\n",
       " (41, 0.007133762),\n",
       " (42, 0.0054559563),\n",
       " (43, 0.0063541867),\n",
       " (44, 0.0062247342),\n",
       " (45, 0.0065624644),\n",
       " (46, 0.005022501),\n",
       " (47, 0.0049565155),\n",
       " (48, 0.005113036),\n",
       " (49, 0.0044245543),\n",
       " (50, 0.0062189745),\n",
       " (51, 0.005330318),\n",
       " (52, 0.0056725238),\n",
       " (53, 0.0061092125),\n",
       " (54, 0.005235754),\n",
       " (55, 0.0067376113),\n",
       " (56, 0.005263393),\n",
       " (57, 0.005690042),\n",
       " (58, 0.0052376897),\n",
       " (59, 0.006054456),\n",
       " (60, 0.008534707),\n",
       " (61, 0.006619531),\n",
       " (62, 0.006105246),\n",
       " (63, 0.0050548734),\n",
       " (64, 0.0062405197),\n",
       " (65, 0.00447014),\n",
       " (66, 0.0051307636),\n",
       " (67, 0.0058784448),\n",
       " (68, 0.0047745486),\n",
       " (69, 0.0067094103),\n",
       " (70, 0.0060466398),\n",
       " (71, 0.00874625),\n",
       " (72, 0.0049633696),\n",
       " (73, 0.005254627),\n",
       " (74, 0.0062253056),\n",
       " (75, 0.005677681),\n",
       " (76, 0.004578999),\n",
       " (77, 0.006327076),\n",
       " (78, 0.005636746),\n",
       " (79, 0.004465438),\n",
       " (80, 0.0049304646),\n",
       " (81, 0.005049183),\n",
       " (82, 0.0044238027),\n",
       " (83, 0.0062796315),\n",
       " (84, 0.0058484324),\n",
       " (85, 0.0055084922),\n",
       " (86, 0.006564136),\n",
       " (87, 0.006807234),\n",
       " (88, 0.0076415776),\n",
       " (89, 0.0049832016),\n",
       " (90, 0.0067488384),\n",
       " (91, 0.0052706543),\n",
       " (92, 0.0051499233),\n",
       " (93, 0.0062867133),\n",
       " (94, 0.0052066254),\n",
       " (95, 0.0052975956),\n",
       " (96, 0.025688048),\n",
       " (97, 0.0052954336),\n",
       " (98, 0.41589573),\n",
       " (99, 0.006965084)]"
      ]
     },
     "execution_count": 85,
     "metadata": {},
     "output_type": "execute_result"
    }
   ],
   "source": [
    "##### Function check\n",
    "lda = LdaRetrievalModel(doc_repr_2)\n",
    "lda.train_model()\n",
    "\n",
    "# you can now get an LDA vector for a given query in the following way:\n",
    "lda.vectorize_query(\"report\")\n",
    "##### "
   ]
  },
  {
   "cell_type": "markdown",
   "metadata": {
    "deletable": false,
    "editable": false,
    "nbgrader": {
     "cell_type": "markdown",
     "checksum": "32d83b6ea79ca3ddb789a7f8805a1b25",
     "grade": false,
     "grade_id": "cell-0e24b727d5908c0e",
     "locked": true,
     "points": 5,
     "schema_version": 3,
     "solution": false,
     "task": true
    }
   },
   "source": [
    "\\#### Please do not change this. This cell is used for grading."
   ]
  },
  {
   "cell_type": "markdown",
   "metadata": {
    "deletable": false,
    "editable": false,
    "nbgrader": {
     "cell_type": "markdown",
     "checksum": "114a934f0b9ce696e6cf09d3b8da6a3d",
     "grade": false,
     "grade_id": "cell-b1bffcb970b18aeb",
     "locked": true,
     "schema_version": 3,
     "solution": false,
     "task": false
    }
   },
   "source": [
    "---\n",
    "Now we can use the `DenseRetrievalModel` class to obtain an LDA search function.\n",
    "You can test your LDA model in the following cell: Try finding queries which are lexically different to documents, but semantically similar - does LDA work well for these queries?!"
   ]
  },
  {
   "cell_type": "code",
   "execution_count": 86,
   "metadata": {},
   "outputs": [
    {
     "data": {
      "application/vnd.jupyter.widget-view+json": {
       "model_id": "8d0dcfd6064b45bc82787c265b869eed",
       "version_major": 2,
       "version_minor": 0
      },
      "text/plain": [
       "Text(value='', description='Search Bar')"
      ]
     },
     "metadata": {},
     "output_type": "display_data"
    }
   ],
   "source": [
    "drm_lda = DenseRetrievalRanker(lda, jenson_shannon_sim)\n",
    "\n",
    "# test your LDA model\n",
    "search_fn = drm_lda.search\n",
    "\n",
    "text = widgets.Text(description=\"Search Bar\", width=200)\n",
    "display(text)\n",
    "\n",
    "\n",
    "text.on_submit(handle_submit_2)"
   ]
  },
  {
   "cell_type": "markdown",
   "metadata": {
    "deletable": false,
    "editable": false,
    "nbgrader": {
     "cell_type": "markdown",
     "checksum": "9d7f15863b655119b45f4d89354e5661",
     "grade": false,
     "grade_id": "cell-190cd0854b2791cc",
     "locked": true,
     "schema_version": 3,
     "solution": false,
     "task": false
    }
   },
   "source": [
    "## Section 8: Word2Vec/Doc2Vec (20 points) <a class=\"anchor\" id=\"2vec\"></a>\n",
    "\n",
    "[Back to Part 2](#part2)\n",
    "\n",
    "We will implement two other methods here, the Word2Vec model and the Doc2Vec model, also using `gensim`. Word2Vec creates representations of words, not documents, so the word level vectors need to be aggregated to obtain a representation for the document. Here, we will simply take the mean of the vectors. \n",
    "\n",
    "\n",
    "A drawback of these models is that they need a lot of training data. Our dataset is tiny, so in addition to using a model trained on the data, we will also use a pre-trained model for Word2Vec (this will be automatically downloaded).     \n",
    "\n",
    "*Note*:\n",
    "1. The code in vectorize_documents / vectorize_query should return gensim-like vectors i.e `[(dim, val), .. (dim, val)]`. \n",
    "2. For Word2Vec: You should also handle the following two cases: (a) A word in the query is not present in the vocabulary of the model and (b) none of the words in the query are present in the model - you can return 0 scores for all documents in this case. For either of these, you can check if a `word` is present in the vocab by using `word in self.model`\n"
   ]
  },
  {
   "cell_type": "code",
   "execution_count": 87,
   "metadata": {
    "deletable": false,
    "nbgrader": {
     "cell_type": "code",
     "checksum": "83ab733608ed14c29c09b36b4e1b6daa",
     "grade": false,
     "grade_id": "cell-2b73759f9baf688f",
     "locked": false,
     "schema_version": 3,
     "solution": true,
     "task": false
    }
   },
   "outputs": [
    {
     "name": "stderr",
     "output_type": "stream",
     "text": [
      "2022-02-28 23:05:08,689 : INFO : adding document #0 to Dictionary(0 unique tokens: [])\n",
      "2022-02-28 23:05:08,874 : INFO : built Dictionary(5937 unique tokens: ['-', 'algebra', 'intern', 'languag', 'preliminari']...) from 3204 documents (total 115969 corpus positions)\n",
      "2022-02-28 23:05:08,884 : INFO : discarding 4740 tokens: [('repeat', 8), ('glossari', 7), ('inspect', 8), ('uncol', 2), ('rung', 9), ('secant', 2), ('.', 1603), ('acceler', 6), ('diverg', 3), ('induc', 9)]...\n",
      "2022-02-28 23:05:08,885 : INFO : keeping 1197 tokens which were in no less than 10 and no more than 1602 (=50.0%) documents\n",
      "2022-02-28 23:05:08,890 : INFO : resulting dictionary: Dictionary(1197 unique tokens: ['-', 'algebra', 'intern', 'languag', 'preliminari']...)\n",
      "2022-02-28 23:05:08,997 : INFO : collecting all words and their counts\n",
      "2022-02-28 23:05:08,998 : INFO : PROGRESS: at sentence #0, processed 0 words, keeping 0 word types\n",
      "2022-02-28 23:05:09,020 : INFO : collected 5937 word types from a corpus of 115969 raw words and 3204 sentences\n",
      "2022-02-28 23:05:09,021 : INFO : Loading a fresh vocabulary\n",
      "2022-02-28 23:05:09,037 : INFO : effective_min_count=1 retains 5937 unique words (100% of original 5937, drops 0)\n",
      "2022-02-28 23:05:09,038 : INFO : effective_min_count=1 leaves 115969 word corpus (100% of original 115969, drops 0)\n",
      "2022-02-28 23:05:09,065 : INFO : deleting the raw counts dictionary of 5937 items\n",
      "2022-02-28 23:05:09,066 : INFO : sample=0.001 downsamples 40 most-common words\n",
      "2022-02-28 23:05:09,066 : INFO : downsampling leaves estimated 92346 word corpus (79.6% of prior 115969)\n",
      "2022-02-28 23:05:09,083 : INFO : estimated required memory for 5937 words and 100 dimensions: 7718100 bytes\n",
      "2022-02-28 23:05:09,084 : INFO : resetting layer weights\n",
      "2022-02-28 23:05:10,673 : INFO : training model with 3 workers on 5937 vocabulary and 100 features, using sg=0 hs=0 sample=0.001 negative=5 window=5\n",
      "2022-02-28 23:05:10,758 : INFO : worker thread finished; awaiting finish of 2 more threads\n",
      "2022-02-28 23:05:10,759 : INFO : worker thread finished; awaiting finish of 1 more threads\n",
      "2022-02-28 23:05:10,761 : INFO : worker thread finished; awaiting finish of 0 more threads\n",
      "2022-02-28 23:05:10,762 : INFO : EPOCH - 1 : training on 115969 raw words (92373 effective words) took 0.1s, 1095801 effective words/s\n",
      "2022-02-28 23:05:10,842 : INFO : worker thread finished; awaiting finish of 2 more threads\n",
      "2022-02-28 23:05:10,847 : INFO : worker thread finished; awaiting finish of 1 more threads\n",
      "2022-02-28 23:05:10,850 : INFO : worker thread finished; awaiting finish of 0 more threads\n",
      "2022-02-28 23:05:10,851 : INFO : EPOCH - 2 : training on 115969 raw words (92477 effective words) took 0.1s, 1093746 effective words/s\n",
      "2022-02-28 23:05:10,944 : INFO : worker thread finished; awaiting finish of 2 more threads\n",
      "2022-02-28 23:05:10,952 : INFO : worker thread finished; awaiting finish of 1 more threads\n",
      "2022-02-28 23:05:10,955 : INFO : worker thread finished; awaiting finish of 0 more threads\n",
      "2022-02-28 23:05:10,955 : INFO : EPOCH - 3 : training on 115969 raw words (92441 effective words) took 0.1s, 919670 effective words/s\n",
      "2022-02-28 23:05:11,057 : INFO : worker thread finished; awaiting finish of 2 more threads\n",
      "2022-02-28 23:05:11,065 : INFO : worker thread finished; awaiting finish of 1 more threads\n",
      "2022-02-28 23:05:11,066 : INFO : worker thread finished; awaiting finish of 0 more threads\n",
      "2022-02-28 23:05:11,066 : INFO : EPOCH - 4 : training on 115969 raw words (92268 effective words) took 0.1s, 864065 effective words/s\n",
      "2022-02-28 23:05:11,154 : INFO : worker thread finished; awaiting finish of 2 more threads\n",
      "2022-02-28 23:05:11,156 : INFO : worker thread finished; awaiting finish of 1 more threads\n",
      "2022-02-28 23:05:11,161 : INFO : worker thread finished; awaiting finish of 0 more threads\n",
      "2022-02-28 23:05:11,162 : INFO : EPOCH - 5 : training on 115969 raw words (92180 effective words) took 0.1s, 1039291 effective words/s\n",
      "2022-02-28 23:05:11,162 : INFO : training on a 579845 raw words (461739 effective words) took 0.5s, 944684 effective words/s\n"
     ]
    },
    {
     "data": {
      "text/plain": [
       "[(0, -0.27290475368499756),\n",
       " (1, -0.11550870537757874),\n",
       " (2, 0.6499573588371277),\n",
       " (3, 0.9068551659584045),\n",
       " (4, 0.31919658184051514),\n",
       " (5, 0.511696994304657),\n",
       " (6, 0.2046755999326706),\n",
       " (7, 0.2332182228565216),\n",
       " (8, -0.3254537582397461),\n",
       " (9, 0.45841699838638306),\n",
       " (10, -0.2496698796749115),\n",
       " (11, 0.3438895344734192),\n",
       " (12, -0.8168692588806152),\n",
       " (13, -0.3142394721508026),\n",
       " (14, -0.27272266149520874),\n",
       " (15, 0.9138401746749878),\n",
       " (16, -0.10824038088321686),\n",
       " (17, -0.45273852348327637),\n",
       " (18, -0.10815726965665817),\n",
       " (19, -0.14284555613994598),\n",
       " (20, 0.4169790744781494),\n",
       " (21, 0.5140752196311951),\n",
       " (22, 0.04240879416465759),\n",
       " (23, -0.3616260290145874),\n",
       " (24, -0.24137626588344574),\n",
       " (25, -0.06417907774448395),\n",
       " (26, -0.6648340225219727),\n",
       " (27, 0.07901020348072052),\n",
       " (28, 0.3892073631286621),\n",
       " (29, 0.5607557892799377),\n",
       " (30, -0.20097191631793976),\n",
       " (31, -0.20225518941879272),\n",
       " (32, -0.046233151108026505),\n",
       " (33, 0.5174234509468079),\n",
       " (34, 0.4236476421356201),\n",
       " (35, 0.7059826850891113),\n",
       " (36, 0.03447425737977028),\n",
       " (37, 0.3851240575313568),\n",
       " (38, 0.49642008543014526),\n",
       " (39, 0.21059828996658325),\n",
       " (40, 0.24202461540699005),\n",
       " (41, 0.6869052648544312),\n",
       " (42, -0.08537483960390091),\n",
       " (43, -0.4653451144695282),\n",
       " (44, -0.31997039914131165),\n",
       " (45, 0.4971490800380707),\n",
       " (46, 0.6840564608573914),\n",
       " (47, -0.23665454983711243),\n",
       " (48, -0.3307921886444092),\n",
       " (49, 0.10730826109647751),\n",
       " (50, 0.21697308123111725),\n",
       " (51, -0.3769167363643646),\n",
       " (52, -0.4986336827278137),\n",
       " (53, 0.3478694260120392),\n",
       " (54, 1.0251306295394897),\n",
       " (55, 0.44438084959983826),\n",
       " (56, 0.05355631560087204),\n",
       " (57, 0.14201457798480988),\n",
       " (58, 0.05951397866010666),\n",
       " (59, 0.3525480329990387),\n",
       " (60, 0.37864628434181213),\n",
       " (61, 0.10498090088367462),\n",
       " (62, 0.09556496143341064),\n",
       " (63, -0.29730427265167236),\n",
       " (64, 0.5461094379425049),\n",
       " (65, 0.5391551852226257),\n",
       " (66, 0.21834681928157806),\n",
       " (67, -0.10926298052072525),\n",
       " (68, 0.6001251339912415),\n",
       " (69, 0.013459399342536926),\n",
       " (70, -0.10950001329183578),\n",
       " (71, -0.12059631198644638),\n",
       " (72, -0.5739436745643616),\n",
       " (73, 0.04772172123193741),\n",
       " (74, -0.05994587019085884),\n",
       " (75, 0.6655457615852356),\n",
       " (76, 0.01818278804421425),\n",
       " (77, -0.6996608972549438),\n",
       " (78, -0.1292860060930252),\n",
       " (79, 0.4493137300014496),\n",
       " (80, 0.8620270490646362),\n",
       " (81, 0.05109655112028122),\n",
       " (82, 0.6502053737640381),\n",
       " (83, 0.03902336582541466),\n",
       " (84, 0.22735759615898132),\n",
       " (85, -0.3690216541290283),\n",
       " (86, -0.9188621640205383),\n",
       " (87, 0.19409891963005066),\n",
       " (88, 0.3966725766658783),\n",
       " (89, -0.39708444476127625),\n",
       " (90, 0.9960293769836426),\n",
       " (91, 0.26636385917663574),\n",
       " (92, -0.27658551931381226),\n",
       " (93, 0.3921947181224823),\n",
       " (94, -0.8237100839614868),\n",
       " (95, 0.3544643223285675),\n",
       " (96, 0.5581663846969604),\n",
       " (97, 0.1945510357618332),\n",
       " (98, 0.17354336380958557),\n",
       " (99, -0.32609108090400696)]"
      ]
     },
     "execution_count": 87,
     "metadata": {},
     "output_type": "execute_result"
    }
   ],
   "source": [
    "# TODO: Implement this! (10 points)\n",
    "class W2VRetrievalModel(VectorSpaceRetrievalModel):\n",
    "    def __init__(self, doc_repr):\n",
    "        super().__init__(doc_repr)\n",
    "        \n",
    "        # the dimensionality of the vectors\n",
    "        self.size = 100 \n",
    "        self.min_count = 1\n",
    "    \n",
    "    def train_model(self):\n",
    "        \"\"\"\n",
    "        Trains the W2V model\n",
    "        \"\"\"\n",
    "        # YOUR CODE HERE\n",
    "        self.model = Word2Vec(self.documents, min_count=self.min_count, size=self.size)\n",
    "\n",
    "    #Helper function\n",
    "    def vectorize_list_of_words(self, words):\n",
    "        query_vectors = np.empty((0,self.size))\n",
    "        for word in words:\n",
    "            if word in self.model.wv:\n",
    "                query_vectors = np.vstack((query_vectors, self.model.wv[word][np.newaxis]))\n",
    "            else:\n",
    "                query_vectors = np.vstack((query_vectors, np.zeros(self.size)))\n",
    "        if query_vectors.shape[0] == 0:\n",
    "            return [(index, value) for index, value in enumerate(list(np.zeros(self.size)))]\n",
    "        else:\n",
    "            return [(index, value) for index, value in enumerate(list(np.mean(query_vectors, axis=0)))]\n",
    "        \n",
    "    def vectorize_documents(self):\n",
    "        \"\"\"\n",
    "            Returns a doc_id -> vector dictionary\n",
    "        \"\"\"\n",
    "        # YOUR CODE HERE\n",
    "        vectors = {}\n",
    "        for doc_id, words in self.doc_repr:\n",
    "            vectors[doc_id] = self.vectorize_list_of_words(words)\n",
    "        return vectors\n",
    "\n",
    "    def vectorize_query(self, query):\n",
    "        \"\"\"\n",
    "        Vectorizes the query using the W2V model\n",
    "        \"\"\"\n",
    "        query = process_text(query, **config_2)\n",
    "        # YOUR CODE HERE\n",
    "        return self.vectorize_list_of_words(query)\n",
    "    \n",
    "    \n",
    "class W2VPretrainedRetrievalModel(W2VRetrievalModel):\n",
    "    def __init__(self, doc_repr):\n",
    "        super().__init__(doc_repr)\n",
    "        self.model_name = \"word2vec-google-news-300\"\n",
    "        self.size = 300\n",
    "    \n",
    "    def train_model(self):\n",
    "        \"\"\"\n",
    "        Loads the pretrained model\n",
    "        \"\"\"\n",
    "        self.model = g_downloader.load(self.model_name)\n",
    "\n",
    "w2v = W2VRetrievalModel(doc_repr_2)\n",
    "w2v.train_model()\n",
    "\n",
    "# you can now get a W2V vector for a given query in the following way:\n",
    "w2v.vectorize_query(\"report\")"
   ]
  },
  {
   "cell_type": "code",
   "execution_count": 88,
   "metadata": {
    "deletable": false,
    "editable": false,
    "nbgrader": {
     "cell_type": "code",
     "checksum": "f92b5c5a8c6c4b80652b94223209ab0b",
     "grade": true,
     "grade_id": "cell-b31c0f8d214b8bdf",
     "locked": true,
     "points": 0,
     "schema_version": 3,
     "solution": false,
     "task": false
    }
   },
   "outputs": [],
   "source": [
    "assert len(w2v.vectorize_query(\"report\")) == 100\n",
    "assert len(w2v.vectorize_query(\"this is a sentence that is not mellifluous\")) == 100\n"
   ]
  },
  {
   "cell_type": "markdown",
   "metadata": {
    "deletable": false,
    "editable": false,
    "nbgrader": {
     "cell_type": "markdown",
     "checksum": "8dfaabebcb06f308a7ca61fdc5d369e7",
     "grade": false,
     "grade_id": "cell-c2614fa067386384",
     "locked": true,
     "points": 8,
     "schema_version": 3,
     "solution": false,
     "task": true
    }
   },
   "source": [
    "\\#### Please do not change this. This cell is used for grading."
   ]
  },
  {
   "cell_type": "code",
   "execution_count": 89,
   "metadata": {},
   "outputs": [
    {
     "name": "stderr",
     "output_type": "stream",
     "text": [
      "2022-02-28 23:05:11,183 : INFO : adding document #0 to Dictionary(0 unique tokens: [])\n",
      "2022-02-28 23:05:11,341 : INFO : built Dictionary(5937 unique tokens: ['-', 'algebra', 'intern', 'languag', 'preliminari']...) from 3204 documents (total 115969 corpus positions)\n",
      "2022-02-28 23:05:11,349 : INFO : discarding 4740 tokens: [('repeat', 8), ('glossari', 7), ('inspect', 8), ('uncol', 2), ('rung', 9), ('secant', 2), ('.', 1603), ('acceler', 6), ('diverg', 3), ('induc', 9)]...\n",
      "2022-02-28 23:05:11,350 : INFO : keeping 1197 tokens which were in no less than 10 and no more than 1602 (=50.0%) documents\n",
      "2022-02-28 23:05:11,353 : INFO : resulting dictionary: Dictionary(1197 unique tokens: ['-', 'algebra', 'intern', 'languag', 'preliminari']...)\n",
      "2022-02-28 23:05:11,497 : INFO : loading projection weights from /home/sila/gensim-data/word2vec-google-news-300/word2vec-google-news-300.gz\n",
      "2022-02-28 23:06:06,631 : INFO : loaded (3000000, 300) matrix from /home/sila/gensim-data/word2vec-google-news-300/word2vec-google-news-300.gz\n",
      "/home/sila/anaconda3/envs/ir_env/lib/python3.6/site-packages/ipykernel_launcher.py:21: DeprecationWarning: Call to deprecated `wv` (Attribute will be removed in 4.0.0, use self instead).\n",
      "/home/sila/anaconda3/envs/ir_env/lib/python3.6/site-packages/ipykernel_launcher.py:22: DeprecationWarning: Call to deprecated `wv` (Attribute will be removed in 4.0.0, use self instead).\n"
     ]
    },
    {
     "data": {
      "text/plain": [
       "[(0, -0.142578125),\n",
       " (1, -0.1640625),\n",
       " (2, -0.09033203125),\n",
       " (3, -0.1123046875),\n",
       " (4, 0.10009765625),\n",
       " (5, -0.041259765625),\n",
       " (6, 0.048828125),\n",
       " (7, -0.13671875),\n",
       " (8, 0.1962890625),\n",
       " (9, -0.134765625),\n",
       " (10, -0.017578125),\n",
       " (11, 0.0322265625),\n",
       " (12, 0.09521484375),\n",
       " (13, -0.10595703125),\n",
       " (14, -0.169921875),\n",
       " (15, 0.041015625),\n",
       " (16, -0.263671875),\n",
       " (17, -0.006317138671875),\n",
       " (18, -0.177734375),\n",
       " (19, -0.240234375),\n",
       " (20, 0.3515625),\n",
       " (21, -0.01220703125),\n",
       " (22, -0.162109375),\n",
       " (23, -0.12060546875),\n",
       " (24, 0.043212890625),\n",
       " (25, 0.10986328125),\n",
       " (26, 0.052490234375),\n",
       " (27, 0.1787109375),\n",
       " (28, -0.1455078125),\n",
       " (29, 0.1376953125),\n",
       " (30, -0.08203125),\n",
       " (31, -0.283203125),\n",
       " (32, -0.10888671875),\n",
       " (33, -0.2890625),\n",
       " (34, 0.072265625),\n",
       " (35, -0.04736328125),\n",
       " (36, 0.040283203125),\n",
       " (37, 0.06787109375),\n",
       " (38, 0.11669921875),\n",
       " (39, 0.00083160400390625),\n",
       " (40, 0.068359375),\n",
       " (41, 0.1201171875),\n",
       " (42, -0.08837890625),\n",
       " (43, 0.337890625),\n",
       " (44, -0.044677734375),\n",
       " (45, -0.0301513671875),\n",
       " (46, 0.0076904296875),\n",
       " (47, -0.0211181640625),\n",
       " (48, -0.25390625),\n",
       " (49, 0.1494140625),\n",
       " (50, 0.3984375),\n",
       " (51, 0.0216064453125),\n",
       " (52, -0.023193359375),\n",
       " (53, 0.00634765625),\n",
       " (54, 0.00823974609375),\n",
       " (55, -0.1689453125),\n",
       " (56, 0.037353515625),\n",
       " (57, -0.0634765625),\n",
       " (58, 0.1171875),\n",
       " (59, -0.1484375),\n",
       " (60, -0.07861328125),\n",
       " (61, 0.369140625),\n",
       " (62, -0.224609375),\n",
       " (63, 0.173828125),\n",
       " (64, 0.01385498046875),\n",
       " (65, 0.1875),\n",
       " (66, -0.10107421875),\n",
       " (67, 0.037841796875),\n",
       " (68, 0.0021209716796875),\n",
       " (69, -0.05126953125),\n",
       " (70, 0.09619140625),\n",
       " (71, -0.05712890625),\n",
       " (72, 0.10595703125),\n",
       " (73, -0.02099609375),\n",
       " (74, 0.1611328125),\n",
       " (75, 0.09765625),\n",
       " (76, 0.038330078125),\n",
       " (77, 0.2197265625),\n",
       " (78, 0.1064453125),\n",
       " (79, 0.0859375),\n",
       " (80, 0.1796875),\n",
       " (81, -0.0830078125),\n",
       " (82, -0.033203125),\n",
       " (83, 0.041015625),\n",
       " (84, -0.06494140625),\n",
       " (85, 0.0198974609375),\n",
       " (86, 0.1337890625),\n",
       " (87, -0.09765625),\n",
       " (88, -0.193359375),\n",
       " (89, -0.2353515625),\n",
       " (90, 0.1904296875),\n",
       " (91, 0.0024871826171875),\n",
       " (92, -0.0157470703125),\n",
       " (93, 0.0322265625),\n",
       " (94, -0.2197265625),\n",
       " (95, -0.09130859375),\n",
       " (96, 0.021240234375),\n",
       " (97, 0.158203125),\n",
       " (98, 0.298828125),\n",
       " (99, -0.328125),\n",
       " (100, 0.057373046875),\n",
       " (101, -0.04638671875),\n",
       " (102, 0.11328125),\n",
       " (103, -0.1015625),\n",
       " (104, 0.1806640625),\n",
       " (105, -0.025146484375),\n",
       " (106, -0.166015625),\n",
       " (107, -0.09619140625),\n",
       " (108, 0.018798828125),\n",
       " (109, -0.1943359375),\n",
       " (110, 0.1494140625),\n",
       " (111, -0.056640625),\n",
       " (112, -0.10693359375),\n",
       " (113, -0.150390625),\n",
       " (114, -0.17578125),\n",
       " (115, 0.11279296875),\n",
       " (116, 0.04931640625),\n",
       " (117, 0.2197265625),\n",
       " (118, 0.318359375),\n",
       " (119, 0.1572265625),\n",
       " (120, -0.29296875),\n",
       " (121, 0.10498046875),\n",
       " (122, -0.296875),\n",
       " (123, -0.013427734375),\n",
       " (124, 0.0908203125),\n",
       " (125, 0.0125732421875),\n",
       " (126, -0.051513671875),\n",
       " (127, -0.12890625),\n",
       " (128, 0.01446533203125),\n",
       " (129, 0.12060546875),\n",
       " (130, -0.10107421875),\n",
       " (131, -0.111328125),\n",
       " (132, 0.06396484375),\n",
       " (133, -0.052978515625),\n",
       " (134, -0.043212890625),\n",
       " (135, -0.012939453125),\n",
       " (136, -0.027587890625),\n",
       " (137, -0.09716796875),\n",
       " (138, -0.2021484375),\n",
       " (139, 0.123046875),\n",
       " (140, -0.04248046875),\n",
       " (141, 0.173828125),\n",
       " (142, -0.013671875),\n",
       " (143, 0.1015625),\n",
       " (144, -0.00093841552734375),\n",
       " (145, -0.03564453125),\n",
       " (146, 0.30078125),\n",
       " (147, -0.068359375),\n",
       " (148, -0.05615234375),\n",
       " (149, 0.03759765625),\n",
       " (150, 0.06591796875),\n",
       " (151, 0.040283203125),\n",
       " (152, 0.01190185546875),\n",
       " (153, 0.09619140625),\n",
       " (154, 0.3671875),\n",
       " (155, -0.279296875),\n",
       " (156, -0.052001953125),\n",
       " (157, -0.10693359375),\n",
       " (158, -0.134765625),\n",
       " (159, -0.046142578125),\n",
       " (160, 0.25),\n",
       " (161, 0.00567626953125),\n",
       " (162, -0.014404296875),\n",
       " (163, -0.031005859375),\n",
       " (164, -0.060302734375),\n",
       " (165, 0.10595703125),\n",
       " (166, 0.37890625),\n",
       " (167, 0.058837890625),\n",
       " (168, 0.123046875),\n",
       " (169, -0.115234375),\n",
       " (170, 0.1494140625),\n",
       " (171, -0.1640625),\n",
       " (172, -0.2333984375),\n",
       " (173, -0.07763671875),\n",
       " (174, 0.0267333984375),\n",
       " (175, -0.0211181640625),\n",
       " (176, 0.1943359375),\n",
       " (177, -0.05615234375),\n",
       " (178, -0.006439208984375),\n",
       " (179, -0.169921875),\n",
       " (180, -0.11865234375),\n",
       " (181, -0.0673828125),\n",
       " (182, -0.06884765625),\n",
       " (183, -0.0869140625),\n",
       " (184, -0.1015625),\n",
       " (185, 0.01416015625),\n",
       " (186, -0.201171875),\n",
       " (187, 0.09814453125),\n",
       " (188, -0.01025390625),\n",
       " (189, 0.1875),\n",
       " (190, 0.1962890625),\n",
       " (191, -0.220703125),\n",
       " (192, -0.1962890625),\n",
       " (193, -0.07373046875),\n",
       " (194, 0.06640625),\n",
       " (195, -0.1337890625),\n",
       " (196, 0.18359375),\n",
       " (197, -0.2001953125),\n",
       " (198, 0.1982421875),\n",
       " (199, 0.05029296875),\n",
       " (200, 0.0299072265625),\n",
       " (201, 0.0177001953125),\n",
       " (202, -0.193359375),\n",
       " (203, -0.09619140625),\n",
       " (204, -0.1025390625),\n",
       " (205, 0.212890625),\n",
       " (206, -0.0299072265625),\n",
       " (207, 0.1435546875),\n",
       " (208, 0.041015625),\n",
       " (209, -0.2119140625),\n",
       " (210, 0.2080078125),\n",
       " (211, 0.1376953125),\n",
       " (212, -0.0196533203125),\n",
       " (213, 0.01495361328125),\n",
       " (214, -0.09765625),\n",
       " (215, 0.2431640625),\n",
       " (216, 0.080078125),\n",
       " (217, 0.08251953125),\n",
       " (218, 0.0986328125),\n",
       " (219, 0.056884765625),\n",
       " (220, 0.04248046875),\n",
       " (221, 0.06884765625),\n",
       " (222, -0.035400390625),\n",
       " (223, -0.076171875),\n",
       " (224, -0.00016117095947265625),\n",
       " (225, -0.0751953125),\n",
       " (226, 0.224609375),\n",
       " (227, 0.1513671875),\n",
       " (228, 0.1005859375),\n",
       " (229, 0.10986328125),\n",
       " (230, 0.0238037109375),\n",
       " (231, 0.08837890625),\n",
       " (232, 0.061767578125),\n",
       " (233, -0.10791015625),\n",
       " (234, 0.062255859375),\n",
       " (235, 0.0034332275390625),\n",
       " (236, 0.08056640625),\n",
       " (237, 0.10693359375),\n",
       " (238, 0.0888671875),\n",
       " (239, -0.2373046875),\n",
       " (240, 0.06494140625),\n",
       " (241, 0.01019287109375),\n",
       " (242, -0.08837890625),\n",
       " (243, -0.33203125),\n",
       " (244, 0.004669189453125),\n",
       " (245, 0.212890625),\n",
       " (246, 0.0859375),\n",
       " (247, 0.0203857421875),\n",
       " (248, 0.045654296875),\n",
       " (249, 0.1484375),\n",
       " (250, 0.1181640625),\n",
       " (251, 0.0556640625),\n",
       " (252, -0.1728515625),\n",
       " (253, -0.125),\n",
       " (254, -0.025390625),\n",
       " (255, -0.318359375),\n",
       " (256, 0.0311279296875),\n",
       " (257, 0.0859375),\n",
       " (258, -0.0419921875),\n",
       " (259, 0.15625),\n",
       " (260, 0.1611328125),\n",
       " (261, 0.1982421875),\n",
       " (262, -0.10009765625),\n",
       " (263, 0.203125),\n",
       " (264, 0.12890625),\n",
       " (265, 0.2333984375),\n",
       " (266, -0.267578125),\n",
       " (267, 0.05517578125),\n",
       " (268, 0.048828125),\n",
       " (269, 0.072265625),\n",
       " (270, 0.244140625),\n",
       " (271, 0.244140625),\n",
       " (272, 0.056884765625),\n",
       " (273, -0.0546875),\n",
       " (274, -0.03369140625),\n",
       " (275, -0.12060546875),\n",
       " (276, 0.034912109375),\n",
       " (277, -0.1455078125),\n",
       " (278, 0.08740234375),\n",
       " (279, -0.0830078125),\n",
       " (280, 0.0172119140625),\n",
       " (281, 0.1435546875),\n",
       " (282, -0.12255859375),\n",
       " (283, 0.1796875),\n",
       " (284, 0.130859375),\n",
       " (285, -0.1650390625),\n",
       " (286, 0.01275634765625),\n",
       " (287, 0.16015625),\n",
       " (288, -0.0311279296875),\n",
       " (289, 0.08203125),\n",
       " (290, 0.173828125),\n",
       " (291, -0.16796875),\n",
       " (292, 0.130859375),\n",
       " (293, 0.08544921875),\n",
       " (294, -0.2109375),\n",
       " (295, -0.130859375),\n",
       " (296, -0.0289306640625),\n",
       " (297, -0.10546875),\n",
       " (298, 0.08447265625),\n",
       " (299, -0.1416015625)]"
      ]
     },
     "execution_count": 89,
     "metadata": {},
     "output_type": "execute_result"
    }
   ],
   "source": [
    "w2v_pretrained = W2VPretrainedRetrievalModel(doc_repr_2)\n",
    "w2v_pretrained.train_model()\n",
    "\n",
    "# you can now get an W2V vector for a given query in the following way:\n",
    "w2v_pretrained.vectorize_query(\"report\")"
   ]
  },
  {
   "cell_type": "code",
   "execution_count": 90,
   "metadata": {
    "deletable": false,
    "editable": false,
    "nbgrader": {
     "cell_type": "code",
     "checksum": "0822845afb5eafe5ddb1ffeaa4f4942a",
     "grade": true,
     "grade_id": "cell-1b1466f8ce516f42",
     "locked": true,
     "points": 2,
     "schema_version": 3,
     "solution": false,
     "task": false
    }
   },
   "outputs": [
    {
     "name": "stdout",
     "output_type": "stream",
     "text": [
      "300\n"
     ]
    },
    {
     "name": "stderr",
     "output_type": "stream",
     "text": [
      "/home/sila/anaconda3/envs/ir_env/lib/python3.6/site-packages/ipykernel_launcher.py:21: DeprecationWarning: Call to deprecated `wv` (Attribute will be removed in 4.0.0, use self instead).\n",
      "/home/sila/anaconda3/envs/ir_env/lib/python3.6/site-packages/ipykernel_launcher.py:22: DeprecationWarning: Call to deprecated `wv` (Attribute will be removed in 4.0.0, use self instead).\n"
     ]
    }
   ],
   "source": [
    "##### Function check\n",
    "\n",
    "print(len(w2v_pretrained.vectorize_query(\"report\")))\n",
    "#####"
   ]
  },
  {
   "cell_type": "code",
   "execution_count": 91,
   "metadata": {},
   "outputs": [
    {
     "data": {
      "application/vnd.jupyter.widget-view+json": {
       "model_id": "fb7dc97bb3414442bab053cb5e04bb84",
       "version_major": 2,
       "version_minor": 0
      },
      "text/plain": [
       "Text(value='', description='Search Bar')"
      ]
     },
     "metadata": {},
     "output_type": "display_data"
    }
   ],
   "source": [
    "drm_w2v = DenseRetrievalRanker(w2v, cosine_sim)\n",
    "\n",
    "# test your LDA model\n",
    "search_fn = drm_w2v.search\n",
    "\n",
    "text = widgets.Text(description=\"Search Bar\", width=200)\n",
    "display(text)\n",
    "\n",
    "\n",
    "text.on_submit(handle_submit_2)"
   ]
  },
  {
   "cell_type": "code",
   "execution_count": 92,
   "metadata": {},
   "outputs": [
    {
     "name": "stderr",
     "output_type": "stream",
     "text": [
      "/home/sila/anaconda3/envs/ir_env/lib/python3.6/site-packages/ipykernel_launcher.py:21: DeprecationWarning: Call to deprecated `wv` (Attribute will be removed in 4.0.0, use self instead).\n",
      "/home/sila/anaconda3/envs/ir_env/lib/python3.6/site-packages/ipykernel_launcher.py:22: DeprecationWarning: Call to deprecated `wv` (Attribute will be removed in 4.0.0, use self instead).\n"
     ]
    },
    {
     "data": {
      "application/vnd.jupyter.widget-view+json": {
       "model_id": "2144065fd5844b7c866d77a0cd3001db",
       "version_major": 2,
       "version_minor": 0
      },
      "text/plain": [
       "Text(value='', description='Search Bar')"
      ]
     },
     "metadata": {},
     "output_type": "display_data"
    }
   ],
   "source": [
    "drm_w2v_pretrained = DenseRetrievalRanker(w2v_pretrained, cosine_sim)\n",
    "\n",
    "# test your LDA model\n",
    "search_fn = drm_w2v_pretrained.search\n",
    "\n",
    "text = widgets.Text(description=\"Search Bar\", width=200)\n",
    "display(text)\n",
    "\n",
    "\n",
    "text.on_submit(handle_submit_2)"
   ]
  },
  {
   "cell_type": "markdown",
   "metadata": {
    "deletable": false,
    "editable": false,
    "nbgrader": {
     "cell_type": "markdown",
     "checksum": "51b778984fd60757974f51047c61eb15",
     "grade": false,
     "grade_id": "cell-b92f701cbc706108",
     "locked": true,
     "schema_version": 3,
     "solution": false,
     "task": false
    }
   },
   "source": [
    "**Implementation (10 points):**\n",
    "For Doc2Vec, you will need to create a list of `TaggedDocument` instead of using the `self.corpus` or `self.documents` variable. Use the document id as the 'tag'.\n",
    "  "
   ]
  },
  {
   "cell_type": "code",
   "execution_count": 93,
   "metadata": {
    "deletable": false,
    "nbgrader": {
     "cell_type": "code",
     "checksum": "1f60fdeb97febb7f4a6fd5bf109aac20",
     "grade": false,
     "grade_id": "cell-680facdcc98a19ab",
     "locked": false,
     "schema_version": 3,
     "solution": true,
     "task": false
    }
   },
   "outputs": [
    {
     "name": "stderr",
     "output_type": "stream",
     "text": [
      "2022-02-28 23:06:10,215 : INFO : adding document #0 to Dictionary(0 unique tokens: [])\n",
      "2022-02-28 23:06:10,384 : INFO : built Dictionary(5937 unique tokens: ['-', 'algebra', 'intern', 'languag', 'preliminari']...) from 3204 documents (total 115969 corpus positions)\n",
      "2022-02-28 23:06:10,395 : INFO : discarding 4740 tokens: [('repeat', 8), ('glossari', 7), ('inspect', 8), ('uncol', 2), ('rung', 9), ('secant', 2), ('.', 1603), ('acceler', 6), ('diverg', 3), ('induc', 9)]...\n",
      "2022-02-28 23:06:10,396 : INFO : keeping 1197 tokens which were in no less than 10 and no more than 1602 (=50.0%) documents\n",
      "2022-02-28 23:06:10,398 : INFO : resulting dictionary: Dictionary(1197 unique tokens: ['-', 'algebra', 'intern', 'languag', 'preliminari']...)\n",
      "2022-02-28 23:06:10,498 : INFO : collecting all words and their counts\n",
      "2022-02-28 23:06:10,499 : INFO : PROGRESS: at example #0, processed 0 words (0/s), 0 word types, 0 tags\n",
      "2022-02-28 23:06:10,530 : INFO : collected 5937 word types and 3204 unique tags from a corpus of 3204 examples and 115969 words\n",
      "2022-02-28 23:06:10,532 : INFO : Loading a fresh vocabulary\n",
      "2022-02-28 23:06:10,549 : INFO : effective_min_count=1 retains 5937 unique words (100% of original 5937, drops 0)\n",
      "2022-02-28 23:06:10,550 : INFO : effective_min_count=1 leaves 115969 word corpus (100% of original 115969, drops 0)\n",
      "2022-02-28 23:06:10,580 : INFO : deleting the raw counts dictionary of 5937 items\n",
      "2022-02-28 23:06:10,581 : INFO : sample=0.001 downsamples 40 most-common words\n",
      "2022-02-28 23:06:10,581 : INFO : downsampling leaves estimated 92346 word corpus (79.6% of prior 115969)\n",
      "2022-02-28 23:06:10,599 : INFO : estimated required memory for 5937 words and 100 dimensions: 9640500 bytes\n",
      "2022-02-28 23:06:10,600 : INFO : resetting layer weights\n",
      "2022-02-28 23:06:12,766 : INFO : training model with 3 workers on 5937 vocabulary and 100 features, using sg=0 hs=0 sample=0.001 negative=5 window=5\n",
      "2022-02-28 23:06:13,110 : INFO : worker thread finished; awaiting finish of 2 more threads\n",
      "2022-02-28 23:06:13,116 : INFO : worker thread finished; awaiting finish of 1 more threads\n",
      "2022-02-28 23:06:13,129 : INFO : worker thread finished; awaiting finish of 0 more threads\n",
      "2022-02-28 23:06:13,130 : INFO : EPOCH - 1 : training on 115969 raw words (95468 effective words) took 0.4s, 265772 effective words/s\n",
      "2022-02-28 23:06:13,511 : INFO : worker thread finished; awaiting finish of 2 more threads\n",
      "2022-02-28 23:06:13,519 : INFO : worker thread finished; awaiting finish of 1 more threads\n",
      "2022-02-28 23:06:13,520 : INFO : worker thread finished; awaiting finish of 0 more threads\n",
      "2022-02-28 23:06:13,521 : INFO : EPOCH - 2 : training on 115969 raw words (95547 effective words) took 0.4s, 246744 effective words/s\n",
      "2022-02-28 23:06:13,901 : INFO : worker thread finished; awaiting finish of 2 more threads\n",
      "2022-02-28 23:06:13,906 : INFO : worker thread finished; awaiting finish of 1 more threads\n",
      "2022-02-28 23:06:13,908 : INFO : worker thread finished; awaiting finish of 0 more threads\n",
      "2022-02-28 23:06:13,909 : INFO : EPOCH - 3 : training on 115969 raw words (95411 effective words) took 0.4s, 248509 effective words/s\n",
      "2022-02-28 23:06:14,307 : INFO : worker thread finished; awaiting finish of 2 more threads\n",
      "2022-02-28 23:06:14,313 : INFO : worker thread finished; awaiting finish of 1 more threads\n",
      "2022-02-28 23:06:14,328 : INFO : worker thread finished; awaiting finish of 0 more threads\n",
      "2022-02-28 23:06:14,328 : INFO : EPOCH - 4 : training on 115969 raw words (95536 effective words) took 0.4s, 230272 effective words/s\n",
      "2022-02-28 23:06:14,710 : INFO : worker thread finished; awaiting finish of 2 more threads\n",
      "2022-02-28 23:06:14,711 : INFO : worker thread finished; awaiting finish of 1 more threads\n",
      "2022-02-28 23:06:14,725 : INFO : worker thread finished; awaiting finish of 0 more threads\n",
      "2022-02-28 23:06:14,725 : INFO : EPOCH - 5 : training on 115969 raw words (95469 effective words) took 0.4s, 244033 effective words/s\n",
      "2022-02-28 23:06:15,107 : INFO : worker thread finished; awaiting finish of 2 more threads\n",
      "2022-02-28 23:06:15,110 : INFO : worker thread finished; awaiting finish of 1 more threads\n",
      "2022-02-28 23:06:15,127 : INFO : worker thread finished; awaiting finish of 0 more threads\n",
      "2022-02-28 23:06:15,128 : INFO : EPOCH - 6 : training on 115969 raw words (95609 effective words) took 0.4s, 240186 effective words/s\n",
      "2022-02-28 23:06:15,509 : INFO : worker thread finished; awaiting finish of 2 more threads\n",
      "2022-02-28 23:06:15,536 : INFO : worker thread finished; awaiting finish of 1 more threads\n",
      "2022-02-28 23:06:15,537 : INFO : worker thread finished; awaiting finish of 0 more threads\n",
      "2022-02-28 23:06:15,538 : INFO : EPOCH - 7 : training on 115969 raw words (95661 effective words) took 0.4s, 236292 effective words/s\n",
      "2022-02-28 23:06:15,961 : INFO : worker thread finished; awaiting finish of 2 more threads\n",
      "2022-02-28 23:06:15,970 : INFO : worker thread finished; awaiting finish of 1 more threads\n",
      "2022-02-28 23:06:15,975 : INFO : worker thread finished; awaiting finish of 0 more threads\n",
      "2022-02-28 23:06:15,976 : INFO : EPOCH - 8 : training on 115969 raw words (95667 effective words) took 0.4s, 221004 effective words/s\n",
      "2022-02-28 23:06:16,372 : INFO : worker thread finished; awaiting finish of 2 more threads\n",
      "2022-02-28 23:06:16,377 : INFO : worker thread finished; awaiting finish of 1 more threads\n",
      "2022-02-28 23:06:16,391 : INFO : worker thread finished; awaiting finish of 0 more threads\n",
      "2022-02-28 23:06:16,392 : INFO : EPOCH - 9 : training on 115969 raw words (95540 effective words) took 0.4s, 232340 effective words/s\n",
      "2022-02-28 23:06:16,799 : INFO : worker thread finished; awaiting finish of 2 more threads\n",
      "2022-02-28 23:06:16,802 : INFO : worker thread finished; awaiting finish of 1 more threads\n",
      "2022-02-28 23:06:16,821 : INFO : worker thread finished; awaiting finish of 0 more threads\n",
      "2022-02-28 23:06:16,822 : INFO : EPOCH - 10 : training on 115969 raw words (95444 effective words) took 0.4s, 224552 effective words/s\n",
      "2022-02-28 23:06:17,235 : INFO : worker thread finished; awaiting finish of 2 more threads\n",
      "2022-02-28 23:06:17,242 : INFO : worker thread finished; awaiting finish of 1 more threads\n",
      "2022-02-28 23:06:17,260 : INFO : worker thread finished; awaiting finish of 0 more threads\n",
      "2022-02-28 23:06:17,260 : INFO : EPOCH - 11 : training on 115969 raw words (95562 effective words) took 0.4s, 220835 effective words/s\n",
      "2022-02-28 23:06:17,778 : INFO : worker thread finished; awaiting finish of 2 more threads\n",
      "2022-02-28 23:06:17,782 : INFO : worker thread finished; awaiting finish of 1 more threads\n",
      "2022-02-28 23:06:17,803 : INFO : worker thread finished; awaiting finish of 0 more threads\n",
      "2022-02-28 23:06:17,805 : INFO : EPOCH - 12 : training on 115969 raw words (95491 effective words) took 0.5s, 177637 effective words/s\n",
      "2022-02-28 23:06:18,346 : INFO : worker thread finished; awaiting finish of 2 more threads\n",
      "2022-02-28 23:06:18,375 : INFO : worker thread finished; awaiting finish of 1 more threads\n",
      "2022-02-28 23:06:18,384 : INFO : worker thread finished; awaiting finish of 0 more threads\n",
      "2022-02-28 23:06:18,385 : INFO : EPOCH - 13 : training on 115969 raw words (95625 effective words) took 0.5s, 173898 effective words/s\n",
      "2022-02-28 23:06:18,945 : INFO : worker thread finished; awaiting finish of 2 more threads\n",
      "2022-02-28 23:06:18,954 : INFO : worker thread finished; awaiting finish of 1 more threads\n",
      "2022-02-28 23:06:18,970 : INFO : worker thread finished; awaiting finish of 0 more threads\n",
      "2022-02-28 23:06:18,972 : INFO : EPOCH - 14 : training on 115969 raw words (95586 effective words) took 0.6s, 164458 effective words/s\n",
      "2022-02-28 23:06:19,391 : INFO : worker thread finished; awaiting finish of 2 more threads\n",
      "2022-02-28 23:06:19,406 : INFO : worker thread finished; awaiting finish of 1 more threads\n",
      "2022-02-28 23:06:19,415 : INFO : worker thread finished; awaiting finish of 0 more threads\n",
      "2022-02-28 23:06:19,416 : INFO : EPOCH - 15 : training on 115969 raw words (95482 effective words) took 0.4s, 217721 effective words/s\n",
      "2022-02-28 23:06:19,832 : INFO : worker thread finished; awaiting finish of 2 more threads\n",
      "2022-02-28 23:06:19,850 : INFO : worker thread finished; awaiting finish of 1 more threads\n"
     ]
    },
    {
     "name": "stderr",
     "output_type": "stream",
     "text": [
      "2022-02-28 23:06:19,858 : INFO : worker thread finished; awaiting finish of 0 more threads\n",
      "2022-02-28 23:06:19,859 : INFO : EPOCH - 16 : training on 115969 raw words (95573 effective words) took 0.4s, 218165 effective words/s\n",
      "2022-02-28 23:06:20,295 : INFO : worker thread finished; awaiting finish of 2 more threads\n",
      "2022-02-28 23:06:20,308 : INFO : worker thread finished; awaiting finish of 1 more threads\n",
      "2022-02-28 23:06:20,316 : INFO : worker thread finished; awaiting finish of 0 more threads\n",
      "2022-02-28 23:06:20,317 : INFO : EPOCH - 17 : training on 115969 raw words (95585 effective words) took 0.5s, 211445 effective words/s\n",
      "2022-02-28 23:06:20,738 : INFO : worker thread finished; awaiting finish of 2 more threads\n",
      "2022-02-28 23:06:20,759 : INFO : worker thread finished; awaiting finish of 1 more threads\n",
      "2022-02-28 23:06:20,767 : INFO : worker thread finished; awaiting finish of 0 more threads\n",
      "2022-02-28 23:06:20,768 : INFO : EPOCH - 18 : training on 115969 raw words (95656 effective words) took 0.4s, 214574 effective words/s\n",
      "2022-02-28 23:06:21,200 : INFO : worker thread finished; awaiting finish of 2 more threads\n",
      "2022-02-28 23:06:21,201 : INFO : worker thread finished; awaiting finish of 1 more threads\n",
      "2022-02-28 23:06:21,217 : INFO : worker thread finished; awaiting finish of 0 more threads\n",
      "2022-02-28 23:06:21,218 : INFO : EPOCH - 19 : training on 115969 raw words (95545 effective words) took 0.4s, 214890 effective words/s\n",
      "2022-02-28 23:06:21,660 : INFO : worker thread finished; awaiting finish of 2 more threads\n",
      "2022-02-28 23:06:21,682 : INFO : worker thread finished; awaiting finish of 1 more threads\n",
      "2022-02-28 23:06:21,688 : INFO : worker thread finished; awaiting finish of 0 more threads\n",
      "2022-02-28 23:06:21,689 : INFO : EPOCH - 20 : training on 115969 raw words (95590 effective words) took 0.5s, 205631 effective words/s\n",
      "2022-02-28 23:06:21,689 : INFO : training on a 2319380 raw words (1911047 effective words) took 8.9s, 214190 effective words/s\n"
     ]
    },
    {
     "data": {
      "text/plain": [
       "[(0, 0.014269558),\n",
       " (1, 0.04423452),\n",
       " (2, 0.039448336),\n",
       " (3, 0.08339684),\n",
       " (4, 0.009615483),\n",
       " (5, 0.054661103),\n",
       " (6, 0.07861236),\n",
       " (7, 0.01817802),\n",
       " (8, -0.053166613),\n",
       " (9, 0.032153558),\n",
       " (10, -0.0016006965),\n",
       " (11, 0.03898627),\n",
       " (12, -0.07675271),\n",
       " (13, -0.10031527),\n",
       " (14, 0.052740745),\n",
       " (15, 0.10799095),\n",
       " (16, -0.0042574727),\n",
       " (17, -0.019775433),\n",
       " (18, -0.0066892765),\n",
       " (19, -0.004536401),\n",
       " (20, 0.07329543),\n",
       " (21, -0.00073875184),\n",
       " (22, -0.048628584),\n",
       " (23, -0.044449426),\n",
       " (24, -0.019839363),\n",
       " (25, 0.05753755),\n",
       " (26, -0.09652785),\n",
       " (27, -0.044777147),\n",
       " (28, 0.022387039),\n",
       " (29, 0.061767403),\n",
       " (30, 0.008690545),\n",
       " (31, -0.043995325),\n",
       " (32, -0.012475857),\n",
       " (33, -0.006449354),\n",
       " (34, 0.0078027905),\n",
       " (35, 0.115951434),\n",
       " (36, -0.011474011),\n",
       " (37, 0.05668912),\n",
       " (38, 0.07767628),\n",
       " (39, 0.062112547),\n",
       " (40, -0.0027497509),\n",
       " (41, 0.041930664),\n",
       " (42, -0.052041896),\n",
       " (43, -0.07641837),\n",
       " (44, -0.07941486),\n",
       " (45, -0.026903804),\n",
       " (46, 0.062222533),\n",
       " (47, -0.009783264),\n",
       " (48, -0.050084002),\n",
       " (49, -0.017829988),\n",
       " (50, 0.03294545),\n",
       " (51, -0.02582466),\n",
       " (52, -0.060028322),\n",
       " (53, 0.06616678),\n",
       " (54, 0.16700001),\n",
       " (55, 0.0022592861),\n",
       " (56, -0.0059058242),\n",
       " (57, 0.0020913135),\n",
       " (58, -0.02787348),\n",
       " (59, 0.013373797),\n",
       " (60, 0.059759397),\n",
       " (61, 0.0046616485),\n",
       " (62, -0.014526153),\n",
       " (63, 0.0053755166),\n",
       " (64, 0.032281086),\n",
       " (65, -0.02291954),\n",
       " (66, -0.022172071),\n",
       " (67, -0.01976939),\n",
       " (68, 0.0017769051),\n",
       " (69, -0.03895149),\n",
       " (70, 0.034435358),\n",
       " (71, 0.015403669),\n",
       " (72, -0.028564341),\n",
       " (73, 0.019195247),\n",
       " (74, 0.029388722),\n",
       " (75, -0.0033664962),\n",
       " (76, -0.005313621),\n",
       " (77, -0.028696617),\n",
       " (78, 0.059488826),\n",
       " (79, 0.06851892),\n",
       " (80, 0.11804552),\n",
       " (81, -0.010869412),\n",
       " (82, -0.010722518),\n",
       " (83, -0.014235563),\n",
       " (84, 0.0031398982),\n",
       " (85, -0.06776573),\n",
       " (86, -0.10345115),\n",
       " (87, -0.026485018),\n",
       " (88, 0.063801825),\n",
       " (89, -0.072453015),\n",
       " (90, 0.10725164),\n",
       " (91, 0.04436731),\n",
       " (92, -0.053076558),\n",
       " (93, 0.008929219),\n",
       " (94, -0.06202566),\n",
       " (95, 0.036047876),\n",
       " (96, 0.048323482),\n",
       " (97, -0.04237101),\n",
       " (98, 0.050816245),\n",
       " (99, -0.024040109)]"
      ]
     },
     "execution_count": 93,
     "metadata": {},
     "output_type": "execute_result"
    }
   ],
   "source": [
    "# TODO: Implement this! (10 points)\n",
    "class D2VRetrievalModel(VectorSpaceRetrievalModel):\n",
    "    def __init__(self, doc_repr):\n",
    "        super().__init__(doc_repr)\n",
    "        \n",
    "        self.vector_size= 100\n",
    "        self.min_count = 1\n",
    "        self.epochs = 20\n",
    "        \n",
    "        # YOUR CODE HERE\n",
    "        self.tagged_documents = [TaggedDocument(words, [tag]) for tag, words in self.doc_repr]\n",
    "        \n",
    "    def train_model(self):\n",
    "        # YOUR CODE HERE\n",
    "        self.model = Doc2Vec(self.tagged_documents, min_count=self.min_count, vector_size=self.vector_size, epochs=self.epochs)\n",
    "    \n",
    "    def vectorize_documents(self):\n",
    "        \"\"\"\n",
    "            Returns a doc_id -> vector dictionary\n",
    "        \"\"\"\n",
    "        # YOUR CODE HERE\n",
    "        vectors = {}\n",
    "        for doc_id, words in self.doc_repr:\n",
    "            vectors[doc_id] = [(index, value) for index, value in enumerate(list(self.model.infer_vector(words)))]\n",
    "        return vectors\n",
    "\n",
    "    def vectorize_query(self, query):\n",
    "        # YOUR CODE HERE\n",
    "        query = process_text(query, **config_2)\n",
    "        return [(index, value) for index, value in enumerate(list(self.model.infer_vector(query)))]\n",
    "        \n",
    "d2v = D2VRetrievalModel(doc_repr_2)\n",
    "d2v.train_model()\n",
    "\n",
    "\n",
    "# # you can now get an LSI vector for a given query in the following way:\n",
    "d2v.vectorize_query(\"report\")"
   ]
  },
  {
   "cell_type": "code",
   "execution_count": 94,
   "metadata": {
    "deletable": false,
    "editable": false,
    "nbgrader": {
     "cell_type": "code",
     "checksum": "e83a363a9d4f136efbdde1426a83925e",
     "grade": true,
     "grade_id": "cell-5e2c5e0c9a2e8cb5",
     "locked": true,
     "points": 0,
     "schema_version": 3,
     "solution": false,
     "task": false
    }
   },
   "outputs": [],
   "source": [
    "#### Please do not change this. This cell is used for grading."
   ]
  },
  {
   "cell_type": "markdown",
   "metadata": {
    "deletable": false,
    "editable": false,
    "nbgrader": {
     "cell_type": "markdown",
     "checksum": "5bb46bf6b9be1e0ca66f0b0bc6260ecb",
     "grade": false,
     "grade_id": "cell-8a49d414f798a595",
     "locked": true,
     "points": 10,
     "schema_version": 3,
     "solution": false,
     "task": true
    }
   },
   "source": [
    "\\#### Please do not change this. This cell is used for grading."
   ]
  },
  {
   "cell_type": "code",
   "execution_count": 95,
   "metadata": {},
   "outputs": [
    {
     "data": {
      "application/vnd.jupyter.widget-view+json": {
       "model_id": "06fef181630a494d993aa486b93329b2",
       "version_major": 2,
       "version_minor": 0
      },
      "text/plain": [
       "Text(value='', description='Search Bar')"
      ]
     },
     "metadata": {},
     "output_type": "display_data"
    }
   ],
   "source": [
    "drm_d2v = DenseRetrievalRanker(d2v, cosine_sim)\n",
    "\n",
    "# test your LDA model\n",
    "search_fn = drm_d2v.search\n",
    "\n",
    "text = widgets.Text(description=\"Search Bar\", width=200)\n",
    "display(text)\n",
    "\n",
    "\n",
    "text.on_submit(handle_submit_2)"
   ]
  },
  {
   "cell_type": "markdown",
   "metadata": {
    "deletable": false,
    "editable": false,
    "nbgrader": {
     "cell_type": "markdown",
     "checksum": "363ec36c1d03d9f9e1c2045a6e193c14",
     "grade": false,
     "grade_id": "cell-3529ae29eece7b97",
     "locked": true,
     "schema_version": 3,
     "solution": false,
     "task": false
    }
   },
   "source": [
    "---\n",
    "## Section 9: Re-ranking (10 points) <a class=\"anchor\" id=\"reranking\"></a>\n",
    "\n",
    "[Back to Part 2](#part2)\n",
    "\n",
    "To motivate the re-ranking perspective (i.e retrieve with lexical method + rerank with a semantic method), let's search using semantic methods and compare it to BM25's performance, along with their runtime:\n"
   ]
  },
  {
   "cell_type": "code",
   "execution_count": 96,
   "metadata": {
    "deletable": false,
    "editable": false,
    "nbgrader": {
     "cell_type": "code",
     "checksum": "5755f70e3eb28abc65d14d80125338af",
     "grade": false,
     "grade_id": "cell-f8f43bf5ae383128",
     "locked": true,
     "schema_version": 3,
     "solution": false,
     "task": false
    }
   },
   "outputs": [
    {
     "name": "stdout",
     "output_type": "stream",
     "text": [
      "BM25: \n",
      "880 µs ± 57.6 µs per loop (mean ± std. dev. of 7 runs, 1000 loops each)\n",
      "LSI: \n"
     ]
    },
    {
     "name": "stderr",
     "output_type": "stream",
     "text": [
      "/home/sila/anaconda3/envs/ir_env/lib/python3.6/site-packages/ipykernel_launcher.py:22: RuntimeWarning: invalid value encountered in double_scalars\n"
     ]
    },
    {
     "name": "stdout",
     "output_type": "stream",
     "text": [
      "288 ms ± 35.7 ms per loop (mean ± std. dev. of 7 runs, 1 loop each)\n",
      "LDA: \n",
      "210 ms ± 12.6 ms per loop (mean ± std. dev. of 7 runs, 1 loop each)\n",
      "W2V: \n",
      "382 ms ± 16 ms per loop (mean ± std. dev. of 7 runs, 1 loop each)\n",
      "W2V(Pretrained): \n"
     ]
    },
    {
     "name": "stderr",
     "output_type": "stream",
     "text": [
      "/home/sila/anaconda3/envs/ir_env/lib/python3.6/site-packages/ipykernel_launcher.py:21: DeprecationWarning: Call to deprecated `wv` (Attribute will be removed in 4.0.0, use self instead).\n",
      "/home/sila/anaconda3/envs/ir_env/lib/python3.6/site-packages/ipykernel_launcher.py:22: DeprecationWarning: Call to deprecated `wv` (Attribute will be removed in 4.0.0, use self instead).\n"
     ]
    },
    {
     "name": "stdout",
     "output_type": "stream",
     "text": [
      "881 ms ± 92.4 ms per loop (mean ± std. dev. of 7 runs, 1 loop each)\n",
      "D2V:\n",
      "366 ms ± 58.2 ms per loop (mean ± std. dev. of 7 runs, 1 loop each)\n"
     ]
    }
   ],
   "source": [
    "query = \"algebraic functions\"\n",
    "print(\"BM25: \")\n",
    "%timeit bm25_search(query, 2)\n",
    "print(\"LSI: \")\n",
    "%timeit drm_lsi.search(query)\n",
    "print(\"LDA: \")\n",
    "%timeit drm_lda.search(query)\n",
    "print(\"W2V: \")\n",
    "%timeit drm_w2v.search(query)\n",
    "print(\"W2V(Pretrained): \")\n",
    "%timeit drm_w2v_pretrained.search(query)\n",
    "print(\"D2V:\")\n",
    "%timeit drm_d2v.search(query)"
   ]
  },
  {
   "cell_type": "markdown",
   "metadata": {
    "deletable": false,
    "editable": false,
    "nbgrader": {
     "cell_type": "markdown",
     "checksum": "ae398da0a8c23c95bcbb0023b7ec6f34",
     "grade": false,
     "grade_id": "cell-db5ff09f97841af7",
     "locked": true,
     "schema_version": 3,
     "solution": false,
     "task": false
    }
   },
   "source": [
    "---\n",
    "\n",
    "**Implementation (10 points):**\n",
    "Re-ranking involves retrieving a small set of documents using simple but fast methods like BM25 and then re-ranking them with the aid of semantic methods such as LDA or LSI. Implement the following class, which takes in an `initial_retrieval_fn` - the initial retrieval function and `vsrm` - an instance of the `VectorSpaceRetrievalModel` class (i.e LSI/LDA) as input. The search function should first retrieve an initial list of K documents, and then these documents are re-ranked using a semantic method. This not only makes retrieval faster, but semantic methods perform poorly when used in isolation, as you will find out."
   ]
  },
  {
   "cell_type": "code",
   "execution_count": 97,
   "metadata": {
    "deletable": false,
    "nbgrader": {
     "cell_type": "code",
     "checksum": "63b6b05a676a2ae3f08d8bed1bc59428",
     "grade": false,
     "grade_id": "cell-5bf47600d1a0c507",
     "locked": false,
     "schema_version": 3,
     "solution": true,
     "task": false
    }
   },
   "outputs": [],
   "source": [
    "# TODO: Implement this! (10 points)\n",
    "class DenseRerankingModel:\n",
    "    def __init__(self, initial_retrieval_fn, vsrm, similarity_fn):\n",
    "        \"\"\"\n",
    "            initial_retrieval_fn: takes in a query and returns a list of [(doc_id, score)] (sorted)\n",
    "            vsrm: instance of `VectorSpaceRetrievalModel`\n",
    "            similarity_fn: function instance that takes in two vectors \n",
    "                            and returns a similarity score e.g cosine_sim defined earlier\n",
    "        \"\"\"\n",
    "        self.ret = initial_retrieval_fn\n",
    "        self.vsrm = vsrm\n",
    "        self.similarity_fn = similarity_fn\n",
    "        self.vectorized_documents = vsrm.vectorize_documents()\n",
    "        \n",
    "        assert len(self.vectorized_documents) == len(doc_repr_2)\n",
    "    \n",
    "    def search(self, query, K=50):\n",
    "        \"\"\"\n",
    "            First, retrieve the top K results using the retrieval function\n",
    "            Then, re-rank the results using the VSRM instance\n",
    "        \"\"\"\n",
    "        # YOUR CODE HERE\n",
    "        query_vector = self.vsrm.vectorize_query(query)\n",
    "        initial_ranking = self.ret(query)\n",
    "        topK_results = initial_ranking[:K]\n",
    "        topK_vectorized_documents = [(doc_id, self.vectorized_documents[doc_id]) for doc_id, _ in topK_results]\n",
    "        scores = [(key ,self.similarity_fn(query_vector, value)) for key, value in topK_vectorized_documents]\n",
    "        scores.sort(key=lambda _:-_[1])\n",
    "        return scores "
   ]
  },
  {
   "cell_type": "code",
   "execution_count": 98,
   "metadata": {
    "deletable": false,
    "editable": false,
    "nbgrader": {
     "cell_type": "code",
     "checksum": "334ab5af96976265cace682ab82a7387",
     "grade": true,
     "grade_id": "cell-52c6d18a4c0b4882",
     "locked": true,
     "points": 0,
     "schema_version": 3,
     "solution": false,
     "task": false
    }
   },
   "outputs": [
    {
     "name": "stderr",
     "output_type": "stream",
     "text": [
      "/home/sila/anaconda3/envs/ir_env/lib/python3.6/site-packages/ipykernel_launcher.py:21: DeprecationWarning: Call to deprecated `wv` (Attribute will be removed in 4.0.0, use self instead).\n",
      "/home/sila/anaconda3/envs/ir_env/lib/python3.6/site-packages/ipykernel_launcher.py:22: DeprecationWarning: Call to deprecated `wv` (Attribute will be removed in 4.0.0, use self instead).\n"
     ]
    }
   ],
   "source": [
    "##### Function check\n",
    "bm25_search_2 = partial(bm25_search, index_set=2)\n",
    "lsi_rerank = DenseRerankingModel(bm25_search_2, lsi, cosine_sim)\n",
    "lda_rerank = DenseRerankingModel(bm25_search_2, lda, jenson_shannon_sim)\n",
    "w2v_rerank = DenseRerankingModel(bm25_search_2, w2v, cosine_sim)\n",
    "w2v_pretrained_rerank = DenseRerankingModel(bm25_search_2, w2v_pretrained, cosine_sim)\n",
    "d2v_rerank = DenseRerankingModel(bm25_search_2, d2v, cosine_sim)\n",
    "\n",
    "##### "
   ]
  },
  {
   "cell_type": "markdown",
   "metadata": {
    "deletable": false,
    "editable": false,
    "nbgrader": {
     "cell_type": "markdown",
     "checksum": "bd904253f45f84e63bab3a69729058fc",
     "grade": false,
     "grade_id": "cell-93215dfe6bcf7cff",
     "locked": true,
     "points": 10,
     "schema_version": 3,
     "solution": false,
     "task": true
    }
   },
   "source": [
    "\\#### Please do not change this. This cell is used for grading."
   ]
  },
  {
   "cell_type": "markdown",
   "metadata": {
    "deletable": false,
    "editable": false,
    "nbgrader": {
     "cell_type": "markdown",
     "checksum": "b592e60292bfe3d9ef2930a354c4077a",
     "grade": false,
     "grade_id": "cell-aa694ff55fa91e7d",
     "locked": true,
     "schema_version": 3,
     "solution": false,
     "task": false
    }
   },
   "source": [
    "---\n",
    "Now, let us time the new search functions:"
   ]
  },
  {
   "cell_type": "code",
   "execution_count": 99,
   "metadata": {
    "deletable": false,
    "editable": false,
    "nbgrader": {
     "cell_type": "code",
     "checksum": "338c7e3528cba266a865a061287c0e38",
     "grade": false,
     "grade_id": "cell-5edbd481562ad91f",
     "locked": true,
     "schema_version": 3,
     "solution": false,
     "task": false
    }
   },
   "outputs": [
    {
     "name": "stdout",
     "output_type": "stream",
     "text": [
      "BM25: \n",
      "760 µs ± 77.4 µs per loop (mean ± std. dev. of 7 runs, 1000 loops each)\n",
      "LSI: \n",
      "6.24 ms ± 1.02 ms per loop (mean ± std. dev. of 7 runs, 100 loops each)\n",
      "LDA: \n",
      "5.1 ms ± 258 µs per loop (mean ± std. dev. of 7 runs, 100 loops each)\n",
      "W2V: \n",
      "5.25 ms ± 356 µs per loop (mean ± std. dev. of 7 runs, 100 loops each)\n",
      "W2V(Pretrained): \n"
     ]
    },
    {
     "name": "stderr",
     "output_type": "stream",
     "text": [
      "/home/sila/anaconda3/envs/ir_env/lib/python3.6/site-packages/ipykernel_launcher.py:21: DeprecationWarning: Call to deprecated `wv` (Attribute will be removed in 4.0.0, use self instead).\n",
      "/home/sila/anaconda3/envs/ir_env/lib/python3.6/site-packages/ipykernel_launcher.py:22: DeprecationWarning: Call to deprecated `wv` (Attribute will be removed in 4.0.0, use self instead).\n"
     ]
    },
    {
     "name": "stdout",
     "output_type": "stream",
     "text": [
      "12.2 ms ± 1.21 ms per loop (mean ± std. dev. of 7 runs, 100 loops each)\n",
      "D2V:\n",
      "6.36 ms ± 1.06 ms per loop (mean ± std. dev. of 7 runs, 100 loops each)\n"
     ]
    }
   ],
   "source": [
    "query = \"algebraic functions\"\n",
    "print(\"BM25: \")\n",
    "%timeit bm25_search(query, 2)\n",
    "print(\"LSI: \")\n",
    "%timeit lsi_rerank.search(query)\n",
    "print(\"LDA: \")\n",
    "%timeit lda_rerank.search(query)\n",
    "print(\"W2V: \")\n",
    "%timeit w2v_rerank.search(query)\n",
    "print(\"W2V(Pretrained): \")\n",
    "%timeit w2v_pretrained_rerank.search(query)\n",
    "print(\"D2V:\")\n",
    "%timeit d2v_rerank.search(query)"
   ]
  },
  {
   "cell_type": "markdown",
   "metadata": {
    "deletable": false,
    "editable": false,
    "nbgrader": {
     "cell_type": "markdown",
     "checksum": "c45c5e3f015b2de89d9d39ae3766368b",
     "grade": false,
     "grade_id": "cell-85c50f2ab9eec301",
     "locked": true,
     "schema_version": 3,
     "solution": false,
     "task": false
    }
   },
   "source": [
    "---\n",
    "As you can see, it is much faster (but BM25 is still orders of magnitude faster)."
   ]
  },
  {
   "cell_type": "markdown",
   "metadata": {
    "deletable": false,
    "editable": false,
    "nbgrader": {
     "cell_type": "markdown",
     "checksum": "1e2f3388e3807659f303fe31a75a010e",
     "grade": false,
     "grade_id": "cell-5071bb99b2af61cb",
     "locked": true,
     "schema_version": 3,
     "solution": false,
     "task": false
    }
   },
   "source": [
    "---\n",
    "## Section 10: Evaluation & Analysis (30 points) <a class=\"anchor\" id=\"reranking_eval\"></a>\n",
    "\n",
    "[Back to Part 2](#part2)\n",
    "\n",
    "[Previously](#evaluation) we have implemented some evaluation metrics and used them for measuring the ranking performance of term-based IR algorithms. In this section, we will do the same for semantic methods, both with and without re-ranking.\n",
    "\n",
    "### Section 10.1: Plot (10 points)\n",
    "\n",
    "First, gather the results. The results should consider the index set, the different search functions and different metrics. Plot the results in bar charts, per metric, with clear labels.\n",
    "\n",
    "Then, gather only the re-ranking models, and plot and compare them with the results obtained in part 1 (only index set 2)."
   ]
  },
  {
   "cell_type": "code",
   "execution_count": 100,
   "metadata": {
    "deletable": false,
    "editable": false,
    "nbgrader": {
     "cell_type": "code",
     "checksum": "4fe81520ac6413a803838913fd64de03",
     "grade": false,
     "grade_id": "cell-b672fe6dfae0b1ce",
     "locked": true,
     "schema_version": 3,
     "solution": false,
     "task": false
    }
   },
   "outputs": [],
   "source": [
    "list_of_sem_search_fns = [\n",
    "    (\"lda\", drm_lda.search),\n",
    "    (\"lsi\", drm_lsi.search),\n",
    "    (\"w2v\", drm_w2v.search),\n",
    "    (\"w2v_pretrained\", drm_w2v_pretrained.search),\n",
    "    (\"d2v\", drm_d2v.search),\n",
    "    (\"lsi_rr\", lsi_rerank.search),\n",
    "    (\"lda_rr\", lda_rerank.search),\n",
    "    (\"w2v_rr\", w2v_rerank.search),\n",
    "    (\"w2v_pretrained_rr\", w2v_pretrained_rerank.search),\n",
    "    (\"d2v_rr\", d2v_rerank.search),\n",
    "    \n",
    "]"
   ]
  },
  {
   "cell_type": "code",
   "execution_count": 101,
   "metadata": {
    "deletable": false,
    "nbgrader": {
     "cell_type": "code",
     "checksum": "54707c4afac084299aeefa047259b4a9",
     "grade": true,
     "grade_id": "cell-7dd8273b0f5a3c22",
     "locked": false,
     "points": 10,
     "schema_version": 3,
     "solution": true,
     "task": false
    }
   },
   "outputs": [
    {
     "name": "stdout",
     "output_type": "stream",
     "text": [
      "method : lda with index : 2 {'ERR': 0.09945211, 'MAP': 0.041464392, 'Recall@1': 0.0019131723, 'Recall@5': 0.017944371, 'Recall@10': 0.03137604, 'Precision@1': 0.057692308, 'Precision@5': 0.06923078, 'Precision@10': 0.05961539}\n",
      "================================================================\n"
     ]
    },
    {
     "name": "stderr",
     "output_type": "stream",
     "text": [
      "/home/sila/anaconda3/envs/ir_env/lib/python3.6/site-packages/ipykernel_launcher.py:22: RuntimeWarning: invalid value encountered in double_scalars\n"
     ]
    },
    {
     "name": "stdout",
     "output_type": "stream",
     "text": [
      "method : lsi with index : 2 {'ERR': 0.0228691, 'MAP': 0.009667016, 'Recall@1': 0.0019230769, 'Recall@5': 0.0028846154, 'Recall@10': 0.0078084744, 'Precision@1': 0.01923077, 'Precision@5': 0.0076923077, 'Precision@10': 0.011538462}\n",
      "================================================================\n",
      "method : w2v with index : 2 {'ERR': 0.022737337, 'MAP': 0.014352663, 'Recall@1': 0.0, 'Recall@5': 0.0021176739, 'Recall@10': 0.0061660763, 'Precision@1': 0.0, 'Precision@5': 0.0076923077, 'Precision@10': 0.009615385}\n",
      "================================================================\n"
     ]
    },
    {
     "name": "stderr",
     "output_type": "stream",
     "text": [
      "/home/sila/anaconda3/envs/ir_env/lib/python3.6/site-packages/ipykernel_launcher.py:21: DeprecationWarning: Call to deprecated `wv` (Attribute will be removed in 4.0.0, use self instead).\n",
      "/home/sila/anaconda3/envs/ir_env/lib/python3.6/site-packages/ipykernel_launcher.py:22: DeprecationWarning: Call to deprecated `wv` (Attribute will be removed in 4.0.0, use self instead).\n"
     ]
    },
    {
     "name": "stdout",
     "output_type": "stream",
     "text": [
      "method : w2v_pretrained with index : 2 {'ERR': 0.050186932, 'MAP': 0.013368005, 'Recall@1': 0.007158451, 'Recall@5': 0.008806802, 'Recall@10': 0.010272003, 'Precision@1': 0.07692308, 'Precision@5': 0.026923077, 'Precision@10': 0.017307693}\n",
      "================================================================\n",
      "method : d2v with index : 2 {'ERR': 0.11076964, 'MAP': 0.048555177, 'Recall@1': 0.0046544895, 'Recall@5': 0.021965593, 'Recall@10': 0.04229122, 'Precision@1': 0.09615385, 'Precision@5': 0.092307694, 'Precision@10': 0.08269231}\n",
      "================================================================\n",
      "method : lda_rr with index : 2 {'ERR': 0.2502177, 'MAP': 0.25607342, 'Recall@1': 0.015903175, 'Recall@5': 0.08817392, 'Recall@10': 0.17634661, 'Precision@1': 0.23076923, 'Precision@5': 0.22307695, 'Precision@10': 0.18846154}\n",
      "================================================================\n",
      "method : lsi_rr with index : 2 {'ERR': 0.21620008, 'MAP': 0.24392094, 'Recall@1': 0.020098357, 'Recall@5': 0.08149132, 'Recall@10': 0.14582898, 'Precision@1': 0.1923077, 'Precision@5': 0.18461539, 'Precision@10': 0.18076923}\n",
      "================================================================\n",
      "method : w2v_rr with index : 2 {'ERR': 0.17001179, 'MAP': 0.20931414, 'Recall@1': 0.0083607575, 'Recall@5': 0.06363056, 'Recall@10': 0.118243575, 'Precision@1': 0.115384616, 'Precision@5': 0.1423077, 'Precision@10': 0.14423077}\n",
      "================================================================\n",
      "method : w2v_pretrained_rr with index : 2 {'ERR': 0.2839876, 'MAP': 0.32322663, 'Recall@1': 0.04945489, 'Recall@5': 0.11977379, 'Recall@10': 0.2035704, 'Precision@1': 0.34615386, 'Precision@5': 0.23076923, 'Precision@10': 0.20769231}\n",
      "================================================================\n",
      "method : d2v_rr with index : 2 {'ERR': 0.28236228, 'MAP': 0.29430988, 'Recall@1': 0.019315638, 'Recall@5': 0.09609346, 'Recall@10': 0.1967155, 'Precision@1': 0.30769232, 'Precision@5': 0.24615383, 'Precision@10': 0.22500001}\n",
      "================================================================\n"
     ]
    },
    {
     "data": {
      "image/png": "[encoded data removed]",
      "text/plain": [
       "<Figure size 720x360 with 1 Axes>"
      ]
     },
     "metadata": {
      "needs_background": "light"
     },
     "output_type": "display_data"
    },
    {
     "data": {
      "image/png": "[encoded data removed]",
      "text/plain": [
       "<Figure size 720x360 with 1 Axes>"
      ]
     },
     "metadata": {
      "needs_background": "light"
     },
     "output_type": "display_data"
    },
    {
     "data": {
      "image/png": "[encoded data removed]",
      "text/plain": [
       "<Figure size 720x360 with 1 Axes>"
      ]
     },
     "metadata": {
      "needs_background": "light"
     },
     "output_type": "display_data"
    },
    {
     "data": {
      "image/png": "[encoded data removed]",
      "text/plain": [
       "<Figure size 720x360 with 1 Axes>"
      ]
     },
     "metadata": {
      "needs_background": "light"
     },
     "output_type": "display_data"
    },
    {
     "data": {
      "image/png": "[encoded data removed]",
      "text/plain": [
       "<Figure size 720x360 with 1 Axes>"
      ]
     },
     "metadata": {
      "needs_background": "light"
     },
     "output_type": "display_data"
    },
    {
     "data": {
      "image/png": "[encoded data removed]",
      "text/plain": [
       "<Figure size 720x360 with 1 Axes>"
      ]
     },
     "metadata": {
      "needs_background": "light"
     },
     "output_type": "display_data"
    },
    {
     "data": {
      "image/png": "[encoded data removed]",
      "text/plain": [
       "<Figure size 720x360 with 1 Axes>"
      ]
     },
     "metadata": {
      "needs_background": "light"
     },
     "output_type": "display_data"
    },
    {
     "data": {
      "image/png": "[encoded data removed]",
      "text/plain": [
       "<Figure size 720x360 with 1 Axes>"
      ]
     },
     "metadata": {
      "needs_background": "light"
     },
     "output_type": "display_data"
    },
    {
     "name": "stdout",
     "output_type": "stream",
     "text": [
      "method : BOW with index : 2 {'ERR': 0.11996831, 'MAP': 0.07335121, 'Recall@1': 0.009497121, 'Recall@5': 0.04654979, 'Recall@10': 0.080543, 'Precision@1': 0.07692308, 'Precision@5': 0.080769226, 'Precision@10': 0.07307692}\n",
      "================================================================\n",
      "method : TF-IDF with index : 2 {'ERR': 0.4148428, 'MAP': 0.2847683, 'Recall@1': 0.08998284, 'Recall@5': 0.21299928, 'Recall@10': 0.2675624, 'Precision@1': 0.53846157, 'Precision@5': 0.33846155, 'Precision@10': 0.25}\n",
      "================================================================\n",
      "method : NaiveQL with index : 2 {'ERR': 0.10249472, 'MAP': 0.06903334, 'Recall@1': 0.009866221, 'Recall@5': 0.028808113, 'Recall@10': 0.047993064, 'Precision@1': 0.13461539, 'Precision@5': 0.080769226, 'Precision@10': 0.067307696}\n",
      "================================================================\n",
      "method : QL with index : 2 {'ERR': 0.40624025, 'MAP': 0.26480663, 'Recall@1': 0.06592906, 'Recall@5': 0.19856308, 'Recall@10': 0.2835027, 'Precision@1': 0.5192308, 'Precision@5': 0.3692308, 'Precision@10': 0.29807693}\n",
      "================================================================\n",
      "method : BM25 with index : 2 {'ERR': 0.426171, 'MAP': 0.33066702, 'Recall@1': 0.10448813, 'Recall@5': 0.23509185, 'Recall@10': 0.31572816, 'Precision@1': 0.5192308, 'Precision@5': 0.40384614, 'Precision@10': 0.31923077}\n",
      "================================================================\n",
      "method : lda_rr with index : 2 {'ERR': 0.24879895, 'MAP': 0.2507517, 'Recall@1': 0.009277447, 'Recall@5': 0.089454174, 'Recall@10': 0.18099125, 'Precision@1': 0.21153846, 'Precision@5': 0.22307692, 'Precision@10': 0.1923077}\n",
      "================================================================\n",
      "method : lsi_rr with index : 2 {'ERR': 0.21620008, 'MAP': 0.24392094, 'Recall@1': 0.020098357, 'Recall@5': 0.08149132, 'Recall@10': 0.14582898, 'Precision@1': 0.1923077, 'Precision@5': 0.18461539, 'Precision@10': 0.18076923}\n",
      "================================================================\n",
      "method : w2v_rr with index : 2 {'ERR': 0.17001179, 'MAP': 0.20931414, 'Recall@1': 0.0083607575, 'Recall@5': 0.06363056, 'Recall@10': 0.118243575, 'Precision@1': 0.115384616, 'Precision@5': 0.1423077, 'Precision@10': 0.14423077}\n",
      "================================================================\n",
      "method : w2v_pretrained_rr with index : 2 {'ERR': 0.2839876, 'MAP': 0.32322663, 'Recall@1': 0.04945489, 'Recall@5': 0.11977379, 'Recall@10': 0.2035704, 'Precision@1': 0.34615386, 'Precision@5': 0.23076923, 'Precision@10': 0.20769231}\n",
      "================================================================\n",
      "method : d2v_rr with index : 2 {'ERR': 0.26448077, 'MAP': 0.28381425, 'Recall@1': 0.01426586, 'Recall@5': 0.08732532, 'Recall@10': 0.17884749, 'Precision@1': 0.23076923, 'Precision@5': 0.21923076, 'Precision@10': 0.21346155}\n",
      "================================================================\n"
     ]
    },
    {
     "data": {
      "image/png": "[encoded data removed]",
      "text/plain": [
       "<Figure size 720x360 with 1 Axes>"
      ]
     },
     "metadata": {
      "needs_background": "light"
     },
     "output_type": "display_data"
    },
    {
     "data": {
      "image/png": "[encoded data removed]",
      "text/plain": [
       "<Figure size 720x360 with 1 Axes>"
      ]
     },
     "metadata": {
      "needs_background": "light"
     },
     "output_type": "display_data"
    },
    {
     "data": {
      "image/png": "[encoded data removed]",
      "text/plain": [
       "<Figure size 720x360 with 1 Axes>"
      ]
     },
     "metadata": {
      "needs_background": "light"
     },
     "output_type": "display_data"
    },
    {
     "data": {
      "image/png": "[encoded data removed]",
      "text/plain": [
       "<Figure size 720x360 with 1 Axes>"
      ]
     },
     "metadata": {
      "needs_background": "light"
     },
     "output_type": "display_data"
    },
    {
     "data": {
      "image/png": "[encoded data removed]",
      "text/plain": [
       "<Figure size 720x360 with 1 Axes>"
      ]
     },
     "metadata": {
      "needs_background": "light"
     },
     "output_type": "display_data"
    },
    {
     "data": {
      "image/png": "[encoded data removed]",
      "text/plain": [
       "<Figure size 720x360 with 1 Axes>"
      ]
     },
     "metadata": {
      "needs_background": "light"
     },
     "output_type": "display_data"
    },
    {
     "data": {
      "image/png": "[encoded data removed]",
      "text/plain": [
       "<Figure size 720x360 with 1 Axes>"
      ]
     },
     "metadata": {
      "needs_background": "light"
     },
     "output_type": "display_data"
    },
    {
     "data": {
      "image/png": "[encoded data removed]",
      "text/plain": [
       "<Figure size 720x360 with 1 Axes>"
      ]
     },
     "metadata": {
      "needs_background": "light"
     },
     "output_type": "display_data"
    }
   ],
   "source": [
    "list_of_sem_search_fns = [\n",
    "    (\"lda\", drm_lda.search),\n",
    "    (\"lsi\", drm_lsi.search),\n",
    "    (\"w2v\", drm_w2v.search),\n",
    "    (\"w2v_pretrained\", drm_w2v_pretrained.search),\n",
    "    (\"d2v\", drm_d2v.search),\n",
    "    (\"lda_rr\", lda_rerank.search),\n",
    "    (\"lsi_rr\", lsi_rerank.search),\n",
    "    (\"w2v_rr\", w2v_rerank.search),\n",
    "    (\"w2v_pretrained_rr\", w2v_pretrained_rerank.search),\n",
    "    (\"d2v_rr\", d2v_rerank.search),\n",
    "    \n",
    "]\n",
    "\n",
    "# YOUR CODE HERE\n",
    "import matplotlib.patches as mpatches\n",
    "data = []\n",
    "for method, method_fn in list_of_sem_search_fns:\n",
    "    dictionary = evaluate_search_fn(method_fn, list_of_metrics)\n",
    "    print(f'method : {method}' \" \" 'with' \" \" f'index : {index}', dictionary)\n",
    "    print('================================================================')\n",
    "    values = list(dictionary.values())\n",
    "    data.append(values)\n",
    "\n",
    "metrics = list(dictionary.keys())\n",
    "X = np.arange(len(list_of_sem_search_fns)/2)\n",
    "bar_width = 0.15\n",
    "\n",
    "bars = []\n",
    "rr_bars = []\n",
    "#plot result for each metric\n",
    "for i, metric in enumerate(metrics):\n",
    "    fig = plt.figure(figsize=(10,5))\n",
    "    for search_function in list_of_sem_search_fns[:5]:\n",
    "        bars.append(plt.bar(X + i * bar_width - bar_width/2, [methods[i] for methods in data[:5]], bar_width, label='No ReRanking', color='b'))\n",
    "    for search_function in list_of_sem_search_fns[5:]:\n",
    "        rr_bars.append(plt.bar(X + i * bar_width + bar_width/2, [methods[i] for methods in data[5:]], bar_width, label='ReRanking', color='r'))\n",
    "\n",
    "    plt.xticks(X + i * bar_width , [method[0] for method in list_of_sem_search_fns[:5]])\n",
    "    plt.legend([tuple(bars), tuple(rr_bars)], ('No ReRanking', 'ReRanking'))\n",
    "    plt.title(f'Metric: {metric}')\n",
    "    plt.ylabel(f'{metric}')\n",
    "    plt.xlabel('Search Function')\n",
    "    plt.grid(axis = 'y', linestyle = '--')\n",
    "    fig.tight_layout()\n",
    "    plt.show()\n",
    "    \n",
    "#----------------------------------------Comparisons_with_part1----------------------------------------#\n",
    "list_of_search_fns = [\n",
    "    (\"BOW\", bow_search),\n",
    "    (\"TF-IDF\", tfidf_search),\n",
    "    (\"NaiveQL\", naive_ql_search),\n",
    "    (\"QL\", ql_search),\n",
    "    (\"BM25\", bm25_search),\n",
    "    \n",
    "    (\"lda_rr\", lda_rerank.search),\n",
    "    (\"lsi_rr\", lsi_rerank.search),\n",
    "    (\"w2v_rr\", w2v_rerank.search),\n",
    "    (\"w2v_pretrained_rr\", w2v_pretrained_rerank.search),\n",
    "    (\"d2v_rr\", d2v_rerank.search)\n",
    "]\n",
    "\n",
    "red_patch = mpatches.Patch(color='r', label='TermBased')\n",
    "blue_patch = mpatches.Patch(color='b', label='ReRanking')\n",
    "\n",
    "data = []\n",
    "it = 0\n",
    "for method, method_fn in list_of_search_fns:\n",
    "    if it < 5:\n",
    "        dictionary = evaluate_search_fn(method_fn, list_of_metrics, 2)\n",
    "    else:\n",
    "        dictionary = evaluate_search_fn(method_fn, list_of_metrics)\n",
    "    print(f'method : {method}' \" \" 'with' \" \" f'index : {index}', dictionary)\n",
    "    print('================================================================')\n",
    "    values = list(dictionary.values())\n",
    "    data.append(values)\n",
    "    it += 1\n",
    "\n",
    "metrics = list(dictionary.keys())\n",
    "X = np.arange(len(list_of_search_fns))\n",
    "bar_width = 0.15\n",
    "\n",
    "bars = []\n",
    "#plot result for each metric\n",
    "for i, metric in enumerate(metrics):\n",
    "    fig = plt.figure(figsize=(10,5))\n",
    "    for search_function in list_of_search_fns:\n",
    "        bars.append(plt.bar(X + i * bar_width, [methods[i] for methods in data], bar_width, color=['r', 'r', 'r', 'r', 'r', 'b', 'b', 'b', 'b', 'b']))\n",
    "\n",
    "    plt.xticks(X + i * bar_width , [method[0] for method in list_of_search_fns])\n",
    "    plt.legend(handles=[red_patch, blue_patch])\n",
    "    plt.title(f'Metric: {metric}')\n",
    "    plt.ylabel(f'{metric}')\n",
    "    plt.xlabel('Search Function')\n",
    "    plt.grid(axis = 'y', linestyle = '--')\n",
    "    fig.tight_layout()\n",
    "    plt.show()"
   ]
  },
  {
   "cell_type": "markdown",
   "metadata": {
    "deletable": false,
    "editable": false,
    "nbgrader": {
     "cell_type": "markdown",
     "checksum": "a8a3b6189bdde66704c694d85e38d049",
     "grade": false,
     "grade_id": "cell-deb2ef3daa306e82",
     "locked": true,
     "schema_version": 3,
     "solution": false,
     "task": false
    }
   },
   "source": [
    "### Section 10.2: Summary (20 points)\n",
    "\n",
    "Your summary should compare methods from Part 1 and Part 2 (only for index set 2). State what you expected to see in the results, followed by either supporting evidence *or* justify why the results did not support your expectations. Consider the availability of data, scalability, domain/type of data, etc."
   ]
  },
  {
   "cell_type": "markdown",
   "metadata": {
    "deletable": false,
    "nbgrader": {
     "cell_type": "markdown",
     "checksum": "ff97c43837d10bff6aaffa75e1492887",
     "grade": true,
     "grade_id": "cell-ec5dd7d9cf59dd86",
     "locked": false,
     "points": 20,
     "schema_version": 3,
     "solution": true,
     "task": false
    }
   },
   "source": [
    "In the previous section, we created two different types of plots for each one of the used metrics (i.e. ERR, MAP, Recall@1, Recall@5, Recall@10, precision@1, Precision@5, Precision@10). In the first block of plots, we compare each one of the methods with its ReRanking option. It is clear that for all the metrics the ReRanking model outperforms the corresponding model without ReRanking. It is now clear that the ReRanking process not only makes retrieval faster, but semantic methods perform poorly when used in isolation.\n",
    "\n",
    "The Word2Vec has the worst performance independently of the used metric, while the Pretrained Word2Vec has the best performance in most cases. This behavior is expected as Word2Vec is used for word representations in vector space, which get averaged through the whole document finally. Word2Vec cannot handle out-of-vocabulary words well, as it assigns a random vector representation for OOV words which can be suboptimal. Furthermore, it requires a comparatively larger corpus for the network to converge. In our case, we have a pretty small dataset which also missing the abstract for some documents. As we can observe from the above plots, using a pre-trained Word2Vec we can address these problems achieving better performances.\n",
    "\n",
    "The rest semantic methods (i.e. LSI, LDA, Doc2Vec) perform similar behavior, except for Recall@1 and Recall@5. In more detail, we can observe that Doc2Vec outperforms the other two and LDA outperforms LSI for all metrics except for the previously referred ones (which can be explained by the same reason mentioned in section 5.2: as the variability of the results increases when the rank decreases, it may be the case that, for recall at rank 1 and 5, LSI outperforms LDA by chance, while for the larger ranks the results converge to the expected scenario, namely LDA scoring better than LSI). The above observation can also be confirmed theoretically, while doc2vec, based on word2vec, gets word vectors (unsupervised learning), the inference stage to get paragraph vector follows. The third stage is to turn the paragraph vector to predict some particular labels using a standard classifier. Paragraph vector is unique among all documents while word vectors are shared among all documents such that word vectors can be learned from a different document. Furthermore, LSI learns latent topics by performing a matrix decomposition (SVD) on the term-document matrix, while LDA is a generative probabilistic model, that assumes a Dirichlet prior over the latent topics. We can confirm our observations on the LSI and LDA models based on this statement.\n",
    "\n",
    "We were expecting the semantics models to perform better than the \"term-based\" models from section 1. However, it seems that this is not the case for our dataset, while BM25 outperforms all other methods for all the metrics. One reason is that our training dataset is very small and thus the semantic models can not learn good latent representations. In addition, because the dataset contains abstracts from a specific domain (ACM) and we are performing query search, most of the words appear in the same context so it is possible to get exact matching between queries and documents. This makes the job of 'term-based' models, which do not care about semantics, easier.  MAP assumes the user is interested in finding many relevant documents for each query and requires many relevance judgments in-text collection, which can also be observed by the above MAP plot where the \"term-based\" and the \"semantic-based\" methods are pretty closed. In conclusion, when dealing with more diverse datasets, we would expect the semantics models to have an advantage by incorporating semantics."
   ]
  }
 ],
 "metadata": {
  "kernelspec": {
   "display_name": "Python 3 (ipykernel)",
   "language": "python",
   "name": "python3"
  },
  "language_info": {
   "codemirror_mode": {
    "name": "ipython",
    "version": 3
   },
   "file_extension": ".py",
   "mimetype": "text/x-python",
   "name": "python",
   "nbconvert_exporter": "python",
   "pygments_lexer": "ipython3",
   "version": "3.7.11"
  },
  "toc": {
   "base_numbering": 1,
   "nav_menu": {},
   "number_sections": true,
   "sideBar": true,
   "skip_h1_title": false,
   "title_cell": "Table of Contents",
   "title_sidebar": "Contents",
   "toc_cell": false,
   "toc_position": {},
   "toc_section_display": true,
   "toc_window_display": false
  }
 },
 "nbformat": 4,
 "nbformat_minor": 4
}
